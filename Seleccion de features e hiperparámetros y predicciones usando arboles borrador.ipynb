{
 "cells": [
  {
   "cell_type": "code",
   "execution_count": 15,
   "metadata": {},
   "outputs": [],
   "source": [
    "import pandas as pd\n",
    "import numpy as np\n",
    "import matplotlib.pyplot as plt\n",
    "from matplotlib.legend import Legend\n",
    "import matplotlib.patches as mpatches\n",
    "import seaborn as sns\n",
    "#from statsmodels.graphics.mosaicplot import mosaic\n",
    "import io\n",
    "import requests\n",
    "\n",
    "%matplotlib inline\n",
    "\n",
    "\n",
    "#import xgboost as xgb\n",
    "#from xgboost import XGBClassifier\n",
    "from sklearn.ensemble import RandomForestClassifier\n",
    "from sklearn.metrics import mean_squared_error\n",
    "from sklearn.metrics import accuracy_score\n",
    "import matplotlib.pyplot as plt\n",
    "from sklearn import tree\n",
    "\n",
    "from sklearn.model_selection import GridSearchCV,RandomizedSearchCV\n",
    "\n",
    "\n",
    "from sklearn.metrics import log_loss"
   ]
  },
  {
   "cell_type": "markdown",
   "metadata": {},
   "source": [
    "### Lectura de datos del CSV y seteo del tipo para cada columna"
   ]
  },
  {
   "cell_type": "code",
   "execution_count": 16,
   "metadata": {},
   "outputs": [
    {
     "data": {
      "text/html": [
       "<div>\n",
       "<style scoped>\n",
       "    .dataframe tbody tr th:only-of-type {\n",
       "        vertical-align: middle;\n",
       "    }\n",
       "\n",
       "    .dataframe tbody tr th {\n",
       "        vertical-align: top;\n",
       "    }\n",
       "\n",
       "    .dataframe thead th {\n",
       "        text-align: right;\n",
       "    }\n",
       "</style>\n",
       "<table border=\"1\" class=\"dataframe\">\n",
       "  <thead>\n",
       "    <tr style=\"text-align: right;\">\n",
       "      <th></th>\n",
       "      <th>Pricing, Delivery_Terms_Quote_Appr</th>\n",
       "      <th>Pricing, Delivery_Terms_Approved</th>\n",
       "      <th>Bureaucratic_Code_0_Approval</th>\n",
       "      <th>Bureaucratic_Code_0_Approved</th>\n",
       "      <th>Submitted_for_Approval</th>\n",
       "      <th>Account_Created_Date_Day</th>\n",
       "      <th>Account_Created_Date_Month</th>\n",
       "      <th>Account_Created_Date_Year</th>\n",
       "      <th>Opportunity_ID</th>\n",
       "      <th>Sales_Contract_No</th>\n",
       "      <th>...</th>\n",
       "      <th>Bit_Total_Taxable_Amount_Currency_0</th>\n",
       "      <th>Bit_Total_Taxable_Amount_Currency_1</th>\n",
       "      <th>Bit_Total_Taxable_Amount_Currency_2</th>\n",
       "      <th>Bit_Total_Taxable_Amount_Currency_3</th>\n",
       "      <th>Bit_Prod_Category_A_0</th>\n",
       "      <th>Bit_ASP_Currency_0</th>\n",
       "      <th>Bit_ASP_Currency_1</th>\n",
       "      <th>Bit_ASP_Currency_2</th>\n",
       "      <th>Bit_ASP_Currency_3</th>\n",
       "      <th>Bit_ASP_(converted)_Currency_0</th>\n",
       "    </tr>\n",
       "  </thead>\n",
       "  <tbody>\n",
       "    <tr>\n",
       "      <th>0</th>\n",
       "      <td>0</td>\n",
       "      <td>0</td>\n",
       "      <td>0</td>\n",
       "      <td>0</td>\n",
       "      <td>0</td>\n",
       "      <td>1</td>\n",
       "      <td>3</td>\n",
       "      <td>2017</td>\n",
       "      <td>960</td>\n",
       "      <td>0</td>\n",
       "      <td>...</td>\n",
       "      <td>0</td>\n",
       "      <td>0</td>\n",
       "      <td>0</td>\n",
       "      <td>1</td>\n",
       "      <td>1</td>\n",
       "      <td>0</td>\n",
       "      <td>0</td>\n",
       "      <td>0</td>\n",
       "      <td>1</td>\n",
       "      <td>1</td>\n",
       "    </tr>\n",
       "    <tr>\n",
       "      <th>1</th>\n",
       "      <td>0</td>\n",
       "      <td>0</td>\n",
       "      <td>0</td>\n",
       "      <td>0</td>\n",
       "      <td>0</td>\n",
       "      <td>1</td>\n",
       "      <td>3</td>\n",
       "      <td>2017</td>\n",
       "      <td>959</td>\n",
       "      <td>0</td>\n",
       "      <td>...</td>\n",
       "      <td>0</td>\n",
       "      <td>0</td>\n",
       "      <td>0</td>\n",
       "      <td>1</td>\n",
       "      <td>1</td>\n",
       "      <td>0</td>\n",
       "      <td>0</td>\n",
       "      <td>0</td>\n",
       "      <td>1</td>\n",
       "      <td>1</td>\n",
       "    </tr>\n",
       "    <tr>\n",
       "      <th>2</th>\n",
       "      <td>0</td>\n",
       "      <td>0</td>\n",
       "      <td>0</td>\n",
       "      <td>0</td>\n",
       "      <td>0</td>\n",
       "      <td>1</td>\n",
       "      <td>3</td>\n",
       "      <td>2017</td>\n",
       "      <td>961</td>\n",
       "      <td>0</td>\n",
       "      <td>...</td>\n",
       "      <td>0</td>\n",
       "      <td>0</td>\n",
       "      <td>0</td>\n",
       "      <td>1</td>\n",
       "      <td>1</td>\n",
       "      <td>0</td>\n",
       "      <td>0</td>\n",
       "      <td>0</td>\n",
       "      <td>1</td>\n",
       "      <td>1</td>\n",
       "    </tr>\n",
       "    <tr>\n",
       "      <th>3</th>\n",
       "      <td>0</td>\n",
       "      <td>0</td>\n",
       "      <td>0</td>\n",
       "      <td>0</td>\n",
       "      <td>0</td>\n",
       "      <td>1</td>\n",
       "      <td>3</td>\n",
       "      <td>2017</td>\n",
       "      <td>956</td>\n",
       "      <td>0</td>\n",
       "      <td>...</td>\n",
       "      <td>0</td>\n",
       "      <td>0</td>\n",
       "      <td>0</td>\n",
       "      <td>1</td>\n",
       "      <td>1</td>\n",
       "      <td>0</td>\n",
       "      <td>0</td>\n",
       "      <td>0</td>\n",
       "      <td>1</td>\n",
       "      <td>1</td>\n",
       "    </tr>\n",
       "    <tr>\n",
       "      <th>4</th>\n",
       "      <td>0</td>\n",
       "      <td>0</td>\n",
       "      <td>0</td>\n",
       "      <td>0</td>\n",
       "      <td>0</td>\n",
       "      <td>19</td>\n",
       "      <td>9</td>\n",
       "      <td>2014</td>\n",
       "      <td>6985</td>\n",
       "      <td>3681</td>\n",
       "      <td>...</td>\n",
       "      <td>0</td>\n",
       "      <td>0</td>\n",
       "      <td>0</td>\n",
       "      <td>1</td>\n",
       "      <td>1</td>\n",
       "      <td>0</td>\n",
       "      <td>0</td>\n",
       "      <td>0</td>\n",
       "      <td>1</td>\n",
       "      <td>1</td>\n",
       "    </tr>\n",
       "  </tbody>\n",
       "</table>\n",
       "<p>5 rows × 315 columns</p>\n",
       "</div>"
      ],
      "text/plain": [
       "   Pricing, Delivery_Terms_Quote_Appr  Pricing, Delivery_Terms_Approved  \\\n",
       "0                                   0                                 0   \n",
       "1                                   0                                 0   \n",
       "2                                   0                                 0   \n",
       "3                                   0                                 0   \n",
       "4                                   0                                 0   \n",
       "\n",
       "   Bureaucratic_Code_0_Approval  Bureaucratic_Code_0_Approved  \\\n",
       "0                             0                             0   \n",
       "1                             0                             0   \n",
       "2                             0                             0   \n",
       "3                             0                             0   \n",
       "4                             0                             0   \n",
       "\n",
       "   Submitted_for_Approval  Account_Created_Date_Day  \\\n",
       "0                       0                         1   \n",
       "1                       0                         1   \n",
       "2                       0                         1   \n",
       "3                       0                         1   \n",
       "4                       0                        19   \n",
       "\n",
       "   Account_Created_Date_Month  Account_Created_Date_Year  Opportunity_ID  \\\n",
       "0                           3                       2017             960   \n",
       "1                           3                       2017             959   \n",
       "2                           3                       2017             961   \n",
       "3                           3                       2017             956   \n",
       "4                           9                       2014            6985   \n",
       "\n",
       "   Sales_Contract_No  ...  Bit_Total_Taxable_Amount_Currency_0  \\\n",
       "0                  0  ...                                    0   \n",
       "1                  0  ...                                    0   \n",
       "2                  0  ...                                    0   \n",
       "3                  0  ...                                    0   \n",
       "4               3681  ...                                    0   \n",
       "\n",
       "   Bit_Total_Taxable_Amount_Currency_1  Bit_Total_Taxable_Amount_Currency_2  \\\n",
       "0                                    0                                    0   \n",
       "1                                    0                                    0   \n",
       "2                                    0                                    0   \n",
       "3                                    0                                    0   \n",
       "4                                    0                                    0   \n",
       "\n",
       "   Bit_Total_Taxable_Amount_Currency_3  Bit_Prod_Category_A_0  \\\n",
       "0                                    1                      1   \n",
       "1                                    1                      1   \n",
       "2                                    1                      1   \n",
       "3                                    1                      1   \n",
       "4                                    1                      1   \n",
       "\n",
       "   Bit_ASP_Currency_0  Bit_ASP_Currency_1  Bit_ASP_Currency_2  \\\n",
       "0                   0                   0                   0   \n",
       "1                   0                   0                   0   \n",
       "2                   0                   0                   0   \n",
       "3                   0                   0                   0   \n",
       "4                   0                   0                   0   \n",
       "\n",
       "  Bit_ASP_Currency_3  Bit_ASP_(converted)_Currency_0  \n",
       "0                  1                               1  \n",
       "1                  1                               1  \n",
       "2                  1                               1  \n",
       "3                  1                               1  \n",
       "4                  1                               1  \n",
       "\n",
       "[5 rows x 315 columns]"
      ]
     },
     "execution_count": 16,
     "metadata": {},
     "output_type": "execute_result"
    }
   ],
   "source": [
    "url_train=\"https://raw.githubusercontent.com/joacols/TP_orga_de_datos/main/Train_Preprocesado_TP2_Datos_2020-2C-encodeado.csv\"\n",
    "s_train=requests.get(url_train).content\n",
    "df_train=pd.read_csv(io.StringIO(s_train.decode('utf-8')),\n",
    "\n",
    "#df = pd.read_csv('Entrenamieto_ECI_2020.csv',\n",
    "dtype={\n",
    "'ID': np.int64,\n",
    "'Pricing, Delivery_Terms_Quote_Approval': np.int64,\n",
    "'Pricing, Delivery_Terms_Approved': np.int64,\n",
    "'Bureaucratic_Code_0_Approval': np.int64,\n",
    "'Bureaucratic_Code_0_Approved': np.int64,\n",
    "'Submitted_for_Approval': np.int64,\n",
    "'Opportunity_ID': np.int64,\n",
    "#'Sales_Contract_No': np.int64,\n",
    "'Delivery_Year': np.int64,\n",
    "'Total_Power': np.int64,\n",
    "#'Price':np.float64,\n",
    "'ASP':np.float64,\n",
    "'ASP_(converted)':np.float64,\n",
    "'Total_Amount':np.float64},\n",
    "#parse_dates=[\n",
    "#'Account_Created_Date',\n",
    "#'Planned_Delivery_Start_Date',\n",
    "#'Planned_Delivery_End_Date',\n",
    "#'Opportunity_Created_Date',\n",
    "#'Last_Activity',\n",
    "#'Quote_Expiry_Date',\n",
    "#'Actual_Delivery_Date',\n",
    "#'Last_Modified_Date'\n",
    "#]\n",
    ")\n",
    "\n",
    "df_train.head()"
   ]
  },
  {
   "cell_type": "code",
   "execution_count": 17,
   "metadata": {},
   "outputs": [
    {
     "data": {
      "text/html": [
       "<div>\n",
       "<style scoped>\n",
       "    .dataframe tbody tr th:only-of-type {\n",
       "        vertical-align: middle;\n",
       "    }\n",
       "\n",
       "    .dataframe tbody tr th {\n",
       "        vertical-align: top;\n",
       "    }\n",
       "\n",
       "    .dataframe thead th {\n",
       "        text-align: right;\n",
       "    }\n",
       "</style>\n",
       "<table border=\"1\" class=\"dataframe\">\n",
       "  <thead>\n",
       "    <tr style=\"text-align: right;\">\n",
       "      <th></th>\n",
       "      <th>Pricing, Delivery_Terms_Quote_Appr</th>\n",
       "      <th>Pricing, Delivery_Terms_Approved</th>\n",
       "      <th>Bureaucratic_Code_0_Approval</th>\n",
       "      <th>Bureaucratic_Code_0_Approved</th>\n",
       "      <th>Submitted_for_Approval</th>\n",
       "      <th>Account_Created_Date_Day</th>\n",
       "      <th>Account_Created_Date_Month</th>\n",
       "      <th>Account_Created_Date_Year</th>\n",
       "      <th>Opportunity_ID</th>\n",
       "      <th>Sales_Contract_No</th>\n",
       "      <th>...</th>\n",
       "      <th>Bit_Total_Taxable_Amount_Currency_0</th>\n",
       "      <th>Bit_Total_Taxable_Amount_Currency_1</th>\n",
       "      <th>Bit_Total_Taxable_Amount_Currency_2</th>\n",
       "      <th>Bit_Total_Taxable_Amount_Currency_3</th>\n",
       "      <th>Bit_Prod_Category_A_0</th>\n",
       "      <th>Bit_ASP_Currency_0</th>\n",
       "      <th>Bit_ASP_Currency_1</th>\n",
       "      <th>Bit_ASP_Currency_2</th>\n",
       "      <th>Bit_ASP_Currency_3</th>\n",
       "      <th>Bit_ASP_(converted)_Currency_0</th>\n",
       "    </tr>\n",
       "  </thead>\n",
       "  <tbody>\n",
       "    <tr>\n",
       "      <th>0</th>\n",
       "      <td>0</td>\n",
       "      <td>0</td>\n",
       "      <td>0</td>\n",
       "      <td>0</td>\n",
       "      <td>0</td>\n",
       "      <td>20</td>\n",
       "      <td>2</td>\n",
       "      <td>2017</td>\n",
       "      <td>12173</td>\n",
       "      <td>0</td>\n",
       "      <td>...</td>\n",
       "      <td>0</td>\n",
       "      <td>0</td>\n",
       "      <td>0</td>\n",
       "      <td>1</td>\n",
       "      <td>1</td>\n",
       "      <td>0</td>\n",
       "      <td>0</td>\n",
       "      <td>0</td>\n",
       "      <td>1</td>\n",
       "      <td>1</td>\n",
       "    </tr>\n",
       "    <tr>\n",
       "      <th>1</th>\n",
       "      <td>0</td>\n",
       "      <td>0</td>\n",
       "      <td>0</td>\n",
       "      <td>0</td>\n",
       "      <td>0</td>\n",
       "      <td>22</td>\n",
       "      <td>8</td>\n",
       "      <td>2018</td>\n",
       "      <td>12172</td>\n",
       "      <td>0</td>\n",
       "      <td>...</td>\n",
       "      <td>0</td>\n",
       "      <td>0</td>\n",
       "      <td>0</td>\n",
       "      <td>1</td>\n",
       "      <td>1</td>\n",
       "      <td>0</td>\n",
       "      <td>0</td>\n",
       "      <td>0</td>\n",
       "      <td>1</td>\n",
       "      <td>1</td>\n",
       "    </tr>\n",
       "    <tr>\n",
       "      <th>2</th>\n",
       "      <td>0</td>\n",
       "      <td>0</td>\n",
       "      <td>0</td>\n",
       "      <td>0</td>\n",
       "      <td>0</td>\n",
       "      <td>22</td>\n",
       "      <td>8</td>\n",
       "      <td>2018</td>\n",
       "      <td>11408</td>\n",
       "      <td>0</td>\n",
       "      <td>...</td>\n",
       "      <td>0</td>\n",
       "      <td>0</td>\n",
       "      <td>0</td>\n",
       "      <td>1</td>\n",
       "      <td>1</td>\n",
       "      <td>0</td>\n",
       "      <td>0</td>\n",
       "      <td>0</td>\n",
       "      <td>1</td>\n",
       "      <td>1</td>\n",
       "    </tr>\n",
       "    <tr>\n",
       "      <th>3</th>\n",
       "      <td>0</td>\n",
       "      <td>0</td>\n",
       "      <td>0</td>\n",
       "      <td>0</td>\n",
       "      <td>0</td>\n",
       "      <td>4</td>\n",
       "      <td>4</td>\n",
       "      <td>2019</td>\n",
       "      <td>12232</td>\n",
       "      <td>0</td>\n",
       "      <td>...</td>\n",
       "      <td>0</td>\n",
       "      <td>0</td>\n",
       "      <td>0</td>\n",
       "      <td>1</td>\n",
       "      <td>1</td>\n",
       "      <td>0</td>\n",
       "      <td>0</td>\n",
       "      <td>0</td>\n",
       "      <td>1</td>\n",
       "      <td>1</td>\n",
       "    </tr>\n",
       "    <tr>\n",
       "      <th>4</th>\n",
       "      <td>0</td>\n",
       "      <td>0</td>\n",
       "      <td>0</td>\n",
       "      <td>0</td>\n",
       "      <td>0</td>\n",
       "      <td>4</td>\n",
       "      <td>4</td>\n",
       "      <td>2019</td>\n",
       "      <td>12233</td>\n",
       "      <td>0</td>\n",
       "      <td>...</td>\n",
       "      <td>0</td>\n",
       "      <td>0</td>\n",
       "      <td>0</td>\n",
       "      <td>1</td>\n",
       "      <td>1</td>\n",
       "      <td>0</td>\n",
       "      <td>0</td>\n",
       "      <td>0</td>\n",
       "      <td>1</td>\n",
       "      <td>1</td>\n",
       "    </tr>\n",
       "  </tbody>\n",
       "</table>\n",
       "<p>5 rows × 315 columns</p>\n",
       "</div>"
      ],
      "text/plain": [
       "   Pricing, Delivery_Terms_Quote_Appr  Pricing, Delivery_Terms_Approved  \\\n",
       "0                                   0                                 0   \n",
       "1                                   0                                 0   \n",
       "2                                   0                                 0   \n",
       "3                                   0                                 0   \n",
       "4                                   0                                 0   \n",
       "\n",
       "   Bureaucratic_Code_0_Approval  Bureaucratic_Code_0_Approved  \\\n",
       "0                             0                             0   \n",
       "1                             0                             0   \n",
       "2                             0                             0   \n",
       "3                             0                             0   \n",
       "4                             0                             0   \n",
       "\n",
       "   Submitted_for_Approval  Account_Created_Date_Day  \\\n",
       "0                       0                        20   \n",
       "1                       0                        22   \n",
       "2                       0                        22   \n",
       "3                       0                         4   \n",
       "4                       0                         4   \n",
       "\n",
       "   Account_Created_Date_Month  Account_Created_Date_Year  Opportunity_ID  \\\n",
       "0                           2                       2017           12173   \n",
       "1                           8                       2018           12172   \n",
       "2                           8                       2018           11408   \n",
       "3                           4                       2019           12232   \n",
       "4                           4                       2019           12233   \n",
       "\n",
       "   Sales_Contract_No  ...  Bit_Total_Taxable_Amount_Currency_0  \\\n",
       "0                  0  ...                                    0   \n",
       "1                  0  ...                                    0   \n",
       "2                  0  ...                                    0   \n",
       "3                  0  ...                                    0   \n",
       "4                  0  ...                                    0   \n",
       "\n",
       "   Bit_Total_Taxable_Amount_Currency_1  Bit_Total_Taxable_Amount_Currency_2  \\\n",
       "0                                    0                                    0   \n",
       "1                                    0                                    0   \n",
       "2                                    0                                    0   \n",
       "3                                    0                                    0   \n",
       "4                                    0                                    0   \n",
       "\n",
       "   Bit_Total_Taxable_Amount_Currency_3  Bit_Prod_Category_A_0  \\\n",
       "0                                    1                      1   \n",
       "1                                    1                      1   \n",
       "2                                    1                      1   \n",
       "3                                    1                      1   \n",
       "4                                    1                      1   \n",
       "\n",
       "   Bit_ASP_Currency_0  Bit_ASP_Currency_1  Bit_ASP_Currency_2  \\\n",
       "0                   0                   0                   0   \n",
       "1                   0                   0                   0   \n",
       "2                   0                   0                   0   \n",
       "3                   0                   0                   0   \n",
       "4                   0                   0                   0   \n",
       "\n",
       "   Bit_ASP_Currency_3  Bit_ASP_(converted)_Currency_0  \n",
       "0                   1                               1  \n",
       "1                   1                               1  \n",
       "2                   1                               1  \n",
       "3                   1                               1  \n",
       "4                   1                               1  \n",
       "\n",
       "[5 rows x 315 columns]"
      ]
     },
     "execution_count": 17,
     "metadata": {},
     "output_type": "execute_result"
    }
   ],
   "source": [
    "url_test=\"https://raw.githubusercontent.com/joacols/TP_orga_de_datos/main/Test_Preprocesado_TP2_Datos_2020-2C-encodeado.csv\"\n",
    "s_test=requests.get(url_test).content\n",
    "df_test=pd.read_csv(io.StringIO(s_test.decode('utf-8')),\n",
    "\n",
    "#df = pd.read_csv('Entrenamieto_ECI_2020.csv',\n",
    "dtype={\n",
    "'ID': np.int64,\n",
    "'Pricing, Delivery_Terms_Quote_Approval': np.int64,\n",
    "'Pricing, Delivery_Terms_Approved': np.int64,\n",
    "'Bureaucratic_Code_0_Approval': np.int64,\n",
    "'Bureaucratic_Code_0_Approved': np.int64,\n",
    "'Submitted_for_Approval': np.int64,\n",
    "'Opportunity_ID': np.int64,\n",
    "#'Sales_Contract_No': np.int64,\n",
    "'Delivery_Year': np.int64,\n",
    "'Total_Power': np.int64,\n",
    "#'Price':np.float64,\n",
    "'ASP':np.float64,\n",
    "'ASP_(converted)':np.float64,\n",
    "'Total_Amount':np.float64},\n",
    "#parse_dates=[\n",
    "#'Account_Created_Date',\n",
    "#'Planned_Delivery_Start_Date',\n",
    "#'Planned_Delivery_End_Date',\n",
    "#'Opportunity_Created_Date',\n",
    "#'Last_Activity',\n",
    "#'Quote_Expiry_Date',\n",
    "#'Actual_Delivery_Date',\n",
    "#'Last_Modified_Date'\n",
    "#]\n",
    ")\n",
    "\n",
    "df_test.head()"
   ]
  },
  {
   "cell_type": "code",
   "execution_count": 18,
   "metadata": {},
   "outputs": [
    {
     "data": {
      "text/plain": [
       "(9841, 315)"
      ]
     },
     "execution_count": 18,
     "metadata": {},
     "output_type": "execute_result"
    }
   ],
   "source": [
    "df_train.shape"
   ]
  },
  {
   "cell_type": "code",
   "execution_count": 19,
   "metadata": {},
   "outputs": [
    {
     "data": {
      "text/plain": [
       "(1567, 315)"
      ]
     },
     "execution_count": 19,
     "metadata": {},
     "output_type": "execute_result"
    }
   ],
   "source": [
    "df_test.shape"
   ]
  },
  {
   "cell_type": "code",
   "execution_count": 20,
   "metadata": {},
   "outputs": [
    {
     "data": {
      "text/html": [
       "<div>\n",
       "<style scoped>\n",
       "    .dataframe tbody tr th:only-of-type {\n",
       "        vertical-align: middle;\n",
       "    }\n",
       "\n",
       "    .dataframe tbody tr th {\n",
       "        vertical-align: top;\n",
       "    }\n",
       "\n",
       "    .dataframe thead th {\n",
       "        text-align: right;\n",
       "    }\n",
       "</style>\n",
       "<table border=\"1\" class=\"dataframe\">\n",
       "  <thead>\n",
       "    <tr style=\"text-align: right;\">\n",
       "      <th></th>\n",
       "      <th>nulls</th>\n",
       "      <th>porcentaje</th>\n",
       "    </tr>\n",
       "  </thead>\n",
       "  <tbody>\n",
       "  </tbody>\n",
       "</table>\n",
       "</div>"
      ],
      "text/plain": [
       "Empty DataFrame\n",
       "Columns: [nulls, porcentaje]\n",
       "Index: []"
      ]
     },
     "execution_count": 20,
     "metadata": {},
     "output_type": "execute_result"
    }
   ],
   "source": [
    "faltantes=pd.DataFrame(df_train.isnull().sum().sort_values(ascending=False),columns=['nulls'])\n",
    "filas=len(df_train)\n",
    "faltantes['porcentaje']=round(100*faltantes['nulls']/filas,2)\n",
    "faltantes[faltantes['nulls']!=0]"
   ]
  },
  {
   "cell_type": "code",
   "execution_count": 21,
   "metadata": {},
   "outputs": [
    {
     "data": {
      "text/html": [
       "<div>\n",
       "<style scoped>\n",
       "    .dataframe tbody tr th:only-of-type {\n",
       "        vertical-align: middle;\n",
       "    }\n",
       "\n",
       "    .dataframe tbody tr th {\n",
       "        vertical-align: top;\n",
       "    }\n",
       "\n",
       "    .dataframe thead th {\n",
       "        text-align: right;\n",
       "    }\n",
       "</style>\n",
       "<table border=\"1\" class=\"dataframe\">\n",
       "  <thead>\n",
       "    <tr style=\"text-align: right;\">\n",
       "      <th></th>\n",
       "      <th>nulls</th>\n",
       "      <th>porcentaje</th>\n",
       "    </tr>\n",
       "  </thead>\n",
       "  <tbody>\n",
       "  </tbody>\n",
       "</table>\n",
       "</div>"
      ],
      "text/plain": [
       "Empty DataFrame\n",
       "Columns: [nulls, porcentaje]\n",
       "Index: []"
      ]
     },
     "execution_count": 21,
     "metadata": {},
     "output_type": "execute_result"
    }
   ],
   "source": [
    "faltantes=pd.DataFrame(df_test.isnull().sum().sort_values(ascending=False),columns=['nulls'])\n",
    "filas=len(df_test)\n",
    "faltantes['porcentaje']=round(100*faltantes['nulls']/filas,2)\n",
    "faltantes[faltantes['nulls']!=0]"
   ]
  },
  {
   "cell_type": "markdown",
   "metadata": {},
   "source": [
    "# Proceso de preparación de los datos"
   ]
  },
  {
   "cell_type": "markdown",
   "metadata": {},
   "source": [
    "### Separamos la variable a predecir"
   ]
  },
  {
   "cell_type": "code",
   "execution_count": 22,
   "metadata": {},
   "outputs": [],
   "source": [
    "#df4_train['Is_closed_won']=(df4_train['Stage']=='Closed Won')\n",
    "df_train['Is_closed_won']=df_train['Stage'].apply(lambda x: 1 if x=='Closed Won' else 0)\n",
    "df_train=df_train.drop(['Stage'],axis=1)"
   ]
  },
  {
   "cell_type": "code",
   "execution_count": 23,
   "metadata": {},
   "outputs": [],
   "source": [
    "X = df_train.drop(['Is_closed_won','Sales_Contract_No'], axis=1)\n"
   ]
  },
  {
   "cell_type": "code",
   "execution_count": 24,
   "metadata": {},
   "outputs": [],
   "source": [
    "y = df_train['Is_closed_won']"
   ]
  },
  {
   "cell_type": "code",
   "execution_count": 25,
   "metadata": {},
   "outputs": [],
   "source": [
    "#X.head()"
   ]
  },
  {
   "cell_type": "code",
   "execution_count": 26,
   "metadata": {},
   "outputs": [],
   "source": [
    "#y.value_counts()#.head()"
   ]
  },
  {
   "cell_type": "markdown",
   "metadata": {},
   "source": [
    "### Creamos set de entrenamiento y test"
   ]
  },
  {
   "cell_type": "code",
   "execution_count": 27,
   "metadata": {},
   "outputs": [],
   "source": [
    "from sklearn.model_selection import train_test_split\n",
    "\n",
    "X_train, X_test, y_train, y_test = \\\n",
    "    train_test_split(X, y, test_size=0.2, random_state=123)"
   ]
  },
  {
   "cell_type": "code",
   "execution_count": 28,
   "metadata": {},
   "outputs": [
    {
     "data": {
      "text/plain": [
       "(7872, 313)"
      ]
     },
     "execution_count": 28,
     "metadata": {},
     "output_type": "execute_result"
    }
   ],
   "source": [
    "X_train.shape"
   ]
  },
  {
   "cell_type": "markdown",
   "metadata": {},
   "source": [
    "# Proceso de selección de hiperparámetros y predicción usando Decision Tree"
   ]
  },
  {
   "cell_type": "markdown",
   "metadata": {},
   "source": [
    "## Selección de hiperparámetros, entrenamiento y validación usando Decision Tree"
   ]
  },
  {
   "cell_type": "code",
   "execution_count": 36,
   "metadata": {},
   "outputs": [
    {
     "name": "stderr",
     "output_type": "stream",
     "text": [
      "C:\\Users\\licha\\Miniconda3\\envs\\orgadatos\\lib\\site-packages\\sklearn\\model_selection\\_split.py:2053: FutureWarning: You should specify a value for 'cv' instead of relying on the default value. The default value will change from 3 to 5 in version 0.22.\n",
      "  warnings.warn(CV_WARNING, FutureWarning)\n"
     ]
    },
    {
     "data": {
      "text/plain": [
       "GridSearchCV(cv='warn', error_score='raise-deprecating',\n",
       "       estimator=DecisionTreeClassifier(class_weight=None, criterion='gini', max_depth=None,\n",
       "            max_features=None, max_leaf_nodes=None,\n",
       "            min_impurity_decrease=0.0, min_impurity_split=None,\n",
       "            min_samples_leaf=1, min_samples_split=2,\n",
       "            min_weight_fraction_leaf=0.0, presort=False, random_state=None,\n",
       "            splitter='best'),\n",
       "       fit_params=None, iid='warn', n_jobs=None,\n",
       "       param_grid={'class_weight': ['balanced', None], 'min_samples_split': [2, 3, 4], 'min_samples_leaf': [1, 2, 3], 'max_depth': [5, 10, 15, None]},\n",
       "       pre_dispatch='2*n_jobs', refit=True, return_train_score='warn',\n",
       "       scoring='neg_log_loss', verbose=0)"
      ]
     },
     "execution_count": 36,
     "metadata": {},
     "output_type": "execute_result"
    }
   ],
   "source": [
    "from sklearn.model_selection import GridSearchCV,RandomizedSearchCV\n",
    "from sklearn import tree\n",
    "parametros = {\n",
    "    'class_weight': [\"balanced\",None],\n",
    "    'min_samples_split':[2,3,4],\n",
    "    'min_samples_leaf':[1,2,3],\n",
    "    'max_depth': [5,10,15,None]\n",
    "}\n",
    "decisionTree = tree.DecisionTreeClassifier()\n",
    "#seleccion de hiperparametros\n",
    "clf = GridSearchCV(decisionTree, parametros,scoring='neg_log_loss')\n",
    "clf.fit(X_train, y_train)"
   ]
  },
  {
   "cell_type": "code",
   "execution_count": 37,
   "metadata": {},
   "outputs": [],
   "source": [
    "y_validation =clf.predict(X_test)\n",
    "y_validation_probs = clf.predict_proba(X_test)[:,1]"
   ]
  },
  {
   "cell_type": "code",
   "execution_count": 38,
   "metadata": {},
   "outputs": [
    {
     "name": "stdout",
     "output_type": "stream",
     "text": [
      "Resultado:\n",
      " accurancy: 0.7775520568816658\n",
      " log loss: 0.5259030600831148\n"
     ]
    }
   ],
   "source": [
    "print( \"Resultado:\")\n",
    "print( \" accurancy:\" , accuracy_score(y_test, y_validation) )\n",
    "print( \" log loss:\" , log_loss(y_test, y_validation_probs) )"
   ]
  },
  {
   "cell_type": "code",
   "execution_count": 39,
   "metadata": {},
   "outputs": [
    {
     "data": {
      "text/plain": [
       "{'class_weight': None,\n",
       " 'max_depth': 5,\n",
       " 'min_samples_leaf': 1,\n",
       " 'min_samples_split': 2}"
      ]
     },
     "execution_count": 39,
     "metadata": {},
     "output_type": "execute_result"
    }
   ],
   "source": [
    "clf.best_params_"
   ]
  },
  {
   "cell_type": "markdown",
   "metadata": {},
   "source": [
    "## Prediccion usando Decision Tree"
   ]
  },
  {
   "cell_type": "code",
   "execution_count": 40,
   "metadata": {},
   "outputs": [],
   "source": [
    "y_pred_probs =clf.predict_proba( df_test.drop(['Sales_Contract_No','Stage'], axis=1)  )[:,1]"
   ]
  },
  {
   "cell_type": "code",
   "execution_count": 41,
   "metadata": {},
   "outputs": [
    {
     "data": {
      "text/html": [
       "<div>\n",
       "<style scoped>\n",
       "    .dataframe tbody tr th:only-of-type {\n",
       "        vertical-align: middle;\n",
       "    }\n",
       "\n",
       "    .dataframe tbody tr th {\n",
       "        vertical-align: top;\n",
       "    }\n",
       "\n",
       "    .dataframe thead th {\n",
       "        text-align: right;\n",
       "    }\n",
       "</style>\n",
       "<table border=\"1\" class=\"dataframe\">\n",
       "  <thead>\n",
       "    <tr style=\"text-align: right;\">\n",
       "      <th></th>\n",
       "      <th>Opportunity_ID</th>\n",
       "      <th>Target</th>\n",
       "    </tr>\n",
       "  </thead>\n",
       "  <tbody>\n",
       "    <tr>\n",
       "      <th>0</th>\n",
       "      <td>12173</td>\n",
       "      <td>0.000000</td>\n",
       "    </tr>\n",
       "    <tr>\n",
       "      <th>1</th>\n",
       "      <td>12172</td>\n",
       "      <td>0.363636</td>\n",
       "    </tr>\n",
       "    <tr>\n",
       "      <th>2</th>\n",
       "      <td>11408</td>\n",
       "      <td>0.714286</td>\n",
       "    </tr>\n",
       "    <tr>\n",
       "      <th>3</th>\n",
       "      <td>12232</td>\n",
       "      <td>0.819608</td>\n",
       "    </tr>\n",
       "    <tr>\n",
       "      <th>4</th>\n",
       "      <td>12233</td>\n",
       "      <td>0.819608</td>\n",
       "    </tr>\n",
       "  </tbody>\n",
       "</table>\n",
       "</div>"
      ],
      "text/plain": [
       "   Opportunity_ID    Target\n",
       "0           12173  0.000000\n",
       "1           12172  0.363636\n",
       "2           11408  0.714286\n",
       "3           12232  0.819608\n",
       "4           12233  0.819608"
      ]
     },
     "execution_count": 41,
     "metadata": {},
     "output_type": "execute_result"
    }
   ],
   "source": [
    "#Creo un dataframe con el formato ( id , precio (El precio predecido ))\n",
    "prediccion = df_test['Opportunity_ID'].to_frame()\n",
    "prediccion.insert(1,'Target', y_pred_probs , True) \n",
    "#Exportamos la prediccion en formato csv sin labels\n",
    "prediccion.to_csv(r'./DecisionTree_max_depth_5_class_weight_none_min_samples_leaf_1_min_samples_split_3.csv',index=False , header=True)\n",
    "prediccion.head()"
   ]
  },
  {
   "cell_type": "markdown",
   "metadata": {},
   "source": [
    "# Proceso de selección de hiperparámetros y predicción usando Random Forest"
   ]
  },
  {
   "cell_type": "markdown",
   "metadata": {},
   "source": [
    "## Selección de hiperparámetros,entrenamiento y validación usando Random Forest"
   ]
  },
  {
   "cell_type": "code",
   "execution_count": 42,
   "metadata": {},
   "outputs": [
    {
     "name": "stderr",
     "output_type": "stream",
     "text": [
      "C:\\Users\\licha\\Miniconda3\\envs\\orgadatos\\lib\\site-packages\\sklearn\\model_selection\\_split.py:2053: FutureWarning: You should specify a value for 'cv' instead of relying on the default value. The default value will change from 3 to 5 in version 0.22.\n",
      "  warnings.warn(CV_WARNING, FutureWarning)\n"
     ]
    },
    {
     "data": {
      "text/plain": [
       "GridSearchCV(cv='warn', error_score='raise-deprecating',\n",
       "       estimator=RandomForestClassifier(bootstrap=True, class_weight=None, criterion='gini',\n",
       "            max_depth=None, max_features='auto', max_leaf_nodes=None,\n",
       "            min_impurity_decrease=0.0, min_impurity_split=None,\n",
       "            min_samples_leaf=1, min_samples_split=2,\n",
       "            min_weight_fraction_leaf=0.0, n_estimators='warn', n_jobs=None,\n",
       "            oob_score=False, random_state=None, verbose=0,\n",
       "            warm_start=False),\n",
       "       fit_params=None, iid='warn', n_jobs=None,\n",
       "       param_grid={'class_weight': ['balanced', None], 'min_samples_split': [2, 3, 4], 'min_samples_leaf': [1, 2, 3], 'max_depth': [5, 10, 15, None], 'n_estimators': [50, 60, 75, 100]},\n",
       "       pre_dispatch='2*n_jobs', refit=True, return_train_score='warn',\n",
       "       scoring='neg_log_loss', verbose=0)"
      ]
     },
     "execution_count": 42,
     "metadata": {},
     "output_type": "execute_result"
    }
   ],
   "source": [
    "parametros = {\n",
    "    'class_weight': [\"balanced\",None],\n",
    "    'min_samples_split':[2,3,4],\n",
    "    'min_samples_leaf':[1,2,3],\n",
    "    'max_depth': [5,10,15,None],\n",
    "    'n_estimators': [50,60,75,100]\n",
    "}\n",
    "randomForest = RandomForestClassifier()\n",
    "#seleccion de hiperparametros\n",
    "clf = GridSearchCV(randomForest, parametros,scoring='neg_log_loss')\n",
    "clf.fit(X_train, y_train)"
   ]
  },
  {
   "cell_type": "code",
   "execution_count": 43,
   "metadata": {},
   "outputs": [],
   "source": [
    "y_validation =clf.predict(X_test)\n",
    "y_validation_probs = clf.predict_proba(X_test)[:,1]"
   ]
  },
  {
   "cell_type": "code",
   "execution_count": 44,
   "metadata": {},
   "outputs": [
    {
     "name": "stdout",
     "output_type": "stream",
     "text": [
      "Resultado:\n",
      " accurancy: 0.8466226510919248\n",
      " log loss: 0.3724183793669345\n"
     ]
    }
   ],
   "source": [
    "print( \"Resultado:\")\n",
    "print( \" accurancy:\" , accuracy_score(y_test, y_validation) )\n",
    "print( \" log loss:\" , log_loss(y_test, y_validation_probs) )"
   ]
  },
  {
   "cell_type": "code",
   "execution_count": 45,
   "metadata": {},
   "outputs": [
    {
     "data": {
      "text/plain": [
       "{'class_weight': None,\n",
       " 'max_depth': None,\n",
       " 'min_samples_leaf': 1,\n",
       " 'min_samples_split': 2,\n",
       " 'n_estimators': 100}"
      ]
     },
     "execution_count": 45,
     "metadata": {},
     "output_type": "execute_result"
    }
   ],
   "source": [
    "clf.best_params_"
   ]
  },
  {
   "cell_type": "markdown",
   "metadata": {},
   "source": [
    "## Prediccion usando Random Forest"
   ]
  },
  {
   "cell_type": "code",
   "execution_count": 46,
   "metadata": {},
   "outputs": [],
   "source": [
    "y_pred_probs =clf.predict_proba( df_test.drop(['Sales_Contract_No','Stage'], axis=1)  )[:,1]"
   ]
  },
  {
   "cell_type": "code",
   "execution_count": 47,
   "metadata": {},
   "outputs": [
    {
     "data": {
      "text/html": [
       "<div>\n",
       "<style scoped>\n",
       "    .dataframe tbody tr th:only-of-type {\n",
       "        vertical-align: middle;\n",
       "    }\n",
       "\n",
       "    .dataframe tbody tr th {\n",
       "        vertical-align: top;\n",
       "    }\n",
       "\n",
       "    .dataframe thead th {\n",
       "        text-align: right;\n",
       "    }\n",
       "</style>\n",
       "<table border=\"1\" class=\"dataframe\">\n",
       "  <thead>\n",
       "    <tr style=\"text-align: right;\">\n",
       "      <th></th>\n",
       "      <th>Opportunity_ID</th>\n",
       "      <th>Target</th>\n",
       "    </tr>\n",
       "  </thead>\n",
       "  <tbody>\n",
       "    <tr>\n",
       "      <th>0</th>\n",
       "      <td>12173</td>\n",
       "      <td>0.52</td>\n",
       "    </tr>\n",
       "    <tr>\n",
       "      <th>1</th>\n",
       "      <td>12172</td>\n",
       "      <td>0.46</td>\n",
       "    </tr>\n",
       "    <tr>\n",
       "      <th>2</th>\n",
       "      <td>11408</td>\n",
       "      <td>0.68</td>\n",
       "    </tr>\n",
       "    <tr>\n",
       "      <th>3</th>\n",
       "      <td>12232</td>\n",
       "      <td>0.60</td>\n",
       "    </tr>\n",
       "    <tr>\n",
       "      <th>4</th>\n",
       "      <td>12233</td>\n",
       "      <td>0.61</td>\n",
       "    </tr>\n",
       "  </tbody>\n",
       "</table>\n",
       "</div>"
      ],
      "text/plain": [
       "   Opportunity_ID  Target\n",
       "0           12173    0.52\n",
       "1           12172    0.46\n",
       "2           11408    0.68\n",
       "3           12232    0.60\n",
       "4           12233    0.61"
      ]
     },
     "execution_count": 47,
     "metadata": {},
     "output_type": "execute_result"
    }
   ],
   "source": [
    "#Creo un dataframe con el formato ( id , precio (El precio predecido ))\n",
    "prediccion = df_test['Opportunity_ID'].to_frame()\n",
    "prediccion.insert(1,'Target', y_pred_probs , True) \n",
    "#Exportamos la prediccion en formato csv sin labels\n",
    "prediccion.to_csv(r'./RandomForest_max_depth_none_class_weight_balanced_min_samples_leaf_2_min_samples_split_2_n_estimators_100.csv',index=False , header=True)\n",
    "prediccion.head()"
   ]
  },
  {
   "cell_type": "code",
   "execution_count": null,
   "metadata": {},
   "outputs": [],
   "source": []
  },
  {
   "cell_type": "markdown",
   "metadata": {},
   "source": [
    "# Proceso de selección de hiperparámetros y predicción usando Random Forest"
   ]
  },
  {
   "cell_type": "markdown",
   "metadata": {},
   "source": [
    "## Selección de hiperparámetros,entrenamiento y validación usando Random Forest"
   ]
  },
  {
   "cell_type": "code",
   "execution_count": 48,
   "metadata": {},
   "outputs": [
    {
     "name": "stderr",
     "output_type": "stream",
     "text": [
      "C:\\Users\\licha\\Miniconda3\\envs\\orgadatos\\lib\\site-packages\\sklearn\\model_selection\\_split.py:2053: FutureWarning: You should specify a value for 'cv' instead of relying on the default value. The default value will change from 3 to 5 in version 0.22.\n",
      "  warnings.warn(CV_WARNING, FutureWarning)\n"
     ]
    },
    {
     "data": {
      "text/plain": [
       "GridSearchCV(cv='warn', error_score='raise-deprecating',\n",
       "       estimator=RandomForestClassifier(bootstrap=True, class_weight=None, criterion='gini',\n",
       "            max_depth=None, max_features='log2', max_leaf_nodes=None,\n",
       "            min_impurity_decrease=0.0, min_impurity_split=None,\n",
       "            min_samples_leaf=1, min_samples_split=2,\n",
       "            min_weight_fraction_leaf=0.0, n_estimators='warn', n_jobs=None,\n",
       "            oob_score=False, random_state=None, verbose=0,\n",
       "            warm_start=False),\n",
       "       fit_params=None, iid='warn', n_jobs=None,\n",
       "       param_grid={'class_weight': ['balanced', None], 'min_samples_split': [2, 3, 4], 'min_samples_leaf': [1, 2, 3], 'max_depth': [5, 10, 15, None], 'n_estimators': [50, 60, 75, 100]},\n",
       "       pre_dispatch='2*n_jobs', refit=True, return_train_score='warn',\n",
       "       scoring='neg_log_loss', verbose=0)"
      ]
     },
     "execution_count": 48,
     "metadata": {},
     "output_type": "execute_result"
    }
   ],
   "source": [
    "parametros = {\n",
    "    'class_weight': [\"balanced\",None],\n",
    "    'min_samples_split':[2,3,4],\n",
    "    'min_samples_leaf':[1,2,3],\n",
    "    'max_depth': [5,10,15,None],\n",
    "    'n_estimators': [50,60,75,100],\n",
    "    #'max_features':['log2',None]\n",
    "    #'max_features':['sqrt', 'log2',None]\n",
    "}\n",
    "randomForest = RandomForestClassifier(max_features=\"log2\")\n",
    "#seleccion de hiperparametros\n",
    "clf = GridSearchCV(randomForest, parametros,scoring='neg_log_loss')\n",
    "clf.fit(X_train, y_train)"
   ]
  },
  {
   "cell_type": "code",
   "execution_count": 49,
   "metadata": {},
   "outputs": [],
   "source": [
    "y_validation =clf.predict(X_test)\n",
    "y_validation_probs = clf.predict_proba(X_test)[:,1]"
   ]
  },
  {
   "cell_type": "code",
   "execution_count": 50,
   "metadata": {},
   "outputs": [
    {
     "name": "stdout",
     "output_type": "stream",
     "text": [
      "Resultado:\n",
      " accurancy: 0.8532249873031996\n",
      " log loss: 0.38403349918046614\n"
     ]
    }
   ],
   "source": [
    "print( \"Resultado:\")\n",
    "print( \" accurancy:\" , accuracy_score(y_test, y_validation) )\n",
    "print( \" log loss:\" , log_loss(y_test, y_validation_probs) )"
   ]
  },
  {
   "cell_type": "code",
   "execution_count": 51,
   "metadata": {},
   "outputs": [
    {
     "data": {
      "text/plain": [
       "{'class_weight': 'balanced',\n",
       " 'max_depth': None,\n",
       " 'min_samples_leaf': 1,\n",
       " 'min_samples_split': 4,\n",
       " 'n_estimators': 100}"
      ]
     },
     "execution_count": 51,
     "metadata": {},
     "output_type": "execute_result"
    }
   ],
   "source": [
    "clf.best_params_"
   ]
  },
  {
   "cell_type": "markdown",
   "metadata": {},
   "source": [
    "## Prediccion usando Random Forest"
   ]
  },
  {
   "cell_type": "code",
   "execution_count": 52,
   "metadata": {},
   "outputs": [],
   "source": [
    "y_pred_probs =clf.predict_proba( df_test.drop(['Sales_Contract_No','Stage'], axis=1)  )[:,1]"
   ]
  },
  {
   "cell_type": "code",
   "execution_count": 53,
   "metadata": {},
   "outputs": [
    {
     "data": {
      "text/html": [
       "<div>\n",
       "<style scoped>\n",
       "    .dataframe tbody tr th:only-of-type {\n",
       "        vertical-align: middle;\n",
       "    }\n",
       "\n",
       "    .dataframe tbody tr th {\n",
       "        vertical-align: top;\n",
       "    }\n",
       "\n",
       "    .dataframe thead th {\n",
       "        text-align: right;\n",
       "    }\n",
       "</style>\n",
       "<table border=\"1\" class=\"dataframe\">\n",
       "  <thead>\n",
       "    <tr style=\"text-align: right;\">\n",
       "      <th></th>\n",
       "      <th>Opportunity_ID</th>\n",
       "      <th>Target</th>\n",
       "    </tr>\n",
       "  </thead>\n",
       "  <tbody>\n",
       "    <tr>\n",
       "      <th>0</th>\n",
       "      <td>12173</td>\n",
       "      <td>0.467776</td>\n",
       "    </tr>\n",
       "    <tr>\n",
       "      <th>1</th>\n",
       "      <td>12172</td>\n",
       "      <td>0.433618</td>\n",
       "    </tr>\n",
       "    <tr>\n",
       "      <th>2</th>\n",
       "      <td>11408</td>\n",
       "      <td>0.568561</td>\n",
       "    </tr>\n",
       "    <tr>\n",
       "      <th>3</th>\n",
       "      <td>12232</td>\n",
       "      <td>0.446158</td>\n",
       "    </tr>\n",
       "    <tr>\n",
       "      <th>4</th>\n",
       "      <td>12233</td>\n",
       "      <td>0.478548</td>\n",
       "    </tr>\n",
       "  </tbody>\n",
       "</table>\n",
       "</div>"
      ],
      "text/plain": [
       "   Opportunity_ID    Target\n",
       "0           12173  0.467776\n",
       "1           12172  0.433618\n",
       "2           11408  0.568561\n",
       "3           12232  0.446158\n",
       "4           12233  0.478548"
      ]
     },
     "execution_count": 53,
     "metadata": {},
     "output_type": "execute_result"
    }
   ],
   "source": [
    "#Creo un dataframe con el formato ( id , precio (El precio predecido ))\n",
    "prediccion = df_test['Opportunity_ID'].to_frame()\n",
    "prediccion.insert(1,'Target', y_pred_probs , True) \n",
    "#Exportamos la prediccion en formato csv sin labels\n",
    "prediccion.to_csv(r'./RandomForest_max_depth_none_class_weight_none_min_samples_leaf_1_min_samples_split_2_n_estimators_100_max_features_log2.csv',index=False , header=True)\n",
    "prediccion.head()"
   ]
  },
  {
   "cell_type": "code",
   "execution_count": null,
   "metadata": {},
   "outputs": [],
   "source": []
  },
  {
   "cell_type": "markdown",
   "metadata": {},
   "source": [
    "# Proceso de selección de hiperparámetros y predicción usando Random Forest"
   ]
  },
  {
   "cell_type": "markdown",
   "metadata": {},
   "source": [
    "## Selección de hiperparámetros,entrenamiento y validación usando Random Forest"
   ]
  },
  {
   "cell_type": "code",
   "execution_count": 50,
   "metadata": {},
   "outputs": [
    {
     "name": "stderr",
     "output_type": "stream",
     "text": [
      "C:\\Users\\licha\\Miniconda3\\envs\\orgadatos\\lib\\site-packages\\sklearn\\model_selection\\_split.py:2053: FutureWarning: You should specify a value for 'cv' instead of relying on the default value. The default value will change from 3 to 5 in version 0.22.\n",
      "  warnings.warn(CV_WARNING, FutureWarning)\n"
     ]
    },
    {
     "data": {
      "text/plain": [
       "GridSearchCV(cv='warn', error_score='raise-deprecating',\n",
       "       estimator=RandomForestClassifier(bootstrap=True, class_weight=None, criterion='gini',\n",
       "            max_depth=None, max_features='log2', max_leaf_nodes=None,\n",
       "            min_impurity_decrease=0.0, min_impurity_split=None,\n",
       "            min_samples_leaf=1, min_samples_split=2,\n",
       "            min_weight_fraction_leaf=0.0, n_estimators='warn', n_jobs=None,\n",
       "            oob_score=False, random_state=None, verbose=0,\n",
       "            warm_start=False),\n",
       "       fit_params=None, iid='warn', n_jobs=None,\n",
       "       param_grid={'n_estimators': [40, 50, 60, 75]},\n",
       "       pre_dispatch='2*n_jobs', refit=True, return_train_score='warn',\n",
       "       scoring='neg_log_loss', verbose=0)"
      ]
     },
     "execution_count": 50,
     "metadata": {},
     "output_type": "execute_result"
    }
   ],
   "source": [
    "parametros = {\n",
    "    'n_estimators': [40,50,60,75]\n",
    "}\n",
    "randomForest = RandomForestClassifier(max_features=\"log2\")\n",
    "#seleccion de hiperparametros\n",
    "clf = GridSearchCV(randomForest, parametros,scoring='neg_log_loss')\n",
    "clf.fit(X_train, y_train)"
   ]
  },
  {
   "cell_type": "code",
   "execution_count": 51,
   "metadata": {},
   "outputs": [],
   "source": [
    "y_validation =clf.predict(X_test)\n",
    "y_validation_probs = clf.predict_proba(X_test)[:,1]"
   ]
  },
  {
   "cell_type": "code",
   "execution_count": 52,
   "metadata": {},
   "outputs": [
    {
     "name": "stdout",
     "output_type": "stream",
     "text": [
      "Resultado:\n",
      " accurancy: 0.8445911630269172\n",
      " log loss: 0.38025122307430875\n"
     ]
    }
   ],
   "source": [
    "print( \"Resultado:\")\n",
    "print( \" accurancy:\" , accuracy_score(y_test, y_validation) )\n",
    "print( \" log loss:\" , log_loss(y_test, y_validation_probs) )"
   ]
  },
  {
   "cell_type": "code",
   "execution_count": 53,
   "metadata": {},
   "outputs": [
    {
     "data": {
      "text/plain": [
       "{'n_estimators': 60}"
      ]
     },
     "execution_count": 53,
     "metadata": {},
     "output_type": "execute_result"
    }
   ],
   "source": [
    "clf.best_params_"
   ]
  },
  {
   "cell_type": "code",
   "execution_count": 54,
   "metadata": {
    "scrolled": true
   },
   "outputs": [
    {
     "name": "stderr",
     "output_type": "stream",
     "text": [
      "C:\\Users\\licha\\Miniconda3\\envs\\orgadatos\\lib\\site-packages\\sklearn\\utils\\deprecation.py:125: FutureWarning: You are accessing a training score ('split0_train_score'), which will not be available by default any more in 0.21. If you need training scores, please set return_train_score=True\n",
      "  warnings.warn(*warn_args, **warn_kwargs)\n",
      "C:\\Users\\licha\\Miniconda3\\envs\\orgadatos\\lib\\site-packages\\sklearn\\utils\\deprecation.py:125: FutureWarning: You are accessing a training score ('split1_train_score'), which will not be available by default any more in 0.21. If you need training scores, please set return_train_score=True\n",
      "  warnings.warn(*warn_args, **warn_kwargs)\n",
      "C:\\Users\\licha\\Miniconda3\\envs\\orgadatos\\lib\\site-packages\\sklearn\\utils\\deprecation.py:125: FutureWarning: You are accessing a training score ('split2_train_score'), which will not be available by default any more in 0.21. If you need training scores, please set return_train_score=True\n",
      "  warnings.warn(*warn_args, **warn_kwargs)\n",
      "C:\\Users\\licha\\Miniconda3\\envs\\orgadatos\\lib\\site-packages\\sklearn\\utils\\deprecation.py:125: FutureWarning: You are accessing a training score ('mean_train_score'), which will not be available by default any more in 0.21. If you need training scores, please set return_train_score=True\n",
      "  warnings.warn(*warn_args, **warn_kwargs)\n",
      "C:\\Users\\licha\\Miniconda3\\envs\\orgadatos\\lib\\site-packages\\sklearn\\utils\\deprecation.py:125: FutureWarning: You are accessing a training score ('std_train_score'), which will not be available by default any more in 0.21. If you need training scores, please set return_train_score=True\n",
      "  warnings.warn(*warn_args, **warn_kwargs)\n"
     ]
    },
    {
     "data": {
      "text/html": [
       "<div>\n",
       "<style scoped>\n",
       "    .dataframe tbody tr th:only-of-type {\n",
       "        vertical-align: middle;\n",
       "    }\n",
       "\n",
       "    .dataframe tbody tr th {\n",
       "        vertical-align: top;\n",
       "    }\n",
       "\n",
       "    .dataframe thead th {\n",
       "        text-align: right;\n",
       "    }\n",
       "</style>\n",
       "<table border=\"1\" class=\"dataframe\">\n",
       "  <thead>\n",
       "    <tr style=\"text-align: right;\">\n",
       "      <th></th>\n",
       "      <th>mean_fit_time</th>\n",
       "      <th>std_fit_time</th>\n",
       "      <th>mean_score_time</th>\n",
       "      <th>std_score_time</th>\n",
       "      <th>param_n_estimators</th>\n",
       "      <th>params</th>\n",
       "      <th>split0_test_score</th>\n",
       "      <th>split1_test_score</th>\n",
       "      <th>split2_test_score</th>\n",
       "      <th>mean_test_score</th>\n",
       "      <th>std_test_score</th>\n",
       "      <th>rank_test_score</th>\n",
       "      <th>split0_train_score</th>\n",
       "      <th>split1_train_score</th>\n",
       "      <th>split2_train_score</th>\n",
       "      <th>mean_train_score</th>\n",
       "      <th>std_train_score</th>\n",
       "    </tr>\n",
       "  </thead>\n",
       "  <tbody>\n",
       "    <tr>\n",
       "      <th>0</th>\n",
       "      <td>0.352052</td>\n",
       "      <td>0.002998</td>\n",
       "      <td>0.028239</td>\n",
       "      <td>0.004252</td>\n",
       "      <td>40</td>\n",
       "      <td>{'n_estimators': 40}</td>\n",
       "      <td>-0.402315</td>\n",
       "      <td>-0.370637</td>\n",
       "      <td>-0.387413</td>\n",
       "      <td>-0.386790</td>\n",
       "      <td>0.012941</td>\n",
       "      <td>4</td>\n",
       "      <td>-0.108331</td>\n",
       "      <td>-0.108960</td>\n",
       "      <td>-0.110933</td>\n",
       "      <td>-0.109408</td>\n",
       "      <td>0.001108</td>\n",
       "    </tr>\n",
       "    <tr>\n",
       "      <th>1</th>\n",
       "      <td>0.416761</td>\n",
       "      <td>0.012763</td>\n",
       "      <td>0.028252</td>\n",
       "      <td>0.004266</td>\n",
       "      <td>50</td>\n",
       "      <td>{'n_estimators': 50}</td>\n",
       "      <td>-0.403065</td>\n",
       "      <td>-0.371290</td>\n",
       "      <td>-0.371187</td>\n",
       "      <td>-0.381851</td>\n",
       "      <td>0.015005</td>\n",
       "      <td>3</td>\n",
       "      <td>-0.109338</td>\n",
       "      <td>-0.107619</td>\n",
       "      <td>-0.110423</td>\n",
       "      <td>-0.109126</td>\n",
       "      <td>0.001154</td>\n",
       "    </tr>\n",
       "    <tr>\n",
       "      <th>2</th>\n",
       "      <td>0.487242</td>\n",
       "      <td>0.002053</td>\n",
       "      <td>0.044764</td>\n",
       "      <td>0.003037</td>\n",
       "      <td>60</td>\n",
       "      <td>{'n_estimators': 60}</td>\n",
       "      <td>-0.390660</td>\n",
       "      <td>-0.368532</td>\n",
       "      <td>-0.374381</td>\n",
       "      <td>-0.377860</td>\n",
       "      <td>0.009364</td>\n",
       "      <td>1</td>\n",
       "      <td>-0.109273</td>\n",
       "      <td>-0.108909</td>\n",
       "      <td>-0.108659</td>\n",
       "      <td>-0.108947</td>\n",
       "      <td>0.000252</td>\n",
       "    </tr>\n",
       "    <tr>\n",
       "      <th>3</th>\n",
       "      <td>0.621303</td>\n",
       "      <td>0.008223</td>\n",
       "      <td>0.053380</td>\n",
       "      <td>0.012737</td>\n",
       "      <td>75</td>\n",
       "      <td>{'n_estimators': 75}</td>\n",
       "      <td>-0.392293</td>\n",
       "      <td>-0.372033</td>\n",
       "      <td>-0.370027</td>\n",
       "      <td>-0.378120</td>\n",
       "      <td>0.010058</td>\n",
       "      <td>2</td>\n",
       "      <td>-0.108967</td>\n",
       "      <td>-0.107844</td>\n",
       "      <td>-0.109497</td>\n",
       "      <td>-0.108769</td>\n",
       "      <td>0.000689</td>\n",
       "    </tr>\n",
       "  </tbody>\n",
       "</table>\n",
       "</div>"
      ],
      "text/plain": [
       "   mean_fit_time  std_fit_time  mean_score_time  std_score_time  \\\n",
       "0       0.352052      0.002998         0.028239        0.004252   \n",
       "1       0.416761      0.012763         0.028252        0.004266   \n",
       "2       0.487242      0.002053         0.044764        0.003037   \n",
       "3       0.621303      0.008223         0.053380        0.012737   \n",
       "\n",
       "  param_n_estimators                params  split0_test_score  \\\n",
       "0                 40  {'n_estimators': 40}          -0.402315   \n",
       "1                 50  {'n_estimators': 50}          -0.403065   \n",
       "2                 60  {'n_estimators': 60}          -0.390660   \n",
       "3                 75  {'n_estimators': 75}          -0.392293   \n",
       "\n",
       "   split1_test_score  split2_test_score  mean_test_score  std_test_score  \\\n",
       "0          -0.370637          -0.387413        -0.386790        0.012941   \n",
       "1          -0.371290          -0.371187        -0.381851        0.015005   \n",
       "2          -0.368532          -0.374381        -0.377860        0.009364   \n",
       "3          -0.372033          -0.370027        -0.378120        0.010058   \n",
       "\n",
       "   rank_test_score  split0_train_score  split1_train_score  \\\n",
       "0                4           -0.108331           -0.108960   \n",
       "1                3           -0.109338           -0.107619   \n",
       "2                1           -0.109273           -0.108909   \n",
       "3                2           -0.108967           -0.107844   \n",
       "\n",
       "   split2_train_score  mean_train_score  std_train_score  \n",
       "0           -0.110933         -0.109408         0.001108  \n",
       "1           -0.110423         -0.109126         0.001154  \n",
       "2           -0.108659         -0.108947         0.000252  \n",
       "3           -0.109497         -0.108769         0.000689  "
      ]
     },
     "execution_count": 54,
     "metadata": {},
     "output_type": "execute_result"
    }
   ],
   "source": [
    "resultados = pd.DataFrame(clf.cv_results_)\n",
    "resultados"
   ]
  },
  {
   "cell_type": "code",
   "execution_count": null,
   "metadata": {},
   "outputs": [],
   "source": []
  },
  {
   "cell_type": "markdown",
   "metadata": {},
   "source": [
    "# Proceso de selección de hiperparámetros y predicción usando Random Forest"
   ]
  },
  {
   "cell_type": "markdown",
   "metadata": {},
   "source": [
    "## Selección de hiperparámetros,entrenamiento y validación usando Random Forest"
   ]
  },
  {
   "cell_type": "code",
   "execution_count": 60,
   "metadata": {},
   "outputs": [
    {
     "name": "stderr",
     "output_type": "stream",
     "text": [
      "C:\\Users\\licha\\Miniconda3\\envs\\orgadatos\\lib\\site-packages\\sklearn\\model_selection\\_split.py:2053: FutureWarning: You should specify a value for 'cv' instead of relying on the default value. The default value will change from 3 to 5 in version 0.22.\n",
      "  warnings.warn(CV_WARNING, FutureWarning)\n"
     ]
    },
    {
     "data": {
      "text/plain": [
       "GridSearchCV(cv='warn', error_score='raise-deprecating',\n",
       "       estimator=RandomForestClassifier(bootstrap=True, class_weight=None, criterion='gini',\n",
       "            max_depth=None, max_features='log2', max_leaf_nodes=None,\n",
       "            min_impurity_decrease=0.0, min_impurity_split=None,\n",
       "            min_samples_leaf=1, min_samples_split=2,\n",
       "            min_weight_fraction_leaf=0.0, n_estimators='warn', n_jobs=None,\n",
       "            oob_score=False, random_state=None, verbose=0,\n",
       "            warm_start=False),\n",
       "       fit_params=None, iid='warn', n_jobs=None,\n",
       "       param_grid={'n_estimators': [50, 51, 52, 53, 54, 55, 56, 57, 58, 59]},\n",
       "       pre_dispatch='2*n_jobs', refit=True, return_train_score='warn',\n",
       "       scoring='neg_log_loss', verbose=0)"
      ]
     },
     "execution_count": 60,
     "metadata": {},
     "output_type": "execute_result"
    }
   ],
   "source": [
    "parametros = {\n",
    "    'n_estimators': [50,51,52,53,54,55,56,57,58,59]\n",
    "}\n",
    "randomForest = RandomForestClassifier(max_features=\"log2\")\n",
    "#seleccion de hiperparametros\n",
    "clf = GridSearchCV(randomForest, parametros,scoring='neg_log_loss')\n",
    "clf.fit(X_train, y_train)"
   ]
  },
  {
   "cell_type": "code",
   "execution_count": 61,
   "metadata": {},
   "outputs": [],
   "source": [
    "y_validation =clf.predict(X_test)\n",
    "y_validation_probs = clf.predict_proba(X_test)[:,1]"
   ]
  },
  {
   "cell_type": "code",
   "execution_count": 62,
   "metadata": {},
   "outputs": [
    {
     "name": "stdout",
     "output_type": "stream",
     "text": [
      "Resultado:\n",
      " accurancy: 0.8506856272219401\n",
      " log loss: 0.3842819361633716\n"
     ]
    }
   ],
   "source": [
    "print( \"Resultado:\")\n",
    "print( \" accurancy:\" , accuracy_score(y_test, y_validation) )\n",
    "print( \" log loss:\" , log_loss(y_test, y_validation_probs) )"
   ]
  },
  {
   "cell_type": "code",
   "execution_count": 63,
   "metadata": {},
   "outputs": [
    {
     "data": {
      "text/plain": [
       "{'n_estimators': 54}"
      ]
     },
     "execution_count": 63,
     "metadata": {},
     "output_type": "execute_result"
    }
   ],
   "source": [
    "clf.best_params_"
   ]
  },
  {
   "cell_type": "code",
   "execution_count": 64,
   "metadata": {},
   "outputs": [
    {
     "name": "stderr",
     "output_type": "stream",
     "text": [
      "C:\\Users\\licha\\Miniconda3\\envs\\orgadatos\\lib\\site-packages\\sklearn\\utils\\deprecation.py:125: FutureWarning: You are accessing a training score ('split0_train_score'), which will not be available by default any more in 0.21. If you need training scores, please set return_train_score=True\n",
      "  warnings.warn(*warn_args, **warn_kwargs)\n",
      "C:\\Users\\licha\\Miniconda3\\envs\\orgadatos\\lib\\site-packages\\sklearn\\utils\\deprecation.py:125: FutureWarning: You are accessing a training score ('split1_train_score'), which will not be available by default any more in 0.21. If you need training scores, please set return_train_score=True\n",
      "  warnings.warn(*warn_args, **warn_kwargs)\n",
      "C:\\Users\\licha\\Miniconda3\\envs\\orgadatos\\lib\\site-packages\\sklearn\\utils\\deprecation.py:125: FutureWarning: You are accessing a training score ('split2_train_score'), which will not be available by default any more in 0.21. If you need training scores, please set return_train_score=True\n",
      "  warnings.warn(*warn_args, **warn_kwargs)\n",
      "C:\\Users\\licha\\Miniconda3\\envs\\orgadatos\\lib\\site-packages\\sklearn\\utils\\deprecation.py:125: FutureWarning: You are accessing a training score ('mean_train_score'), which will not be available by default any more in 0.21. If you need training scores, please set return_train_score=True\n",
      "  warnings.warn(*warn_args, **warn_kwargs)\n",
      "C:\\Users\\licha\\Miniconda3\\envs\\orgadatos\\lib\\site-packages\\sklearn\\utils\\deprecation.py:125: FutureWarning: You are accessing a training score ('std_train_score'), which will not be available by default any more in 0.21. If you need training scores, please set return_train_score=True\n",
      "  warnings.warn(*warn_args, **warn_kwargs)\n"
     ]
    },
    {
     "data": {
      "text/html": [
       "<div>\n",
       "<style scoped>\n",
       "    .dataframe tbody tr th:only-of-type {\n",
       "        vertical-align: middle;\n",
       "    }\n",
       "\n",
       "    .dataframe tbody tr th {\n",
       "        vertical-align: top;\n",
       "    }\n",
       "\n",
       "    .dataframe thead th {\n",
       "        text-align: right;\n",
       "    }\n",
       "</style>\n",
       "<table border=\"1\" class=\"dataframe\">\n",
       "  <thead>\n",
       "    <tr style=\"text-align: right;\">\n",
       "      <th></th>\n",
       "      <th>mean_fit_time</th>\n",
       "      <th>std_fit_time</th>\n",
       "      <th>mean_score_time</th>\n",
       "      <th>std_score_time</th>\n",
       "      <th>param_n_estimators</th>\n",
       "      <th>params</th>\n",
       "      <th>split0_test_score</th>\n",
       "      <th>split1_test_score</th>\n",
       "      <th>split2_test_score</th>\n",
       "      <th>mean_test_score</th>\n",
       "      <th>std_test_score</th>\n",
       "      <th>rank_test_score</th>\n",
       "      <th>split0_train_score</th>\n",
       "      <th>split1_train_score</th>\n",
       "      <th>split2_train_score</th>\n",
       "      <th>mean_train_score</th>\n",
       "      <th>std_train_score</th>\n",
       "    </tr>\n",
       "  </thead>\n",
       "  <tbody>\n",
       "    <tr>\n",
       "      <th>0</th>\n",
       "      <td>0.428307</td>\n",
       "      <td>0.008311</td>\n",
       "      <td>0.033445</td>\n",
       "      <td>0.003107</td>\n",
       "      <td>50</td>\n",
       "      <td>{'n_estimators': 50}</td>\n",
       "      <td>-0.389516</td>\n",
       "      <td>-0.374270</td>\n",
       "      <td>-0.368458</td>\n",
       "      <td>-0.377417</td>\n",
       "      <td>0.008880</td>\n",
       "      <td>4</td>\n",
       "      <td>-0.109250</td>\n",
       "      <td>-0.107338</td>\n",
       "      <td>-0.109420</td>\n",
       "      <td>-0.108669</td>\n",
       "      <td>0.000944</td>\n",
       "    </tr>\n",
       "    <tr>\n",
       "      <th>1</th>\n",
       "      <td>0.433210</td>\n",
       "      <td>0.014294</td>\n",
       "      <td>0.034057</td>\n",
       "      <td>0.004608</td>\n",
       "      <td>51</td>\n",
       "      <td>{'n_estimators': 51}</td>\n",
       "      <td>-0.394752</td>\n",
       "      <td>-0.374265</td>\n",
       "      <td>-0.376269</td>\n",
       "      <td>-0.381765</td>\n",
       "      <td>0.009223</td>\n",
       "      <td>9</td>\n",
       "      <td>-0.109072</td>\n",
       "      <td>-0.108933</td>\n",
       "      <td>-0.109414</td>\n",
       "      <td>-0.109140</td>\n",
       "      <td>0.000202</td>\n",
       "    </tr>\n",
       "    <tr>\n",
       "      <th>2</th>\n",
       "      <td>0.444143</td>\n",
       "      <td>0.007335</td>\n",
       "      <td>0.033798</td>\n",
       "      <td>0.002841</td>\n",
       "      <td>52</td>\n",
       "      <td>{'n_estimators': 52}</td>\n",
       "      <td>-0.389137</td>\n",
       "      <td>-0.373777</td>\n",
       "      <td>-0.373794</td>\n",
       "      <td>-0.378905</td>\n",
       "      <td>0.007238</td>\n",
       "      <td>5</td>\n",
       "      <td>-0.109462</td>\n",
       "      <td>-0.109076</td>\n",
       "      <td>-0.110270</td>\n",
       "      <td>-0.109603</td>\n",
       "      <td>0.000497</td>\n",
       "    </tr>\n",
       "    <tr>\n",
       "      <th>3</th>\n",
       "      <td>0.447160</td>\n",
       "      <td>0.006376</td>\n",
       "      <td>0.038625</td>\n",
       "      <td>0.006383</td>\n",
       "      <td>53</td>\n",
       "      <td>{'n_estimators': 53}</td>\n",
       "      <td>-0.396254</td>\n",
       "      <td>-0.371145</td>\n",
       "      <td>-0.372723</td>\n",
       "      <td>-0.380043</td>\n",
       "      <td>0.011484</td>\n",
       "      <td>8</td>\n",
       "      <td>-0.109740</td>\n",
       "      <td>-0.108090</td>\n",
       "      <td>-0.109666</td>\n",
       "      <td>-0.109165</td>\n",
       "      <td>0.000761</td>\n",
       "    </tr>\n",
       "    <tr>\n",
       "      <th>4</th>\n",
       "      <td>0.457427</td>\n",
       "      <td>0.016626</td>\n",
       "      <td>0.038678</td>\n",
       "      <td>0.006421</td>\n",
       "      <td>54</td>\n",
       "      <td>{'n_estimators': 54}</td>\n",
       "      <td>-0.379090</td>\n",
       "      <td>-0.371135</td>\n",
       "      <td>-0.372842</td>\n",
       "      <td>-0.374357</td>\n",
       "      <td>0.003420</td>\n",
       "      <td>1</td>\n",
       "      <td>-0.108801</td>\n",
       "      <td>-0.107779</td>\n",
       "      <td>-0.109861</td>\n",
       "      <td>-0.108814</td>\n",
       "      <td>0.000850</td>\n",
       "    </tr>\n",
       "    <tr>\n",
       "      <th>5</th>\n",
       "      <td>0.465115</td>\n",
       "      <td>0.007507</td>\n",
       "      <td>0.036471</td>\n",
       "      <td>0.007385</td>\n",
       "      <td>55</td>\n",
       "      <td>{'n_estimators': 55}</td>\n",
       "      <td>-0.380478</td>\n",
       "      <td>-0.376719</td>\n",
       "      <td>-0.370592</td>\n",
       "      <td>-0.375931</td>\n",
       "      <td>0.004074</td>\n",
       "      <td>2</td>\n",
       "      <td>-0.109363</td>\n",
       "      <td>-0.107859</td>\n",
       "      <td>-0.109478</td>\n",
       "      <td>-0.108900</td>\n",
       "      <td>0.000738</td>\n",
       "    </tr>\n",
       "    <tr>\n",
       "      <th>6</th>\n",
       "      <td>0.460517</td>\n",
       "      <td>0.002921</td>\n",
       "      <td>0.039688</td>\n",
       "      <td>0.001371</td>\n",
       "      <td>56</td>\n",
       "      <td>{'n_estimators': 56}</td>\n",
       "      <td>-0.392967</td>\n",
       "      <td>-0.386162</td>\n",
       "      <td>-0.370925</td>\n",
       "      <td>-0.383354</td>\n",
       "      <td>0.009215</td>\n",
       "      <td>10</td>\n",
       "      <td>-0.109122</td>\n",
       "      <td>-0.108550</td>\n",
       "      <td>-0.110132</td>\n",
       "      <td>-0.109268</td>\n",
       "      <td>0.000654</td>\n",
       "    </tr>\n",
       "    <tr>\n",
       "      <th>7</th>\n",
       "      <td>0.470849</td>\n",
       "      <td>0.003718</td>\n",
       "      <td>0.037166</td>\n",
       "      <td>0.003458</td>\n",
       "      <td>57</td>\n",
       "      <td>{'n_estimators': 57}</td>\n",
       "      <td>-0.397142</td>\n",
       "      <td>-0.369029</td>\n",
       "      <td>-0.371735</td>\n",
       "      <td>-0.379305</td>\n",
       "      <td>0.012665</td>\n",
       "      <td>6</td>\n",
       "      <td>-0.109495</td>\n",
       "      <td>-0.107231</td>\n",
       "      <td>-0.109753</td>\n",
       "      <td>-0.108827</td>\n",
       "      <td>0.001133</td>\n",
       "    </tr>\n",
       "    <tr>\n",
       "      <th>8</th>\n",
       "      <td>0.478845</td>\n",
       "      <td>0.003791</td>\n",
       "      <td>0.037966</td>\n",
       "      <td>0.003794</td>\n",
       "      <td>58</td>\n",
       "      <td>{'n_estimators': 58}</td>\n",
       "      <td>-0.383726</td>\n",
       "      <td>-0.368899</td>\n",
       "      <td>-0.375618</td>\n",
       "      <td>-0.376082</td>\n",
       "      <td>0.006063</td>\n",
       "      <td>3</td>\n",
       "      <td>-0.110121</td>\n",
       "      <td>-0.108195</td>\n",
       "      <td>-0.109060</td>\n",
       "      <td>-0.109125</td>\n",
       "      <td>0.000788</td>\n",
       "    </tr>\n",
       "    <tr>\n",
       "      <th>9</th>\n",
       "      <td>0.622780</td>\n",
       "      <td>0.102154</td>\n",
       "      <td>0.061092</td>\n",
       "      <td>0.009901</td>\n",
       "      <td>59</td>\n",
       "      <td>{'n_estimators': 59}</td>\n",
       "      <td>-0.390033</td>\n",
       "      <td>-0.373740</td>\n",
       "      <td>-0.374990</td>\n",
       "      <td>-0.379590</td>\n",
       "      <td>0.007404</td>\n",
       "      <td>7</td>\n",
       "      <td>-0.108790</td>\n",
       "      <td>-0.108421</td>\n",
       "      <td>-0.109959</td>\n",
       "      <td>-0.109057</td>\n",
       "      <td>0.000656</td>\n",
       "    </tr>\n",
       "  </tbody>\n",
       "</table>\n",
       "</div>"
      ],
      "text/plain": [
       "   mean_fit_time  std_fit_time  mean_score_time  std_score_time  \\\n",
       "0       0.428307      0.008311         0.033445        0.003107   \n",
       "1       0.433210      0.014294         0.034057        0.004608   \n",
       "2       0.444143      0.007335         0.033798        0.002841   \n",
       "3       0.447160      0.006376         0.038625        0.006383   \n",
       "4       0.457427      0.016626         0.038678        0.006421   \n",
       "5       0.465115      0.007507         0.036471        0.007385   \n",
       "6       0.460517      0.002921         0.039688        0.001371   \n",
       "7       0.470849      0.003718         0.037166        0.003458   \n",
       "8       0.478845      0.003791         0.037966        0.003794   \n",
       "9       0.622780      0.102154         0.061092        0.009901   \n",
       "\n",
       "  param_n_estimators                params  split0_test_score  \\\n",
       "0                 50  {'n_estimators': 50}          -0.389516   \n",
       "1                 51  {'n_estimators': 51}          -0.394752   \n",
       "2                 52  {'n_estimators': 52}          -0.389137   \n",
       "3                 53  {'n_estimators': 53}          -0.396254   \n",
       "4                 54  {'n_estimators': 54}          -0.379090   \n",
       "5                 55  {'n_estimators': 55}          -0.380478   \n",
       "6                 56  {'n_estimators': 56}          -0.392967   \n",
       "7                 57  {'n_estimators': 57}          -0.397142   \n",
       "8                 58  {'n_estimators': 58}          -0.383726   \n",
       "9                 59  {'n_estimators': 59}          -0.390033   \n",
       "\n",
       "   split1_test_score  split2_test_score  mean_test_score  std_test_score  \\\n",
       "0          -0.374270          -0.368458        -0.377417        0.008880   \n",
       "1          -0.374265          -0.376269        -0.381765        0.009223   \n",
       "2          -0.373777          -0.373794        -0.378905        0.007238   \n",
       "3          -0.371145          -0.372723        -0.380043        0.011484   \n",
       "4          -0.371135          -0.372842        -0.374357        0.003420   \n",
       "5          -0.376719          -0.370592        -0.375931        0.004074   \n",
       "6          -0.386162          -0.370925        -0.383354        0.009215   \n",
       "7          -0.369029          -0.371735        -0.379305        0.012665   \n",
       "8          -0.368899          -0.375618        -0.376082        0.006063   \n",
       "9          -0.373740          -0.374990        -0.379590        0.007404   \n",
       "\n",
       "   rank_test_score  split0_train_score  split1_train_score  \\\n",
       "0                4           -0.109250           -0.107338   \n",
       "1                9           -0.109072           -0.108933   \n",
       "2                5           -0.109462           -0.109076   \n",
       "3                8           -0.109740           -0.108090   \n",
       "4                1           -0.108801           -0.107779   \n",
       "5                2           -0.109363           -0.107859   \n",
       "6               10           -0.109122           -0.108550   \n",
       "7                6           -0.109495           -0.107231   \n",
       "8                3           -0.110121           -0.108195   \n",
       "9                7           -0.108790           -0.108421   \n",
       "\n",
       "   split2_train_score  mean_train_score  std_train_score  \n",
       "0           -0.109420         -0.108669         0.000944  \n",
       "1           -0.109414         -0.109140         0.000202  \n",
       "2           -0.110270         -0.109603         0.000497  \n",
       "3           -0.109666         -0.109165         0.000761  \n",
       "4           -0.109861         -0.108814         0.000850  \n",
       "5           -0.109478         -0.108900         0.000738  \n",
       "6           -0.110132         -0.109268         0.000654  \n",
       "7           -0.109753         -0.108827         0.001133  \n",
       "8           -0.109060         -0.109125         0.000788  \n",
       "9           -0.109959         -0.109057         0.000656  "
      ]
     },
     "execution_count": 64,
     "metadata": {},
     "output_type": "execute_result"
    }
   ],
   "source": [
    "resultados = pd.DataFrame(clf.cv_results_)\n",
    "resultados"
   ]
  },
  {
   "cell_type": "code",
   "execution_count": null,
   "metadata": {},
   "outputs": [],
   "source": []
  },
  {
   "cell_type": "markdown",
   "metadata": {},
   "source": [
    "# Ver si pongo esto de ensamble o no lo pongo"
   ]
  },
  {
   "cell_type": "code",
   "execution_count": 245,
   "metadata": {},
   "outputs": [],
   "source": [
    "from sklearn.ensemble import VotingClassifier\n",
    "from sklearn.linear_model import LogisticRegression\n",
    "from sklearn.neural_network import MLPClassifier"
   ]
  },
  {
   "cell_type": "code",
   "execution_count": 246,
   "metadata": {},
   "outputs": [],
   "source": [
    "decisionTree = tree.DecisionTreeClassifier(class_weight=None,max_depth=5,min_samples_leaf=1,min_samples_split=3)"
   ]
  },
  {
   "cell_type": "code",
   "execution_count": 247,
   "metadata": {},
   "outputs": [],
   "source": [
    "randomForest = RandomForestClassifier(class_weight='balanced',max_depth=None,min_samples_leaf=2,min_samples_split=2,n_estimators=100)"
   ]
  },
  {
   "cell_type": "code",
   "execution_count": 248,
   "metadata": {},
   "outputs": [],
   "source": [
    "logisticRegression = LogisticRegression(class_weight=None, max_iter=50)"
   ]
  },
  {
   "cell_type": "code",
   "execution_count": 249,
   "metadata": {},
   "outputs": [],
   "source": [
    "multiLayerPerceptron = MLPClassifier(random_state=1,activation='tanh', hidden_layer_sizes=(200, 200, 200, 200))\n"
   ]
  },
  {
   "cell_type": "code",
   "execution_count": 250,
   "metadata": {},
   "outputs": [],
   "source": [
    "eclf = VotingClassifier(estimators=[('lr',logisticRegression),('mlp', multiLayerPerceptron),('dt', decisionTree), ('rf',randomForest)], voting='soft')"
   ]
  },
  {
   "cell_type": "code",
   "execution_count": 251,
   "metadata": {},
   "outputs": [
    {
     "name": "stderr",
     "output_type": "stream",
     "text": [
      "C:\\Users\\licha\\Miniconda3\\envs\\orgadatos\\lib\\site-packages\\sklearn\\linear_model\\logistic.py:433: FutureWarning: Default solver will be changed to 'lbfgs' in 0.22. Specify a solver to silence this warning.\n",
      "  FutureWarning)\n"
     ]
    }
   ],
   "source": [
    "eclf = eclf.fit(X_train, y_train)"
   ]
  },
  {
   "cell_type": "code",
   "execution_count": 252,
   "metadata": {},
   "outputs": [],
   "source": [
    "y_validation =eclf.predict(X_test)\n",
    "y_validation_probs = clf.predict_proba(X_test)[:,1]"
   ]
  },
  {
   "cell_type": "code",
   "execution_count": 253,
   "metadata": {},
   "outputs": [
    {
     "name": "stdout",
     "output_type": "stream",
     "text": [
      "Resultado:\n",
      " accurancy: 0.8146267140680549\n",
      " log loss: 0.38178982361429065\n"
     ]
    }
   ],
   "source": [
    "print( \"Resultado:\")\n",
    "print( \" accurancy:\" , accuracy_score(y_test, y_validation) )\n",
    "print( \" log loss:\" , log_loss(y_test, y_validation_probs) )"
   ]
  },
  {
   "cell_type": "code",
   "execution_count": null,
   "metadata": {},
   "outputs": [],
   "source": []
  }
 ],
 "metadata": {
  "kernelspec": {
   "display_name": "Python 3",
   "language": "python",
   "name": "python3"
  },
  "language_info": {
   "codemirror_mode": {
    "name": "ipython",
    "version": 3
   },
   "file_extension": ".py",
   "mimetype": "text/x-python",
   "name": "python",
   "nbconvert_exporter": "python",
   "pygments_lexer": "ipython3",
   "version": "3.7.9"
  }
 },
 "nbformat": 4,
 "nbformat_minor": 4
}
