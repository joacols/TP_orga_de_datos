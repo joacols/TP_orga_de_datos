{
  "nbformat": 4,
  "nbformat_minor": 0,
  "metadata": {
    "kernelspec": {
      "display_name": "Python 3",
      "language": "python",
      "name": "python3"
    },
    "language_info": {
      "codemirror_mode": {
        "name": "ipython",
        "version": 3
      },
      "file_extension": ".py",
      "mimetype": "text/x-python",
      "name": "python",
      "nbconvert_exporter": "python",
      "pygments_lexer": "ipython3",
      "version": "3.8.5"
    },
    "colab": {
      "name": "Análisis exploratorio general TP1 2 Cuat 2020.ipynb",
      "provenance": [],
      "collapsed_sections": [
        "KKOwvkDFlkRy",
        "r-5V6vLclaoA",
        "6HJFQ0Q1laoC",
        "1xd4wWjdlaob",
        "TOxtHB3plaof",
        "BKbc7szGlapE",
        "syZZRtzYlapF",
        "NUbaLCo2lapF",
        "agbpyLPdlapc",
        "mcn9ywcwlaqD"
      ]
    }
  },
  "cells": [
    {
      "cell_type": "code",
      "metadata": {
        "id": "1mte2sJjlakO"
      },
      "source": [
        "import pandas as pd\n",
        "import numpy as np\n",
        "import matplotlib.pyplot as plt\n",
        "from matplotlib.legend import Legend\n",
        "import matplotlib.patches as mpatches\n",
        "import seaborn as sns\n",
        "#from statsmodels.graphics.mosaicplot import mosaic\n",
        "import io\n",
        "import requests\n",
        "\n",
        "%matplotlib inline"
      ],
      "execution_count": 2,
      "outputs": []
    },
    {
      "cell_type": "markdown",
      "metadata": {
        "id": "xhYO6aqYlakk"
      },
      "source": [
        "# Análisis exploratorio"
      ]
    },
    {
      "cell_type": "markdown",
      "metadata": {
        "id": "Cr95k_UVlakl"
      },
      "source": [
        "## Lectura de datos del CSV y seteo del tipo para cada columna"
      ]
    },
    {
      "cell_type": "code",
      "metadata": {
        "id": "uCW11AdElakn",
        "outputId": "aa41c8d3-c5b1-4d07-8cf7-7f04df43b55c",
        "colab": {
          "base_uri": "https://localhost:8080/",
          "height": 326
        }
      },
      "source": [
        "url=\"https://raw.githubusercontent.com/joacols/TP_orga_de_datos/main/Entrenamieto_ECI_2020.csv\"\n",
        "s=requests.get(url).content\n",
        "df=pd.read_csv(io.StringIO(s.decode('utf-8')),\n",
        "\n",
        "#df = pd.read_csv('Entrenamieto_ECI_2020.csv',\n",
        "dtype={\n",
        "'ID': np.int64,\n",
        "'Pricing, Delivery_Terms_Quote_Approval': np.int64,\n",
        "'Pricing, Delivery_Terms_Approved': np.int64,\n",
        "'Bureaucratic_Code_0_Approval': np.int64,\n",
        "'Bureaucratic_Code_0_Approved': np.int64,\n",
        "'Submitted_for_Approval': np.int64,\n",
        "'Opportunity_ID': np.int64,\n",
        "#'Sales_Contract_No': np.int64,\n",
        "'Delivery_Year': np.int64,\n",
        "'Total_Power': np.int64,\n",
        "#'Price':np.float64,\n",
        "'ASP':np.float64,\n",
        "'ASP_(converted)':np.float64,\n",
        "'Total_Amount':np.float64},\n",
        "parse_dates=[\n",
        "'Account_Created_Date',\n",
        "'Planned_Delivery_Start_Date',\n",
        "'Planned_Delivery_End_Date',\n",
        "'Opportunity_Created_Date',\n",
        "'Last_Activity',\n",
        "'Quote_Expiry_Date',\n",
        "'Actual_Delivery_Date',\n",
        "'Last_Modified_Date'\n",
        "])\n",
        "\n",
        "df.head()"
      ],
      "execution_count": 15,
      "outputs": [
        {
          "output_type": "execute_result",
          "data": {
            "text/html": [
              "<div>\n",
              "<style scoped>\n",
              "    .dataframe tbody tr th:only-of-type {\n",
              "        vertical-align: middle;\n",
              "    }\n",
              "\n",
              "    .dataframe tbody tr th {\n",
              "        vertical-align: top;\n",
              "    }\n",
              "\n",
              "    .dataframe thead th {\n",
              "        text-align: right;\n",
              "    }\n",
              "</style>\n",
              "<table border=\"1\" class=\"dataframe\">\n",
              "  <thead>\n",
              "    <tr style=\"text-align: right;\">\n",
              "      <th></th>\n",
              "      <th>ID</th>\n",
              "      <th>Region</th>\n",
              "      <th>Territory</th>\n",
              "      <th>Pricing, Delivery_Terms_Quote_Appr</th>\n",
              "      <th>Pricing, Delivery_Terms_Approved</th>\n",
              "      <th>Bureaucratic_Code_0_Approval</th>\n",
              "      <th>Bureaucratic_Code_0_Approved</th>\n",
              "      <th>Submitted_for_Approval</th>\n",
              "      <th>Bureaucratic_Code</th>\n",
              "      <th>Account_Created_Date</th>\n",
              "      <th>Source</th>\n",
              "      <th>Billing_Country</th>\n",
              "      <th>Account_Name</th>\n",
              "      <th>Opportunity_Name</th>\n",
              "      <th>Opportunity_ID</th>\n",
              "      <th>Sales_Contract_No</th>\n",
              "      <th>Account_Owner</th>\n",
              "      <th>Opportunity_Owner</th>\n",
              "      <th>Account_Type</th>\n",
              "      <th>Opportunity_Type</th>\n",
              "      <th>Quote_Type</th>\n",
              "      <th>Delivery_Terms</th>\n",
              "      <th>Opportunity_Created_Date</th>\n",
              "      <th>Brand</th>\n",
              "      <th>Product_Type</th>\n",
              "      <th>Size</th>\n",
              "      <th>Product_Category_B</th>\n",
              "      <th>Price</th>\n",
              "      <th>Currency</th>\n",
              "      <th>Last_Activity</th>\n",
              "      <th>Quote_Expiry_Date</th>\n",
              "      <th>Last_Modified_Date</th>\n",
              "      <th>Last_Modified_By</th>\n",
              "      <th>Product_Family</th>\n",
              "      <th>Product_Name</th>\n",
              "      <th>ASP_Currency</th>\n",
              "      <th>ASP</th>\n",
              "      <th>ASP_(converted)_Currency</th>\n",
              "      <th>ASP_(converted)</th>\n",
              "      <th>Planned_Delivery_Start_Date</th>\n",
              "      <th>Planned_Delivery_End_Date</th>\n",
              "      <th>Month</th>\n",
              "      <th>Delivery_Quarter</th>\n",
              "      <th>Delivery_Year</th>\n",
              "      <th>Actual_Delivery_Date</th>\n",
              "      <th>TRF</th>\n",
              "      <th>Total_Amount_Currency</th>\n",
              "      <th>Total_Amount</th>\n",
              "      <th>Total_Taxable_Amount_Currency</th>\n",
              "      <th>Total_Taxable_Amount</th>\n",
              "      <th>Stage</th>\n",
              "      <th>Prod_Category_A</th>\n",
              "    </tr>\n",
              "  </thead>\n",
              "  <tbody>\n",
              "    <tr>\n",
              "      <th>0</th>\n",
              "      <td>27761</td>\n",
              "      <td>EMEA</td>\n",
              "      <td>None</td>\n",
              "      <td>1</td>\n",
              "      <td>1</td>\n",
              "      <td>1</td>\n",
              "      <td>1</td>\n",
              "      <td>0</td>\n",
              "      <td>Bureaucratic_Code_4</td>\n",
              "      <td>2015-06-16</td>\n",
              "      <td>None</td>\n",
              "      <td>Netherlands</td>\n",
              "      <td>Account_Name_619</td>\n",
              "      <td>Opportunity_Name_12598</td>\n",
              "      <td>0</td>\n",
              "      <td>None</td>\n",
              "      <td>Person_Name_51</td>\n",
              "      <td>Person_Name_18</td>\n",
              "      <td>Account_Type_2</td>\n",
              "      <td>Opportunity_Type_1</td>\n",
              "      <td>Non Binding</td>\n",
              "      <td>Delivery_Terms_2</td>\n",
              "      <td>2015-12-07</td>\n",
              "      <td>None</td>\n",
              "      <td>None</td>\n",
              "      <td>None</td>\n",
              "      <td>None</td>\n",
              "      <td>None</td>\n",
              "      <td>None</td>\n",
              "      <td>NaT</td>\n",
              "      <td>2016-01-30</td>\n",
              "      <td>2016-06-13</td>\n",
              "      <td>Person_Name_18</td>\n",
              "      <td>Product_Family_77</td>\n",
              "      <td>Product_Name_99</td>\n",
              "      <td>EUR</td>\n",
              "      <td>0.52</td>\n",
              "      <td>USD</td>\n",
              "      <td>0.58817</td>\n",
              "      <td>2016-05-01</td>\n",
              "      <td>2016-06-30</td>\n",
              "      <td>2016 - 5</td>\n",
              "      <td>Q2</td>\n",
              "      <td>2016</td>\n",
              "      <td>NaT</td>\n",
              "      <td>10</td>\n",
              "      <td>EUR</td>\n",
              "      <td>5272800.0</td>\n",
              "      <td>EUR</td>\n",
              "      <td>5272800.0</td>\n",
              "      <td>Closed Lost</td>\n",
              "      <td>Prod_Category_A_None</td>\n",
              "    </tr>\n",
              "    <tr>\n",
              "      <th>1</th>\n",
              "      <td>27760</td>\n",
              "      <td>EMEA</td>\n",
              "      <td>None</td>\n",
              "      <td>0</td>\n",
              "      <td>0</td>\n",
              "      <td>0</td>\n",
              "      <td>0</td>\n",
              "      <td>0</td>\n",
              "      <td>Bureaucratic_Code_4</td>\n",
              "      <td>2015-06-16</td>\n",
              "      <td>None</td>\n",
              "      <td>Netherlands</td>\n",
              "      <td>Account_Name_619</td>\n",
              "      <td>Opportunity_Name_12600</td>\n",
              "      <td>1</td>\n",
              "      <td>39</td>\n",
              "      <td>Person_Name_51</td>\n",
              "      <td>Person_Name_20</td>\n",
              "      <td>Account_Type_2</td>\n",
              "      <td>Opportunity_Type_1</td>\n",
              "      <td>Non Binding</td>\n",
              "      <td>Delivery_Terms_2</td>\n",
              "      <td>2015-12-07</td>\n",
              "      <td>None</td>\n",
              "      <td>None</td>\n",
              "      <td>None</td>\n",
              "      <td>None</td>\n",
              "      <td>None</td>\n",
              "      <td>None</td>\n",
              "      <td>NaT</td>\n",
              "      <td>2016-01-20</td>\n",
              "      <td>2016-01-15</td>\n",
              "      <td>Person_Name_20</td>\n",
              "      <td>Product_Family_77</td>\n",
              "      <td>Product_Name_100</td>\n",
              "      <td>EUR</td>\n",
              "      <td>0.53</td>\n",
              "      <td>USD</td>\n",
              "      <td>0.59948</td>\n",
              "      <td>2016-01-18</td>\n",
              "      <td>2016-01-20</td>\n",
              "      <td>2016 - 1</td>\n",
              "      <td>Q1</td>\n",
              "      <td>2016</td>\n",
              "      <td>NaT</td>\n",
              "      <td>0</td>\n",
              "      <td>EUR</td>\n",
              "      <td>48230.0</td>\n",
              "      <td>EUR</td>\n",
              "      <td>48230.0</td>\n",
              "      <td>Closed Won</td>\n",
              "      <td>Prod_Category_A_None</td>\n",
              "    </tr>\n",
              "    <tr>\n",
              "      <th>2</th>\n",
              "      <td>27446</td>\n",
              "      <td>Americas</td>\n",
              "      <td>NW America</td>\n",
              "      <td>0</td>\n",
              "      <td>0</td>\n",
              "      <td>0</td>\n",
              "      <td>0</td>\n",
              "      <td>0</td>\n",
              "      <td>Bureaucratic_Code_4</td>\n",
              "      <td>2015-04-21</td>\n",
              "      <td>Source_7</td>\n",
              "      <td>United States</td>\n",
              "      <td>Account_Name_1794</td>\n",
              "      <td>Opportunity_Name_469</td>\n",
              "      <td>2</td>\n",
              "      <td>760</td>\n",
              "      <td>Person_Name_64</td>\n",
              "      <td>Person_Name_8</td>\n",
              "      <td>Account_Type_5</td>\n",
              "      <td>Opportunity_Type_1</td>\n",
              "      <td>Non Binding</td>\n",
              "      <td>Delivery_Terms_4</td>\n",
              "      <td>2015-12-08</td>\n",
              "      <td>None</td>\n",
              "      <td>None</td>\n",
              "      <td>None</td>\n",
              "      <td>None</td>\n",
              "      <td>None</td>\n",
              "      <td>None</td>\n",
              "      <td>NaT</td>\n",
              "      <td>2016-09-30</td>\n",
              "      <td>2016-09-29</td>\n",
              "      <td>Person_Name_8</td>\n",
              "      <td>Product_Family_81</td>\n",
              "      <td>Product_Name_91</td>\n",
              "      <td>USD</td>\n",
              "      <td>0.48</td>\n",
              "      <td>USD</td>\n",
              "      <td>0.48000</td>\n",
              "      <td>2016-01-25</td>\n",
              "      <td>2016-01-25</td>\n",
              "      <td>2016 - 1</td>\n",
              "      <td>Q1</td>\n",
              "      <td>2016</td>\n",
              "      <td>NaT</td>\n",
              "      <td>0</td>\n",
              "      <td>USD</td>\n",
              "      <td>83865.6</td>\n",
              "      <td>USD</td>\n",
              "      <td>83865.6</td>\n",
              "      <td>Closed Won</td>\n",
              "      <td>Prod_Category_A_None</td>\n",
              "    </tr>\n",
              "    <tr>\n",
              "      <th>3</th>\n",
              "      <td>16808</td>\n",
              "      <td>Americas</td>\n",
              "      <td>NW America</td>\n",
              "      <td>1</td>\n",
              "      <td>0</td>\n",
              "      <td>1</td>\n",
              "      <td>0</td>\n",
              "      <td>0</td>\n",
              "      <td>Bureaucratic_Code_5</td>\n",
              "      <td>2013-07-27</td>\n",
              "      <td>Source_11</td>\n",
              "      <td>United States</td>\n",
              "      <td>Account_Name_1201</td>\n",
              "      <td>Opportunity_Name_415</td>\n",
              "      <td>3</td>\n",
              "      <td>None</td>\n",
              "      <td>Person_Name_8</td>\n",
              "      <td>Person_Name_8</td>\n",
              "      <td>Account_Type_5</td>\n",
              "      <td>Opportunity_Type_19</td>\n",
              "      <td>Non Binding</td>\n",
              "      <td>Delivery_Terms_1</td>\n",
              "      <td>2015-12-08</td>\n",
              "      <td>Other</td>\n",
              "      <td>Product_Type_0</td>\n",
              "      <td>Size_4</td>\n",
              "      <td>Product_Category_B_16</td>\n",
              "      <td>0.42</td>\n",
              "      <td>USD</td>\n",
              "      <td>NaT</td>\n",
              "      <td>NaT</td>\n",
              "      <td>2018-03-27</td>\n",
              "      <td>Person_Name_8</td>\n",
              "      <td>Product_Family_209</td>\n",
              "      <td>Product_Name_432</td>\n",
              "      <td>USD</td>\n",
              "      <td>0.53</td>\n",
              "      <td>USD</td>\n",
              "      <td>0.53000</td>\n",
              "      <td>2018-02-01</td>\n",
              "      <td>2018-03-31</td>\n",
              "      <td>2018 - 2</td>\n",
              "      <td>Q1</td>\n",
              "      <td>2018</td>\n",
              "      <td>NaT</td>\n",
              "      <td>14</td>\n",
              "      <td>USD</td>\n",
              "      <td>7421881.5</td>\n",
              "      <td>USD</td>\n",
              "      <td>7421881.5</td>\n",
              "      <td>Closed Lost</td>\n",
              "      <td>Prod_Category_A_None</td>\n",
              "    </tr>\n",
              "    <tr>\n",
              "      <th>4</th>\n",
              "      <td>16805</td>\n",
              "      <td>Americas</td>\n",
              "      <td>NW America</td>\n",
              "      <td>1</td>\n",
              "      <td>0</td>\n",
              "      <td>1</td>\n",
              "      <td>0</td>\n",
              "      <td>0</td>\n",
              "      <td>Bureaucratic_Code_5</td>\n",
              "      <td>2013-07-27</td>\n",
              "      <td>Source_11</td>\n",
              "      <td>United States</td>\n",
              "      <td>Account_Name_1201</td>\n",
              "      <td>Opportunity_Name_851</td>\n",
              "      <td>4</td>\n",
              "      <td>None</td>\n",
              "      <td>Person_Name_8</td>\n",
              "      <td>Person_Name_8</td>\n",
              "      <td>Account_Type_5</td>\n",
              "      <td>Opportunity_Type_19</td>\n",
              "      <td>Non Binding</td>\n",
              "      <td>Delivery_Terms_1</td>\n",
              "      <td>2015-12-08</td>\n",
              "      <td>Other</td>\n",
              "      <td>Product_Type_0</td>\n",
              "      <td>Size_4</td>\n",
              "      <td>Product_Category_B_16</td>\n",
              "      <td>0.42</td>\n",
              "      <td>USD</td>\n",
              "      <td>NaT</td>\n",
              "      <td>2017-06-02</td>\n",
              "      <td>2018-03-27</td>\n",
              "      <td>Person_Name_8</td>\n",
              "      <td>Product_Family_209</td>\n",
              "      <td>Product_Name_432</td>\n",
              "      <td>USD</td>\n",
              "      <td>0.53</td>\n",
              "      <td>USD</td>\n",
              "      <td>0.53000</td>\n",
              "      <td>2018-02-01</td>\n",
              "      <td>2018-02-28</td>\n",
              "      <td>2018 - 2</td>\n",
              "      <td>Q1</td>\n",
              "      <td>2018</td>\n",
              "      <td>NaT</td>\n",
              "      <td>25</td>\n",
              "      <td>USD</td>\n",
              "      <td>13357192.5</td>\n",
              "      <td>USD</td>\n",
              "      <td>13357192.5</td>\n",
              "      <td>Closed Lost</td>\n",
              "      <td>Prod_Category_A_None</td>\n",
              "    </tr>\n",
              "  </tbody>\n",
              "</table>\n",
              "</div>"
            ],
            "text/plain": [
              "      ID    Region  ...        Stage       Prod_Category_A\n",
              "0  27761      EMEA  ...  Closed Lost  Prod_Category_A_None\n",
              "1  27760      EMEA  ...   Closed Won  Prod_Category_A_None\n",
              "2  27446  Americas  ...   Closed Won  Prod_Category_A_None\n",
              "3  16808  Americas  ...  Closed Lost  Prod_Category_A_None\n",
              "4  16805  Americas  ...  Closed Lost  Prod_Category_A_None\n",
              "\n",
              "[5 rows x 52 columns]"
            ]
          },
          "metadata": {
            "tags": []
          },
          "execution_count": 15
        }
      ]
    },
    {
      "cell_type": "code",
      "metadata": {
        "id": "S94VBlzvlakv"
      },
      "source": [
        "#df[df['Last_Activity']!='NaT']"
      ],
      "execution_count": null,
      "outputs": []
    },
    {
      "cell_type": "code",
      "metadata": {
        "id": "CShXiP4zlak3",
        "outputId": "a5104e2b-8d06-49e7-9580-a475159d6b85"
      },
      "source": [
        "df['Price'].head()"
      ],
      "execution_count": null,
      "outputs": [
        {
          "output_type": "execute_result",
          "data": {
            "text/plain": [
              "0    None\n",
              "1    None\n",
              "2    None\n",
              "3    0.42\n",
              "4    0.42\n",
              "Name: Price, dtype: object"
            ]
          },
          "metadata": {
            "tags": []
          },
          "execution_count": 6
        }
      ]
    },
    {
      "cell_type": "code",
      "metadata": {
        "id": "l6ajopIElak9",
        "outputId": "943ff54d-ffc9-4d1e-b0ea-3d84329acda9"
      },
      "source": [
        "df['Sales_Contract_No'].head()\n"
      ],
      "execution_count": null,
      "outputs": [
        {
          "output_type": "execute_result",
          "data": {
            "text/plain": [
              "0    None\n",
              "1      39\n",
              "2     760\n",
              "3    None\n",
              "4    None\n",
              "Name: Sales_Contract_No, dtype: object"
            ]
          },
          "metadata": {
            "tags": []
          },
          "execution_count": 7
        }
      ]
    },
    {
      "cell_type": "code",
      "metadata": {
        "id": "SBrEsvlOlalE",
        "outputId": "7e62c75f-7f11-4c34-d402-efe17a4923a0"
      },
      "source": [
        "df['Price'].replace('None',np.NaN,inplace=True)\n",
        "df['Price'].replace('Other',np.NaN,inplace=True)\n",
        "\n",
        "#df.loc[df['Price'] =='None'] = np.NaN\n",
        "df['Price'].head()"
      ],
      "execution_count": null,
      "outputs": [
        {
          "output_type": "execute_result",
          "data": {
            "text/plain": [
              "0     NaN\n",
              "1     NaN\n",
              "2     NaN\n",
              "3    0.42\n",
              "4    0.42\n",
              "Name: Price, dtype: object"
            ]
          },
          "metadata": {
            "tags": []
          },
          "execution_count": 8
        }
      ]
    },
    {
      "cell_type": "code",
      "metadata": {
        "id": "oQM1lH7YlalL",
        "outputId": "7745c640-baf2-4af4-8c44-c4a44dc03d27"
      },
      "source": [
        "df['Sales_Contract_No'].replace('None',np.NaN,inplace=True)\n",
        "df['Sales_Contract_No'].replace('Other',np.NaN,inplace=True)\n",
        "df['Sales_Contract_No'].head()"
      ],
      "execution_count": null,
      "outputs": [
        {
          "output_type": "execute_result",
          "data": {
            "text/plain": [
              "0    NaN\n",
              "1     39\n",
              "2    760\n",
              "3    NaN\n",
              "4    NaN\n",
              "Name: Sales_Contract_No, dtype: object"
            ]
          },
          "metadata": {
            "tags": []
          },
          "execution_count": 9
        }
      ]
    },
    {
      "cell_type": "code",
      "metadata": {
        "id": "avf1klaAlalS"
      },
      "source": [
        "df = df.astype({\"Price\": np.float64, \"Sales_Contract_No\": np.float64})"
      ],
      "execution_count": null,
      "outputs": []
    },
    {
      "cell_type": "code",
      "metadata": {
        "id": "z22b6lO1lalb",
        "outputId": "36a9c87c-0986-4870-ec0b-02dae904cb1c"
      },
      "source": [
        "df[['Month','Delivery_Year']].head()"
      ],
      "execution_count": null,
      "outputs": [
        {
          "output_type": "execute_result",
          "data": {
            "text/html": [
              "<div>\n",
              "<style scoped>\n",
              "    .dataframe tbody tr th:only-of-type {\n",
              "        vertical-align: middle;\n",
              "    }\n",
              "\n",
              "    .dataframe tbody tr th {\n",
              "        vertical-align: top;\n",
              "    }\n",
              "\n",
              "    .dataframe thead th {\n",
              "        text-align: right;\n",
              "    }\n",
              "</style>\n",
              "<table border=\"1\" class=\"dataframe\">\n",
              "  <thead>\n",
              "    <tr style=\"text-align: right;\">\n",
              "      <th></th>\n",
              "      <th>Month</th>\n",
              "      <th>Delivery_Year</th>\n",
              "    </tr>\n",
              "  </thead>\n",
              "  <tbody>\n",
              "    <tr>\n",
              "      <th>0</th>\n",
              "      <td>2016 - 5</td>\n",
              "      <td>2016</td>\n",
              "    </tr>\n",
              "    <tr>\n",
              "      <th>1</th>\n",
              "      <td>2016 - 1</td>\n",
              "      <td>2016</td>\n",
              "    </tr>\n",
              "    <tr>\n",
              "      <th>2</th>\n",
              "      <td>2016 - 1</td>\n",
              "      <td>2016</td>\n",
              "    </tr>\n",
              "    <tr>\n",
              "      <th>3</th>\n",
              "      <td>2018 - 2</td>\n",
              "      <td>2018</td>\n",
              "    </tr>\n",
              "    <tr>\n",
              "      <th>4</th>\n",
              "      <td>2018 - 2</td>\n",
              "      <td>2018</td>\n",
              "    </tr>\n",
              "  </tbody>\n",
              "</table>\n",
              "</div>"
            ],
            "text/plain": [
              "      Month  Delivery_Year\n",
              "0  2016 - 5           2016\n",
              "1  2016 - 1           2016\n",
              "2  2016 - 1           2016\n",
              "3  2018 - 2           2018\n",
              "4  2018 - 2           2018"
            ]
          },
          "metadata": {
            "tags": []
          },
          "execution_count": 11
        }
      ]
    },
    {
      "cell_type": "code",
      "metadata": {
        "id": "E3UNe7qxlalh",
        "outputId": "ec93fba0-098b-427e-dead-aee0e3027bc1"
      },
      "source": [
        "df['Month'].head()"
      ],
      "execution_count": null,
      "outputs": [
        {
          "output_type": "execute_result",
          "data": {
            "text/plain": [
              "0    2016 - 5\n",
              "1    2016 - 1\n",
              "2    2016 - 1\n",
              "3    2018 - 2\n",
              "4    2018 - 2\n",
              "Name: Month, dtype: object"
            ]
          },
          "metadata": {
            "tags": []
          },
          "execution_count": 12
        }
      ]
    },
    {
      "cell_type": "code",
      "metadata": {
        "id": "ZnGqbbh8lalo",
        "outputId": "bebe8c45-52e3-4e4a-aa3a-12adb920561f"
      },
      "source": [
        "df[\"Delivery_Month\"] = df['Month'].map(lambda x: x.split('-')[1])\n",
        "df = df.astype({\"Delivery_Month\": np.int8})\n",
        "\n",
        "df[\"Delivery_Month\"].head()"
      ],
      "execution_count": null,
      "outputs": [
        {
          "output_type": "execute_result",
          "data": {
            "text/plain": [
              "0    5\n",
              "1    1\n",
              "2    1\n",
              "3    2\n",
              "4    2\n",
              "Name: Delivery_Month, dtype: int8"
            ]
          },
          "metadata": {
            "tags": []
          },
          "execution_count": 13
        }
      ]
    },
    {
      "cell_type": "code",
      "metadata": {
        "id": "snq_dLW4lalu",
        "outputId": "6caa4e4a-0732-4d7f-8cb1-f8de24fcb2a7"
      },
      "source": [
        "df.head()"
      ],
      "execution_count": null,
      "outputs": [
        {
          "output_type": "execute_result",
          "data": {
            "text/html": [
              "<div>\n",
              "<style scoped>\n",
              "    .dataframe tbody tr th:only-of-type {\n",
              "        vertical-align: middle;\n",
              "    }\n",
              "\n",
              "    .dataframe tbody tr th {\n",
              "        vertical-align: top;\n",
              "    }\n",
              "\n",
              "    .dataframe thead th {\n",
              "        text-align: right;\n",
              "    }\n",
              "</style>\n",
              "<table border=\"1\" class=\"dataframe\">\n",
              "  <thead>\n",
              "    <tr style=\"text-align: right;\">\n",
              "      <th></th>\n",
              "      <th>ID</th>\n",
              "      <th>Region</th>\n",
              "      <th>Territory</th>\n",
              "      <th>Pricing, Delivery_Terms_Quote_Appr</th>\n",
              "      <th>Pricing, Delivery_Terms_Approved</th>\n",
              "      <th>Bureaucratic_Code_0_Approval</th>\n",
              "      <th>Bureaucratic_Code_0_Approved</th>\n",
              "      <th>Submitted_for_Approval</th>\n",
              "      <th>Bureaucratic_Code</th>\n",
              "      <th>Account_Created_Date</th>\n",
              "      <th>...</th>\n",
              "      <th>Delivery_Year</th>\n",
              "      <th>Actual_Delivery_Date</th>\n",
              "      <th>TRF</th>\n",
              "      <th>Total_Amount_Currency</th>\n",
              "      <th>Total_Amount</th>\n",
              "      <th>Total_Taxable_Amount_Currency</th>\n",
              "      <th>Total_Taxable_Amount</th>\n",
              "      <th>Stage</th>\n",
              "      <th>Prod_Category_A</th>\n",
              "      <th>Delivery_Month</th>\n",
              "    </tr>\n",
              "  </thead>\n",
              "  <tbody>\n",
              "    <tr>\n",
              "      <th>0</th>\n",
              "      <td>27761</td>\n",
              "      <td>EMEA</td>\n",
              "      <td>None</td>\n",
              "      <td>1</td>\n",
              "      <td>1</td>\n",
              "      <td>1</td>\n",
              "      <td>1</td>\n",
              "      <td>0</td>\n",
              "      <td>Bureaucratic_Code_4</td>\n",
              "      <td>2015-06-16</td>\n",
              "      <td>...</td>\n",
              "      <td>2016</td>\n",
              "      <td>NaT</td>\n",
              "      <td>10</td>\n",
              "      <td>EUR</td>\n",
              "      <td>5272800.0</td>\n",
              "      <td>EUR</td>\n",
              "      <td>5272800.0</td>\n",
              "      <td>Closed Lost</td>\n",
              "      <td>Prod_Category_A_None</td>\n",
              "      <td>5</td>\n",
              "    </tr>\n",
              "    <tr>\n",
              "      <th>1</th>\n",
              "      <td>27760</td>\n",
              "      <td>EMEA</td>\n",
              "      <td>None</td>\n",
              "      <td>0</td>\n",
              "      <td>0</td>\n",
              "      <td>0</td>\n",
              "      <td>0</td>\n",
              "      <td>0</td>\n",
              "      <td>Bureaucratic_Code_4</td>\n",
              "      <td>2015-06-16</td>\n",
              "      <td>...</td>\n",
              "      <td>2016</td>\n",
              "      <td>NaT</td>\n",
              "      <td>0</td>\n",
              "      <td>EUR</td>\n",
              "      <td>48230.0</td>\n",
              "      <td>EUR</td>\n",
              "      <td>48230.0</td>\n",
              "      <td>Closed Won</td>\n",
              "      <td>Prod_Category_A_None</td>\n",
              "      <td>1</td>\n",
              "    </tr>\n",
              "    <tr>\n",
              "      <th>2</th>\n",
              "      <td>27446</td>\n",
              "      <td>Americas</td>\n",
              "      <td>NW America</td>\n",
              "      <td>0</td>\n",
              "      <td>0</td>\n",
              "      <td>0</td>\n",
              "      <td>0</td>\n",
              "      <td>0</td>\n",
              "      <td>Bureaucratic_Code_4</td>\n",
              "      <td>2015-04-21</td>\n",
              "      <td>...</td>\n",
              "      <td>2016</td>\n",
              "      <td>NaT</td>\n",
              "      <td>0</td>\n",
              "      <td>USD</td>\n",
              "      <td>83865.6</td>\n",
              "      <td>USD</td>\n",
              "      <td>83865.6</td>\n",
              "      <td>Closed Won</td>\n",
              "      <td>Prod_Category_A_None</td>\n",
              "      <td>1</td>\n",
              "    </tr>\n",
              "    <tr>\n",
              "      <th>3</th>\n",
              "      <td>16808</td>\n",
              "      <td>Americas</td>\n",
              "      <td>NW America</td>\n",
              "      <td>1</td>\n",
              "      <td>0</td>\n",
              "      <td>1</td>\n",
              "      <td>0</td>\n",
              "      <td>0</td>\n",
              "      <td>Bureaucratic_Code_5</td>\n",
              "      <td>2013-07-27</td>\n",
              "      <td>...</td>\n",
              "      <td>2018</td>\n",
              "      <td>NaT</td>\n",
              "      <td>14</td>\n",
              "      <td>USD</td>\n",
              "      <td>7421881.5</td>\n",
              "      <td>USD</td>\n",
              "      <td>7421881.5</td>\n",
              "      <td>Closed Lost</td>\n",
              "      <td>Prod_Category_A_None</td>\n",
              "      <td>2</td>\n",
              "    </tr>\n",
              "    <tr>\n",
              "      <th>4</th>\n",
              "      <td>16805</td>\n",
              "      <td>Americas</td>\n",
              "      <td>NW America</td>\n",
              "      <td>1</td>\n",
              "      <td>0</td>\n",
              "      <td>1</td>\n",
              "      <td>0</td>\n",
              "      <td>0</td>\n",
              "      <td>Bureaucratic_Code_5</td>\n",
              "      <td>2013-07-27</td>\n",
              "      <td>...</td>\n",
              "      <td>2018</td>\n",
              "      <td>NaT</td>\n",
              "      <td>25</td>\n",
              "      <td>USD</td>\n",
              "      <td>13357192.5</td>\n",
              "      <td>USD</td>\n",
              "      <td>13357192.5</td>\n",
              "      <td>Closed Lost</td>\n",
              "      <td>Prod_Category_A_None</td>\n",
              "      <td>2</td>\n",
              "    </tr>\n",
              "  </tbody>\n",
              "</table>\n",
              "<p>5 rows × 53 columns</p>\n",
              "</div>"
            ],
            "text/plain": [
              "      ID    Region   Territory  Pricing, Delivery_Terms_Quote_Appr  \\\n",
              "0  27761      EMEA        None                                   1   \n",
              "1  27760      EMEA        None                                   0   \n",
              "2  27446  Americas  NW America                                   0   \n",
              "3  16808  Americas  NW America                                   1   \n",
              "4  16805  Americas  NW America                                   1   \n",
              "\n",
              "   Pricing, Delivery_Terms_Approved  Bureaucratic_Code_0_Approval  \\\n",
              "0                                 1                             1   \n",
              "1                                 0                             0   \n",
              "2                                 0                             0   \n",
              "3                                 0                             1   \n",
              "4                                 0                             1   \n",
              "\n",
              "   Bureaucratic_Code_0_Approved  Submitted_for_Approval    Bureaucratic_Code  \\\n",
              "0                             1                       0  Bureaucratic_Code_4   \n",
              "1                             0                       0  Bureaucratic_Code_4   \n",
              "2                             0                       0  Bureaucratic_Code_4   \n",
              "3                             0                       0  Bureaucratic_Code_5   \n",
              "4                             0                       0  Bureaucratic_Code_5   \n",
              "\n",
              "  Account_Created_Date  ... Delivery_Year Actual_Delivery_Date TRF  \\\n",
              "0           2015-06-16  ...          2016                  NaT  10   \n",
              "1           2015-06-16  ...          2016                  NaT   0   \n",
              "2           2015-04-21  ...          2016                  NaT   0   \n",
              "3           2013-07-27  ...          2018                  NaT  14   \n",
              "4           2013-07-27  ...          2018                  NaT  25   \n",
              "\n",
              "  Total_Amount_Currency  Total_Amount  Total_Taxable_Amount_Currency  \\\n",
              "0                   EUR     5272800.0                            EUR   \n",
              "1                   EUR       48230.0                            EUR   \n",
              "2                   USD       83865.6                            USD   \n",
              "3                   USD     7421881.5                            USD   \n",
              "4                   USD    13357192.5                            USD   \n",
              "\n",
              "  Total_Taxable_Amount        Stage       Prod_Category_A Delivery_Month  \n",
              "0            5272800.0  Closed Lost  Prod_Category_A_None              5  \n",
              "1              48230.0   Closed Won  Prod_Category_A_None              1  \n",
              "2              83865.6   Closed Won  Prod_Category_A_None              1  \n",
              "3            7421881.5  Closed Lost  Prod_Category_A_None              2  \n",
              "4           13357192.5  Closed Lost  Prod_Category_A_None              2  \n",
              "\n",
              "[5 rows x 53 columns]"
            ]
          },
          "metadata": {
            "tags": []
          },
          "execution_count": 14
        }
      ]
    },
    {
      "cell_type": "code",
      "metadata": {
        "id": "DmuG7aholal0",
        "outputId": "35ffc98a-827b-4526-80e9-e0a531f40885"
      },
      "source": [
        "df['Submitted_for_Approval'].head()"
      ],
      "execution_count": null,
      "outputs": [
        {
          "output_type": "execute_result",
          "data": {
            "text/plain": [
              "0    0\n",
              "1    0\n",
              "2    0\n",
              "3    0\n",
              "4    0\n",
              "Name: Submitted_for_Approval, dtype: int64"
            ]
          },
          "metadata": {
            "tags": []
          },
          "execution_count": 17
        }
      ]
    },
    {
      "cell_type": "markdown",
      "metadata": {
        "id": "KKOwvkDFlkRy"
      },
      "source": [
        "## Info"
      ]
    },
    {
      "cell_type": "code",
      "metadata": {
        "id": "NYg5t2kald79",
        "outputId": "d574a68f-989b-4714-8ec8-d928330f67e5",
        "colab": {
          "base_uri": "https://localhost:8080/"
        }
      },
      "source": [
        "df.info()"
      ],
      "execution_count": null,
      "outputs": [
        {
          "output_type": "stream",
          "text": [
            "<class 'pandas.core.frame.DataFrame'>\n",
            "RangeIndex: 16947 entries, 0 to 16946\n",
            "Data columns (total 52 columns):\n",
            " #   Column                              Non-Null Count  Dtype         \n",
            "---  ------                              --------------  -----         \n",
            " 0   ID                                  16947 non-null  int64         \n",
            " 1   Region                              16947 non-null  object        \n",
            " 2   Territory                           16947 non-null  object        \n",
            " 3   Pricing, Delivery_Terms_Quote_Appr  16947 non-null  int64         \n",
            " 4   Pricing, Delivery_Terms_Approved    16947 non-null  int64         \n",
            " 5   Bureaucratic_Code_0_Approval        16947 non-null  int64         \n",
            " 6   Bureaucratic_Code_0_Approved        16947 non-null  int64         \n",
            " 7   Submitted_for_Approval              16947 non-null  int64         \n",
            " 8   Bureaucratic_Code                   16947 non-null  object        \n",
            " 9   Account_Created_Date                16947 non-null  datetime64[ns]\n",
            " 10  Source                              16947 non-null  object        \n",
            " 11  Billing_Country                     16947 non-null  object        \n",
            " 12  Account_Name                        16947 non-null  object        \n",
            " 13  Opportunity_Name                    16947 non-null  object        \n",
            " 14  Opportunity_ID                      16947 non-null  int64         \n",
            " 15  Sales_Contract_No                   16947 non-null  object        \n",
            " 16  Account_Owner                       16947 non-null  object        \n",
            " 17  Opportunity_Owner                   16947 non-null  object        \n",
            " 18  Account_Type                        16947 non-null  object        \n",
            " 19  Opportunity_Type                    16947 non-null  object        \n",
            " 20  Quote_Type                          16947 non-null  object        \n",
            " 21  Delivery_Terms                      16947 non-null  object        \n",
            " 22  Opportunity_Created_Date            16947 non-null  datetime64[ns]\n",
            " 23  Brand                               16947 non-null  object        \n",
            " 24  Product_Type                        16947 non-null  object        \n",
            " 25  Size                                16947 non-null  object        \n",
            " 26  Product_Category_B                  16947 non-null  object        \n",
            " 27  Price                               16947 non-null  object        \n",
            " 28  Currency                            16947 non-null  object        \n",
            " 29  Last_Activity                       0 non-null      datetime64[ns]\n",
            " 30  Quote_Expiry_Date                   12322 non-null  datetime64[ns]\n",
            " 31  Last_Modified_Date                  16947 non-null  datetime64[ns]\n",
            " 32  Last_Modified_By                    16947 non-null  object        \n",
            " 33  Product_Family                      16947 non-null  object        \n",
            " 34  Product_Name                        16947 non-null  object        \n",
            " 35  ASP_Currency                        16947 non-null  object        \n",
            " 36  ASP                                 13738 non-null  float64       \n",
            " 37  ASP_(converted)_Currency            16947 non-null  object        \n",
            " 38  ASP_(converted)                     13738 non-null  float64       \n",
            " 39  Planned_Delivery_Start_Date         16947 non-null  datetime64[ns]\n",
            " 40  Planned_Delivery_End_Date           16872 non-null  datetime64[ns]\n",
            " 41  Month                               16947 non-null  object        \n",
            " 42  Delivery_Quarter                    16947 non-null  object        \n",
            " 43  Delivery_Year                       16947 non-null  int64         \n",
            " 44  Actual_Delivery_Date                0 non-null      datetime64[ns]\n",
            " 45  TRF                                 16947 non-null  int64         \n",
            " 46  Total_Amount_Currency               16947 non-null  object        \n",
            " 47  Total_Amount                        16888 non-null  float64       \n",
            " 48  Total_Taxable_Amount_Currency       16947 non-null  object        \n",
            " 49  Total_Taxable_Amount                16947 non-null  float64       \n",
            " 50  Stage                               16947 non-null  object        \n",
            " 51  Prod_Category_A                     16947 non-null  object        \n",
            "dtypes: datetime64[ns](8), float64(4), int64(9), object(31)\n",
            "memory usage: 6.7+ MB\n"
          ],
          "name": "stdout"
        }
      ]
    },
    {
      "cell_type": "markdown",
      "metadata": {
        "id": "PszQXBjblal7"
      },
      "source": [
        "## Análisis inicial"
      ]
    },
    {
      "cell_type": "code",
      "metadata": {
        "id": "Vs2mVlBglal8",
        "outputId": "db0e25a6-a8e9-411e-ff0f-9b21bc470cdb",
        "colab": {
          "base_uri": "https://localhost:8080/",
          "height": 479
        }
      },
      "source": [
        "print(\"Análisis inicial:\")\n",
        "print(f\"\\nCantidad de filas: {df.shape[0]}\")\n",
        "print(f\"\\nCantidad de columnas: {df.shape[1]}\")\n",
        "print(f\"\\nCantidad de celdas con potencial informacion: {df.size}\")\n",
        "print(\"\\nContenido de las primeras filas:\")\n",
        "df.head()"
      ],
      "execution_count": 4,
      "outputs": [
        {
          "output_type": "stream",
          "text": [
            "Análisis inicial:\n",
            "\n",
            "Cantidad de filas: 16947\n",
            "\n",
            "Cantidad de columnas: 52\n",
            "\n",
            "Cantidad de celdas con potencial informacion: 881244\n",
            "\n",
            "Contenido de las primeras filas:\n"
          ],
          "name": "stdout"
        },
        {
          "output_type": "execute_result",
          "data": {
            "text/html": [
              "<div>\n",
              "<style scoped>\n",
              "    .dataframe tbody tr th:only-of-type {\n",
              "        vertical-align: middle;\n",
              "    }\n",
              "\n",
              "    .dataframe tbody tr th {\n",
              "        vertical-align: top;\n",
              "    }\n",
              "\n",
              "    .dataframe thead th {\n",
              "        text-align: right;\n",
              "    }\n",
              "</style>\n",
              "<table border=\"1\" class=\"dataframe\">\n",
              "  <thead>\n",
              "    <tr style=\"text-align: right;\">\n",
              "      <th></th>\n",
              "      <th>ID</th>\n",
              "      <th>Region</th>\n",
              "      <th>Territory</th>\n",
              "      <th>Pricing, Delivery_Terms_Quote_Appr</th>\n",
              "      <th>Pricing, Delivery_Terms_Approved</th>\n",
              "      <th>Bureaucratic_Code_0_Approval</th>\n",
              "      <th>Bureaucratic_Code_0_Approved</th>\n",
              "      <th>Submitted_for_Approval</th>\n",
              "      <th>Bureaucratic_Code</th>\n",
              "      <th>Account_Created_Date</th>\n",
              "      <th>Source</th>\n",
              "      <th>Billing_Country</th>\n",
              "      <th>Account_Name</th>\n",
              "      <th>Opportunity_Name</th>\n",
              "      <th>Opportunity_ID</th>\n",
              "      <th>Sales_Contract_No</th>\n",
              "      <th>Account_Owner</th>\n",
              "      <th>Opportunity_Owner</th>\n",
              "      <th>Account_Type</th>\n",
              "      <th>Opportunity_Type</th>\n",
              "      <th>Quote_Type</th>\n",
              "      <th>Delivery_Terms</th>\n",
              "      <th>Opportunity_Created_Date</th>\n",
              "      <th>Brand</th>\n",
              "      <th>Product_Type</th>\n",
              "      <th>Size</th>\n",
              "      <th>Product_Category_B</th>\n",
              "      <th>Price</th>\n",
              "      <th>Currency</th>\n",
              "      <th>Last_Activity</th>\n",
              "      <th>Quote_Expiry_Date</th>\n",
              "      <th>Last_Modified_Date</th>\n",
              "      <th>Last_Modified_By</th>\n",
              "      <th>Product_Family</th>\n",
              "      <th>Product_Name</th>\n",
              "      <th>ASP_Currency</th>\n",
              "      <th>ASP</th>\n",
              "      <th>ASP_(converted)_Currency</th>\n",
              "      <th>ASP_(converted)</th>\n",
              "      <th>Planned_Delivery_Start_Date</th>\n",
              "      <th>Planned_Delivery_End_Date</th>\n",
              "      <th>Month</th>\n",
              "      <th>Delivery_Quarter</th>\n",
              "      <th>Delivery_Year</th>\n",
              "      <th>Actual_Delivery_Date</th>\n",
              "      <th>TRF</th>\n",
              "      <th>Total_Amount_Currency</th>\n",
              "      <th>Total_Amount</th>\n",
              "      <th>Total_Taxable_Amount_Currency</th>\n",
              "      <th>Total_Taxable_Amount</th>\n",
              "      <th>Stage</th>\n",
              "      <th>Prod_Category_A</th>\n",
              "    </tr>\n",
              "  </thead>\n",
              "  <tbody>\n",
              "    <tr>\n",
              "      <th>0</th>\n",
              "      <td>27761</td>\n",
              "      <td>EMEA</td>\n",
              "      <td>None</td>\n",
              "      <td>1</td>\n",
              "      <td>1</td>\n",
              "      <td>1</td>\n",
              "      <td>1</td>\n",
              "      <td>0</td>\n",
              "      <td>Bureaucratic_Code_4</td>\n",
              "      <td>2015-06-16</td>\n",
              "      <td>None</td>\n",
              "      <td>Netherlands</td>\n",
              "      <td>Account_Name_619</td>\n",
              "      <td>Opportunity_Name_12598</td>\n",
              "      <td>0</td>\n",
              "      <td>None</td>\n",
              "      <td>Person_Name_51</td>\n",
              "      <td>Person_Name_18</td>\n",
              "      <td>Account_Type_2</td>\n",
              "      <td>Opportunity_Type_1</td>\n",
              "      <td>Non Binding</td>\n",
              "      <td>Delivery_Terms_2</td>\n",
              "      <td>2015-12-07</td>\n",
              "      <td>None</td>\n",
              "      <td>None</td>\n",
              "      <td>None</td>\n",
              "      <td>None</td>\n",
              "      <td>None</td>\n",
              "      <td>None</td>\n",
              "      <td>NaT</td>\n",
              "      <td>2016-01-30</td>\n",
              "      <td>2016-06-13</td>\n",
              "      <td>Person_Name_18</td>\n",
              "      <td>Product_Family_77</td>\n",
              "      <td>Product_Name_99</td>\n",
              "      <td>EUR</td>\n",
              "      <td>0.52</td>\n",
              "      <td>USD</td>\n",
              "      <td>0.58817</td>\n",
              "      <td>2016-05-01</td>\n",
              "      <td>2016-06-30</td>\n",
              "      <td>2016 - 5</td>\n",
              "      <td>Q2</td>\n",
              "      <td>2016</td>\n",
              "      <td>NaT</td>\n",
              "      <td>10</td>\n",
              "      <td>EUR</td>\n",
              "      <td>5272800.0</td>\n",
              "      <td>EUR</td>\n",
              "      <td>5272800.0</td>\n",
              "      <td>Closed Lost</td>\n",
              "      <td>Prod_Category_A_None</td>\n",
              "    </tr>\n",
              "    <tr>\n",
              "      <th>1</th>\n",
              "      <td>27760</td>\n",
              "      <td>EMEA</td>\n",
              "      <td>None</td>\n",
              "      <td>0</td>\n",
              "      <td>0</td>\n",
              "      <td>0</td>\n",
              "      <td>0</td>\n",
              "      <td>0</td>\n",
              "      <td>Bureaucratic_Code_4</td>\n",
              "      <td>2015-06-16</td>\n",
              "      <td>None</td>\n",
              "      <td>Netherlands</td>\n",
              "      <td>Account_Name_619</td>\n",
              "      <td>Opportunity_Name_12600</td>\n",
              "      <td>1</td>\n",
              "      <td>39</td>\n",
              "      <td>Person_Name_51</td>\n",
              "      <td>Person_Name_20</td>\n",
              "      <td>Account_Type_2</td>\n",
              "      <td>Opportunity_Type_1</td>\n",
              "      <td>Non Binding</td>\n",
              "      <td>Delivery_Terms_2</td>\n",
              "      <td>2015-12-07</td>\n",
              "      <td>None</td>\n",
              "      <td>None</td>\n",
              "      <td>None</td>\n",
              "      <td>None</td>\n",
              "      <td>None</td>\n",
              "      <td>None</td>\n",
              "      <td>NaT</td>\n",
              "      <td>2016-01-20</td>\n",
              "      <td>2016-01-15</td>\n",
              "      <td>Person_Name_20</td>\n",
              "      <td>Product_Family_77</td>\n",
              "      <td>Product_Name_100</td>\n",
              "      <td>EUR</td>\n",
              "      <td>0.53</td>\n",
              "      <td>USD</td>\n",
              "      <td>0.59948</td>\n",
              "      <td>2016-01-18</td>\n",
              "      <td>2016-01-20</td>\n",
              "      <td>2016 - 1</td>\n",
              "      <td>Q1</td>\n",
              "      <td>2016</td>\n",
              "      <td>NaT</td>\n",
              "      <td>0</td>\n",
              "      <td>EUR</td>\n",
              "      <td>48230.0</td>\n",
              "      <td>EUR</td>\n",
              "      <td>48230.0</td>\n",
              "      <td>Closed Won</td>\n",
              "      <td>Prod_Category_A_None</td>\n",
              "    </tr>\n",
              "    <tr>\n",
              "      <th>2</th>\n",
              "      <td>27446</td>\n",
              "      <td>Americas</td>\n",
              "      <td>NW America</td>\n",
              "      <td>0</td>\n",
              "      <td>0</td>\n",
              "      <td>0</td>\n",
              "      <td>0</td>\n",
              "      <td>0</td>\n",
              "      <td>Bureaucratic_Code_4</td>\n",
              "      <td>2015-04-21</td>\n",
              "      <td>Source_7</td>\n",
              "      <td>United States</td>\n",
              "      <td>Account_Name_1794</td>\n",
              "      <td>Opportunity_Name_469</td>\n",
              "      <td>2</td>\n",
              "      <td>760</td>\n",
              "      <td>Person_Name_64</td>\n",
              "      <td>Person_Name_8</td>\n",
              "      <td>Account_Type_5</td>\n",
              "      <td>Opportunity_Type_1</td>\n",
              "      <td>Non Binding</td>\n",
              "      <td>Delivery_Terms_4</td>\n",
              "      <td>2015-12-08</td>\n",
              "      <td>None</td>\n",
              "      <td>None</td>\n",
              "      <td>None</td>\n",
              "      <td>None</td>\n",
              "      <td>None</td>\n",
              "      <td>None</td>\n",
              "      <td>NaT</td>\n",
              "      <td>2016-09-30</td>\n",
              "      <td>2016-09-29</td>\n",
              "      <td>Person_Name_8</td>\n",
              "      <td>Product_Family_81</td>\n",
              "      <td>Product_Name_91</td>\n",
              "      <td>USD</td>\n",
              "      <td>0.48</td>\n",
              "      <td>USD</td>\n",
              "      <td>0.48000</td>\n",
              "      <td>2016-01-25</td>\n",
              "      <td>2016-01-25</td>\n",
              "      <td>2016 - 1</td>\n",
              "      <td>Q1</td>\n",
              "      <td>2016</td>\n",
              "      <td>NaT</td>\n",
              "      <td>0</td>\n",
              "      <td>USD</td>\n",
              "      <td>83865.6</td>\n",
              "      <td>USD</td>\n",
              "      <td>83865.6</td>\n",
              "      <td>Closed Won</td>\n",
              "      <td>Prod_Category_A_None</td>\n",
              "    </tr>\n",
              "    <tr>\n",
              "      <th>3</th>\n",
              "      <td>16808</td>\n",
              "      <td>Americas</td>\n",
              "      <td>NW America</td>\n",
              "      <td>1</td>\n",
              "      <td>0</td>\n",
              "      <td>1</td>\n",
              "      <td>0</td>\n",
              "      <td>0</td>\n",
              "      <td>Bureaucratic_Code_5</td>\n",
              "      <td>2013-07-27</td>\n",
              "      <td>Source_11</td>\n",
              "      <td>United States</td>\n",
              "      <td>Account_Name_1201</td>\n",
              "      <td>Opportunity_Name_415</td>\n",
              "      <td>3</td>\n",
              "      <td>None</td>\n",
              "      <td>Person_Name_8</td>\n",
              "      <td>Person_Name_8</td>\n",
              "      <td>Account_Type_5</td>\n",
              "      <td>Opportunity_Type_19</td>\n",
              "      <td>Non Binding</td>\n",
              "      <td>Delivery_Terms_1</td>\n",
              "      <td>2015-12-08</td>\n",
              "      <td>Other</td>\n",
              "      <td>Product_Type_0</td>\n",
              "      <td>Size_4</td>\n",
              "      <td>Product_Category_B_16</td>\n",
              "      <td>0.42</td>\n",
              "      <td>USD</td>\n",
              "      <td>NaT</td>\n",
              "      <td>NaT</td>\n",
              "      <td>2018-03-27</td>\n",
              "      <td>Person_Name_8</td>\n",
              "      <td>Product_Family_209</td>\n",
              "      <td>Product_Name_432</td>\n",
              "      <td>USD</td>\n",
              "      <td>0.53</td>\n",
              "      <td>USD</td>\n",
              "      <td>0.53000</td>\n",
              "      <td>2018-02-01</td>\n",
              "      <td>2018-03-31</td>\n",
              "      <td>2018 - 2</td>\n",
              "      <td>Q1</td>\n",
              "      <td>2018</td>\n",
              "      <td>NaT</td>\n",
              "      <td>14</td>\n",
              "      <td>USD</td>\n",
              "      <td>7421881.5</td>\n",
              "      <td>USD</td>\n",
              "      <td>7421881.5</td>\n",
              "      <td>Closed Lost</td>\n",
              "      <td>Prod_Category_A_None</td>\n",
              "    </tr>\n",
              "    <tr>\n",
              "      <th>4</th>\n",
              "      <td>16805</td>\n",
              "      <td>Americas</td>\n",
              "      <td>NW America</td>\n",
              "      <td>1</td>\n",
              "      <td>0</td>\n",
              "      <td>1</td>\n",
              "      <td>0</td>\n",
              "      <td>0</td>\n",
              "      <td>Bureaucratic_Code_5</td>\n",
              "      <td>2013-07-27</td>\n",
              "      <td>Source_11</td>\n",
              "      <td>United States</td>\n",
              "      <td>Account_Name_1201</td>\n",
              "      <td>Opportunity_Name_851</td>\n",
              "      <td>4</td>\n",
              "      <td>None</td>\n",
              "      <td>Person_Name_8</td>\n",
              "      <td>Person_Name_8</td>\n",
              "      <td>Account_Type_5</td>\n",
              "      <td>Opportunity_Type_19</td>\n",
              "      <td>Non Binding</td>\n",
              "      <td>Delivery_Terms_1</td>\n",
              "      <td>2015-12-08</td>\n",
              "      <td>Other</td>\n",
              "      <td>Product_Type_0</td>\n",
              "      <td>Size_4</td>\n",
              "      <td>Product_Category_B_16</td>\n",
              "      <td>0.42</td>\n",
              "      <td>USD</td>\n",
              "      <td>NaT</td>\n",
              "      <td>2017-06-02</td>\n",
              "      <td>2018-03-27</td>\n",
              "      <td>Person_Name_8</td>\n",
              "      <td>Product_Family_209</td>\n",
              "      <td>Product_Name_432</td>\n",
              "      <td>USD</td>\n",
              "      <td>0.53</td>\n",
              "      <td>USD</td>\n",
              "      <td>0.53000</td>\n",
              "      <td>2018-02-01</td>\n",
              "      <td>2018-02-28</td>\n",
              "      <td>2018 - 2</td>\n",
              "      <td>Q1</td>\n",
              "      <td>2018</td>\n",
              "      <td>NaT</td>\n",
              "      <td>25</td>\n",
              "      <td>USD</td>\n",
              "      <td>13357192.5</td>\n",
              "      <td>USD</td>\n",
              "      <td>13357192.5</td>\n",
              "      <td>Closed Lost</td>\n",
              "      <td>Prod_Category_A_None</td>\n",
              "    </tr>\n",
              "  </tbody>\n",
              "</table>\n",
              "</div>"
            ],
            "text/plain": [
              "      ID    Region  ...        Stage       Prod_Category_A\n",
              "0  27761      EMEA  ...  Closed Lost  Prod_Category_A_None\n",
              "1  27760      EMEA  ...   Closed Won  Prod_Category_A_None\n",
              "2  27446  Americas  ...   Closed Won  Prod_Category_A_None\n",
              "3  16808  Americas  ...  Closed Lost  Prod_Category_A_None\n",
              "4  16805  Americas  ...  Closed Lost  Prod_Category_A_None\n",
              "\n",
              "[5 rows x 52 columns]"
            ]
          },
          "metadata": {
            "tags": []
          },
          "execution_count": 4
        }
      ]
    },
    {
      "cell_type": "markdown",
      "metadata": {
        "id": "xGEImYkjlamD"
      },
      "source": [
        "## Análisis de datos faltantes"
      ]
    },
    {
      "cell_type": "code",
      "metadata": {
        "id": "nvti9Z8KlamE",
        "outputId": "c87b5afb-4c05-4c26-8741-209f70818dc9"
      },
      "source": [
        "faltantes=pd.DataFrame(df.isnull().sum().sort_values(ascending=False),columns=['nulls'])\n",
        "filas=len(df)\n",
        "faltantes['porcentaje']=round(100*faltantes['nulls']/filas,2)\n",
        "faltantes[faltantes['nulls']!=0]\n",
        "#faltantes"
      ],
      "execution_count": null,
      "outputs": [
        {
          "output_type": "execute_result",
          "data": {
            "text/html": [
              "<div>\n",
              "<style scoped>\n",
              "    .dataframe tbody tr th:only-of-type {\n",
              "        vertical-align: middle;\n",
              "    }\n",
              "\n",
              "    .dataframe tbody tr th {\n",
              "        vertical-align: top;\n",
              "    }\n",
              "\n",
              "    .dataframe thead th {\n",
              "        text-align: right;\n",
              "    }\n",
              "</style>\n",
              "<table border=\"1\" class=\"dataframe\">\n",
              "  <thead>\n",
              "    <tr style=\"text-align: right;\">\n",
              "      <th></th>\n",
              "      <th>nulls</th>\n",
              "      <th>porcentaje</th>\n",
              "    </tr>\n",
              "  </thead>\n",
              "  <tbody>\n",
              "    <tr>\n",
              "      <th>Actual_Delivery_Date</th>\n",
              "      <td>16947</td>\n",
              "      <td>100.00</td>\n",
              "    </tr>\n",
              "    <tr>\n",
              "      <th>Last_Activity</th>\n",
              "      <td>16947</td>\n",
              "      <td>100.00</td>\n",
              "    </tr>\n",
              "    <tr>\n",
              "      <th>Price</th>\n",
              "      <td>16591</td>\n",
              "      <td>97.90</td>\n",
              "    </tr>\n",
              "    <tr>\n",
              "      <th>Sales_Contract_No</th>\n",
              "      <td>6973</td>\n",
              "      <td>41.15</td>\n",
              "    </tr>\n",
              "    <tr>\n",
              "      <th>Quote_Expiry_Date</th>\n",
              "      <td>4625</td>\n",
              "      <td>27.29</td>\n",
              "    </tr>\n",
              "    <tr>\n",
              "      <th>ASP_(converted)</th>\n",
              "      <td>3209</td>\n",
              "      <td>18.94</td>\n",
              "    </tr>\n",
              "    <tr>\n",
              "      <th>ASP</th>\n",
              "      <td>3209</td>\n",
              "      <td>18.94</td>\n",
              "    </tr>\n",
              "    <tr>\n",
              "      <th>Planned_Delivery_End_Date</th>\n",
              "      <td>75</td>\n",
              "      <td>0.44</td>\n",
              "    </tr>\n",
              "    <tr>\n",
              "      <th>Total_Amount</th>\n",
              "      <td>59</td>\n",
              "      <td>0.35</td>\n",
              "    </tr>\n",
              "  </tbody>\n",
              "</table>\n",
              "</div>"
            ],
            "text/plain": [
              "                           nulls  porcentaje\n",
              "Actual_Delivery_Date       16947      100.00\n",
              "Last_Activity              16947      100.00\n",
              "Price                      16591       97.90\n",
              "Sales_Contract_No           6973       41.15\n",
              "Quote_Expiry_Date           4625       27.29\n",
              "ASP_(converted)             3209       18.94\n",
              "ASP                         3209       18.94\n",
              "Planned_Delivery_End_Date     75        0.44\n",
              "Total_Amount                  59        0.35"
            ]
          },
          "metadata": {
            "tags": []
          },
          "execution_count": 19
        }
      ]
    },
    {
      "cell_type": "markdown",
      "metadata": {
        "id": "aYPYVUsDlamM"
      },
      "source": [
        "Las columnas 'Actual_Delivery_Date', 'Last_Activity' y 'Price' tienen entre un 100% y un 98% de datos faltantes, motivo por el cual se sacarán del dataframe"
      ]
    },
    {
      "cell_type": "code",
      "metadata": {
        "id": "SyNqSG2klamN",
        "outputId": "c9175ee2-4d42-4cac-8280-7e7c40de9cb0",
        "colab": {
          "base_uri": "https://localhost:8080/",
          "height": 326
        }
      },
      "source": [
        "df2=df.drop(['Actual_Delivery_Date', 'Last_Activity', 'Price'], axis=1)\n",
        "df2.head()"
      ],
      "execution_count": 17,
      "outputs": [
        {
          "output_type": "execute_result",
          "data": {
            "text/html": [
              "<div>\n",
              "<style scoped>\n",
              "    .dataframe tbody tr th:only-of-type {\n",
              "        vertical-align: middle;\n",
              "    }\n",
              "\n",
              "    .dataframe tbody tr th {\n",
              "        vertical-align: top;\n",
              "    }\n",
              "\n",
              "    .dataframe thead th {\n",
              "        text-align: right;\n",
              "    }\n",
              "</style>\n",
              "<table border=\"1\" class=\"dataframe\">\n",
              "  <thead>\n",
              "    <tr style=\"text-align: right;\">\n",
              "      <th></th>\n",
              "      <th>ID</th>\n",
              "      <th>Region</th>\n",
              "      <th>Territory</th>\n",
              "      <th>Pricing, Delivery_Terms_Quote_Appr</th>\n",
              "      <th>Pricing, Delivery_Terms_Approved</th>\n",
              "      <th>Bureaucratic_Code_0_Approval</th>\n",
              "      <th>Bureaucratic_Code_0_Approved</th>\n",
              "      <th>Submitted_for_Approval</th>\n",
              "      <th>Bureaucratic_Code</th>\n",
              "      <th>Account_Created_Date</th>\n",
              "      <th>Source</th>\n",
              "      <th>Billing_Country</th>\n",
              "      <th>Account_Name</th>\n",
              "      <th>Opportunity_Name</th>\n",
              "      <th>Opportunity_ID</th>\n",
              "      <th>Sales_Contract_No</th>\n",
              "      <th>Account_Owner</th>\n",
              "      <th>Opportunity_Owner</th>\n",
              "      <th>Account_Type</th>\n",
              "      <th>Opportunity_Type</th>\n",
              "      <th>Quote_Type</th>\n",
              "      <th>Delivery_Terms</th>\n",
              "      <th>Opportunity_Created_Date</th>\n",
              "      <th>Brand</th>\n",
              "      <th>Product_Type</th>\n",
              "      <th>Size</th>\n",
              "      <th>Product_Category_B</th>\n",
              "      <th>Currency</th>\n",
              "      <th>Quote_Expiry_Date</th>\n",
              "      <th>Last_Modified_Date</th>\n",
              "      <th>Last_Modified_By</th>\n",
              "      <th>Product_Family</th>\n",
              "      <th>Product_Name</th>\n",
              "      <th>ASP_Currency</th>\n",
              "      <th>ASP</th>\n",
              "      <th>ASP_(converted)_Currency</th>\n",
              "      <th>ASP_(converted)</th>\n",
              "      <th>Planned_Delivery_Start_Date</th>\n",
              "      <th>Planned_Delivery_End_Date</th>\n",
              "      <th>Month</th>\n",
              "      <th>Delivery_Quarter</th>\n",
              "      <th>Delivery_Year</th>\n",
              "      <th>TRF</th>\n",
              "      <th>Total_Amount_Currency</th>\n",
              "      <th>Total_Amount</th>\n",
              "      <th>Total_Taxable_Amount_Currency</th>\n",
              "      <th>Total_Taxable_Amount</th>\n",
              "      <th>Stage</th>\n",
              "      <th>Prod_Category_A</th>\n",
              "    </tr>\n",
              "  </thead>\n",
              "  <tbody>\n",
              "    <tr>\n",
              "      <th>0</th>\n",
              "      <td>27761</td>\n",
              "      <td>EMEA</td>\n",
              "      <td>None</td>\n",
              "      <td>1</td>\n",
              "      <td>1</td>\n",
              "      <td>1</td>\n",
              "      <td>1</td>\n",
              "      <td>0</td>\n",
              "      <td>Bureaucratic_Code_4</td>\n",
              "      <td>2015-06-16</td>\n",
              "      <td>None</td>\n",
              "      <td>Netherlands</td>\n",
              "      <td>Account_Name_619</td>\n",
              "      <td>Opportunity_Name_12598</td>\n",
              "      <td>0</td>\n",
              "      <td>None</td>\n",
              "      <td>Person_Name_51</td>\n",
              "      <td>Person_Name_18</td>\n",
              "      <td>Account_Type_2</td>\n",
              "      <td>Opportunity_Type_1</td>\n",
              "      <td>Non Binding</td>\n",
              "      <td>Delivery_Terms_2</td>\n",
              "      <td>2015-12-07</td>\n",
              "      <td>None</td>\n",
              "      <td>None</td>\n",
              "      <td>None</td>\n",
              "      <td>None</td>\n",
              "      <td>None</td>\n",
              "      <td>2016-01-30</td>\n",
              "      <td>2016-06-13</td>\n",
              "      <td>Person_Name_18</td>\n",
              "      <td>Product_Family_77</td>\n",
              "      <td>Product_Name_99</td>\n",
              "      <td>EUR</td>\n",
              "      <td>0.52</td>\n",
              "      <td>USD</td>\n",
              "      <td>0.58817</td>\n",
              "      <td>2016-05-01</td>\n",
              "      <td>2016-06-30</td>\n",
              "      <td>2016 - 5</td>\n",
              "      <td>Q2</td>\n",
              "      <td>2016</td>\n",
              "      <td>10</td>\n",
              "      <td>EUR</td>\n",
              "      <td>5272800.0</td>\n",
              "      <td>EUR</td>\n",
              "      <td>5272800.0</td>\n",
              "      <td>Closed Lost</td>\n",
              "      <td>Prod_Category_A_None</td>\n",
              "    </tr>\n",
              "    <tr>\n",
              "      <th>1</th>\n",
              "      <td>27760</td>\n",
              "      <td>EMEA</td>\n",
              "      <td>None</td>\n",
              "      <td>0</td>\n",
              "      <td>0</td>\n",
              "      <td>0</td>\n",
              "      <td>0</td>\n",
              "      <td>0</td>\n",
              "      <td>Bureaucratic_Code_4</td>\n",
              "      <td>2015-06-16</td>\n",
              "      <td>None</td>\n",
              "      <td>Netherlands</td>\n",
              "      <td>Account_Name_619</td>\n",
              "      <td>Opportunity_Name_12600</td>\n",
              "      <td>1</td>\n",
              "      <td>39</td>\n",
              "      <td>Person_Name_51</td>\n",
              "      <td>Person_Name_20</td>\n",
              "      <td>Account_Type_2</td>\n",
              "      <td>Opportunity_Type_1</td>\n",
              "      <td>Non Binding</td>\n",
              "      <td>Delivery_Terms_2</td>\n",
              "      <td>2015-12-07</td>\n",
              "      <td>None</td>\n",
              "      <td>None</td>\n",
              "      <td>None</td>\n",
              "      <td>None</td>\n",
              "      <td>None</td>\n",
              "      <td>2016-01-20</td>\n",
              "      <td>2016-01-15</td>\n",
              "      <td>Person_Name_20</td>\n",
              "      <td>Product_Family_77</td>\n",
              "      <td>Product_Name_100</td>\n",
              "      <td>EUR</td>\n",
              "      <td>0.53</td>\n",
              "      <td>USD</td>\n",
              "      <td>0.59948</td>\n",
              "      <td>2016-01-18</td>\n",
              "      <td>2016-01-20</td>\n",
              "      <td>2016 - 1</td>\n",
              "      <td>Q1</td>\n",
              "      <td>2016</td>\n",
              "      <td>0</td>\n",
              "      <td>EUR</td>\n",
              "      <td>48230.0</td>\n",
              "      <td>EUR</td>\n",
              "      <td>48230.0</td>\n",
              "      <td>Closed Won</td>\n",
              "      <td>Prod_Category_A_None</td>\n",
              "    </tr>\n",
              "    <tr>\n",
              "      <th>2</th>\n",
              "      <td>27446</td>\n",
              "      <td>Americas</td>\n",
              "      <td>NW America</td>\n",
              "      <td>0</td>\n",
              "      <td>0</td>\n",
              "      <td>0</td>\n",
              "      <td>0</td>\n",
              "      <td>0</td>\n",
              "      <td>Bureaucratic_Code_4</td>\n",
              "      <td>2015-04-21</td>\n",
              "      <td>Source_7</td>\n",
              "      <td>United States</td>\n",
              "      <td>Account_Name_1794</td>\n",
              "      <td>Opportunity_Name_469</td>\n",
              "      <td>2</td>\n",
              "      <td>760</td>\n",
              "      <td>Person_Name_64</td>\n",
              "      <td>Person_Name_8</td>\n",
              "      <td>Account_Type_5</td>\n",
              "      <td>Opportunity_Type_1</td>\n",
              "      <td>Non Binding</td>\n",
              "      <td>Delivery_Terms_4</td>\n",
              "      <td>2015-12-08</td>\n",
              "      <td>None</td>\n",
              "      <td>None</td>\n",
              "      <td>None</td>\n",
              "      <td>None</td>\n",
              "      <td>None</td>\n",
              "      <td>2016-09-30</td>\n",
              "      <td>2016-09-29</td>\n",
              "      <td>Person_Name_8</td>\n",
              "      <td>Product_Family_81</td>\n",
              "      <td>Product_Name_91</td>\n",
              "      <td>USD</td>\n",
              "      <td>0.48</td>\n",
              "      <td>USD</td>\n",
              "      <td>0.48000</td>\n",
              "      <td>2016-01-25</td>\n",
              "      <td>2016-01-25</td>\n",
              "      <td>2016 - 1</td>\n",
              "      <td>Q1</td>\n",
              "      <td>2016</td>\n",
              "      <td>0</td>\n",
              "      <td>USD</td>\n",
              "      <td>83865.6</td>\n",
              "      <td>USD</td>\n",
              "      <td>83865.6</td>\n",
              "      <td>Closed Won</td>\n",
              "      <td>Prod_Category_A_None</td>\n",
              "    </tr>\n",
              "    <tr>\n",
              "      <th>3</th>\n",
              "      <td>16808</td>\n",
              "      <td>Americas</td>\n",
              "      <td>NW America</td>\n",
              "      <td>1</td>\n",
              "      <td>0</td>\n",
              "      <td>1</td>\n",
              "      <td>0</td>\n",
              "      <td>0</td>\n",
              "      <td>Bureaucratic_Code_5</td>\n",
              "      <td>2013-07-27</td>\n",
              "      <td>Source_11</td>\n",
              "      <td>United States</td>\n",
              "      <td>Account_Name_1201</td>\n",
              "      <td>Opportunity_Name_415</td>\n",
              "      <td>3</td>\n",
              "      <td>None</td>\n",
              "      <td>Person_Name_8</td>\n",
              "      <td>Person_Name_8</td>\n",
              "      <td>Account_Type_5</td>\n",
              "      <td>Opportunity_Type_19</td>\n",
              "      <td>Non Binding</td>\n",
              "      <td>Delivery_Terms_1</td>\n",
              "      <td>2015-12-08</td>\n",
              "      <td>Other</td>\n",
              "      <td>Product_Type_0</td>\n",
              "      <td>Size_4</td>\n",
              "      <td>Product_Category_B_16</td>\n",
              "      <td>USD</td>\n",
              "      <td>NaT</td>\n",
              "      <td>2018-03-27</td>\n",
              "      <td>Person_Name_8</td>\n",
              "      <td>Product_Family_209</td>\n",
              "      <td>Product_Name_432</td>\n",
              "      <td>USD</td>\n",
              "      <td>0.53</td>\n",
              "      <td>USD</td>\n",
              "      <td>0.53000</td>\n",
              "      <td>2018-02-01</td>\n",
              "      <td>2018-03-31</td>\n",
              "      <td>2018 - 2</td>\n",
              "      <td>Q1</td>\n",
              "      <td>2018</td>\n",
              "      <td>14</td>\n",
              "      <td>USD</td>\n",
              "      <td>7421881.5</td>\n",
              "      <td>USD</td>\n",
              "      <td>7421881.5</td>\n",
              "      <td>Closed Lost</td>\n",
              "      <td>Prod_Category_A_None</td>\n",
              "    </tr>\n",
              "    <tr>\n",
              "      <th>4</th>\n",
              "      <td>16805</td>\n",
              "      <td>Americas</td>\n",
              "      <td>NW America</td>\n",
              "      <td>1</td>\n",
              "      <td>0</td>\n",
              "      <td>1</td>\n",
              "      <td>0</td>\n",
              "      <td>0</td>\n",
              "      <td>Bureaucratic_Code_5</td>\n",
              "      <td>2013-07-27</td>\n",
              "      <td>Source_11</td>\n",
              "      <td>United States</td>\n",
              "      <td>Account_Name_1201</td>\n",
              "      <td>Opportunity_Name_851</td>\n",
              "      <td>4</td>\n",
              "      <td>None</td>\n",
              "      <td>Person_Name_8</td>\n",
              "      <td>Person_Name_8</td>\n",
              "      <td>Account_Type_5</td>\n",
              "      <td>Opportunity_Type_19</td>\n",
              "      <td>Non Binding</td>\n",
              "      <td>Delivery_Terms_1</td>\n",
              "      <td>2015-12-08</td>\n",
              "      <td>Other</td>\n",
              "      <td>Product_Type_0</td>\n",
              "      <td>Size_4</td>\n",
              "      <td>Product_Category_B_16</td>\n",
              "      <td>USD</td>\n",
              "      <td>2017-06-02</td>\n",
              "      <td>2018-03-27</td>\n",
              "      <td>Person_Name_8</td>\n",
              "      <td>Product_Family_209</td>\n",
              "      <td>Product_Name_432</td>\n",
              "      <td>USD</td>\n",
              "      <td>0.53</td>\n",
              "      <td>USD</td>\n",
              "      <td>0.53000</td>\n",
              "      <td>2018-02-01</td>\n",
              "      <td>2018-02-28</td>\n",
              "      <td>2018 - 2</td>\n",
              "      <td>Q1</td>\n",
              "      <td>2018</td>\n",
              "      <td>25</td>\n",
              "      <td>USD</td>\n",
              "      <td>13357192.5</td>\n",
              "      <td>USD</td>\n",
              "      <td>13357192.5</td>\n",
              "      <td>Closed Lost</td>\n",
              "      <td>Prod_Category_A_None</td>\n",
              "    </tr>\n",
              "  </tbody>\n",
              "</table>\n",
              "</div>"
            ],
            "text/plain": [
              "      ID    Region  ...        Stage       Prod_Category_A\n",
              "0  27761      EMEA  ...  Closed Lost  Prod_Category_A_None\n",
              "1  27760      EMEA  ...   Closed Won  Prod_Category_A_None\n",
              "2  27446  Americas  ...   Closed Won  Prod_Category_A_None\n",
              "3  16808  Americas  ...  Closed Lost  Prod_Category_A_None\n",
              "4  16805  Americas  ...  Closed Lost  Prod_Category_A_None\n",
              "\n",
              "[5 rows x 49 columns]"
            ]
          },
          "metadata": {
            "tags": []
          },
          "execution_count": 17
        }
      ]
    },
    {
      "cell_type": "markdown",
      "metadata": {
        "id": "HaVfT9cIlamS"
      },
      "source": [
        "## Exploro para ciertas columnas cuantos valores hay de cada tipo"
      ]
    },
    {
      "cell_type": "code",
      "metadata": {
        "id": "Fho8nl3ylamT",
        "outputId": "22d3a219-441b-4830-933d-61b4dba5dc54"
      },
      "source": [
        "df2['Region'].value_counts()"
      ],
      "execution_count": null,
      "outputs": [
        {
          "output_type": "execute_result",
          "data": {
            "text/plain": [
              "Japan          4892\n",
              "EMEA           4664\n",
              "Americas       3945\n",
              "APAC           3262\n",
              "Middle East     184\n",
              "Name: Region, dtype: int64"
            ]
          },
          "metadata": {
            "tags": []
          },
          "execution_count": 21
        }
      ]
    },
    {
      "cell_type": "code",
      "metadata": {
        "id": "D7zdVn-dlamc",
        "outputId": "da3af0b1-aeca-4234-a956-2ffdaebd6091"
      },
      "source": [
        "df2['Territory'].value_counts()"
      ],
      "execution_count": null,
      "outputs": [
        {
          "output_type": "execute_result",
          "data": {
            "text/plain": [
              "None                    4999\n",
              "Germany                 1682\n",
              "NW America              1568\n",
              "Australia               1208\n",
              "India                    809\n",
              "NE America               760\n",
              "Japan                    681\n",
              "Netherlands              533\n",
              "SE America               493\n",
              "France                   449\n",
              "Singapore                441\n",
              "United Kingdom           313\n",
              "Belgium                  285\n",
              "Italy                    283\n",
              "Spain                    268\n",
              "Central US               254\n",
              "China (PRC)              218\n",
              "SW America               206\n",
              "Thailand                 173\n",
              "Indonesia                154\n",
              "Austria                  145\n",
              "Philippines              109\n",
              "Jordan                   102\n",
              "Canada                    74\n",
              "Luxembourg                70\n",
              "Portugal                  66\n",
              "Poland                    60\n",
              "Vietnam                   51\n",
              "Cyprus                    44\n",
              "New Zealand               38\n",
              "                        ... \n",
              "Kazakhstan                 7\n",
              "Macedonia                  6\n",
              "Saudi Arabia               6\n",
              "Malta                      6\n",
              "Pakistan                   6\n",
              "Ukraine                    5\n",
              "Malaysia                   5\n",
              "Tunisia                    5\n",
              "Bulgaria                   5\n",
              "Oman                       4\n",
              "Cambodia                   4\n",
              "Kuwait                     4\n",
              "Bosnia & Herzegovina       4\n",
              "Belarus                    4\n",
              "Morocco                    3\n",
              "Romania                    2\n",
              "Lebanon                    2\n",
              "Armenia                    2\n",
              "UAE (Others)               2\n",
              "Albania                    2\n",
              "South East Asia            2\n",
              "Kosovo                     2\n",
              "Solomon Islands            1\n",
              "Czech Republic             1\n",
              "Croatia                    1\n",
              "Slovenia                   1\n",
              "Egypt                      1\n",
              "Burma                      1\n",
              "Georgia                    1\n",
              "Monaco                     1\n",
              "Name: Territory, Length: 76, dtype: int64"
            ]
          },
          "metadata": {
            "tags": []
          },
          "execution_count": 22
        }
      ]
    },
    {
      "cell_type": "code",
      "metadata": {
        "id": "PlUUdYRQlami",
        "outputId": "17d310b0-3ef8-44d5-e41b-e4a57efa9dc2"
      },
      "source": [
        "df2['Source '].value_counts()"
      ],
      "execution_count": null,
      "outputs": [
        {
          "output_type": "execute_result",
          "data": {
            "text/plain": [
              "None         9497\n",
              "Source_7     2965\n",
              "Source_9     1459\n",
              "Source_11    1421\n",
              "Source_13     786\n",
              "Source_3      418\n",
              "Source_1      137\n",
              "Source_10     106\n",
              "Source_2       86\n",
              "Source_4       43\n",
              "Source_6       19\n",
              "Source_0        7\n",
              "Source_12       2\n",
              "Source_5        1\n",
              "Name: Source , dtype: int64"
            ]
          },
          "metadata": {
            "tags": []
          },
          "execution_count": 23
        }
      ]
    },
    {
      "cell_type": "code",
      "metadata": {
        "id": "J9Wl4IlClamo",
        "outputId": "4faeb9c4-e91a-46c4-de8b-6ae61aad261e"
      },
      "source": [
        "df2['Billing_Country'].value_counts()"
      ],
      "execution_count": null,
      "outputs": [
        {
          "output_type": "execute_result",
          "data": {
            "text/plain": [
              "Japan                                         4879\n",
              "United States                                 3802\n",
              "Germany                                       1979\n",
              "Australia                                     1169\n",
              "India                                          672\n",
              "Netherlands                                    563\n",
              "Singapore                                      432\n",
              "France                                         396\n",
              "Spain                                          317\n",
              "Italy                                          295\n",
              "United Kingdom                                 284\n",
              "Belgium                                        226\n",
              "China                                          222\n",
              "Thailand                                       195\n",
              "Austria                                        145\n",
              "Indonesia                                      142\n",
              "Philippines                                    138\n",
              "Luxembourg                                     136\n",
              "Canada                                         120\n",
              "Jordan                                         106\n",
              "Sri Lanka                                      105\n",
              "Poland                                          53\n",
              "Cyprus                                          46\n",
              "United Arab Emirates                            41\n",
              "New Zealand                                     39\n",
              "Norway                                          38\n",
              "Viet Nam                                        37\n",
              "Taiwan                                          34\n",
              "Portugal                                        27\n",
              "None                                            27\n",
              "                                              ... \n",
              "Myanmar                                          4\n",
              "Macedonia, the former Yugoslav Republic of       4\n",
              "Bulgaria                                         4\n",
              "Cambodia                                         4\n",
              "Kuwait                                           3\n",
              "Bahrain                                          2\n",
              "Jamaica                                          2\n",
              "Ghana                                            2\n",
              "Reunion                                          2\n",
              "Estonia                                          2\n",
              "Slovakia                                         2\n",
              "Palestine                                        2\n",
              "Belarus                                          2\n",
              "Armenia                                          2\n",
              "Albania                                          2\n",
              "Argentina                                        1\n",
              "Kenya                                            1\n",
              "Chile                                            1\n",
              "Bosnia and Herzegovina                           1\n",
              "Peru                                             1\n",
              "Colombia                                         1\n",
              "Bangladesh                                       1\n",
              "Liechtenstein                                    1\n",
              "Oman                                             1\n",
              "Belize                                           1\n",
              "Malaysia                                         1\n",
              "Libya                                            1\n",
              "Morocco                                          1\n",
              "Ecuador                                          1\n",
              "Dominican Republic                               1\n",
              "Name: Billing_Country, Length: 80, dtype: int64"
            ]
          },
          "metadata": {
            "tags": []
          },
          "execution_count": 24
        }
      ]
    },
    {
      "cell_type": "code",
      "metadata": {
        "id": "td--8gitlamt",
        "outputId": "8b53babe-1bed-4d6a-c07e-b76afb6d2e7f"
      },
      "source": [
        "df2['Quote_Type'].value_counts()"
      ],
      "execution_count": null,
      "outputs": [
        {
          "output_type": "execute_result",
          "data": {
            "text/plain": [
              "Non Binding    16777\n",
              "Binding          170\n",
              "Name: Quote_Type, dtype: int64"
            ]
          },
          "metadata": {
            "tags": []
          },
          "execution_count": 25
        }
      ]
    },
    {
      "cell_type": "code",
      "metadata": {
        "id": "Ua9dkuTFlamz",
        "outputId": "b5827b2a-54ad-42df-a7f6-6fdbd1dac9a3"
      },
      "source": [
        "df2['Currency'].value_counts()"
      ],
      "execution_count": null,
      "outputs": [
        {
          "output_type": "execute_result",
          "data": {
            "text/plain": [
              "None    16052\n",
              "EUR       475\n",
              "USD       420\n",
              "Name: Currency, dtype: int64"
            ]
          },
          "metadata": {
            "tags": []
          },
          "execution_count": 26
        }
      ]
    },
    {
      "cell_type": "code",
      "metadata": {
        "id": "JHxA9-9Nlam6",
        "outputId": "c85e441c-f67f-4b86-ba54-57091b8f297c"
      },
      "source": [
        "df2['ASP_Currency'].value_counts()"
      ],
      "execution_count": null,
      "outputs": [
        {
          "output_type": "execute_result",
          "data": {
            "text/plain": [
              "USD    7361\n",
              "JPY    4522\n",
              "EUR    4503\n",
              "AUD     556\n",
              "GBP       5\n",
              "Name: ASP_Currency, dtype: int64"
            ]
          },
          "metadata": {
            "tags": []
          },
          "execution_count": 27
        }
      ]
    },
    {
      "cell_type": "code",
      "metadata": {
        "id": "VRI0tUCjlam_",
        "outputId": "719789dc-8305-4947-d7db-481ef9f334a6"
      },
      "source": [
        "df2['ASP_(converted)_Currency'].value_counts()"
      ],
      "execution_count": null,
      "outputs": [
        {
          "output_type": "execute_result",
          "data": {
            "text/plain": [
              "USD    16947\n",
              "Name: ASP_(converted)_Currency, dtype: int64"
            ]
          },
          "metadata": {
            "tags": []
          },
          "execution_count": 28
        }
      ]
    },
    {
      "cell_type": "code",
      "metadata": {
        "id": "WSQnJ2hrlanE",
        "outputId": "c25f0d5d-198d-4ff8-b354-c81359c7e84b"
      },
      "source": [
        "df2['Delivery_Quarter'].value_counts()"
      ],
      "execution_count": null,
      "outputs": [
        {
          "output_type": "execute_result",
          "data": {
            "text/plain": [
              "Q2    4443\n",
              "Q1    4317\n",
              "Q4    4144\n",
              "Q3    4043\n",
              "Name: Delivery_Quarter, dtype: int64"
            ]
          },
          "metadata": {
            "tags": []
          },
          "execution_count": 29
        }
      ]
    },
    {
      "cell_type": "code",
      "metadata": {
        "id": "UL1CBiJzlanK",
        "outputId": "5e5137db-1a55-4794-dfff-38de684d96ea"
      },
      "source": [
        "df2['Total_Taxable_Amount_Currency'].value_counts()"
      ],
      "execution_count": null,
      "outputs": [
        {
          "output_type": "execute_result",
          "data": {
            "text/plain": [
              "USD    7347\n",
              "JPY    4525\n",
              "EUR    4518\n",
              "AUD     553\n",
              "GBP       4\n",
              "Name: Total_Taxable_Amount_Currency, dtype: int64"
            ]
          },
          "metadata": {
            "tags": []
          },
          "execution_count": 30
        }
      ]
    },
    {
      "cell_type": "code",
      "metadata": {
        "id": "fOfesThvlanQ",
        "outputId": "c48f30d4-9a8d-406d-d31c-46bef671a948"
      },
      "source": [
        "df2['Delivery_Year'].value_counts()"
      ],
      "execution_count": null,
      "outputs": [
        {
          "output_type": "execute_result",
          "data": {
            "text/plain": [
              "2017    6318\n",
              "2018    5830\n",
              "2016    4371\n",
              "2019     414\n",
              "2020      14\n",
              "Name: Delivery_Year, dtype: int64"
            ]
          },
          "metadata": {
            "tags": []
          },
          "execution_count": 31
        }
      ]
    },
    {
      "cell_type": "code",
      "metadata": {
        "id": "obZo_1NRlanX",
        "outputId": "8b5ba69a-1cb4-49df-bc17-b87700a7cd20"
      },
      "source": [
        "df2['ASP_(converted)'].value_counts()"
      ],
      "execution_count": null,
      "outputs": [
        {
          "output_type": "execute_result",
          "data": {
            "text/plain": [
              "0.38000    570\n",
              "0.40000    497\n",
              "0.36000    326\n",
              "0.39000    325\n",
              "0.00000    300\n",
              "          ... \n",
              "0.32365      1\n",
              "0.67868      1\n",
              "0.43820      1\n",
              "0.47300      1\n",
              "0.30567      1\n",
              "Name: ASP_(converted), Length: 441, dtype: int64"
            ]
          },
          "metadata": {
            "tags": []
          },
          "execution_count": 32
        }
      ]
    },
    {
      "cell_type": "code",
      "metadata": {
        "id": "CkRqnOGplane"
      },
      "source": [
        "#df2['TRF'].value_counts()"
      ],
      "execution_count": null,
      "outputs": []
    },
    {
      "cell_type": "markdown",
      "metadata": {
        "id": "EvYM386zlanj"
      },
      "source": [
        "## Análisis de precio promedio de venta (en USD) por región"
      ]
    },
    {
      "cell_type": "code",
      "metadata": {
        "id": "CTIfEUhVlank",
        "outputId": "ddcf6065-2f2c-4dd9-9086-e7a131f0ee49"
      },
      "source": [
        "df2[['Region','Delivery_Year','ASP_(converted)','ASP_(converted)_Currency']].head()"
      ],
      "execution_count": null,
      "outputs": [
        {
          "output_type": "execute_result",
          "data": {
            "text/html": [
              "<div>\n",
              "<style scoped>\n",
              "    .dataframe tbody tr th:only-of-type {\n",
              "        vertical-align: middle;\n",
              "    }\n",
              "\n",
              "    .dataframe tbody tr th {\n",
              "        vertical-align: top;\n",
              "    }\n",
              "\n",
              "    .dataframe thead th {\n",
              "        text-align: right;\n",
              "    }\n",
              "</style>\n",
              "<table border=\"1\" class=\"dataframe\">\n",
              "  <thead>\n",
              "    <tr style=\"text-align: right;\">\n",
              "      <th></th>\n",
              "      <th>Region</th>\n",
              "      <th>Delivery_Year</th>\n",
              "      <th>ASP_(converted)</th>\n",
              "      <th>ASP_(converted)_Currency</th>\n",
              "    </tr>\n",
              "  </thead>\n",
              "  <tbody>\n",
              "    <tr>\n",
              "      <th>0</th>\n",
              "      <td>EMEA</td>\n",
              "      <td>2016</td>\n",
              "      <td>0.58817</td>\n",
              "      <td>USD</td>\n",
              "    </tr>\n",
              "    <tr>\n",
              "      <th>1</th>\n",
              "      <td>EMEA</td>\n",
              "      <td>2016</td>\n",
              "      <td>0.59948</td>\n",
              "      <td>USD</td>\n",
              "    </tr>\n",
              "    <tr>\n",
              "      <th>2</th>\n",
              "      <td>Americas</td>\n",
              "      <td>2016</td>\n",
              "      <td>0.48000</td>\n",
              "      <td>USD</td>\n",
              "    </tr>\n",
              "    <tr>\n",
              "      <th>3</th>\n",
              "      <td>Americas</td>\n",
              "      <td>2018</td>\n",
              "      <td>0.53000</td>\n",
              "      <td>USD</td>\n",
              "    </tr>\n",
              "    <tr>\n",
              "      <th>4</th>\n",
              "      <td>Americas</td>\n",
              "      <td>2018</td>\n",
              "      <td>0.53000</td>\n",
              "      <td>USD</td>\n",
              "    </tr>\n",
              "  </tbody>\n",
              "</table>\n",
              "</div>"
            ],
            "text/plain": [
              "     Region  Delivery_Year  ASP_(converted) ASP_(converted)_Currency\n",
              "0      EMEA           2016          0.58817                      USD\n",
              "1      EMEA           2016          0.59948                      USD\n",
              "2  Americas           2016          0.48000                      USD\n",
              "3  Americas           2018          0.53000                      USD\n",
              "4  Americas           2018          0.53000                      USD"
            ]
          },
          "metadata": {
            "tags": []
          },
          "execution_count": 34
        }
      ]
    },
    {
      "cell_type": "code",
      "metadata": {
        "id": "iPeMWU18_2uX",
        "outputId": "5d161e70-a071-47ba-d43a-50f42a83308f",
        "colab": {
          "base_uri": "https://localhost:8080/"
        }
      },
      "source": [
        "df2Region=df2.groupby('Region')\n",
        "df2Region['Stage'].max()"
      ],
      "execution_count": 23,
      "outputs": [
        {
          "output_type": "execute_result",
          "data": {
            "text/plain": [
              "Region\n",
              "APAC           Qualification\n",
              "Americas            Proposal\n",
              "EMEA                Proposal\n",
              "Japan          Qualification\n",
              "Middle East         Proposal\n",
              "Name: Stage, dtype: object"
            ]
          },
          "metadata": {
            "tags": []
          },
          "execution_count": 23
        }
      ]
    },
    {
      "cell_type": "code",
      "metadata": {
        "id": "n5sFLrYKlans",
        "outputId": "5175069c-9037-4fbc-bde6-7654f23eb4ce"
      },
      "source": [
        "precioVentaAnualPorRegion=df2.groupby(['Region','Delivery_Year']).agg({'ASP_(converted)': 'mean'}).sort_values('ASP_(converted)', ascending=False)\n",
        "precioVentaAnualPorRegion"
      ],
      "execution_count": null,
      "outputs": [
        {
          "output_type": "execute_result",
          "data": {
            "text/html": [
              "<div>\n",
              "<style scoped>\n",
              "    .dataframe tbody tr th:only-of-type {\n",
              "        vertical-align: middle;\n",
              "    }\n",
              "\n",
              "    .dataframe tbody tr th {\n",
              "        vertical-align: top;\n",
              "    }\n",
              "\n",
              "    .dataframe thead th {\n",
              "        text-align: right;\n",
              "    }\n",
              "</style>\n",
              "<table border=\"1\" class=\"dataframe\">\n",
              "  <thead>\n",
              "    <tr style=\"text-align: right;\">\n",
              "      <th></th>\n",
              "      <th></th>\n",
              "      <th>ASP_(converted)</th>\n",
              "    </tr>\n",
              "    <tr>\n",
              "      <th>Region</th>\n",
              "      <th>Delivery_Year</th>\n",
              "      <th></th>\n",
              "    </tr>\n",
              "  </thead>\n",
              "  <tbody>\n",
              "    <tr>\n",
              "      <th>Japan</th>\n",
              "      <th>2016</th>\n",
              "      <td>0.615010</td>\n",
              "    </tr>\n",
              "    <tr>\n",
              "      <th>EMEA</th>\n",
              "      <th>2016</th>\n",
              "      <td>0.605675</td>\n",
              "    </tr>\n",
              "    <tr>\n",
              "      <th rowspan=\"2\" valign=\"top\">Americas</th>\n",
              "      <th>2016</th>\n",
              "      <td>0.576835</td>\n",
              "    </tr>\n",
              "    <tr>\n",
              "      <th>2018</th>\n",
              "      <td>0.457564</td>\n",
              "    </tr>\n",
              "    <tr>\n",
              "      <th>APAC</th>\n",
              "      <th>2016</th>\n",
              "      <td>0.451346</td>\n",
              "    </tr>\n",
              "    <tr>\n",
              "      <th>EMEA</th>\n",
              "      <th>2017</th>\n",
              "      <td>0.431987</td>\n",
              "    </tr>\n",
              "    <tr>\n",
              "      <th>Middle East</th>\n",
              "      <th>2016</th>\n",
              "      <td>0.423231</td>\n",
              "    </tr>\n",
              "    <tr>\n",
              "      <th>Japan</th>\n",
              "      <th>2017</th>\n",
              "      <td>0.418712</td>\n",
              "    </tr>\n",
              "    <tr>\n",
              "      <th>Americas</th>\n",
              "      <th>2017</th>\n",
              "      <td>0.397889</td>\n",
              "    </tr>\n",
              "    <tr>\n",
              "      <th>Japan</th>\n",
              "      <th>2018</th>\n",
              "      <td>0.393486</td>\n",
              "    </tr>\n",
              "    <tr>\n",
              "      <th>Americas</th>\n",
              "      <th>2019</th>\n",
              "      <td>0.393256</td>\n",
              "    </tr>\n",
              "    <tr>\n",
              "      <th>Japan</th>\n",
              "      <th>2019</th>\n",
              "      <td>0.378218</td>\n",
              "    </tr>\n",
              "    <tr>\n",
              "      <th>EMEA</th>\n",
              "      <th>2018</th>\n",
              "      <td>0.370901</td>\n",
              "    </tr>\n",
              "    <tr>\n",
              "      <th>Middle East</th>\n",
              "      <th>2017</th>\n",
              "      <td>0.358714</td>\n",
              "    </tr>\n",
              "    <tr>\n",
              "      <th rowspan=\"2\" valign=\"top\">APAC</th>\n",
              "      <th>2017</th>\n",
              "      <td>0.357214</td>\n",
              "    </tr>\n",
              "    <tr>\n",
              "      <th>2018</th>\n",
              "      <td>0.353794</td>\n",
              "    </tr>\n",
              "    <tr>\n",
              "      <th>Middle East</th>\n",
              "      <th>2018</th>\n",
              "      <td>0.343846</td>\n",
              "    </tr>\n",
              "    <tr>\n",
              "      <th>Japan</th>\n",
              "      <th>2020</th>\n",
              "      <td>0.336584</td>\n",
              "    </tr>\n",
              "    <tr>\n",
              "      <th rowspan=\"2\" valign=\"top\">APAC</th>\n",
              "      <th>2019</th>\n",
              "      <td>0.324960</td>\n",
              "    </tr>\n",
              "    <tr>\n",
              "      <th>2020</th>\n",
              "      <td>0.315000</td>\n",
              "    </tr>\n",
              "    <tr>\n",
              "      <th>EMEA</th>\n",
              "      <th>2019</th>\n",
              "      <td>0.313476</td>\n",
              "    </tr>\n",
              "    <tr>\n",
              "      <th>Middle East</th>\n",
              "      <th>2019</th>\n",
              "      <td>0.299375</td>\n",
              "    </tr>\n",
              "    <tr>\n",
              "      <th>Americas</th>\n",
              "      <th>2020</th>\n",
              "      <td>0.295000</td>\n",
              "    </tr>\n",
              "  </tbody>\n",
              "</table>\n",
              "</div>"
            ],
            "text/plain": [
              "                           ASP_(converted)\n",
              "Region      Delivery_Year                 \n",
              "Japan       2016                  0.615010\n",
              "EMEA        2016                  0.605675\n",
              "Americas    2016                  0.576835\n",
              "            2018                  0.457564\n",
              "APAC        2016                  0.451346\n",
              "EMEA        2017                  0.431987\n",
              "Middle East 2016                  0.423231\n",
              "Japan       2017                  0.418712\n",
              "Americas    2017                  0.397889\n",
              "Japan       2018                  0.393486\n",
              "Americas    2019                  0.393256\n",
              "Japan       2019                  0.378218\n",
              "EMEA        2018                  0.370901\n",
              "Middle East 2017                  0.358714\n",
              "APAC        2017                  0.357214\n",
              "            2018                  0.353794\n",
              "Middle East 2018                  0.343846\n",
              "Japan       2020                  0.336584\n",
              "APAC        2019                  0.324960\n",
              "            2020                  0.315000\n",
              "EMEA        2019                  0.313476\n",
              "Middle East 2019                  0.299375\n",
              "Americas    2020                  0.295000"
            ]
          },
          "metadata": {
            "tags": []
          },
          "execution_count": 35
        }
      ]
    },
    {
      "cell_type": "code",
      "metadata": {
        "id": "3YeDpj3elan0",
        "outputId": "b805b2b9-c712-4bc8-d497-9f4502d62933"
      },
      "source": [
        "dato1=precioVentaAnualPorRegion.pivot_table(index='Region',columns='Delivery_Year',values='ASP_(converted)')\n",
        "#dato1=dato.rename(index={'APAC': 'Asia Pacific (APAC)', 'EMEA': 'Europe Middle East Africa (EMEA)'})\n",
        "dato1"
      ],
      "execution_count": null,
      "outputs": [
        {
          "output_type": "execute_result",
          "data": {
            "text/html": [
              "<div>\n",
              "<style scoped>\n",
              "    .dataframe tbody tr th:only-of-type {\n",
              "        vertical-align: middle;\n",
              "    }\n",
              "\n",
              "    .dataframe tbody tr th {\n",
              "        vertical-align: top;\n",
              "    }\n",
              "\n",
              "    .dataframe thead th {\n",
              "        text-align: right;\n",
              "    }\n",
              "</style>\n",
              "<table border=\"1\" class=\"dataframe\">\n",
              "  <thead>\n",
              "    <tr style=\"text-align: right;\">\n",
              "      <th>Delivery_Year</th>\n",
              "      <th>2016</th>\n",
              "      <th>2017</th>\n",
              "      <th>2018</th>\n",
              "      <th>2019</th>\n",
              "      <th>2020</th>\n",
              "    </tr>\n",
              "    <tr>\n",
              "      <th>Region</th>\n",
              "      <th></th>\n",
              "      <th></th>\n",
              "      <th></th>\n",
              "      <th></th>\n",
              "      <th></th>\n",
              "    </tr>\n",
              "  </thead>\n",
              "  <tbody>\n",
              "    <tr>\n",
              "      <th>APAC</th>\n",
              "      <td>0.451346</td>\n",
              "      <td>0.357214</td>\n",
              "      <td>0.353794</td>\n",
              "      <td>0.324960</td>\n",
              "      <td>0.315000</td>\n",
              "    </tr>\n",
              "    <tr>\n",
              "      <th>Americas</th>\n",
              "      <td>0.576835</td>\n",
              "      <td>0.397889</td>\n",
              "      <td>0.457564</td>\n",
              "      <td>0.393256</td>\n",
              "      <td>0.295000</td>\n",
              "    </tr>\n",
              "    <tr>\n",
              "      <th>EMEA</th>\n",
              "      <td>0.605675</td>\n",
              "      <td>0.431987</td>\n",
              "      <td>0.370901</td>\n",
              "      <td>0.313476</td>\n",
              "      <td>NaN</td>\n",
              "    </tr>\n",
              "    <tr>\n",
              "      <th>Japan</th>\n",
              "      <td>0.615010</td>\n",
              "      <td>0.418712</td>\n",
              "      <td>0.393486</td>\n",
              "      <td>0.378218</td>\n",
              "      <td>0.336584</td>\n",
              "    </tr>\n",
              "    <tr>\n",
              "      <th>Middle East</th>\n",
              "      <td>0.423231</td>\n",
              "      <td>0.358714</td>\n",
              "      <td>0.343846</td>\n",
              "      <td>0.299375</td>\n",
              "      <td>NaN</td>\n",
              "    </tr>\n",
              "  </tbody>\n",
              "</table>\n",
              "</div>"
            ],
            "text/plain": [
              "Delivery_Year      2016      2017      2018      2019      2020\n",
              "Region                                                         \n",
              "APAC           0.451346  0.357214  0.353794  0.324960  0.315000\n",
              "Americas       0.576835  0.397889  0.457564  0.393256  0.295000\n",
              "EMEA           0.605675  0.431987  0.370901  0.313476       NaN\n",
              "Japan          0.615010  0.418712  0.393486  0.378218  0.336584\n",
              "Middle East    0.423231  0.358714  0.343846  0.299375       NaN"
            ]
          },
          "metadata": {
            "tags": []
          },
          "execution_count": 36
        }
      ]
    },
    {
      "cell_type": "code",
      "metadata": {
        "id": "iVoq8kCJlan6",
        "outputId": "af922dc0-e4eb-4b5c-d1f9-c1fa3dbead75"
      },
      "source": [
        "datos=dato1\n",
        "titulo='Precio promedio de venta anual (en USD) por region'\n",
        "etiqueta_x='Precio promedio de venta (en USD)'\n",
        "etiqueta_y='Regiones'\n",
        "tamanio=(15,10)\n",
        "plot=datos.plot(kind='barh',figsize=tamanio,fontsize=18)\n",
        "plot.set_title(titulo,fontSize=18)\n",
        "plot.set_xlabel(etiqueta_x,fontSize=18)\n",
        "plot.set_ylabel(etiqueta_y,fontSize=18)"
      ],
      "execution_count": null,
      "outputs": [
        {
          "output_type": "execute_result",
          "data": {
            "text/plain": [
              "Text(0, 0.5, 'Regiones')"
            ]
          },
          "metadata": {
            "tags": []
          },
          "execution_count": 37
        },
        {
          "output_type": "display_data",
          "data": {
            "image/png": "[encoded data removed]",
            "text/plain": [
              "<Figure size 1080x720 with 1 Axes>"
            ]
          },
          "metadata": {
            "tags": [],
            "needs_background": "light"
          }
        }
      ]
    },
    {
      "cell_type": "markdown",
      "metadata": {
        "id": "r-5V6vLclaoA"
      },
      "source": [
        "#### Siglas:\n",
        "* __EMEA:Europe Middle East Africa__\n",
        "* __APAC:Asia Pacific__"
      ]
    },
    {
      "cell_type": "markdown",
      "metadata": {
        "id": "T90lUYqQlaoB"
      },
      "source": [
        "Del análisis del gráfico se puede observar que:\n",
        "* En las 5 regiones el precio promedio de venta disminuye año a año, con la salvedad de que en la región 'Americas', en el año 2018 hay un aumento para luego volver a caer en el año 2019\n",
        "* 'Japan' es la región con más valor de precio promedio de venta del 2016 a 2020, salvo en el año 2018 en el que es superado por la región 'Americas'\n",
        "* En las 5 regiones se da la situación de que el precio promedio de venta es mucho mayor en el año 2016 respecto de los años siguientes. Entre los años 2017 y 2020 las diferencias entre precios promedio de venta son mucho menores"
      ]
    },
    {
      "cell_type": "markdown",
      "metadata": {
        "id": "6HJFQ0Q1laoC"
      },
      "source": [
        "## Análisis de Toneladas De Refrigeración por región"
      ]
    },
    {
      "cell_type": "code",
      "metadata": {
        "id": "QUsLFAy3laoD",
        "outputId": "6726e8bd-8a23-4631-a87d-e03155f50c06"
      },
      "source": [
        "df2[['Region','TRF']].groupby(\"Region\").sum().head()"
      ],
      "execution_count": null,
      "outputs": [
        {
          "output_type": "execute_result",
          "data": {
            "text/html": [
              "<div>\n",
              "<style scoped>\n",
              "    .dataframe tbody tr th:only-of-type {\n",
              "        vertical-align: middle;\n",
              "    }\n",
              "\n",
              "    .dataframe tbody tr th {\n",
              "        vertical-align: top;\n",
              "    }\n",
              "\n",
              "    .dataframe thead th {\n",
              "        text-align: right;\n",
              "    }\n",
              "</style>\n",
              "<table border=\"1\" class=\"dataframe\">\n",
              "  <thead>\n",
              "    <tr style=\"text-align: right;\">\n",
              "      <th></th>\n",
              "      <th>TRF</th>\n",
              "    </tr>\n",
              "    <tr>\n",
              "      <th>Region</th>\n",
              "      <th></th>\n",
              "    </tr>\n",
              "  </thead>\n",
              "  <tbody>\n",
              "    <tr>\n",
              "      <th>APAC</th>\n",
              "      <td>10732</td>\n",
              "    </tr>\n",
              "    <tr>\n",
              "      <th>Americas</th>\n",
              "      <td>16258</td>\n",
              "    </tr>\n",
              "    <tr>\n",
              "      <th>EMEA</th>\n",
              "      <td>10840</td>\n",
              "    </tr>\n",
              "    <tr>\n",
              "      <th>Japan</th>\n",
              "      <td>953</td>\n",
              "    </tr>\n",
              "    <tr>\n",
              "      <th>Middle East</th>\n",
              "      <td>842</td>\n",
              "    </tr>\n",
              "  </tbody>\n",
              "</table>\n",
              "</div>"
            ],
            "text/plain": [
              "               TRF\n",
              "Region            \n",
              "APAC         10732\n",
              "Americas     16258\n",
              "EMEA         10840\n",
              "Japan          953\n",
              "Middle East    842"
            ]
          },
          "metadata": {
            "tags": []
          },
          "execution_count": 38
        }
      ]
    },
    {
      "cell_type": "code",
      "metadata": {
        "id": "QQIEjgwDlaoI",
        "outputId": "45105af3-97fc-4439-a358-896874a9ad47"
      },
      "source": [
        "TRFAnualPorRegion=df2.groupby(['Region','Delivery_Year']).agg({'TRF': 'mean'}).sort_values('TRF', ascending=False)\n",
        "TRFAnualPorRegion"
      ],
      "execution_count": null,
      "outputs": [
        {
          "output_type": "execute_result",
          "data": {
            "text/html": [
              "<div>\n",
              "<style scoped>\n",
              "    .dataframe tbody tr th:only-of-type {\n",
              "        vertical-align: middle;\n",
              "    }\n",
              "\n",
              "    .dataframe tbody tr th {\n",
              "        vertical-align: top;\n",
              "    }\n",
              "\n",
              "    .dataframe thead th {\n",
              "        text-align: right;\n",
              "    }\n",
              "</style>\n",
              "<table border=\"1\" class=\"dataframe\">\n",
              "  <thead>\n",
              "    <tr style=\"text-align: right;\">\n",
              "      <th></th>\n",
              "      <th></th>\n",
              "      <th>TRF</th>\n",
              "    </tr>\n",
              "    <tr>\n",
              "      <th>Region</th>\n",
              "      <th>Delivery_Year</th>\n",
              "      <th></th>\n",
              "    </tr>\n",
              "  </thead>\n",
              "  <tbody>\n",
              "    <tr>\n",
              "      <th>APAC</th>\n",
              "      <th>2019</th>\n",
              "      <td>20.653465</td>\n",
              "    </tr>\n",
              "    <tr>\n",
              "      <th rowspan=\"2\" valign=\"top\">Americas</th>\n",
              "      <th>2019</th>\n",
              "      <td>14.931034</td>\n",
              "    </tr>\n",
              "    <tr>\n",
              "      <th>2016</th>\n",
              "      <td>7.851124</td>\n",
              "    </tr>\n",
              "    <tr>\n",
              "      <th>Japan</th>\n",
              "      <th>2020</th>\n",
              "      <td>7.090909</td>\n",
              "    </tr>\n",
              "    <tr>\n",
              "      <th>EMEA</th>\n",
              "      <th>2019</th>\n",
              "      <td>6.938776</td>\n",
              "    </tr>\n",
              "    <tr>\n",
              "      <th>Middle East</th>\n",
              "      <th>2017</th>\n",
              "      <td>6.610390</td>\n",
              "    </tr>\n",
              "    <tr>\n",
              "      <th>Americas</th>\n",
              "      <th>2020</th>\n",
              "      <td>4.000000</td>\n",
              "    </tr>\n",
              "    <tr>\n",
              "      <th>Middle East</th>\n",
              "      <th>2018</th>\n",
              "      <td>3.756410</td>\n",
              "    </tr>\n",
              "    <tr>\n",
              "      <th>APAC</th>\n",
              "      <th>2018</th>\n",
              "      <td>3.596557</td>\n",
              "    </tr>\n",
              "    <tr>\n",
              "      <th>Americas</th>\n",
              "      <th>2017</th>\n",
              "      <td>3.334986</td>\n",
              "    </tr>\n",
              "    <tr>\n",
              "      <th>EMEA</th>\n",
              "      <th>2017</th>\n",
              "      <td>2.832571</td>\n",
              "    </tr>\n",
              "    <tr>\n",
              "      <th>Americas</th>\n",
              "      <th>2018</th>\n",
              "      <td>2.478286</td>\n",
              "    </tr>\n",
              "    <tr>\n",
              "      <th>APAC</th>\n",
              "      <th>2017</th>\n",
              "      <td>2.461901</td>\n",
              "    </tr>\n",
              "    <tr>\n",
              "      <th>EMEA</th>\n",
              "      <th>2016</th>\n",
              "      <td>2.268672</td>\n",
              "    </tr>\n",
              "    <tr>\n",
              "      <th>Middle East</th>\n",
              "      <th>2016</th>\n",
              "      <td>1.769231</td>\n",
              "    </tr>\n",
              "    <tr>\n",
              "      <th>Japan</th>\n",
              "      <th>2019</th>\n",
              "      <td>1.698795</td>\n",
              "    </tr>\n",
              "    <tr>\n",
              "      <th>EMEA</th>\n",
              "      <th>2018</th>\n",
              "      <td>1.628510</td>\n",
              "    </tr>\n",
              "    <tr>\n",
              "      <th>APAC</th>\n",
              "      <th>2016</th>\n",
              "      <td>1.281818</td>\n",
              "    </tr>\n",
              "    <tr>\n",
              "      <th>Middle East</th>\n",
              "      <th>2019</th>\n",
              "      <td>1.062500</td>\n",
              "    </tr>\n",
              "    <tr>\n",
              "      <th>APAC</th>\n",
              "      <th>2020</th>\n",
              "      <td>1.000000</td>\n",
              "    </tr>\n",
              "    <tr>\n",
              "      <th rowspan=\"3\" valign=\"top\">Japan</th>\n",
              "      <th>2018</th>\n",
              "      <td>0.424419</td>\n",
              "    </tr>\n",
              "    <tr>\n",
              "      <th>2017</th>\n",
              "      <td>0.126800</td>\n",
              "    </tr>\n",
              "    <tr>\n",
              "      <th>2016</th>\n",
              "      <td>0.065666</td>\n",
              "    </tr>\n",
              "  </tbody>\n",
              "</table>\n",
              "</div>"
            ],
            "text/plain": [
              "                                 TRF\n",
              "Region      Delivery_Year           \n",
              "APAC        2019           20.653465\n",
              "Americas    2019           14.931034\n",
              "            2016            7.851124\n",
              "Japan       2020            7.090909\n",
              "EMEA        2019            6.938776\n",
              "Middle East 2017            6.610390\n",
              "Americas    2020            4.000000\n",
              "Middle East 2018            3.756410\n",
              "APAC        2018            3.596557\n",
              "Americas    2017            3.334986\n",
              "EMEA        2017            2.832571\n",
              "Americas    2018            2.478286\n",
              "APAC        2017            2.461901\n",
              "EMEA        2016            2.268672\n",
              "Middle East 2016            1.769231\n",
              "Japan       2019            1.698795\n",
              "EMEA        2018            1.628510\n",
              "APAC        2016            1.281818\n",
              "Middle East 2019            1.062500\n",
              "APAC        2020            1.000000\n",
              "Japan       2018            0.424419\n",
              "            2017            0.126800\n",
              "            2016            0.065666"
            ]
          },
          "metadata": {
            "tags": []
          },
          "execution_count": 39
        }
      ]
    },
    {
      "cell_type": "code",
      "metadata": {
        "id": "ovUxzRcTlaoQ",
        "outputId": "e87a3530-edfd-45b8-f822-a3560a95e778"
      },
      "source": [
        "dato2=TRFAnualPorRegion.pivot_table(index='Region',columns='Delivery_Year',values='TRF')\n",
        "dato2"
      ],
      "execution_count": null,
      "outputs": [
        {
          "output_type": "execute_result",
          "data": {
            "text/html": [
              "<div>\n",
              "<style scoped>\n",
              "    .dataframe tbody tr th:only-of-type {\n",
              "        vertical-align: middle;\n",
              "    }\n",
              "\n",
              "    .dataframe tbody tr th {\n",
              "        vertical-align: top;\n",
              "    }\n",
              "\n",
              "    .dataframe thead th {\n",
              "        text-align: right;\n",
              "    }\n",
              "</style>\n",
              "<table border=\"1\" class=\"dataframe\">\n",
              "  <thead>\n",
              "    <tr style=\"text-align: right;\">\n",
              "      <th>Delivery_Year</th>\n",
              "      <th>2016</th>\n",
              "      <th>2017</th>\n",
              "      <th>2018</th>\n",
              "      <th>2019</th>\n",
              "      <th>2020</th>\n",
              "    </tr>\n",
              "    <tr>\n",
              "      <th>Region</th>\n",
              "      <th></th>\n",
              "      <th></th>\n",
              "      <th></th>\n",
              "      <th></th>\n",
              "      <th></th>\n",
              "    </tr>\n",
              "  </thead>\n",
              "  <tbody>\n",
              "    <tr>\n",
              "      <th>APAC</th>\n",
              "      <td>1.281818</td>\n",
              "      <td>2.461901</td>\n",
              "      <td>3.596557</td>\n",
              "      <td>20.653465</td>\n",
              "      <td>1.000000</td>\n",
              "    </tr>\n",
              "    <tr>\n",
              "      <th>Americas</th>\n",
              "      <td>7.851124</td>\n",
              "      <td>3.334986</td>\n",
              "      <td>2.478286</td>\n",
              "      <td>14.931034</td>\n",
              "      <td>4.000000</td>\n",
              "    </tr>\n",
              "    <tr>\n",
              "      <th>EMEA</th>\n",
              "      <td>2.268672</td>\n",
              "      <td>2.832571</td>\n",
              "      <td>1.628510</td>\n",
              "      <td>6.938776</td>\n",
              "      <td>NaN</td>\n",
              "    </tr>\n",
              "    <tr>\n",
              "      <th>Japan</th>\n",
              "      <td>0.065666</td>\n",
              "      <td>0.126800</td>\n",
              "      <td>0.424419</td>\n",
              "      <td>1.698795</td>\n",
              "      <td>7.090909</td>\n",
              "    </tr>\n",
              "    <tr>\n",
              "      <th>Middle East</th>\n",
              "      <td>1.769231</td>\n",
              "      <td>6.610390</td>\n",
              "      <td>3.756410</td>\n",
              "      <td>1.062500</td>\n",
              "      <td>NaN</td>\n",
              "    </tr>\n",
              "  </tbody>\n",
              "</table>\n",
              "</div>"
            ],
            "text/plain": [
              "Delivery_Year      2016      2017      2018       2019      2020\n",
              "Region                                                          \n",
              "APAC           1.281818  2.461901  3.596557  20.653465  1.000000\n",
              "Americas       7.851124  3.334986  2.478286  14.931034  4.000000\n",
              "EMEA           2.268672  2.832571  1.628510   6.938776       NaN\n",
              "Japan          0.065666  0.126800  0.424419   1.698795  7.090909\n",
              "Middle East    1.769231  6.610390  3.756410   1.062500       NaN"
            ]
          },
          "metadata": {
            "tags": []
          },
          "execution_count": 40
        }
      ]
    },
    {
      "cell_type": "code",
      "metadata": {
        "id": "u1D0SNsalaoW",
        "outputId": "98e94184-690d-48f8-9ba1-4cd055f4f668"
      },
      "source": [
        "datos=dato2\n",
        "titulo='Toneladas De Refrigeración anual por region'\n",
        "etiqueta_x='Toneladas De Refrigeración (TRF)'\n",
        "etiqueta_y='Regiones'\n",
        "tamanio=(15,10)\n",
        "plot=datos.plot(kind='barh',figsize=tamanio,fontsize=18)\n",
        "plot.set_title(titulo,fontSize=18)\n",
        "plot.set_xlabel(etiqueta_x,fontSize=18)\n",
        "plot.set_ylabel(etiqueta_y,fontSize=18)"
      ],
      "execution_count": null,
      "outputs": [
        {
          "output_type": "execute_result",
          "data": {
            "text/plain": [
              "Text(0, 0.5, 'Regiones')"
            ]
          },
          "metadata": {
            "tags": []
          },
          "execution_count": 41
        },
        {
          "output_type": "display_data",
          "data": {
            "image/png": "[encoded data removed]",
            "text/plain": [
              "<Figure size 1080x720 with 1 Axes>"
            ]
          },
          "metadata": {
            "tags": [],
            "needs_background": "light"
          }
        }
      ]
    },
    {
      "cell_type": "markdown",
      "metadata": {
        "id": "1xd4wWjdlaob"
      },
      "source": [
        "#### Siglas:\n",
        "* __EMEA:Europe Middle East Africa__\n",
        "* __APAC:Asia Pacific__"
      ]
    },
    {
      "cell_type": "markdown",
      "metadata": {
        "id": "X0bNeiAelaod"
      },
      "source": [
        "Del análisis del gráfico se puede observar que:\n",
        "* En la región 'APAC' año a año van aumentando las TRF, ocurriendo un aumento muy grande en 2019, pero luego ocurre una caída muy grande en el año 2020 (llegando a los niveles más bajos para esa región)\n",
        "* En la región 'Japan' año a año van aumentando las TRF, ocurriendo un aumento muy grande en 2020\n",
        "* En la región 'EMEA' hay un aumento de las TRF del año 2016 al 2017, luego disminuye a el nivel más bajo para esta región en el año 2018, para finalmente alcanzar un gran aumento en el año 2019 (que representa el nivel más alto para esa región)\n",
        "* En la región 'Americas' se observa una caida grande de las TRF del año 2016 al año 2017,continuando con una caída menor en el 2018 (que representa el nivel más bajo para esa región), luego se produce un gran aumento en el 2019 (siendo este el nivel más alto para la región) y finalmente en el año 2020 alcanza valores similares al año 2017\n",
        "* En la región 'Middle East' se observa como aumentan las TRF hasta llegar al máximo para esa región en el 2017, en el 2018 se observa una disminución que continúa en el 2019 (año en el cual se llega al mínimo para esa región)"
      ]
    },
    {
      "cell_type": "markdown",
      "metadata": {
        "id": "TOxtHB3plaof"
      },
      "source": [
        "## Análisis porcentaje de entregas planificadas trimestrales por región de por región"
      ]
    },
    {
      "cell_type": "code",
      "metadata": {
        "id": "9BXafHH5laog",
        "outputId": "1c40fb97-a582-4d05-aeb3-8f7cd8fde635"
      },
      "source": [
        "df2['Delivery_Quarter'].value_counts()"
      ],
      "execution_count": null,
      "outputs": [
        {
          "output_type": "execute_result",
          "data": {
            "text/plain": [
              "Q2    4443\n",
              "Q1    4317\n",
              "Q4    4144\n",
              "Q3    4043\n",
              "Name: Delivery_Quarter, dtype: int64"
            ]
          },
          "metadata": {
            "tags": []
          },
          "execution_count": 42
        }
      ]
    },
    {
      "cell_type": "code",
      "metadata": {
        "id": "paAOdEoIlaop",
        "outputId": "3897f210-b44a-4cd7-885e-b25c932ec727"
      },
      "source": [
        "df2['Cantidad']=1\n",
        "df2[['Region','Delivery_Quarter','Cantidad']].head()"
      ],
      "execution_count": null,
      "outputs": [
        {
          "output_type": "execute_result",
          "data": {
            "text/html": [
              "<div>\n",
              "<style scoped>\n",
              "    .dataframe tbody tr th:only-of-type {\n",
              "        vertical-align: middle;\n",
              "    }\n",
              "\n",
              "    .dataframe tbody tr th {\n",
              "        vertical-align: top;\n",
              "    }\n",
              "\n",
              "    .dataframe thead th {\n",
              "        text-align: right;\n",
              "    }\n",
              "</style>\n",
              "<table border=\"1\" class=\"dataframe\">\n",
              "  <thead>\n",
              "    <tr style=\"text-align: right;\">\n",
              "      <th></th>\n",
              "      <th>Region</th>\n",
              "      <th>Delivery_Quarter</th>\n",
              "      <th>Cantidad</th>\n",
              "    </tr>\n",
              "  </thead>\n",
              "  <tbody>\n",
              "    <tr>\n",
              "      <th>0</th>\n",
              "      <td>EMEA</td>\n",
              "      <td>Q2</td>\n",
              "      <td>1</td>\n",
              "    </tr>\n",
              "    <tr>\n",
              "      <th>1</th>\n",
              "      <td>EMEA</td>\n",
              "      <td>Q1</td>\n",
              "      <td>1</td>\n",
              "    </tr>\n",
              "    <tr>\n",
              "      <th>2</th>\n",
              "      <td>Americas</td>\n",
              "      <td>Q1</td>\n",
              "      <td>1</td>\n",
              "    </tr>\n",
              "    <tr>\n",
              "      <th>3</th>\n",
              "      <td>Americas</td>\n",
              "      <td>Q1</td>\n",
              "      <td>1</td>\n",
              "    </tr>\n",
              "    <tr>\n",
              "      <th>4</th>\n",
              "      <td>Americas</td>\n",
              "      <td>Q1</td>\n",
              "      <td>1</td>\n",
              "    </tr>\n",
              "  </tbody>\n",
              "</table>\n",
              "</div>"
            ],
            "text/plain": [
              "     Region Delivery_Quarter  Cantidad\n",
              "0      EMEA               Q2         1\n",
              "1      EMEA               Q1         1\n",
              "2  Americas               Q1         1\n",
              "3  Americas               Q1         1\n",
              "4  Americas               Q1         1"
            ]
          },
          "metadata": {
            "tags": []
          },
          "execution_count": 43
        }
      ]
    },
    {
      "cell_type": "code",
      "metadata": {
        "id": "QIhjcKsylaow",
        "outputId": "aa241e8e-dd7b-4d5f-9f95-e4fff6ff59f6"
      },
      "source": [
        "grouped=df2.groupby(['Region','Delivery_Quarter']).agg({'Cantidad': 'sum'})#.sort_values('Cantidad', ascending=False)\n",
        "grouped"
      ],
      "execution_count": null,
      "outputs": [
        {
          "output_type": "execute_result",
          "data": {
            "text/html": [
              "<div>\n",
              "<style scoped>\n",
              "    .dataframe tbody tr th:only-of-type {\n",
              "        vertical-align: middle;\n",
              "    }\n",
              "\n",
              "    .dataframe tbody tr th {\n",
              "        vertical-align: top;\n",
              "    }\n",
              "\n",
              "    .dataframe thead th {\n",
              "        text-align: right;\n",
              "    }\n",
              "</style>\n",
              "<table border=\"1\" class=\"dataframe\">\n",
              "  <thead>\n",
              "    <tr style=\"text-align: right;\">\n",
              "      <th></th>\n",
              "      <th></th>\n",
              "      <th>Cantidad</th>\n",
              "    </tr>\n",
              "    <tr>\n",
              "      <th>Region</th>\n",
              "      <th>Delivery_Quarter</th>\n",
              "      <th></th>\n",
              "    </tr>\n",
              "  </thead>\n",
              "  <tbody>\n",
              "    <tr>\n",
              "      <th rowspan=\"4\" valign=\"top\">APAC</th>\n",
              "      <th>Q1</th>\n",
              "      <td>767</td>\n",
              "    </tr>\n",
              "    <tr>\n",
              "      <th>Q2</th>\n",
              "      <td>846</td>\n",
              "    </tr>\n",
              "    <tr>\n",
              "      <th>Q3</th>\n",
              "      <td>799</td>\n",
              "    </tr>\n",
              "    <tr>\n",
              "      <th>Q4</th>\n",
              "      <td>850</td>\n",
              "    </tr>\n",
              "    <tr>\n",
              "      <th rowspan=\"4\" valign=\"top\">Americas</th>\n",
              "      <th>Q1</th>\n",
              "      <td>859</td>\n",
              "    </tr>\n",
              "    <tr>\n",
              "      <th>Q2</th>\n",
              "      <td>971</td>\n",
              "    </tr>\n",
              "    <tr>\n",
              "      <th>Q3</th>\n",
              "      <td>1067</td>\n",
              "    </tr>\n",
              "    <tr>\n",
              "      <th>Q4</th>\n",
              "      <td>1048</td>\n",
              "    </tr>\n",
              "    <tr>\n",
              "      <th rowspan=\"4\" valign=\"top\">EMEA</th>\n",
              "      <th>Q1</th>\n",
              "      <td>1073</td>\n",
              "    </tr>\n",
              "    <tr>\n",
              "      <th>Q2</th>\n",
              "      <td>1311</td>\n",
              "    </tr>\n",
              "    <tr>\n",
              "      <th>Q3</th>\n",
              "      <td>1179</td>\n",
              "    </tr>\n",
              "    <tr>\n",
              "      <th>Q4</th>\n",
              "      <td>1101</td>\n",
              "    </tr>\n",
              "    <tr>\n",
              "      <th rowspan=\"4\" valign=\"top\">Japan</th>\n",
              "      <th>Q1</th>\n",
              "      <td>1573</td>\n",
              "    </tr>\n",
              "    <tr>\n",
              "      <th>Q2</th>\n",
              "      <td>1281</td>\n",
              "    </tr>\n",
              "    <tr>\n",
              "      <th>Q3</th>\n",
              "      <td>930</td>\n",
              "    </tr>\n",
              "    <tr>\n",
              "      <th>Q4</th>\n",
              "      <td>1108</td>\n",
              "    </tr>\n",
              "    <tr>\n",
              "      <th rowspan=\"4\" valign=\"top\">Middle East</th>\n",
              "      <th>Q1</th>\n",
              "      <td>45</td>\n",
              "    </tr>\n",
              "    <tr>\n",
              "      <th>Q2</th>\n",
              "      <td>34</td>\n",
              "    </tr>\n",
              "    <tr>\n",
              "      <th>Q3</th>\n",
              "      <td>68</td>\n",
              "    </tr>\n",
              "    <tr>\n",
              "      <th>Q4</th>\n",
              "      <td>37</td>\n",
              "    </tr>\n",
              "  </tbody>\n",
              "</table>\n",
              "</div>"
            ],
            "text/plain": [
              "                              Cantidad\n",
              "Region      Delivery_Quarter          \n",
              "APAC        Q1                     767\n",
              "            Q2                     846\n",
              "            Q3                     799\n",
              "            Q4                     850\n",
              "Americas    Q1                     859\n",
              "            Q2                     971\n",
              "            Q3                    1067\n",
              "            Q4                    1048\n",
              "EMEA        Q1                    1073\n",
              "            Q2                    1311\n",
              "            Q3                    1179\n",
              "            Q4                    1101\n",
              "Japan       Q1                    1573\n",
              "            Q2                    1281\n",
              "            Q3                     930\n",
              "            Q4                    1108\n",
              "Middle East Q1                      45\n",
              "            Q2                      34\n",
              "            Q3                      68\n",
              "            Q4                      37"
            ]
          },
          "metadata": {
            "tags": []
          },
          "execution_count": 44
        }
      ]
    },
    {
      "cell_type": "code",
      "metadata": {
        "id": "_52gDvlglao4",
        "outputId": "d4fff8ba-7c25-4a96-efd6-937220dd19c7"
      },
      "source": [
        "pivoted=grouped.pivot_table(index='Region',columns='Delivery_Quarter',values='Cantidad')\n",
        "pivoted"
      ],
      "execution_count": null,
      "outputs": [
        {
          "output_type": "execute_result",
          "data": {
            "text/html": [
              "<div>\n",
              "<style scoped>\n",
              "    .dataframe tbody tr th:only-of-type {\n",
              "        vertical-align: middle;\n",
              "    }\n",
              "\n",
              "    .dataframe tbody tr th {\n",
              "        vertical-align: top;\n",
              "    }\n",
              "\n",
              "    .dataframe thead th {\n",
              "        text-align: right;\n",
              "    }\n",
              "</style>\n",
              "<table border=\"1\" class=\"dataframe\">\n",
              "  <thead>\n",
              "    <tr style=\"text-align: right;\">\n",
              "      <th>Delivery_Quarter</th>\n",
              "      <th>Q1</th>\n",
              "      <th>Q2</th>\n",
              "      <th>Q3</th>\n",
              "      <th>Q4</th>\n",
              "    </tr>\n",
              "    <tr>\n",
              "      <th>Region</th>\n",
              "      <th></th>\n",
              "      <th></th>\n",
              "      <th></th>\n",
              "      <th></th>\n",
              "    </tr>\n",
              "  </thead>\n",
              "  <tbody>\n",
              "    <tr>\n",
              "      <th>APAC</th>\n",
              "      <td>767</td>\n",
              "      <td>846</td>\n",
              "      <td>799</td>\n",
              "      <td>850</td>\n",
              "    </tr>\n",
              "    <tr>\n",
              "      <th>Americas</th>\n",
              "      <td>859</td>\n",
              "      <td>971</td>\n",
              "      <td>1067</td>\n",
              "      <td>1048</td>\n",
              "    </tr>\n",
              "    <tr>\n",
              "      <th>EMEA</th>\n",
              "      <td>1073</td>\n",
              "      <td>1311</td>\n",
              "      <td>1179</td>\n",
              "      <td>1101</td>\n",
              "    </tr>\n",
              "    <tr>\n",
              "      <th>Japan</th>\n",
              "      <td>1573</td>\n",
              "      <td>1281</td>\n",
              "      <td>930</td>\n",
              "      <td>1108</td>\n",
              "    </tr>\n",
              "    <tr>\n",
              "      <th>Middle East</th>\n",
              "      <td>45</td>\n",
              "      <td>34</td>\n",
              "      <td>68</td>\n",
              "      <td>37</td>\n",
              "    </tr>\n",
              "  </tbody>\n",
              "</table>\n",
              "</div>"
            ],
            "text/plain": [
              "Delivery_Quarter    Q1    Q2    Q3    Q4\n",
              "Region                                  \n",
              "APAC               767   846   799   850\n",
              "Americas           859   971  1067  1048\n",
              "EMEA              1073  1311  1179  1101\n",
              "Japan             1573  1281   930  1108\n",
              "Middle East         45    34    68    37"
            ]
          },
          "metadata": {
            "tags": []
          },
          "execution_count": 45
        }
      ]
    },
    {
      "cell_type": "code",
      "metadata": {
        "scrolled": false,
        "id": "RNRU4oL_lao9",
        "outputId": "70f66381-2ffc-4a48-8a2d-c04915bd3380"
      },
      "source": [
        "data = pivoted.apply(lambda r: r/r.sum()*100, axis=1)\n",
        "ax=data.plot.bar(figsize=(10,10),stacked=True, rot=0,fontsize=18)\n",
        "#display(data)\n",
        "\n",
        "#plt.legend(loc='upper right', bbox_to_anchor=(0.1, 1.0), title=\"Del. Quarter\")\n",
        "ax.legend(ncol=len(df2.Delivery_Quarter), bbox_to_anchor=(0, 1),\n",
        "              loc='upper left', fontsize=12,title=\"Delivery Quarter\")\n",
        "\n",
        "for rec in ax.patches:\n",
        "    alto = rec.get_height()\n",
        "    posx_centrada=rec.get_x() + rec.get_width() / 2\n",
        "    posy_centrada=rec.get_y() + alto / 2\n",
        "    ax.text(posx_centrada, \n",
        "              posy_centrada,\n",
        "              \"{:.0f}%\".format(alto),\n",
        "              ha='center', \n",
        "              va='bottom')\n",
        "\n",
        "plt.title('Porcentaje de entregas planificadas trimestrales por región',fontSize=15)\n",
        "plt.xlabel('Regiones',fontSize=15)\n",
        "plt.ylabel('% de de entregas planificadas por trimestre',fontSize=15)\n",
        "plt.show()"
      ],
      "execution_count": null,
      "outputs": [
        {
          "output_type": "display_data",
          "data": {
            "image/png": "[encoded data removed]",
            "text/plain": [
              "<Figure size 720x720 with 1 Axes>"
            ]
          },
          "metadata": {
            "tags": [],
            "needs_background": "light"
          }
        }
      ]
    },
    {
      "cell_type": "markdown",
      "metadata": {
        "id": "BKbc7szGlapE"
      },
      "source": [
        "#### Siglas:\n",
        "* __EMEA:Europe Middle East Africa__\n",
        "* __APAC:Asia Pacific__"
      ]
    },
    {
      "cell_type": "markdown",
      "metadata": {
        "id": "syZZRtzYlapF"
      },
      "source": [
        "### Del análisis del gráfico se puede observar que:\n",
        "* Para la región de 'APAC' un 24% de las entregas planificadas corresponden el primer trimestre, un 26% al segundo,un 24% al tercero y un 26% al cuarto \n",
        "* Para la región de 'Americas' un 22% de las entregas planificadas corresponden el primer trimestre, un 25% al segundo,un 27% al tercero y un 27% al cuarto \n",
        "* Para la región de 'EMEA' un 23% de las entregas planificadas corresponden el primer trimestre, un 28% al segundo,un 25% al tercero y un 24% al cuarto \n",
        "* Para la región de 'Japan' un 32% de las entregas planificadas corresponden el primer trimestre, un 26% al segundo,un 19% al tercero y un 23% al cuarto \n",
        "* Para la región de 'Middle East' un 24% de las entregas planificadas corresponden el primer trimestre, un 18% al segundo,un 37% al tercero y un 20% al cuarto "
      ]
    },
    {
      "cell_type": "markdown",
      "metadata": {
        "id": "NUbaLCo2lapF"
      },
      "source": [
        "## Análisis de correlación de los datos sin tener en cuenta numeros identificatorios"
      ]
    },
    {
      "cell_type": "markdown",
      "metadata": {
        "id": "qI9Qp3IAlapG"
      },
      "source": [
        "Dos variables se correlacionan positivamente si cuando una variable aumenta, la otra tiende a aumentar"
      ]
    },
    {
      "cell_type": "code",
      "metadata": {
        "scrolled": false,
        "id": "og9AOMKblapH",
        "outputId": "1dc130a3-5263-4609-fdd1-214b3c77714d"
      },
      "source": [
        "df3=df2.drop(['ID', 'Opportunity_ID', 'Sales_Contract_No'], axis=1)\n",
        "\n",
        "plt.figure(figsize=(15, 15))\n",
        "titulo='Análsis de correlación los datos numéricos'\n",
        "\n",
        "sns.heatmap(df3.corr(), square=True, annot=True, fmt='.2f', cmap=\"YlGnBu\");\n",
        "plt.xticks(rotation=75)\n",
        "plt.title(titulo,fontSize=18)\n"
      ],
      "execution_count": null,
      "outputs": [
        {
          "output_type": "execute_result",
          "data": {
            "text/plain": [
              "Text(0.5, 1.0, 'Análsis de correlación los datos numéricos')"
            ]
          },
          "metadata": {
            "tags": []
          },
          "execution_count": 49
        },
        {
          "output_type": "display_data",
          "data": {
            "image/png": "[encoded data removed]",
            "text/plain": [
              "<Figure size 1080x1080 with 2 Axes>"
            ]
          },
          "metadata": {
            "tags": [],
            "needs_background": "light"
          }
        }
      ]
    },
    {
      "cell_type": "markdown",
      "metadata": {
        "id": "DvM1jwHGlapO"
      },
      "source": [
        "A continuación se muestra un cuadro con los cuatro pares de variables con mayor correlación positiva y su análisis:\n",
        "\n",
        "|Variable 1 | Variable 2 |Correlacion |Análisis |\n",
        "|:-|:-|:-|:-|\n",
        "|Bureaucratic_Code_0_Approval|Bureaucratic_Code_0_Approved|0.72|Esta correlación esta indicando que una alta cantidad de oportunidades que necesitan el código burocrático 0 lo suelen obtener|\n",
        "|Total_Amount|Total_Taxable_Amount|0.65|Estas variables están bastante correlacionadas probablemente porque una representa el monto total y la otra el monto total más impuestos|\n",
        "|Pricing, Delivery_Terms_Quote_Approval|Pricing, Delivery_Terms_Approved|0.58|Esta correlación esta indicando que las oportunidades que necesitan aprobación especial la suelen obtener|\n",
        "|Bureaucratic_Code_0_Approved|Pricing, Delivery_Terms_Approved|0.57|Esta correlación indica que las oportunidades que obtienen código burocrático 0 suelen obtener la aprobación especial|"
      ]
    },
    {
      "cell_type": "code",
      "metadata": {
        "id": "krd2MLAOlapQ"
      },
      "source": [
        ""
      ],
      "execution_count": null,
      "outputs": []
    },
    {
      "cell_type": "markdown",
      "metadata": {
        "id": "nF7C84jNlapV"
      },
      "source": [
        "# ----------------------------------------------------------------------------------------------------------"
      ]
    },
    {
      "cell_type": "markdown",
      "metadata": {
        "id": "dhzYK7kxlapX"
      },
      "source": [
        "***Veo si existe relacion entre antiguedad de la cuenta antes del inicio del tramite y los casos positivos. "
      ]
    },
    {
      "cell_type": "code",
      "metadata": {
        "id": "GQl1mWeUlapY"
      },
      "source": [
        "df2[[\"Account_Name\", \"Account_Created_Date\", ]].groupby(\"Account_Name\")"
      ],
      "execution_count": null,
      "outputs": []
    },
    {
      "cell_type": "markdown",
      "metadata": {
        "id": "agbpyLPdlapc"
      },
      "source": [
        "## Analisis de efectividad de las operaciones por año\n"
      ]
    },
    {
      "cell_type": "code",
      "metadata": {
        "id": "ZLG1igc3lapd",
        "outputId": "850e4aba-df1d-4a18-e071-3682d2cad9cb"
      },
      "source": [
        "df['Stage'].value_counts(normalize=True)\n"
      ],
      "execution_count": null,
      "outputs": [
        {
          "output_type": "execute_result",
          "data": {
            "text/plain": [
              "Closed Won       0.562518\n",
              "Closed Lost      0.433705\n",
              "Proposal         0.002065\n",
              "Negotiation      0.001062\n",
              "Qualification    0.000649\n",
              "Name: Stage, dtype: float64"
            ]
          },
          "metadata": {
            "tags": []
          },
          "execution_count": 29
        }
      ]
    },
    {
      "cell_type": "code",
      "metadata": {
        "id": "5cLyqzLxlapj"
      },
      "source": [
        "En general en el total de los datos la cantidad de operaciones exitosas es levemente superior a la cantidad de operaciones fallidas."
      ],
      "execution_count": null,
      "outputs": []
    },
    {
      "cell_type": "code",
      "metadata": {
        "id": "EcGwxZz3lapr"
      },
      "source": [
        "Ahora agrupamos las operaciones por año."
      ],
      "execution_count": null,
      "outputs": []
    },
    {
      "cell_type": "code",
      "metadata": {
        "id": "n-HXdgwMlap1",
        "outputId": "0e1c7a2f-540e-4420-faec-139d5af9c8ff"
      },
      "source": [
        "df.groupby(['Delivery_Year'])['Stage'].value_counts(normalize=True)"
      ],
      "execution_count": null,
      "outputs": [
        {
          "output_type": "execute_result",
          "data": {
            "text/plain": [
              "Delivery_Year  Stage        \n",
              "2016           Closed Lost      0.511096\n",
              "               Closed Won       0.488904\n",
              "2017           Closed Won       0.648148\n",
              "               Closed Lost      0.351694\n",
              "               Proposal         0.000158\n",
              "2018           Closed Won       0.548199\n",
              "               Closed Lost      0.451801\n",
              "2019           Closed Lost      0.628019\n",
              "               Closed Won       0.253623\n",
              "               Proposal         0.055556\n",
              "               Negotiation      0.043478\n",
              "               Qualification    0.019324\n",
              "2020           Proposal         0.785714\n",
              "               Qualification    0.214286\n",
              "Name: Stage, dtype: float64"
            ]
          },
          "metadata": {
            "tags": []
          },
          "execution_count": 28
        }
      ]
    },
    {
      "cell_type": "markdown",
      "metadata": {
        "id": "sZkB5Sw9laqA"
      },
      "source": [
        "Vemos que para el año 2017 la cantidad de operaciones exitosas (Closed Won) duplico la cantidad de operaciones fallidas(Closed Lost)"
      ]
    },
    {
      "cell_type": "markdown",
      "metadata": {
        "id": "z-XrtZOtlaqB"
      },
      "source": [
        "Tambien podemos ver que para el año 2019 la cantidad de operaciones fallidas fue casi tres veces mas que la cantidad de operaciones exitosas."
      ]
    },
    {
      "cell_type": "markdown",
      "metadata": {
        "id": "mcn9ywcwlaqD"
      },
      "source": [
        "## Analisis de efectividad de las operaciones por antiguedad de la cuenta del cliente"
      ]
    },
    {
      "cell_type": "code",
      "metadata": {
        "id": "9VkyI-HnlaqE"
      },
      "source": [
        "df['Anio_antiguead_cuenta']= pd.DatetimeIndex(df['Account_Created_Date']).year  \n"
      ],
      "execution_count": null,
      "outputs": []
    },
    {
      "cell_type": "code",
      "metadata": {
        "id": "6JZdaP33laqO",
        "outputId": "f5145793-7398-4632-d66f-e44cecf203d2"
      },
      "source": [
        "df.groupby(['Anio_antiguead_cuenta'])['Stage'].value_counts(normalize=True)"
      ],
      "execution_count": null,
      "outputs": [
        {
          "output_type": "execute_result",
          "data": {
            "text/plain": [
              "Anio_antiguead_cuenta  Stage        \n",
              "2013                   Closed Won       0.702857\n",
              "                       Closed Lost      0.296703\n",
              "                       Negotiation      0.000220\n",
              "                       Proposal         0.000220\n",
              "2014                   Closed Lost      0.509051\n",
              "                       Closed Won       0.490949\n",
              "2015                   Closed Won       0.569312\n",
              "                       Closed Lost      0.429876\n",
              "                       Qualification    0.000609\n",
              "                       Proposal         0.000203\n",
              "2016                   Closed Won       0.515249\n",
              "                       Closed Lost      0.480578\n",
              "                       Proposal         0.002247\n",
              "                       Qualification    0.001284\n",
              "                       Negotiation      0.000642\n",
              "2017                   Closed Lost      0.560181\n",
              "                       Closed Won       0.433937\n",
              "                       Negotiation      0.003620\n",
              "                       Proposal         0.001357\n",
              "                       Qualification    0.000905\n",
              "2018                   Closed Lost      0.581152\n",
              "                       Closed Won       0.376963\n",
              "                       Proposal         0.030105\n",
              "                       Negotiation      0.009162\n",
              "                       Qualification    0.002618\n",
              "Name: Stage, dtype: float64"
            ]
          },
          "metadata": {
            "tags": []
          },
          "execution_count": 59
        }
      ]
    },
    {
      "cell_type": "markdown",
      "metadata": {
        "id": "lOyfQnwHlaqW"
      },
      "source": [
        "Vemos que en general la proporcion de operaciones exitosas y fallidas es del 50 porciento, salvo para el año 2013 (los clientes mas antiguos) donde el porcentaje de operaciones exitosas es mas del doble que las operaciones fallidas.\n",
        "Tambien podemos ver que para los clientes mas nuevos (2018) el porcentaje de operaciones fallidas (58%) es bastante superior a las operaciones exitosas (37%)"
      ]
    }
  ]
}