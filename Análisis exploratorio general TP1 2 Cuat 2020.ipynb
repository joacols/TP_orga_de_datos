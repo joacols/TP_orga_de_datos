{
 "cells": [
  {
   "cell_type": "code",
   "execution_count": 125,
   "metadata": {
    "id": "1mte2sJjlakO"
   },
   "outputs": [],
   "source": [
    "import pandas as pd\n",
    "import numpy as np\n",
    "import matplotlib.pyplot as plt\n",
    "from matplotlib.legend import Legend\n",
    "import matplotlib.patches as mpatches\n",
    "import seaborn as sns\n",
    "#from statsmodels.graphics.mosaicplot import mosaic\n",
    "import io\n",
    "import requests\n",
    "\n",
    "%matplotlib inline"
   ]
  },
  {
   "cell_type": "markdown",
   "metadata": {
    "id": "xhYO6aqYlakk"
   },
   "source": [
    "# Etapa 1: Depuracion del dataset"
   ]
  },
  {
   "cell_type": "markdown",
   "metadata": {
    "id": "Cr95k_UVlakl"
   },
   "source": [
    "### Lectura de datos del CSV y seteo del tipo para cada columna"
   ]
  },
  {
   "cell_type": "code",
   "execution_count": 126,
   "metadata": {
    "colab": {
     "base_uri": "https://localhost:8080/",
     "height": 326
    },
    "id": "uCW11AdElakn",
    "outputId": "aa41c8d3-c5b1-4d07-8cf7-7f04df43b55c"
   },
   "outputs": [
    {
     "data": {
      "text/html": [
       "<div>\n",
       "<style scoped>\n",
       "    .dataframe tbody tr th:only-of-type {\n",
       "        vertical-align: middle;\n",
       "    }\n",
       "\n",
       "    .dataframe tbody tr th {\n",
       "        vertical-align: top;\n",
       "    }\n",
       "\n",
       "    .dataframe thead th {\n",
       "        text-align: right;\n",
       "    }\n",
       "</style>\n",
       "<table border=\"1\" class=\"dataframe\">\n",
       "  <thead>\n",
       "    <tr style=\"text-align: right;\">\n",
       "      <th></th>\n",
       "      <th>ID</th>\n",
       "      <th>Region</th>\n",
       "      <th>Territory</th>\n",
       "      <th>Pricing, Delivery_Terms_Quote_Appr</th>\n",
       "      <th>Pricing, Delivery_Terms_Approved</th>\n",
       "      <th>Bureaucratic_Code_0_Approval</th>\n",
       "      <th>Bureaucratic_Code_0_Approved</th>\n",
       "      <th>Submitted_for_Approval</th>\n",
       "      <th>Bureaucratic_Code</th>\n",
       "      <th>Account_Created_Date</th>\n",
       "      <th>...</th>\n",
       "      <th>Delivery_Quarter</th>\n",
       "      <th>Delivery_Year</th>\n",
       "      <th>Actual_Delivery_Date</th>\n",
       "      <th>TRF</th>\n",
       "      <th>Total_Amount_Currency</th>\n",
       "      <th>Total_Amount</th>\n",
       "      <th>Total_Taxable_Amount_Currency</th>\n",
       "      <th>Total_Taxable_Amount</th>\n",
       "      <th>Stage</th>\n",
       "      <th>Prod_Category_A</th>\n",
       "    </tr>\n",
       "  </thead>\n",
       "  <tbody>\n",
       "    <tr>\n",
       "      <th>0</th>\n",
       "      <td>27761</td>\n",
       "      <td>EMEA</td>\n",
       "      <td>None</td>\n",
       "      <td>1</td>\n",
       "      <td>1</td>\n",
       "      <td>1</td>\n",
       "      <td>1</td>\n",
       "      <td>0</td>\n",
       "      <td>Bureaucratic_Code_4</td>\n",
       "      <td>2015-06-16</td>\n",
       "      <td>...</td>\n",
       "      <td>Q2</td>\n",
       "      <td>2016</td>\n",
       "      <td>NaT</td>\n",
       "      <td>10</td>\n",
       "      <td>EUR</td>\n",
       "      <td>5272800.0</td>\n",
       "      <td>EUR</td>\n",
       "      <td>5272800.0</td>\n",
       "      <td>Closed Lost</td>\n",
       "      <td>Prod_Category_A_None</td>\n",
       "    </tr>\n",
       "    <tr>\n",
       "      <th>1</th>\n",
       "      <td>27760</td>\n",
       "      <td>EMEA</td>\n",
       "      <td>None</td>\n",
       "      <td>0</td>\n",
       "      <td>0</td>\n",
       "      <td>0</td>\n",
       "      <td>0</td>\n",
       "      <td>0</td>\n",
       "      <td>Bureaucratic_Code_4</td>\n",
       "      <td>2015-06-16</td>\n",
       "      <td>...</td>\n",
       "      <td>Q1</td>\n",
       "      <td>2016</td>\n",
       "      <td>NaT</td>\n",
       "      <td>0</td>\n",
       "      <td>EUR</td>\n",
       "      <td>48230.0</td>\n",
       "      <td>EUR</td>\n",
       "      <td>48230.0</td>\n",
       "      <td>Closed Won</td>\n",
       "      <td>Prod_Category_A_None</td>\n",
       "    </tr>\n",
       "    <tr>\n",
       "      <th>2</th>\n",
       "      <td>27446</td>\n",
       "      <td>Americas</td>\n",
       "      <td>NW America</td>\n",
       "      <td>0</td>\n",
       "      <td>0</td>\n",
       "      <td>0</td>\n",
       "      <td>0</td>\n",
       "      <td>0</td>\n",
       "      <td>Bureaucratic_Code_4</td>\n",
       "      <td>2015-04-21</td>\n",
       "      <td>...</td>\n",
       "      <td>Q1</td>\n",
       "      <td>2016</td>\n",
       "      <td>NaT</td>\n",
       "      <td>0</td>\n",
       "      <td>USD</td>\n",
       "      <td>83865.6</td>\n",
       "      <td>USD</td>\n",
       "      <td>83865.6</td>\n",
       "      <td>Closed Won</td>\n",
       "      <td>Prod_Category_A_None</td>\n",
       "    </tr>\n",
       "    <tr>\n",
       "      <th>3</th>\n",
       "      <td>16808</td>\n",
       "      <td>Americas</td>\n",
       "      <td>NW America</td>\n",
       "      <td>1</td>\n",
       "      <td>0</td>\n",
       "      <td>1</td>\n",
       "      <td>0</td>\n",
       "      <td>0</td>\n",
       "      <td>Bureaucratic_Code_5</td>\n",
       "      <td>2013-07-27</td>\n",
       "      <td>...</td>\n",
       "      <td>Q1</td>\n",
       "      <td>2018</td>\n",
       "      <td>NaT</td>\n",
       "      <td>14</td>\n",
       "      <td>USD</td>\n",
       "      <td>7421881.5</td>\n",
       "      <td>USD</td>\n",
       "      <td>7421881.5</td>\n",
       "      <td>Closed Lost</td>\n",
       "      <td>Prod_Category_A_None</td>\n",
       "    </tr>\n",
       "    <tr>\n",
       "      <th>4</th>\n",
       "      <td>16805</td>\n",
       "      <td>Americas</td>\n",
       "      <td>NW America</td>\n",
       "      <td>1</td>\n",
       "      <td>0</td>\n",
       "      <td>1</td>\n",
       "      <td>0</td>\n",
       "      <td>0</td>\n",
       "      <td>Bureaucratic_Code_5</td>\n",
       "      <td>2013-07-27</td>\n",
       "      <td>...</td>\n",
       "      <td>Q1</td>\n",
       "      <td>2018</td>\n",
       "      <td>NaT</td>\n",
       "      <td>25</td>\n",
       "      <td>USD</td>\n",
       "      <td>13357192.5</td>\n",
       "      <td>USD</td>\n",
       "      <td>13357192.5</td>\n",
       "      <td>Closed Lost</td>\n",
       "      <td>Prod_Category_A_None</td>\n",
       "    </tr>\n",
       "  </tbody>\n",
       "</table>\n",
       "<p>5 rows × 52 columns</p>\n",
       "</div>"
      ],
      "text/plain": [
       "      ID    Region   Territory  Pricing, Delivery_Terms_Quote_Appr  \\\n",
       "0  27761      EMEA        None                                   1   \n",
       "1  27760      EMEA        None                                   0   \n",
       "2  27446  Americas  NW America                                   0   \n",
       "3  16808  Americas  NW America                                   1   \n",
       "4  16805  Americas  NW America                                   1   \n",
       "\n",
       "   Pricing, Delivery_Terms_Approved  Bureaucratic_Code_0_Approval  \\\n",
       "0                                 1                             1   \n",
       "1                                 0                             0   \n",
       "2                                 0                             0   \n",
       "3                                 0                             1   \n",
       "4                                 0                             1   \n",
       "\n",
       "   Bureaucratic_Code_0_Approved  Submitted_for_Approval    Bureaucratic_Code  \\\n",
       "0                             1                       0  Bureaucratic_Code_4   \n",
       "1                             0                       0  Bureaucratic_Code_4   \n",
       "2                             0                       0  Bureaucratic_Code_4   \n",
       "3                             0                       0  Bureaucratic_Code_5   \n",
       "4                             0                       0  Bureaucratic_Code_5   \n",
       "\n",
       "  Account_Created_Date  ... Delivery_Quarter Delivery_Year  \\\n",
       "0           2015-06-16  ...               Q2          2016   \n",
       "1           2015-06-16  ...               Q1          2016   \n",
       "2           2015-04-21  ...               Q1          2016   \n",
       "3           2013-07-27  ...               Q1          2018   \n",
       "4           2013-07-27  ...               Q1          2018   \n",
       "\n",
       "  Actual_Delivery_Date TRF  Total_Amount_Currency Total_Amount  \\\n",
       "0                  NaT  10                    EUR    5272800.0   \n",
       "1                  NaT   0                    EUR      48230.0   \n",
       "2                  NaT   0                    USD      83865.6   \n",
       "3                  NaT  14                    USD    7421881.5   \n",
       "4                  NaT  25                    USD   13357192.5   \n",
       "\n",
       "  Total_Taxable_Amount_Currency Total_Taxable_Amount        Stage  \\\n",
       "0                           EUR            5272800.0  Closed Lost   \n",
       "1                           EUR              48230.0   Closed Won   \n",
       "2                           USD              83865.6   Closed Won   \n",
       "3                           USD            7421881.5  Closed Lost   \n",
       "4                           USD           13357192.5  Closed Lost   \n",
       "\n",
       "        Prod_Category_A  \n",
       "0  Prod_Category_A_None  \n",
       "1  Prod_Category_A_None  \n",
       "2  Prod_Category_A_None  \n",
       "3  Prod_Category_A_None  \n",
       "4  Prod_Category_A_None  \n",
       "\n",
       "[5 rows x 52 columns]"
      ]
     },
     "execution_count": 126,
     "metadata": {},
     "output_type": "execute_result"
    }
   ],
   "source": [
    "url=\"https://raw.githubusercontent.com/joacols/TP_orga_de_datos/main/Entrenamieto_ECI_2020.csv\"\n",
    "s=requests.get(url).content\n",
    "df=pd.read_csv(io.StringIO(s.decode('utf-8')),\n",
    "\n",
    "#df = pd.read_csv('Entrenamieto_ECI_2020.csv',\n",
    "dtype={\n",
    "'ID': np.int64,\n",
    "'Pricing, Delivery_Terms_Quote_Approval': np.int64,\n",
    "'Pricing, Delivery_Terms_Approved': np.int64,\n",
    "'Bureaucratic_Code_0_Approval': np.int64,\n",
    "'Bureaucratic_Code_0_Approved': np.int64,\n",
    "'Submitted_for_Approval': np.int64,\n",
    "'Opportunity_ID': np.int64,\n",
    "#'Sales_Contract_No': np.int64,\n",
    "'Delivery_Year': np.int64,\n",
    "'Total_Power': np.int64,\n",
    "#'Price':np.float64,\n",
    "'ASP':np.float64,\n",
    "'ASP_(converted)':np.float64,\n",
    "'Total_Amount':np.float64},\n",
    "parse_dates=[\n",
    "'Account_Created_Date',\n",
    "'Planned_Delivery_Start_Date',\n",
    "'Planned_Delivery_End_Date',\n",
    "'Opportunity_Created_Date',\n",
    "'Last_Activity',\n",
    "'Quote_Expiry_Date',\n",
    "'Actual_Delivery_Date',\n",
    "'Last_Modified_Date'\n",
    "])\n",
    "\n",
    "df.head()"
   ]
  },
  {
   "cell_type": "code",
   "execution_count": 127,
   "metadata": {
    "id": "S94VBlzvlakv"
   },
   "outputs": [],
   "source": [
    "#df[df['Last_Activity']!='NaT']"
   ]
  },
  {
   "cell_type": "markdown",
   "metadata": {},
   "source": [
    "### Corrección de los valores de las columnas Price y Sales_Contract_No"
   ]
  },
  {
   "cell_type": "markdown",
   "metadata": {},
   "source": [
    "Exploro columnas que tienen valores None y Other y reemplazo esos valores por NaN:"
   ]
  },
  {
   "cell_type": "code",
   "execution_count": 128,
   "metadata": {
    "id": "CShXiP4zlak3",
    "outputId": "a5104e2b-8d06-49e7-9580-a475159d6b85"
   },
   "outputs": [
    {
     "data": {
      "text/plain": [
       "0    None\n",
       "1    None\n",
       "2    None\n",
       "3    0.42\n",
       "4    0.42\n",
       "Name: Price, dtype: object"
      ]
     },
     "execution_count": 128,
     "metadata": {},
     "output_type": "execute_result"
    }
   ],
   "source": [
    "df['Price'].head()"
   ]
  },
  {
   "cell_type": "code",
   "execution_count": 129,
   "metadata": {
    "id": "l6ajopIElak9",
    "outputId": "943ff54d-ffc9-4d1e-b0ea-3d84329acda9"
   },
   "outputs": [
    {
     "data": {
      "text/plain": [
       "0    None\n",
       "1      39\n",
       "2     760\n",
       "3    None\n",
       "4    None\n",
       "Name: Sales_Contract_No, dtype: object"
      ]
     },
     "execution_count": 129,
     "metadata": {},
     "output_type": "execute_result"
    }
   ],
   "source": [
    "df['Sales_Contract_No'].head()\n"
   ]
  },
  {
   "cell_type": "code",
   "execution_count": 130,
   "metadata": {
    "id": "SBrEsvlOlalE",
    "outputId": "7e62c75f-7f11-4c34-d402-efe17a4923a0"
   },
   "outputs": [
    {
     "data": {
      "text/plain": [
       "0     NaN\n",
       "1     NaN\n",
       "2     NaN\n",
       "3    0.42\n",
       "4    0.42\n",
       "Name: Price, dtype: object"
      ]
     },
     "execution_count": 130,
     "metadata": {},
     "output_type": "execute_result"
    }
   ],
   "source": [
    "df['Price'].replace('None',np.NaN,inplace=True)\n",
    "df['Price'].replace('Other',np.NaN,inplace=True)\n",
    "\n",
    "#df.loc[df['Price'] =='None'] = np.NaN\n",
    "df['Price'].head()"
   ]
  },
  {
   "cell_type": "code",
   "execution_count": 131,
   "metadata": {
    "id": "oQM1lH7YlalL",
    "outputId": "7745c640-baf2-4af4-8c44-c4a44dc03d27"
   },
   "outputs": [
    {
     "data": {
      "text/plain": [
       "0    NaN\n",
       "1     39\n",
       "2    760\n",
       "3    NaN\n",
       "4    NaN\n",
       "Name: Sales_Contract_No, dtype: object"
      ]
     },
     "execution_count": 131,
     "metadata": {},
     "output_type": "execute_result"
    }
   ],
   "source": [
    "df['Sales_Contract_No'].replace('None',np.NaN,inplace=True)\n",
    "df['Sales_Contract_No'].replace('Other',np.NaN,inplace=True)\n",
    "df['Sales_Contract_No'].head()"
   ]
  },
  {
   "cell_type": "code",
   "execution_count": 132,
   "metadata": {
    "id": "avf1klaAlalS"
   },
   "outputs": [],
   "source": [
    "df = df.astype({\"Price\": np.float64, \"Sales_Contract_No\": np.float64})"
   ]
  },
  {
   "cell_type": "markdown",
   "metadata": {},
   "source": [
    "### Creación de la columna Delivery_Month a partir de Delivery_Year (que contiene año y mes de entrega)"
   ]
  },
  {
   "cell_type": "markdown",
   "metadata": {},
   "source": [
    "Genero la columna Delivery_Month a partir de Month:"
   ]
  },
  {
   "cell_type": "code",
   "execution_count": 133,
   "metadata": {
    "id": "z22b6lO1lalb",
    "outputId": "36a9c87c-0986-4870-ec0b-02dae904cb1c"
   },
   "outputs": [
    {
     "data": {
      "text/html": [
       "<div>\n",
       "<style scoped>\n",
       "    .dataframe tbody tr th:only-of-type {\n",
       "        vertical-align: middle;\n",
       "    }\n",
       "\n",
       "    .dataframe tbody tr th {\n",
       "        vertical-align: top;\n",
       "    }\n",
       "\n",
       "    .dataframe thead th {\n",
       "        text-align: right;\n",
       "    }\n",
       "</style>\n",
       "<table border=\"1\" class=\"dataframe\">\n",
       "  <thead>\n",
       "    <tr style=\"text-align: right;\">\n",
       "      <th></th>\n",
       "      <th>Month</th>\n",
       "      <th>Delivery_Year</th>\n",
       "    </tr>\n",
       "  </thead>\n",
       "  <tbody>\n",
       "    <tr>\n",
       "      <th>0</th>\n",
       "      <td>2016 - 5</td>\n",
       "      <td>2016</td>\n",
       "    </tr>\n",
       "    <tr>\n",
       "      <th>1</th>\n",
       "      <td>2016 - 1</td>\n",
       "      <td>2016</td>\n",
       "    </tr>\n",
       "    <tr>\n",
       "      <th>2</th>\n",
       "      <td>2016 - 1</td>\n",
       "      <td>2016</td>\n",
       "    </tr>\n",
       "    <tr>\n",
       "      <th>3</th>\n",
       "      <td>2018 - 2</td>\n",
       "      <td>2018</td>\n",
       "    </tr>\n",
       "    <tr>\n",
       "      <th>4</th>\n",
       "      <td>2018 - 2</td>\n",
       "      <td>2018</td>\n",
       "    </tr>\n",
       "  </tbody>\n",
       "</table>\n",
       "</div>"
      ],
      "text/plain": [
       "      Month  Delivery_Year\n",
       "0  2016 - 5           2016\n",
       "1  2016 - 1           2016\n",
       "2  2016 - 1           2016\n",
       "3  2018 - 2           2018\n",
       "4  2018 - 2           2018"
      ]
     },
     "execution_count": 133,
     "metadata": {},
     "output_type": "execute_result"
    }
   ],
   "source": [
    "df[['Month','Delivery_Year']].head()"
   ]
  },
  {
   "cell_type": "code",
   "execution_count": 134,
   "metadata": {
    "id": "E3UNe7qxlalh",
    "outputId": "ec93fba0-098b-427e-dead-aee0e3027bc1"
   },
   "outputs": [
    {
     "data": {
      "text/plain": [
       "0    2016 - 5\n",
       "1    2016 - 1\n",
       "2    2016 - 1\n",
       "3    2018 - 2\n",
       "4    2018 - 2\n",
       "Name: Month, dtype: object"
      ]
     },
     "execution_count": 134,
     "metadata": {},
     "output_type": "execute_result"
    }
   ],
   "source": [
    "df['Month'].head()"
   ]
  },
  {
   "cell_type": "code",
   "execution_count": 135,
   "metadata": {
    "id": "ZnGqbbh8lalo",
    "outputId": "bebe8c45-52e3-4e4a-aa3a-12adb920561f"
   },
   "outputs": [
    {
     "data": {
      "text/plain": [
       "0    5\n",
       "1    1\n",
       "2    1\n",
       "3    2\n",
       "4    2\n",
       "Name: Delivery_Month, dtype: int8"
      ]
     },
     "execution_count": 135,
     "metadata": {},
     "output_type": "execute_result"
    }
   ],
   "source": [
    "df[\"Delivery_Month\"] = df['Month'].map(lambda x: x.split('-')[1])\n",
    "df = df.astype({\"Delivery_Month\": np.int8})\n",
    "\n",
    "df[\"Delivery_Month\"].head()"
   ]
  },
  {
   "cell_type": "code",
   "execution_count": 136,
   "metadata": {
    "id": "snq_dLW4lalu",
    "outputId": "6caa4e4a-0732-4d7f-8cb1-f8de24fcb2a7"
   },
   "outputs": [
    {
     "data": {
      "text/html": [
       "<div>\n",
       "<style scoped>\n",
       "    .dataframe tbody tr th:only-of-type {\n",
       "        vertical-align: middle;\n",
       "    }\n",
       "\n",
       "    .dataframe tbody tr th {\n",
       "        vertical-align: top;\n",
       "    }\n",
       "\n",
       "    .dataframe thead th {\n",
       "        text-align: right;\n",
       "    }\n",
       "</style>\n",
       "<table border=\"1\" class=\"dataframe\">\n",
       "  <thead>\n",
       "    <tr style=\"text-align: right;\">\n",
       "      <th></th>\n",
       "      <th>ID</th>\n",
       "      <th>Region</th>\n",
       "      <th>Territory</th>\n",
       "      <th>Pricing, Delivery_Terms_Quote_Appr</th>\n",
       "      <th>Pricing, Delivery_Terms_Approved</th>\n",
       "      <th>Bureaucratic_Code_0_Approval</th>\n",
       "      <th>Bureaucratic_Code_0_Approved</th>\n",
       "      <th>Submitted_for_Approval</th>\n",
       "      <th>Bureaucratic_Code</th>\n",
       "      <th>Account_Created_Date</th>\n",
       "      <th>...</th>\n",
       "      <th>Delivery_Year</th>\n",
       "      <th>Actual_Delivery_Date</th>\n",
       "      <th>TRF</th>\n",
       "      <th>Total_Amount_Currency</th>\n",
       "      <th>Total_Amount</th>\n",
       "      <th>Total_Taxable_Amount_Currency</th>\n",
       "      <th>Total_Taxable_Amount</th>\n",
       "      <th>Stage</th>\n",
       "      <th>Prod_Category_A</th>\n",
       "      <th>Delivery_Month</th>\n",
       "    </tr>\n",
       "  </thead>\n",
       "  <tbody>\n",
       "    <tr>\n",
       "      <th>0</th>\n",
       "      <td>27761</td>\n",
       "      <td>EMEA</td>\n",
       "      <td>None</td>\n",
       "      <td>1</td>\n",
       "      <td>1</td>\n",
       "      <td>1</td>\n",
       "      <td>1</td>\n",
       "      <td>0</td>\n",
       "      <td>Bureaucratic_Code_4</td>\n",
       "      <td>2015-06-16</td>\n",
       "      <td>...</td>\n",
       "      <td>2016</td>\n",
       "      <td>NaT</td>\n",
       "      <td>10</td>\n",
       "      <td>EUR</td>\n",
       "      <td>5272800.0</td>\n",
       "      <td>EUR</td>\n",
       "      <td>5272800.0</td>\n",
       "      <td>Closed Lost</td>\n",
       "      <td>Prod_Category_A_None</td>\n",
       "      <td>5</td>\n",
       "    </tr>\n",
       "    <tr>\n",
       "      <th>1</th>\n",
       "      <td>27760</td>\n",
       "      <td>EMEA</td>\n",
       "      <td>None</td>\n",
       "      <td>0</td>\n",
       "      <td>0</td>\n",
       "      <td>0</td>\n",
       "      <td>0</td>\n",
       "      <td>0</td>\n",
       "      <td>Bureaucratic_Code_4</td>\n",
       "      <td>2015-06-16</td>\n",
       "      <td>...</td>\n",
       "      <td>2016</td>\n",
       "      <td>NaT</td>\n",
       "      <td>0</td>\n",
       "      <td>EUR</td>\n",
       "      <td>48230.0</td>\n",
       "      <td>EUR</td>\n",
       "      <td>48230.0</td>\n",
       "      <td>Closed Won</td>\n",
       "      <td>Prod_Category_A_None</td>\n",
       "      <td>1</td>\n",
       "    </tr>\n",
       "    <tr>\n",
       "      <th>2</th>\n",
       "      <td>27446</td>\n",
       "      <td>Americas</td>\n",
       "      <td>NW America</td>\n",
       "      <td>0</td>\n",
       "      <td>0</td>\n",
       "      <td>0</td>\n",
       "      <td>0</td>\n",
       "      <td>0</td>\n",
       "      <td>Bureaucratic_Code_4</td>\n",
       "      <td>2015-04-21</td>\n",
       "      <td>...</td>\n",
       "      <td>2016</td>\n",
       "      <td>NaT</td>\n",
       "      <td>0</td>\n",
       "      <td>USD</td>\n",
       "      <td>83865.6</td>\n",
       "      <td>USD</td>\n",
       "      <td>83865.6</td>\n",
       "      <td>Closed Won</td>\n",
       "      <td>Prod_Category_A_None</td>\n",
       "      <td>1</td>\n",
       "    </tr>\n",
       "    <tr>\n",
       "      <th>3</th>\n",
       "      <td>16808</td>\n",
       "      <td>Americas</td>\n",
       "      <td>NW America</td>\n",
       "      <td>1</td>\n",
       "      <td>0</td>\n",
       "      <td>1</td>\n",
       "      <td>0</td>\n",
       "      <td>0</td>\n",
       "      <td>Bureaucratic_Code_5</td>\n",
       "      <td>2013-07-27</td>\n",
       "      <td>...</td>\n",
       "      <td>2018</td>\n",
       "      <td>NaT</td>\n",
       "      <td>14</td>\n",
       "      <td>USD</td>\n",
       "      <td>7421881.5</td>\n",
       "      <td>USD</td>\n",
       "      <td>7421881.5</td>\n",
       "      <td>Closed Lost</td>\n",
       "      <td>Prod_Category_A_None</td>\n",
       "      <td>2</td>\n",
       "    </tr>\n",
       "    <tr>\n",
       "      <th>4</th>\n",
       "      <td>16805</td>\n",
       "      <td>Americas</td>\n",
       "      <td>NW America</td>\n",
       "      <td>1</td>\n",
       "      <td>0</td>\n",
       "      <td>1</td>\n",
       "      <td>0</td>\n",
       "      <td>0</td>\n",
       "      <td>Bureaucratic_Code_5</td>\n",
       "      <td>2013-07-27</td>\n",
       "      <td>...</td>\n",
       "      <td>2018</td>\n",
       "      <td>NaT</td>\n",
       "      <td>25</td>\n",
       "      <td>USD</td>\n",
       "      <td>13357192.5</td>\n",
       "      <td>USD</td>\n",
       "      <td>13357192.5</td>\n",
       "      <td>Closed Lost</td>\n",
       "      <td>Prod_Category_A_None</td>\n",
       "      <td>2</td>\n",
       "    </tr>\n",
       "  </tbody>\n",
       "</table>\n",
       "<p>5 rows × 53 columns</p>\n",
       "</div>"
      ],
      "text/plain": [
       "      ID    Region   Territory  Pricing, Delivery_Terms_Quote_Appr  \\\n",
       "0  27761      EMEA        None                                   1   \n",
       "1  27760      EMEA        None                                   0   \n",
       "2  27446  Americas  NW America                                   0   \n",
       "3  16808  Americas  NW America                                   1   \n",
       "4  16805  Americas  NW America                                   1   \n",
       "\n",
       "   Pricing, Delivery_Terms_Approved  Bureaucratic_Code_0_Approval  \\\n",
       "0                                 1                             1   \n",
       "1                                 0                             0   \n",
       "2                                 0                             0   \n",
       "3                                 0                             1   \n",
       "4                                 0                             1   \n",
       "\n",
       "   Bureaucratic_Code_0_Approved  Submitted_for_Approval    Bureaucratic_Code  \\\n",
       "0                             1                       0  Bureaucratic_Code_4   \n",
       "1                             0                       0  Bureaucratic_Code_4   \n",
       "2                             0                       0  Bureaucratic_Code_4   \n",
       "3                             0                       0  Bureaucratic_Code_5   \n",
       "4                             0                       0  Bureaucratic_Code_5   \n",
       "\n",
       "  Account_Created_Date  ... Delivery_Year Actual_Delivery_Date TRF  \\\n",
       "0           2015-06-16  ...          2016                  NaT  10   \n",
       "1           2015-06-16  ...          2016                  NaT   0   \n",
       "2           2015-04-21  ...          2016                  NaT   0   \n",
       "3           2013-07-27  ...          2018                  NaT  14   \n",
       "4           2013-07-27  ...          2018                  NaT  25   \n",
       "\n",
       "  Total_Amount_Currency  Total_Amount  Total_Taxable_Amount_Currency  \\\n",
       "0                   EUR     5272800.0                            EUR   \n",
       "1                   EUR       48230.0                            EUR   \n",
       "2                   USD       83865.6                            USD   \n",
       "3                   USD     7421881.5                            USD   \n",
       "4                   USD    13357192.5                            USD   \n",
       "\n",
       "  Total_Taxable_Amount        Stage       Prod_Category_A Delivery_Month  \n",
       "0            5272800.0  Closed Lost  Prod_Category_A_None              5  \n",
       "1              48230.0   Closed Won  Prod_Category_A_None              1  \n",
       "2              83865.6   Closed Won  Prod_Category_A_None              1  \n",
       "3            7421881.5  Closed Lost  Prod_Category_A_None              2  \n",
       "4           13357192.5  Closed Lost  Prod_Category_A_None              2  \n",
       "\n",
       "[5 rows x 53 columns]"
      ]
     },
     "execution_count": 136,
     "metadata": {},
     "output_type": "execute_result"
    }
   ],
   "source": [
    "df.head()"
   ]
  },
  {
   "cell_type": "code",
   "execution_count": 137,
   "metadata": {
    "id": "DmuG7aholal0",
    "outputId": "35ffc98a-827b-4526-80e9-e0a531f40885"
   },
   "outputs": [
    {
     "data": {
      "text/plain": [
       "0    0\n",
       "1    0\n",
       "2    0\n",
       "3    0\n",
       "4    0\n",
       "Name: Submitted_for_Approval, dtype: int64"
      ]
     },
     "execution_count": 137,
     "metadata": {},
     "output_type": "execute_result"
    }
   ],
   "source": [
    "df['Submitted_for_Approval'].head()"
   ]
  },
  {
   "cell_type": "markdown",
   "metadata": {},
   "source": [
    "### Corrección de los valores de la columna Total_Taxable_Amount"
   ]
  },
  {
   "cell_type": "markdown",
   "metadata": {},
   "source": [
    "Agrupo los datos por Opportunity_Name y sumo los Total_Amount para obtener Real_Total_Taxable_Amount:"
   ]
  },
  {
   "cell_type": "code",
   "execution_count": 138,
   "metadata": {},
   "outputs": [],
   "source": [
    "#testdf=df\n",
    "testdf=df.groupby('Opportunity_Name').agg({'Total_Amount': 'sum'})#.reset_index()['Total_Amount']\n",
    "testdf=testdf.rename(columns={'Total_Amount':'Real_Total_Taxable_Amount'})"
   ]
  },
  {
   "cell_type": "markdown",
   "metadata": {},
   "source": [
    "Genero un dataframe que tenga el dataset y también la columna Real_Total_Taxable_Amount y chequeo si Real_Total_Taxable_Amount y Total_Taxable_Amount difieren:\n"
   ]
  },
  {
   "cell_type": "code",
   "execution_count": 139,
   "metadata": {},
   "outputs": [
    {
     "data": {
      "text/html": [
       "<div>\n",
       "<style scoped>\n",
       "    .dataframe tbody tr th:only-of-type {\n",
       "        vertical-align: middle;\n",
       "    }\n",
       "\n",
       "    .dataframe tbody tr th {\n",
       "        vertical-align: top;\n",
       "    }\n",
       "\n",
       "    .dataframe thead th {\n",
       "        text-align: right;\n",
       "    }\n",
       "</style>\n",
       "<table border=\"1\" class=\"dataframe\">\n",
       "  <thead>\n",
       "    <tr style=\"text-align: right;\">\n",
       "      <th></th>\n",
       "      <th>Opportunity_Name</th>\n",
       "      <th>Total_Amount</th>\n",
       "      <th>Real_Total_Taxable_Amount</th>\n",
       "      <th>Total_Taxable_Amount</th>\n",
       "    </tr>\n",
       "  </thead>\n",
       "  <tbody>\n",
       "    <tr>\n",
       "      <th>1805</th>\n",
       "      <td>Opportunity_Name_9992</td>\n",
       "      <td>175190.4</td>\n",
       "      <td>175190.4</td>\n",
       "      <td>0.0</td>\n",
       "    </tr>\n",
       "    <tr>\n",
       "      <th>2217</th>\n",
       "      <td>Opportunity_Name_9914</td>\n",
       "      <td>10660557.6</td>\n",
       "      <td>10660557.6</td>\n",
       "      <td>0.0</td>\n",
       "    </tr>\n",
       "    <tr>\n",
       "      <th>16436</th>\n",
       "      <td>Opportunity_Name_9913</td>\n",
       "      <td>12801600.0</td>\n",
       "      <td>12801600.0</td>\n",
       "      <td>0.0</td>\n",
       "    </tr>\n",
       "    <tr>\n",
       "      <th>16655</th>\n",
       "      <td>Opportunity_Name_9912</td>\n",
       "      <td>6498375.0</td>\n",
       "      <td>38700000.0</td>\n",
       "      <td>0.0</td>\n",
       "    </tr>\n",
       "    <tr>\n",
       "      <th>16652</th>\n",
       "      <td>Opportunity_Name_9912</td>\n",
       "      <td>12801600.0</td>\n",
       "      <td>38700000.0</td>\n",
       "      <td>0.0</td>\n",
       "    </tr>\n",
       "  </tbody>\n",
       "</table>\n",
       "</div>"
      ],
      "text/plain": [
       "            Opportunity_Name  Total_Amount  Real_Total_Taxable_Amount  \\\n",
       "1805   Opportunity_Name_9992      175190.4                   175190.4   \n",
       "2217   Opportunity_Name_9914    10660557.6                 10660557.6   \n",
       "16436  Opportunity_Name_9913    12801600.0                 12801600.0   \n",
       "16655  Opportunity_Name_9912     6498375.0                 38700000.0   \n",
       "16652  Opportunity_Name_9912    12801600.0                 38700000.0   \n",
       "\n",
       "       Total_Taxable_Amount  \n",
       "1805                    0.0  \n",
       "2217                    0.0  \n",
       "16436                   0.0  \n",
       "16655                   0.0  \n",
       "16652                   0.0  "
      ]
     },
     "execution_count": 139,
     "metadata": {},
     "output_type": "execute_result"
    }
   ],
   "source": [
    "df_merged=df.merge(testdf,on='Opportunity_Name')\n",
    "\n",
    "#df_merged_inconsistence=df_merged[df_merged['Real_Total_Taxable_Amount']!=df_merged['Total_Taxable_Amount']]\n",
    "\n",
    "df_merged_inconsistence=df_merged[ np.isclose(df_merged['Real_Total_Taxable_Amount'], df_merged['Total_Taxable_Amount'], rtol=1e-02, atol=1e-02, equal_nan=False)==False]\n",
    "\n",
    "df_merged_inconsistence[['Opportunity_Name','Total_Amount','Real_Total_Taxable_Amount','Total_Taxable_Amount']].sort_values('Opportunity_Name', ascending=False).head()\n",
    "\n",
    "#df_merged_inconsistence[]"
   ]
  },
  {
   "cell_type": "markdown",
   "metadata": {},
   "source": [
    "Chequeo si hay registros en los que Real_Total_Taxable_Amount y Total_Taxable_Amount difieren y que además Total_Taxable_Amount sea distinto de cero: "
   ]
  },
  {
   "cell_type": "code",
   "execution_count": 140,
   "metadata": {},
   "outputs": [
    {
     "data": {
      "text/html": [
       "<div>\n",
       "<style scoped>\n",
       "    .dataframe tbody tr th:only-of-type {\n",
       "        vertical-align: middle;\n",
       "    }\n",
       "\n",
       "    .dataframe tbody tr th {\n",
       "        vertical-align: top;\n",
       "    }\n",
       "\n",
       "    .dataframe thead th {\n",
       "        text-align: right;\n",
       "    }\n",
       "</style>\n",
       "<table border=\"1\" class=\"dataframe\">\n",
       "  <thead>\n",
       "    <tr style=\"text-align: right;\">\n",
       "      <th></th>\n",
       "      <th>Opportunity_Name</th>\n",
       "      <th>Total_Amount</th>\n",
       "      <th>Real_Total_Taxable_Amount</th>\n",
       "      <th>Total_Taxable_Amount</th>\n",
       "    </tr>\n",
       "  </thead>\n",
       "  <tbody>\n",
       "    <tr>\n",
       "      <th>70</th>\n",
       "      <td>Opportunity_Name_12137</td>\n",
       "      <td>107250.0</td>\n",
       "      <td>317625.0</td>\n",
       "      <td>420750.0</td>\n",
       "    </tr>\n",
       "    <tr>\n",
       "      <th>71</th>\n",
       "      <td>Opportunity_Name_12137</td>\n",
       "      <td>103125.0</td>\n",
       "      <td>317625.0</td>\n",
       "      <td>420750.0</td>\n",
       "    </tr>\n",
       "    <tr>\n",
       "      <th>72</th>\n",
       "      <td>Opportunity_Name_12137</td>\n",
       "      <td>107250.0</td>\n",
       "      <td>317625.0</td>\n",
       "      <td>420750.0</td>\n",
       "    </tr>\n",
       "    <tr>\n",
       "      <th>1391</th>\n",
       "      <td>Opportunity_Name_12644</td>\n",
       "      <td>4250703.6</td>\n",
       "      <td>10057887.6</td>\n",
       "      <td>5841001.8</td>\n",
       "    </tr>\n",
       "    <tr>\n",
       "      <th>1392</th>\n",
       "      <td>Opportunity_Name_12644</td>\n",
       "      <td>653954.4</td>\n",
       "      <td>10057887.6</td>\n",
       "      <td>5841001.8</td>\n",
       "    </tr>\n",
       "  </tbody>\n",
       "</table>\n",
       "</div>"
      ],
      "text/plain": [
       "            Opportunity_Name  Total_Amount  Real_Total_Taxable_Amount  \\\n",
       "70    Opportunity_Name_12137      107250.0                   317625.0   \n",
       "71    Opportunity_Name_12137      103125.0                   317625.0   \n",
       "72    Opportunity_Name_12137      107250.0                   317625.0   \n",
       "1391  Opportunity_Name_12644     4250703.6                 10057887.6   \n",
       "1392  Opportunity_Name_12644      653954.4                 10057887.6   \n",
       "\n",
       "      Total_Taxable_Amount  \n",
       "70                420750.0  \n",
       "71                420750.0  \n",
       "72                420750.0  \n",
       "1391             5841001.8  \n",
       "1392             5841001.8  "
      ]
     },
     "execution_count": 140,
     "metadata": {},
     "output_type": "execute_result"
    }
   ],
   "source": [
    "df_merged_inconsistence.loc[df_merged_inconsistence['Total_Taxable_Amount']!=0,['Opportunity_Name','Total_Amount','Real_Total_Taxable_Amount','Total_Taxable_Amount']].head()"
   ]
  },
  {
   "cell_type": "markdown",
   "metadata": {},
   "source": [
    "Como hay datos de Total_Taxable_Amount que no tienen los valores que corresponden, se corrige la columna con estableciendo los valores correctos:"
   ]
  },
  {
   "cell_type": "code",
   "execution_count": 141,
   "metadata": {},
   "outputs": [
    {
     "data": {
      "text/html": [
       "<div>\n",
       "<style scoped>\n",
       "    .dataframe tbody tr th:only-of-type {\n",
       "        vertical-align: middle;\n",
       "    }\n",
       "\n",
       "    .dataframe tbody tr th {\n",
       "        vertical-align: top;\n",
       "    }\n",
       "\n",
       "    .dataframe thead th {\n",
       "        text-align: right;\n",
       "    }\n",
       "</style>\n",
       "<table border=\"1\" class=\"dataframe\">\n",
       "  <thead>\n",
       "    <tr style=\"text-align: right;\">\n",
       "      <th></th>\n",
       "      <th>ID</th>\n",
       "      <th>Region</th>\n",
       "      <th>Territory</th>\n",
       "      <th>Pricing, Delivery_Terms_Quote_Appr</th>\n",
       "      <th>Pricing, Delivery_Terms_Approved</th>\n",
       "      <th>Bureaucratic_Code_0_Approval</th>\n",
       "      <th>Bureaucratic_Code_0_Approved</th>\n",
       "      <th>Submitted_for_Approval</th>\n",
       "      <th>Bureaucratic_Code</th>\n",
       "      <th>Account_Created_Date</th>\n",
       "      <th>...</th>\n",
       "      <th>Delivery_Year</th>\n",
       "      <th>Actual_Delivery_Date</th>\n",
       "      <th>TRF</th>\n",
       "      <th>Total_Amount_Currency</th>\n",
       "      <th>Total_Amount</th>\n",
       "      <th>Total_Taxable_Amount_Currency</th>\n",
       "      <th>Stage</th>\n",
       "      <th>Prod_Category_A</th>\n",
       "      <th>Delivery_Month</th>\n",
       "      <th>Total_Taxable_Amount</th>\n",
       "    </tr>\n",
       "  </thead>\n",
       "  <tbody>\n",
       "    <tr>\n",
       "      <th>0</th>\n",
       "      <td>27761</td>\n",
       "      <td>EMEA</td>\n",
       "      <td>None</td>\n",
       "      <td>1</td>\n",
       "      <td>1</td>\n",
       "      <td>1</td>\n",
       "      <td>1</td>\n",
       "      <td>0</td>\n",
       "      <td>Bureaucratic_Code_4</td>\n",
       "      <td>2015-06-16</td>\n",
       "      <td>...</td>\n",
       "      <td>2016</td>\n",
       "      <td>NaT</td>\n",
       "      <td>10</td>\n",
       "      <td>EUR</td>\n",
       "      <td>5272800.00</td>\n",
       "      <td>EUR</td>\n",
       "      <td>Closed Lost</td>\n",
       "      <td>Prod_Category_A_None</td>\n",
       "      <td>5</td>\n",
       "      <td>5272800.00</td>\n",
       "    </tr>\n",
       "    <tr>\n",
       "      <th>1</th>\n",
       "      <td>27760</td>\n",
       "      <td>EMEA</td>\n",
       "      <td>None</td>\n",
       "      <td>0</td>\n",
       "      <td>0</td>\n",
       "      <td>0</td>\n",
       "      <td>0</td>\n",
       "      <td>0</td>\n",
       "      <td>Bureaucratic_Code_4</td>\n",
       "      <td>2015-06-16</td>\n",
       "      <td>...</td>\n",
       "      <td>2016</td>\n",
       "      <td>NaT</td>\n",
       "      <td>0</td>\n",
       "      <td>EUR</td>\n",
       "      <td>48230.00</td>\n",
       "      <td>EUR</td>\n",
       "      <td>Closed Won</td>\n",
       "      <td>Prod_Category_A_None</td>\n",
       "      <td>1</td>\n",
       "      <td>48230.00</td>\n",
       "    </tr>\n",
       "    <tr>\n",
       "      <th>2</th>\n",
       "      <td>27446</td>\n",
       "      <td>Americas</td>\n",
       "      <td>NW America</td>\n",
       "      <td>0</td>\n",
       "      <td>0</td>\n",
       "      <td>0</td>\n",
       "      <td>0</td>\n",
       "      <td>0</td>\n",
       "      <td>Bureaucratic_Code_4</td>\n",
       "      <td>2015-04-21</td>\n",
       "      <td>...</td>\n",
       "      <td>2016</td>\n",
       "      <td>NaT</td>\n",
       "      <td>0</td>\n",
       "      <td>USD</td>\n",
       "      <td>83865.60</td>\n",
       "      <td>USD</td>\n",
       "      <td>Closed Won</td>\n",
       "      <td>Prod_Category_A_None</td>\n",
       "      <td>1</td>\n",
       "      <td>83865.60</td>\n",
       "    </tr>\n",
       "    <tr>\n",
       "      <th>3</th>\n",
       "      <td>16808</td>\n",
       "      <td>Americas</td>\n",
       "      <td>NW America</td>\n",
       "      <td>1</td>\n",
       "      <td>0</td>\n",
       "      <td>1</td>\n",
       "      <td>0</td>\n",
       "      <td>0</td>\n",
       "      <td>Bureaucratic_Code_5</td>\n",
       "      <td>2013-07-27</td>\n",
       "      <td>...</td>\n",
       "      <td>2018</td>\n",
       "      <td>NaT</td>\n",
       "      <td>14</td>\n",
       "      <td>USD</td>\n",
       "      <td>7421881.50</td>\n",
       "      <td>USD</td>\n",
       "      <td>Closed Lost</td>\n",
       "      <td>Prod_Category_A_None</td>\n",
       "      <td>2</td>\n",
       "      <td>7421881.50</td>\n",
       "    </tr>\n",
       "    <tr>\n",
       "      <th>4</th>\n",
       "      <td>16805</td>\n",
       "      <td>Americas</td>\n",
       "      <td>NW America</td>\n",
       "      <td>1</td>\n",
       "      <td>0</td>\n",
       "      <td>1</td>\n",
       "      <td>0</td>\n",
       "      <td>0</td>\n",
       "      <td>Bureaucratic_Code_5</td>\n",
       "      <td>2013-07-27</td>\n",
       "      <td>...</td>\n",
       "      <td>2018</td>\n",
       "      <td>NaT</td>\n",
       "      <td>25</td>\n",
       "      <td>USD</td>\n",
       "      <td>13357192.50</td>\n",
       "      <td>USD</td>\n",
       "      <td>Closed Lost</td>\n",
       "      <td>Prod_Category_A_None</td>\n",
       "      <td>2</td>\n",
       "      <td>13357192.50</td>\n",
       "    </tr>\n",
       "    <tr>\n",
       "      <th>...</th>\n",
       "      <td>...</td>\n",
       "      <td>...</td>\n",
       "      <td>...</td>\n",
       "      <td>...</td>\n",
       "      <td>...</td>\n",
       "      <td>...</td>\n",
       "      <td>...</td>\n",
       "      <td>...</td>\n",
       "      <td>...</td>\n",
       "      <td>...</td>\n",
       "      <td>...</td>\n",
       "      <td>...</td>\n",
       "      <td>...</td>\n",
       "      <td>...</td>\n",
       "      <td>...</td>\n",
       "      <td>...</td>\n",
       "      <td>...</td>\n",
       "      <td>...</td>\n",
       "      <td>...</td>\n",
       "      <td>...</td>\n",
       "      <td>...</td>\n",
       "    </tr>\n",
       "    <tr>\n",
       "      <th>16942</th>\n",
       "      <td>8781</td>\n",
       "      <td>EMEA</td>\n",
       "      <td>Austria</td>\n",
       "      <td>1</td>\n",
       "      <td>1</td>\n",
       "      <td>1</td>\n",
       "      <td>1</td>\n",
       "      <td>0</td>\n",
       "      <td>Bureaucratic_Code_4</td>\n",
       "      <td>2016-01-15</td>\n",
       "      <td>...</td>\n",
       "      <td>2016</td>\n",
       "      <td>NaT</td>\n",
       "      <td>0</td>\n",
       "      <td>EUR</td>\n",
       "      <td>103350.00</td>\n",
       "      <td>EUR</td>\n",
       "      <td>Closed Won</td>\n",
       "      <td>Prod_Category_A_None</td>\n",
       "      <td>3</td>\n",
       "      <td>299715.00</td>\n",
       "    </tr>\n",
       "    <tr>\n",
       "      <th>16943</th>\n",
       "      <td>8786</td>\n",
       "      <td>EMEA</td>\n",
       "      <td>Austria</td>\n",
       "      <td>1</td>\n",
       "      <td>1</td>\n",
       "      <td>1</td>\n",
       "      <td>1</td>\n",
       "      <td>0</td>\n",
       "      <td>Bureaucratic_Code_4</td>\n",
       "      <td>2016-01-15</td>\n",
       "      <td>...</td>\n",
       "      <td>2016</td>\n",
       "      <td>NaT</td>\n",
       "      <td>0</td>\n",
       "      <td>EUR</td>\n",
       "      <td>93015.00</td>\n",
       "      <td>EUR</td>\n",
       "      <td>Closed Won</td>\n",
       "      <td>Prod_Category_A_None</td>\n",
       "      <td>4</td>\n",
       "      <td>299715.00</td>\n",
       "    </tr>\n",
       "    <tr>\n",
       "      <th>16944</th>\n",
       "      <td>8792</td>\n",
       "      <td>EMEA</td>\n",
       "      <td>Austria</td>\n",
       "      <td>1</td>\n",
       "      <td>1</td>\n",
       "      <td>1</td>\n",
       "      <td>1</td>\n",
       "      <td>0</td>\n",
       "      <td>Bureaucratic_Code_4</td>\n",
       "      <td>2016-01-15</td>\n",
       "      <td>...</td>\n",
       "      <td>2016</td>\n",
       "      <td>NaT</td>\n",
       "      <td>0</td>\n",
       "      <td>EUR</td>\n",
       "      <td>103350.00</td>\n",
       "      <td>EUR</td>\n",
       "      <td>Closed Won</td>\n",
       "      <td>Prod_Category_A_None</td>\n",
       "      <td>3</td>\n",
       "      <td>299715.00</td>\n",
       "    </tr>\n",
       "    <tr>\n",
       "      <th>16945</th>\n",
       "      <td>28561</td>\n",
       "      <td>Americas</td>\n",
       "      <td>NE America</td>\n",
       "      <td>1</td>\n",
       "      <td>1</td>\n",
       "      <td>1</td>\n",
       "      <td>1</td>\n",
       "      <td>0</td>\n",
       "      <td>Bureaucratic_Code_4</td>\n",
       "      <td>2015-10-20</td>\n",
       "      <td>...</td>\n",
       "      <td>2016</td>\n",
       "      <td>NaT</td>\n",
       "      <td>4</td>\n",
       "      <td>USD</td>\n",
       "      <td>2346796.88</td>\n",
       "      <td>USD</td>\n",
       "      <td>Closed Lost</td>\n",
       "      <td>Prod_Category_A_None</td>\n",
       "      <td>4</td>\n",
       "      <td>2346796.88</td>\n",
       "    </tr>\n",
       "    <tr>\n",
       "      <th>16946</th>\n",
       "      <td>28318</td>\n",
       "      <td>Americas</td>\n",
       "      <td>NE America</td>\n",
       "      <td>1</td>\n",
       "      <td>1</td>\n",
       "      <td>1</td>\n",
       "      <td>1</td>\n",
       "      <td>0</td>\n",
       "      <td>Bureaucratic_Code_4</td>\n",
       "      <td>2015-09-03</td>\n",
       "      <td>...</td>\n",
       "      <td>2016</td>\n",
       "      <td>NaT</td>\n",
       "      <td>40</td>\n",
       "      <td>USD</td>\n",
       "      <td>25603200.00</td>\n",
       "      <td>USD</td>\n",
       "      <td>Closed Lost</td>\n",
       "      <td>Prod_Category_A_None</td>\n",
       "      <td>7</td>\n",
       "      <td>25603200.00</td>\n",
       "    </tr>\n",
       "  </tbody>\n",
       "</table>\n",
       "<p>16947 rows × 53 columns</p>\n",
       "</div>"
      ],
      "text/plain": [
       "          ID    Region   Territory  Pricing, Delivery_Terms_Quote_Appr  \\\n",
       "0      27761      EMEA        None                                   1   \n",
       "1      27760      EMEA        None                                   0   \n",
       "2      27446  Americas  NW America                                   0   \n",
       "3      16808  Americas  NW America                                   1   \n",
       "4      16805  Americas  NW America                                   1   \n",
       "...      ...       ...         ...                                 ...   \n",
       "16942   8781      EMEA     Austria                                   1   \n",
       "16943   8786      EMEA     Austria                                   1   \n",
       "16944   8792      EMEA     Austria                                   1   \n",
       "16945  28561  Americas  NE America                                   1   \n",
       "16946  28318  Americas  NE America                                   1   \n",
       "\n",
       "       Pricing, Delivery_Terms_Approved  Bureaucratic_Code_0_Approval  \\\n",
       "0                                     1                             1   \n",
       "1                                     0                             0   \n",
       "2                                     0                             0   \n",
       "3                                     0                             1   \n",
       "4                                     0                             1   \n",
       "...                                 ...                           ...   \n",
       "16942                                 1                             1   \n",
       "16943                                 1                             1   \n",
       "16944                                 1                             1   \n",
       "16945                                 1                             1   \n",
       "16946                                 1                             1   \n",
       "\n",
       "       Bureaucratic_Code_0_Approved  Submitted_for_Approval  \\\n",
       "0                                 1                       0   \n",
       "1                                 0                       0   \n",
       "2                                 0                       0   \n",
       "3                                 0                       0   \n",
       "4                                 0                       0   \n",
       "...                             ...                     ...   \n",
       "16942                             1                       0   \n",
       "16943                             1                       0   \n",
       "16944                             1                       0   \n",
       "16945                             1                       0   \n",
       "16946                             1                       0   \n",
       "\n",
       "         Bureaucratic_Code Account_Created_Date  ... Delivery_Year  \\\n",
       "0      Bureaucratic_Code_4           2015-06-16  ...          2016   \n",
       "1      Bureaucratic_Code_4           2015-06-16  ...          2016   \n",
       "2      Bureaucratic_Code_4           2015-04-21  ...          2016   \n",
       "3      Bureaucratic_Code_5           2013-07-27  ...          2018   \n",
       "4      Bureaucratic_Code_5           2013-07-27  ...          2018   \n",
       "...                    ...                  ...  ...           ...   \n",
       "16942  Bureaucratic_Code_4           2016-01-15  ...          2016   \n",
       "16943  Bureaucratic_Code_4           2016-01-15  ...          2016   \n",
       "16944  Bureaucratic_Code_4           2016-01-15  ...          2016   \n",
       "16945  Bureaucratic_Code_4           2015-10-20  ...          2016   \n",
       "16946  Bureaucratic_Code_4           2015-09-03  ...          2016   \n",
       "\n",
       "      Actual_Delivery_Date TRF Total_Amount_Currency  Total_Amount  \\\n",
       "0                      NaT  10                   EUR    5272800.00   \n",
       "1                      NaT   0                   EUR      48230.00   \n",
       "2                      NaT   0                   USD      83865.60   \n",
       "3                      NaT  14                   USD    7421881.50   \n",
       "4                      NaT  25                   USD   13357192.50   \n",
       "...                    ...  ..                   ...           ...   \n",
       "16942                  NaT   0                   EUR     103350.00   \n",
       "16943                  NaT   0                   EUR      93015.00   \n",
       "16944                  NaT   0                   EUR     103350.00   \n",
       "16945                  NaT   4                   USD    2346796.88   \n",
       "16946                  NaT  40                   USD   25603200.00   \n",
       "\n",
       "       Total_Taxable_Amount_Currency        Stage       Prod_Category_A  \\\n",
       "0                                EUR  Closed Lost  Prod_Category_A_None   \n",
       "1                                EUR   Closed Won  Prod_Category_A_None   \n",
       "2                                USD   Closed Won  Prod_Category_A_None   \n",
       "3                                USD  Closed Lost  Prod_Category_A_None   \n",
       "4                                USD  Closed Lost  Prod_Category_A_None   \n",
       "...                              ...          ...                   ...   \n",
       "16942                            EUR   Closed Won  Prod_Category_A_None   \n",
       "16943                            EUR   Closed Won  Prod_Category_A_None   \n",
       "16944                            EUR   Closed Won  Prod_Category_A_None   \n",
       "16945                            USD  Closed Lost  Prod_Category_A_None   \n",
       "16946                            USD  Closed Lost  Prod_Category_A_None   \n",
       "\n",
       "      Delivery_Month Total_Taxable_Amount  \n",
       "0                  5           5272800.00  \n",
       "1                  1             48230.00  \n",
       "2                  1             83865.60  \n",
       "3                  2           7421881.50  \n",
       "4                  2          13357192.50  \n",
       "...              ...                  ...  \n",
       "16942              3            299715.00  \n",
       "16943              4            299715.00  \n",
       "16944              3            299715.00  \n",
       "16945              4           2346796.88  \n",
       "16946              7          25603200.00  \n",
       "\n",
       "[16947 rows x 53 columns]"
      ]
     },
     "execution_count": 141,
     "metadata": {},
     "output_type": "execute_result"
    }
   ],
   "source": [
    "df=df_merged.drop(['Total_Taxable_Amount'], axis=1)\n",
    "df.rename(columns={'Real_Total_Taxable_Amount':'Total_Taxable_Amount'},inplace=True)\n",
    "df"
   ]
  },
  {
   "cell_type": "markdown",
   "metadata": {
    "id": "PszQXBjblal7"
   },
   "source": [
    "### Análisis inicial"
   ]
  },
  {
   "cell_type": "code",
   "execution_count": 142,
   "metadata": {
    "colab": {
     "base_uri": "https://localhost:8080/",
     "height": 479
    },
    "id": "Vs2mVlBglal8",
    "outputId": "db0e25a6-a8e9-411e-ff0f-9b21bc470cdb"
   },
   "outputs": [
    {
     "name": "stdout",
     "output_type": "stream",
     "text": [
      "Análisis inicial:\n",
      "\n",
      "Cantidad de filas: 16947\n",
      "\n",
      "Cantidad de columnas: 53\n",
      "\n",
      "Cantidad de celdas con potencial informacion: 898191\n",
      "\n",
      "Contenido de las primeras filas:\n"
     ]
    },
    {
     "data": {
      "text/html": [
       "<div>\n",
       "<style scoped>\n",
       "    .dataframe tbody tr th:only-of-type {\n",
       "        vertical-align: middle;\n",
       "    }\n",
       "\n",
       "    .dataframe tbody tr th {\n",
       "        vertical-align: top;\n",
       "    }\n",
       "\n",
       "    .dataframe thead th {\n",
       "        text-align: right;\n",
       "    }\n",
       "</style>\n",
       "<table border=\"1\" class=\"dataframe\">\n",
       "  <thead>\n",
       "    <tr style=\"text-align: right;\">\n",
       "      <th></th>\n",
       "      <th>ID</th>\n",
       "      <th>Region</th>\n",
       "      <th>Territory</th>\n",
       "      <th>Pricing, Delivery_Terms_Quote_Appr</th>\n",
       "      <th>Pricing, Delivery_Terms_Approved</th>\n",
       "      <th>Bureaucratic_Code_0_Approval</th>\n",
       "      <th>Bureaucratic_Code_0_Approved</th>\n",
       "      <th>Submitted_for_Approval</th>\n",
       "      <th>Bureaucratic_Code</th>\n",
       "      <th>Account_Created_Date</th>\n",
       "      <th>...</th>\n",
       "      <th>Delivery_Year</th>\n",
       "      <th>Actual_Delivery_Date</th>\n",
       "      <th>TRF</th>\n",
       "      <th>Total_Amount_Currency</th>\n",
       "      <th>Total_Amount</th>\n",
       "      <th>Total_Taxable_Amount_Currency</th>\n",
       "      <th>Stage</th>\n",
       "      <th>Prod_Category_A</th>\n",
       "      <th>Delivery_Month</th>\n",
       "      <th>Total_Taxable_Amount</th>\n",
       "    </tr>\n",
       "  </thead>\n",
       "  <tbody>\n",
       "    <tr>\n",
       "      <th>0</th>\n",
       "      <td>27761</td>\n",
       "      <td>EMEA</td>\n",
       "      <td>None</td>\n",
       "      <td>1</td>\n",
       "      <td>1</td>\n",
       "      <td>1</td>\n",
       "      <td>1</td>\n",
       "      <td>0</td>\n",
       "      <td>Bureaucratic_Code_4</td>\n",
       "      <td>2015-06-16</td>\n",
       "      <td>...</td>\n",
       "      <td>2016</td>\n",
       "      <td>NaT</td>\n",
       "      <td>10</td>\n",
       "      <td>EUR</td>\n",
       "      <td>5272800.0</td>\n",
       "      <td>EUR</td>\n",
       "      <td>Closed Lost</td>\n",
       "      <td>Prod_Category_A_None</td>\n",
       "      <td>5</td>\n",
       "      <td>5272800.0</td>\n",
       "    </tr>\n",
       "    <tr>\n",
       "      <th>1</th>\n",
       "      <td>27760</td>\n",
       "      <td>EMEA</td>\n",
       "      <td>None</td>\n",
       "      <td>0</td>\n",
       "      <td>0</td>\n",
       "      <td>0</td>\n",
       "      <td>0</td>\n",
       "      <td>0</td>\n",
       "      <td>Bureaucratic_Code_4</td>\n",
       "      <td>2015-06-16</td>\n",
       "      <td>...</td>\n",
       "      <td>2016</td>\n",
       "      <td>NaT</td>\n",
       "      <td>0</td>\n",
       "      <td>EUR</td>\n",
       "      <td>48230.0</td>\n",
       "      <td>EUR</td>\n",
       "      <td>Closed Won</td>\n",
       "      <td>Prod_Category_A_None</td>\n",
       "      <td>1</td>\n",
       "      <td>48230.0</td>\n",
       "    </tr>\n",
       "    <tr>\n",
       "      <th>2</th>\n",
       "      <td>27446</td>\n",
       "      <td>Americas</td>\n",
       "      <td>NW America</td>\n",
       "      <td>0</td>\n",
       "      <td>0</td>\n",
       "      <td>0</td>\n",
       "      <td>0</td>\n",
       "      <td>0</td>\n",
       "      <td>Bureaucratic_Code_4</td>\n",
       "      <td>2015-04-21</td>\n",
       "      <td>...</td>\n",
       "      <td>2016</td>\n",
       "      <td>NaT</td>\n",
       "      <td>0</td>\n",
       "      <td>USD</td>\n",
       "      <td>83865.6</td>\n",
       "      <td>USD</td>\n",
       "      <td>Closed Won</td>\n",
       "      <td>Prod_Category_A_None</td>\n",
       "      <td>1</td>\n",
       "      <td>83865.6</td>\n",
       "    </tr>\n",
       "    <tr>\n",
       "      <th>3</th>\n",
       "      <td>16808</td>\n",
       "      <td>Americas</td>\n",
       "      <td>NW America</td>\n",
       "      <td>1</td>\n",
       "      <td>0</td>\n",
       "      <td>1</td>\n",
       "      <td>0</td>\n",
       "      <td>0</td>\n",
       "      <td>Bureaucratic_Code_5</td>\n",
       "      <td>2013-07-27</td>\n",
       "      <td>...</td>\n",
       "      <td>2018</td>\n",
       "      <td>NaT</td>\n",
       "      <td>14</td>\n",
       "      <td>USD</td>\n",
       "      <td>7421881.5</td>\n",
       "      <td>USD</td>\n",
       "      <td>Closed Lost</td>\n",
       "      <td>Prod_Category_A_None</td>\n",
       "      <td>2</td>\n",
       "      <td>7421881.5</td>\n",
       "    </tr>\n",
       "    <tr>\n",
       "      <th>4</th>\n",
       "      <td>16805</td>\n",
       "      <td>Americas</td>\n",
       "      <td>NW America</td>\n",
       "      <td>1</td>\n",
       "      <td>0</td>\n",
       "      <td>1</td>\n",
       "      <td>0</td>\n",
       "      <td>0</td>\n",
       "      <td>Bureaucratic_Code_5</td>\n",
       "      <td>2013-07-27</td>\n",
       "      <td>...</td>\n",
       "      <td>2018</td>\n",
       "      <td>NaT</td>\n",
       "      <td>25</td>\n",
       "      <td>USD</td>\n",
       "      <td>13357192.5</td>\n",
       "      <td>USD</td>\n",
       "      <td>Closed Lost</td>\n",
       "      <td>Prod_Category_A_None</td>\n",
       "      <td>2</td>\n",
       "      <td>13357192.5</td>\n",
       "    </tr>\n",
       "  </tbody>\n",
       "</table>\n",
       "<p>5 rows × 53 columns</p>\n",
       "</div>"
      ],
      "text/plain": [
       "      ID    Region   Territory  Pricing, Delivery_Terms_Quote_Appr  \\\n",
       "0  27761      EMEA        None                                   1   \n",
       "1  27760      EMEA        None                                   0   \n",
       "2  27446  Americas  NW America                                   0   \n",
       "3  16808  Americas  NW America                                   1   \n",
       "4  16805  Americas  NW America                                   1   \n",
       "\n",
       "   Pricing, Delivery_Terms_Approved  Bureaucratic_Code_0_Approval  \\\n",
       "0                                 1                             1   \n",
       "1                                 0                             0   \n",
       "2                                 0                             0   \n",
       "3                                 0                             1   \n",
       "4                                 0                             1   \n",
       "\n",
       "   Bureaucratic_Code_0_Approved  Submitted_for_Approval    Bureaucratic_Code  \\\n",
       "0                             1                       0  Bureaucratic_Code_4   \n",
       "1                             0                       0  Bureaucratic_Code_4   \n",
       "2                             0                       0  Bureaucratic_Code_4   \n",
       "3                             0                       0  Bureaucratic_Code_5   \n",
       "4                             0                       0  Bureaucratic_Code_5   \n",
       "\n",
       "  Account_Created_Date  ... Delivery_Year Actual_Delivery_Date TRF  \\\n",
       "0           2015-06-16  ...          2016                  NaT  10   \n",
       "1           2015-06-16  ...          2016                  NaT   0   \n",
       "2           2015-04-21  ...          2016                  NaT   0   \n",
       "3           2013-07-27  ...          2018                  NaT  14   \n",
       "4           2013-07-27  ...          2018                  NaT  25   \n",
       "\n",
       "  Total_Amount_Currency  Total_Amount  Total_Taxable_Amount_Currency  \\\n",
       "0                   EUR     5272800.0                            EUR   \n",
       "1                   EUR       48230.0                            EUR   \n",
       "2                   USD       83865.6                            USD   \n",
       "3                   USD     7421881.5                            USD   \n",
       "4                   USD    13357192.5                            USD   \n",
       "\n",
       "         Stage       Prod_Category_A Delivery_Month Total_Taxable_Amount  \n",
       "0  Closed Lost  Prod_Category_A_None              5            5272800.0  \n",
       "1   Closed Won  Prod_Category_A_None              1              48230.0  \n",
       "2   Closed Won  Prod_Category_A_None              1              83865.6  \n",
       "3  Closed Lost  Prod_Category_A_None              2            7421881.5  \n",
       "4  Closed Lost  Prod_Category_A_None              2           13357192.5  \n",
       "\n",
       "[5 rows x 53 columns]"
      ]
     },
     "execution_count": 142,
     "metadata": {},
     "output_type": "execute_result"
    }
   ],
   "source": [
    "print(\"Análisis inicial:\")\n",
    "print(f\"\\nCantidad de filas: {df.shape[0]}\")\n",
    "print(f\"\\nCantidad de columnas: {df.shape[1]}\")\n",
    "print(f\"\\nCantidad de celdas con potencial informacion: {df.size}\")\n",
    "print(\"\\nContenido de las primeras filas:\")\n",
    "df.head()"
   ]
  },
  {
   "cell_type": "markdown",
   "metadata": {
    "id": "xGEImYkjlamD"
   },
   "source": [
    "### Análisis de datos faltantes"
   ]
  },
  {
   "cell_type": "code",
   "execution_count": 143,
   "metadata": {
    "id": "nvti9Z8KlamE",
    "outputId": "c87b5afb-4c05-4c26-8741-209f70818dc9"
   },
   "outputs": [
    {
     "data": {
      "text/html": [
       "<div>\n",
       "<style scoped>\n",
       "    .dataframe tbody tr th:only-of-type {\n",
       "        vertical-align: middle;\n",
       "    }\n",
       "\n",
       "    .dataframe tbody tr th {\n",
       "        vertical-align: top;\n",
       "    }\n",
       "\n",
       "    .dataframe thead th {\n",
       "        text-align: right;\n",
       "    }\n",
       "</style>\n",
       "<table border=\"1\" class=\"dataframe\">\n",
       "  <thead>\n",
       "    <tr style=\"text-align: right;\">\n",
       "      <th></th>\n",
       "      <th>nulls</th>\n",
       "      <th>porcentaje</th>\n",
       "    </tr>\n",
       "  </thead>\n",
       "  <tbody>\n",
       "    <tr>\n",
       "      <th>Actual_Delivery_Date</th>\n",
       "      <td>16947</td>\n",
       "      <td>100.00</td>\n",
       "    </tr>\n",
       "    <tr>\n",
       "      <th>Last_Activity</th>\n",
       "      <td>16947</td>\n",
       "      <td>100.00</td>\n",
       "    </tr>\n",
       "    <tr>\n",
       "      <th>Price</th>\n",
       "      <td>16591</td>\n",
       "      <td>97.90</td>\n",
       "    </tr>\n",
       "    <tr>\n",
       "      <th>Sales_Contract_No</th>\n",
       "      <td>6973</td>\n",
       "      <td>41.15</td>\n",
       "    </tr>\n",
       "    <tr>\n",
       "      <th>Quote_Expiry_Date</th>\n",
       "      <td>4625</td>\n",
       "      <td>27.29</td>\n",
       "    </tr>\n",
       "    <tr>\n",
       "      <th>ASP_(converted)</th>\n",
       "      <td>3209</td>\n",
       "      <td>18.94</td>\n",
       "    </tr>\n",
       "    <tr>\n",
       "      <th>ASP</th>\n",
       "      <td>3209</td>\n",
       "      <td>18.94</td>\n",
       "    </tr>\n",
       "    <tr>\n",
       "      <th>Planned_Delivery_End_Date</th>\n",
       "      <td>75</td>\n",
       "      <td>0.44</td>\n",
       "    </tr>\n",
       "    <tr>\n",
       "      <th>Total_Amount</th>\n",
       "      <td>59</td>\n",
       "      <td>0.35</td>\n",
       "    </tr>\n",
       "  </tbody>\n",
       "</table>\n",
       "</div>"
      ],
      "text/plain": [
       "                           nulls  porcentaje\n",
       "Actual_Delivery_Date       16947      100.00\n",
       "Last_Activity              16947      100.00\n",
       "Price                      16591       97.90\n",
       "Sales_Contract_No           6973       41.15\n",
       "Quote_Expiry_Date           4625       27.29\n",
       "ASP_(converted)             3209       18.94\n",
       "ASP                         3209       18.94\n",
       "Planned_Delivery_End_Date     75        0.44\n",
       "Total_Amount                  59        0.35"
      ]
     },
     "execution_count": 143,
     "metadata": {},
     "output_type": "execute_result"
    }
   ],
   "source": [
    "faltantes=pd.DataFrame(df.isnull().sum().sort_values(ascending=False),columns=['nulls'])\n",
    "filas=len(df)\n",
    "faltantes['porcentaje']=round(100*faltantes['nulls']/filas,2)\n",
    "faltantes[faltantes['nulls']!=0]\n",
    "#faltantes"
   ]
  },
  {
   "cell_type": "markdown",
   "metadata": {
    "id": "aYPYVUsDlamM"
   },
   "source": [
    "Las columnas 'Actual_Delivery_Date', 'Last_Activity' y 'Price' tienen entre un 100% y un 98% de datos faltantes, motivo por el cual se sacarán del dataframe"
   ]
  },
  {
   "cell_type": "code",
   "execution_count": 144,
   "metadata": {
    "colab": {
     "base_uri": "https://localhost:8080/",
     "height": 326
    },
    "id": "SyNqSG2klamN",
    "outputId": "c9175ee2-4d42-4cac-8280-7e7c40de9cb0"
   },
   "outputs": [
    {
     "data": {
      "text/html": [
       "<div>\n",
       "<style scoped>\n",
       "    .dataframe tbody tr th:only-of-type {\n",
       "        vertical-align: middle;\n",
       "    }\n",
       "\n",
       "    .dataframe tbody tr th {\n",
       "        vertical-align: top;\n",
       "    }\n",
       "\n",
       "    .dataframe thead th {\n",
       "        text-align: right;\n",
       "    }\n",
       "</style>\n",
       "<table border=\"1\" class=\"dataframe\">\n",
       "  <thead>\n",
       "    <tr style=\"text-align: right;\">\n",
       "      <th></th>\n",
       "      <th>ID</th>\n",
       "      <th>Region</th>\n",
       "      <th>Territory</th>\n",
       "      <th>Pricing, Delivery_Terms_Quote_Appr</th>\n",
       "      <th>Pricing, Delivery_Terms_Approved</th>\n",
       "      <th>Bureaucratic_Code_0_Approval</th>\n",
       "      <th>Bureaucratic_Code_0_Approved</th>\n",
       "      <th>Submitted_for_Approval</th>\n",
       "      <th>Bureaucratic_Code</th>\n",
       "      <th>Account_Created_Date</th>\n",
       "      <th>...</th>\n",
       "      <th>Delivery_Quarter</th>\n",
       "      <th>Delivery_Year</th>\n",
       "      <th>TRF</th>\n",
       "      <th>Total_Amount_Currency</th>\n",
       "      <th>Total_Amount</th>\n",
       "      <th>Total_Taxable_Amount_Currency</th>\n",
       "      <th>Stage</th>\n",
       "      <th>Prod_Category_A</th>\n",
       "      <th>Delivery_Month</th>\n",
       "      <th>Total_Taxable_Amount</th>\n",
       "    </tr>\n",
       "  </thead>\n",
       "  <tbody>\n",
       "    <tr>\n",
       "      <th>0</th>\n",
       "      <td>27761</td>\n",
       "      <td>EMEA</td>\n",
       "      <td>None</td>\n",
       "      <td>1</td>\n",
       "      <td>1</td>\n",
       "      <td>1</td>\n",
       "      <td>1</td>\n",
       "      <td>0</td>\n",
       "      <td>Bureaucratic_Code_4</td>\n",
       "      <td>2015-06-16</td>\n",
       "      <td>...</td>\n",
       "      <td>Q2</td>\n",
       "      <td>2016</td>\n",
       "      <td>10</td>\n",
       "      <td>EUR</td>\n",
       "      <td>5272800.0</td>\n",
       "      <td>EUR</td>\n",
       "      <td>Closed Lost</td>\n",
       "      <td>Prod_Category_A_None</td>\n",
       "      <td>5</td>\n",
       "      <td>5272800.0</td>\n",
       "    </tr>\n",
       "    <tr>\n",
       "      <th>1</th>\n",
       "      <td>27760</td>\n",
       "      <td>EMEA</td>\n",
       "      <td>None</td>\n",
       "      <td>0</td>\n",
       "      <td>0</td>\n",
       "      <td>0</td>\n",
       "      <td>0</td>\n",
       "      <td>0</td>\n",
       "      <td>Bureaucratic_Code_4</td>\n",
       "      <td>2015-06-16</td>\n",
       "      <td>...</td>\n",
       "      <td>Q1</td>\n",
       "      <td>2016</td>\n",
       "      <td>0</td>\n",
       "      <td>EUR</td>\n",
       "      <td>48230.0</td>\n",
       "      <td>EUR</td>\n",
       "      <td>Closed Won</td>\n",
       "      <td>Prod_Category_A_None</td>\n",
       "      <td>1</td>\n",
       "      <td>48230.0</td>\n",
       "    </tr>\n",
       "    <tr>\n",
       "      <th>2</th>\n",
       "      <td>27446</td>\n",
       "      <td>Americas</td>\n",
       "      <td>NW America</td>\n",
       "      <td>0</td>\n",
       "      <td>0</td>\n",
       "      <td>0</td>\n",
       "      <td>0</td>\n",
       "      <td>0</td>\n",
       "      <td>Bureaucratic_Code_4</td>\n",
       "      <td>2015-04-21</td>\n",
       "      <td>...</td>\n",
       "      <td>Q1</td>\n",
       "      <td>2016</td>\n",
       "      <td>0</td>\n",
       "      <td>USD</td>\n",
       "      <td>83865.6</td>\n",
       "      <td>USD</td>\n",
       "      <td>Closed Won</td>\n",
       "      <td>Prod_Category_A_None</td>\n",
       "      <td>1</td>\n",
       "      <td>83865.6</td>\n",
       "    </tr>\n",
       "    <tr>\n",
       "      <th>3</th>\n",
       "      <td>16808</td>\n",
       "      <td>Americas</td>\n",
       "      <td>NW America</td>\n",
       "      <td>1</td>\n",
       "      <td>0</td>\n",
       "      <td>1</td>\n",
       "      <td>0</td>\n",
       "      <td>0</td>\n",
       "      <td>Bureaucratic_Code_5</td>\n",
       "      <td>2013-07-27</td>\n",
       "      <td>...</td>\n",
       "      <td>Q1</td>\n",
       "      <td>2018</td>\n",
       "      <td>14</td>\n",
       "      <td>USD</td>\n",
       "      <td>7421881.5</td>\n",
       "      <td>USD</td>\n",
       "      <td>Closed Lost</td>\n",
       "      <td>Prod_Category_A_None</td>\n",
       "      <td>2</td>\n",
       "      <td>7421881.5</td>\n",
       "    </tr>\n",
       "    <tr>\n",
       "      <th>4</th>\n",
       "      <td>16805</td>\n",
       "      <td>Americas</td>\n",
       "      <td>NW America</td>\n",
       "      <td>1</td>\n",
       "      <td>0</td>\n",
       "      <td>1</td>\n",
       "      <td>0</td>\n",
       "      <td>0</td>\n",
       "      <td>Bureaucratic_Code_5</td>\n",
       "      <td>2013-07-27</td>\n",
       "      <td>...</td>\n",
       "      <td>Q1</td>\n",
       "      <td>2018</td>\n",
       "      <td>25</td>\n",
       "      <td>USD</td>\n",
       "      <td>13357192.5</td>\n",
       "      <td>USD</td>\n",
       "      <td>Closed Lost</td>\n",
       "      <td>Prod_Category_A_None</td>\n",
       "      <td>2</td>\n",
       "      <td>13357192.5</td>\n",
       "    </tr>\n",
       "  </tbody>\n",
       "</table>\n",
       "<p>5 rows × 50 columns</p>\n",
       "</div>"
      ],
      "text/plain": [
       "      ID    Region   Territory  Pricing, Delivery_Terms_Quote_Appr  \\\n",
       "0  27761      EMEA        None                                   1   \n",
       "1  27760      EMEA        None                                   0   \n",
       "2  27446  Americas  NW America                                   0   \n",
       "3  16808  Americas  NW America                                   1   \n",
       "4  16805  Americas  NW America                                   1   \n",
       "\n",
       "   Pricing, Delivery_Terms_Approved  Bureaucratic_Code_0_Approval  \\\n",
       "0                                 1                             1   \n",
       "1                                 0                             0   \n",
       "2                                 0                             0   \n",
       "3                                 0                             1   \n",
       "4                                 0                             1   \n",
       "\n",
       "   Bureaucratic_Code_0_Approved  Submitted_for_Approval    Bureaucratic_Code  \\\n",
       "0                             1                       0  Bureaucratic_Code_4   \n",
       "1                             0                       0  Bureaucratic_Code_4   \n",
       "2                             0                       0  Bureaucratic_Code_4   \n",
       "3                             0                       0  Bureaucratic_Code_5   \n",
       "4                             0                       0  Bureaucratic_Code_5   \n",
       "\n",
       "  Account_Created_Date  ... Delivery_Quarter Delivery_Year TRF  \\\n",
       "0           2015-06-16  ...               Q2          2016  10   \n",
       "1           2015-06-16  ...               Q1          2016   0   \n",
       "2           2015-04-21  ...               Q1          2016   0   \n",
       "3           2013-07-27  ...               Q1          2018  14   \n",
       "4           2013-07-27  ...               Q1          2018  25   \n",
       "\n",
       "  Total_Amount_Currency  Total_Amount  Total_Taxable_Amount_Currency  \\\n",
       "0                   EUR     5272800.0                            EUR   \n",
       "1                   EUR       48230.0                            EUR   \n",
       "2                   USD       83865.6                            USD   \n",
       "3                   USD     7421881.5                            USD   \n",
       "4                   USD    13357192.5                            USD   \n",
       "\n",
       "         Stage       Prod_Category_A Delivery_Month Total_Taxable_Amount  \n",
       "0  Closed Lost  Prod_Category_A_None              5            5272800.0  \n",
       "1   Closed Won  Prod_Category_A_None              1              48230.0  \n",
       "2   Closed Won  Prod_Category_A_None              1              83865.6  \n",
       "3  Closed Lost  Prod_Category_A_None              2            7421881.5  \n",
       "4  Closed Lost  Prod_Category_A_None              2           13357192.5  \n",
       "\n",
       "[5 rows x 50 columns]"
      ]
     },
     "execution_count": 144,
     "metadata": {},
     "output_type": "execute_result"
    }
   ],
   "source": [
    "df=df.drop(['Actual_Delivery_Date', 'Last_Activity', 'Price'], axis=1)\n",
    "df.head()"
   ]
  },
  {
   "cell_type": "markdown",
   "metadata": {
    "id": "HaVfT9cIlamS"
   },
   "source": [
    "### Exloración de cantidad de valores de cada tipo para ciertas columnas"
   ]
  },
  {
   "cell_type": "code",
   "execution_count": 145,
   "metadata": {
    "id": "Fho8nl3ylamT",
    "outputId": "22d3a219-441b-4830-933d-61b4dba5dc54"
   },
   "outputs": [
    {
     "data": {
      "text/plain": [
       "Japan          4892\n",
       "EMEA           4664\n",
       "Americas       3945\n",
       "APAC           3262\n",
       "Middle East     184\n",
       "Name: Region, dtype: int64"
      ]
     },
     "execution_count": 145,
     "metadata": {},
     "output_type": "execute_result"
    }
   ],
   "source": [
    "df['Region'].value_counts()"
   ]
  },
  {
   "cell_type": "code",
   "execution_count": 146,
   "metadata": {
    "id": "D7zdVn-dlamc",
    "outputId": "da3af0b1-aeca-4234-a956-2ffdaebd6091"
   },
   "outputs": [
    {
     "data": {
      "text/plain": [
       "None              4999\n",
       "Germany           1682\n",
       "NW America        1568\n",
       "Australia         1208\n",
       "India              809\n",
       "                  ... \n",
       "Czech Republic       1\n",
       "Croatia              1\n",
       "Egypt                1\n",
       "Monaco               1\n",
       "Slovenia             1\n",
       "Name: Territory, Length: 76, dtype: int64"
      ]
     },
     "execution_count": 146,
     "metadata": {},
     "output_type": "execute_result"
    }
   ],
   "source": [
    "df['Territory'].value_counts()"
   ]
  },
  {
   "cell_type": "code",
   "execution_count": 147,
   "metadata": {
    "id": "PlUUdYRQlami",
    "outputId": "17d310b0-3ef8-44d5-e41b-e4a57efa9dc2"
   },
   "outputs": [
    {
     "data": {
      "text/plain": [
       "None         9497\n",
       "Source_7     2965\n",
       "Source_9     1459\n",
       "Source_11    1421\n",
       "Source_13     786\n",
       "Source_3      418\n",
       "Source_1      137\n",
       "Source_10     106\n",
       "Source_2       86\n",
       "Source_4       43\n",
       "Source_6       19\n",
       "Source_0        7\n",
       "Source_12       2\n",
       "Source_5        1\n",
       "Name: Source , dtype: int64"
      ]
     },
     "execution_count": 147,
     "metadata": {},
     "output_type": "execute_result"
    }
   ],
   "source": [
    "df['Source '].value_counts()"
   ]
  },
  {
   "cell_type": "code",
   "execution_count": 148,
   "metadata": {
    "id": "J9Wl4IlClamo",
    "outputId": "4faeb9c4-e91a-46c4-de8b-6ae61aad261e"
   },
   "outputs": [
    {
     "data": {
      "text/plain": [
       "Japan            4879\n",
       "United States    3802\n",
       "Germany          1979\n",
       "Australia        1169\n",
       "India             672\n",
       "                 ... \n",
       "Peru                1\n",
       "Morocco             1\n",
       "Malaysia            1\n",
       "Belize              1\n",
       "Colombia            1\n",
       "Name: Billing_Country, Length: 80, dtype: int64"
      ]
     },
     "execution_count": 148,
     "metadata": {},
     "output_type": "execute_result"
    }
   ],
   "source": [
    "df['Billing_Country'].value_counts()"
   ]
  },
  {
   "cell_type": "code",
   "execution_count": 149,
   "metadata": {
    "id": "td--8gitlamt",
    "outputId": "8b53babe-1bed-4d6a-c07e-b76afb6d2e7f"
   },
   "outputs": [
    {
     "data": {
      "text/plain": [
       "Non Binding    16777\n",
       "Binding          170\n",
       "Name: Quote_Type, dtype: int64"
      ]
     },
     "execution_count": 149,
     "metadata": {},
     "output_type": "execute_result"
    }
   ],
   "source": [
    "df['Quote_Type'].value_counts()"
   ]
  },
  {
   "cell_type": "code",
   "execution_count": 150,
   "metadata": {
    "id": "Ua9dkuTFlamz",
    "outputId": "b5827b2a-54ad-42df-a7f6-6fdbd1dac9a3"
   },
   "outputs": [
    {
     "data": {
      "text/plain": [
       "None    16052\n",
       "EUR       475\n",
       "USD       420\n",
       "Name: Currency, dtype: int64"
      ]
     },
     "execution_count": 150,
     "metadata": {},
     "output_type": "execute_result"
    }
   ],
   "source": [
    "df['Currency'].value_counts()"
   ]
  },
  {
   "cell_type": "code",
   "execution_count": 151,
   "metadata": {
    "id": "JHxA9-9Nlam6",
    "outputId": "c85e441c-f67f-4b86-ba54-57091b8f297c"
   },
   "outputs": [
    {
     "data": {
      "text/plain": [
       "USD    7361\n",
       "JPY    4522\n",
       "EUR    4503\n",
       "AUD     556\n",
       "GBP       5\n",
       "Name: ASP_Currency, dtype: int64"
      ]
     },
     "execution_count": 151,
     "metadata": {},
     "output_type": "execute_result"
    }
   ],
   "source": [
    "df['ASP_Currency'].value_counts()"
   ]
  },
  {
   "cell_type": "code",
   "execution_count": 152,
   "metadata": {
    "id": "VRI0tUCjlam_",
    "outputId": "719789dc-8305-4947-d7db-481ef9f334a6"
   },
   "outputs": [
    {
     "data": {
      "text/plain": [
       "USD    16947\n",
       "Name: ASP_(converted)_Currency, dtype: int64"
      ]
     },
     "execution_count": 152,
     "metadata": {},
     "output_type": "execute_result"
    }
   ],
   "source": [
    "df['ASP_(converted)_Currency'].value_counts()"
   ]
  },
  {
   "cell_type": "code",
   "execution_count": 153,
   "metadata": {
    "id": "WSQnJ2hrlanE",
    "outputId": "c25f0d5d-198d-4ff8-b354-c81359c7e84b"
   },
   "outputs": [
    {
     "data": {
      "text/plain": [
       "Q2    4443\n",
       "Q1    4317\n",
       "Q4    4144\n",
       "Q3    4043\n",
       "Name: Delivery_Quarter, dtype: int64"
      ]
     },
     "execution_count": 153,
     "metadata": {},
     "output_type": "execute_result"
    }
   ],
   "source": [
    "df['Delivery_Quarter'].value_counts()"
   ]
  },
  {
   "cell_type": "code",
   "execution_count": 154,
   "metadata": {
    "id": "UL1CBiJzlanK",
    "outputId": "5e5137db-1a55-4794-dfff-38de684d96ea"
   },
   "outputs": [
    {
     "data": {
      "text/plain": [
       "USD    7347\n",
       "JPY    4525\n",
       "EUR    4518\n",
       "AUD     553\n",
       "GBP       4\n",
       "Name: Total_Taxable_Amount_Currency, dtype: int64"
      ]
     },
     "execution_count": 154,
     "metadata": {},
     "output_type": "execute_result"
    }
   ],
   "source": [
    "df['Total_Taxable_Amount_Currency'].value_counts()"
   ]
  },
  {
   "cell_type": "code",
   "execution_count": 155,
   "metadata": {
    "id": "fOfesThvlanQ",
    "outputId": "c48f30d4-9a8d-406d-d31c-46bef671a948"
   },
   "outputs": [
    {
     "data": {
      "text/plain": [
       "2017    6318\n",
       "2018    5830\n",
       "2016    4371\n",
       "2019     414\n",
       "2020      14\n",
       "Name: Delivery_Year, dtype: int64"
      ]
     },
     "execution_count": 155,
     "metadata": {},
     "output_type": "execute_result"
    }
   ],
   "source": [
    "df['Delivery_Year'].value_counts()"
   ]
  },
  {
   "cell_type": "code",
   "execution_count": 156,
   "metadata": {
    "id": "obZo_1NRlanX",
    "outputId": "8b5ba69a-1cb4-49df-bc17-b87700a7cd20"
   },
   "outputs": [
    {
     "data": {
      "text/plain": [
       "0.38000    570\n",
       "0.40000    497\n",
       "0.36000    326\n",
       "0.39000    325\n",
       "0.00000    300\n",
       "          ... \n",
       "0.32365      1\n",
       "0.67868      1\n",
       "0.43820      1\n",
       "0.47300      1\n",
       "0.30567      1\n",
       "Name: ASP_(converted), Length: 441, dtype: int64"
      ]
     },
     "execution_count": 156,
     "metadata": {},
     "output_type": "execute_result"
    }
   ],
   "source": [
    "df['ASP_(converted)'].value_counts()"
   ]
  },
  {
   "cell_type": "code",
   "execution_count": 157,
   "metadata": {
    "id": "CkRqnOGplane"
   },
   "outputs": [],
   "source": [
    "#df2['TRF'].value_counts()"
   ]
  },
  {
   "cell_type": "markdown",
   "metadata": {},
   "source": [
    "# Etapa 2: Análisis exploratorio general con visualizaciones (tomando muchas columnas)"
   ]
  },
  {
   "cell_type": "markdown",
   "metadata": {
    "id": "NUbaLCo2lapF"
   },
   "source": [
    "### Análisis de correlación de los datos sin tener en cuenta numeros identificatorios"
   ]
  },
  {
   "cell_type": "markdown",
   "metadata": {
    "id": "qI9Qp3IAlapG"
   },
   "source": [
    "Dos variables se correlacionan positivamente si cuando una variable aumenta, la otra tiende a aumentar"
   ]
  },
  {
   "cell_type": "code",
   "execution_count": 158,
   "metadata": {
    "id": "og9AOMKblapH",
    "outputId": "1dc130a3-5263-4609-fdd1-214b3c77714d",
    "scrolled": false
   },
   "outputs": [
    {
     "name": "stderr",
     "output_type": "stream",
     "text": [
      "c:\\users\\patricio\\appdata\\local\\programs\\python\\python37-32\\lib\\site-packages\\ipykernel_launcher.py:8: MatplotlibDeprecationWarning: Case-insensitive properties were deprecated in 3.3 and support will be removed two minor releases later\n",
      "  \n"
     ]
    },
    {
     "data": {
      "text/plain": [
       "Text(0.5, 1.0, 'Análsis de correlación de los datos numéricos')"
      ]
     },
     "execution_count": 158,
     "metadata": {},
     "output_type": "execute_result"
    },
    {
     "data": {
      "image/png": "[encoded data removed]",
      "text/plain": [
       "<Figure size 1080x1080 with 2 Axes>"
      ]
     },
     "metadata": {
      "needs_background": "light"
     },
     "output_type": "display_data"
    }
   ],
   "source": [
    "df_sin_ids=df.drop(['ID', 'Opportunity_ID', 'Sales_Contract_No'], axis=1)\n",
    "\n",
    "plt.figure(figsize=(15, 15))\n",
    "titulo='Análsis de correlación de los datos numéricos'\n",
    "\n",
    "sns.heatmap(df_sin_ids.corr(), square=True, annot=True, fmt='.2f', cmap=\"YlGnBu\");\n",
    "plt.xticks(rotation=75)\n",
    "plt.title(titulo,fontSize=18)\n"
   ]
  },
  {
   "cell_type": "markdown",
   "metadata": {
    "id": "DvM1jwHGlapO"
   },
   "source": [
    "A continuación se muestra un cuadro con los cuatro pares de variables con mayor correlación positiva y su análisis:\n",
    "\n",
    "|Variable 1 | Variable 2 |Correlacion |Análisis |\n",
    "|:-|:-|:-|:-|\n",
    "|Total_Amount|Total_Taxable_Amount|0.94|Estas variables están bastante correlacionadas probablemente porque una representa el monto total y la otra el monto total más impuestos|\n",
    "|Bureaucratic_Code_0_Approval|Bureaucratic_Code_0_Approved|0.72|Esta correlación esta indicando que una alta cantidad de oportunidades que necesitan el código burocrático 0 lo suelen obtener|\n",
    "|Pricing, Delivery_Terms_Quote_Approval|Pricing, Delivery_Terms_Approved|0.58|Esta correlación esta indicando que las oportunidades que necesitan aprobación especial la suelen obtener|\n",
    "|Bureaucratic_Code_0_Approved|Pricing, Delivery_Terms_Approved|0.57|Esta correlación indica que las oportunidades que obtienen código burocrático 0 suelen obtener la aprobación especial|"
   ]
  },
  {
   "cell_type": "markdown",
   "metadata": {},
   "source": [
    "# Etapa 3: Análisis exploratorio particular con visualizaciones (tomando solo algunas columnas)"
   ]
  },
  {
   "cell_type": "code",
   "execution_count": 159,
   "metadata": {
    "id": "NUbaLCo2lapF"
   },
   "outputs": [],
   "source": [
    "### Análisis de estadístico (mín,máx,mediana) de los datos numéricos sin tener en cuenta numeros identificatorios"
   ]
  },
  {
   "cell_type": "code",
   "execution_count": 160,
   "metadata": {},
   "outputs": [],
   "source": [
    "#df_numerico_sin_ids=df.drop(['ID', 'Opportunity_ID', 'Sales_Contract_No','Pricing, Delivery_Terms_Quote_Appr','Pricing, Delivery_Terms_Approved','Bureaucratic_Code_0_Approval','Bureaucratic_Code_0_Approved','Submitted_for_Approval'], axis=1)\n",
    "#df_numerico_sin_ids.describe()"
   ]
  },
  {
   "cell_type": "markdown",
   "metadata": {
    "id": "NUbaLCo2lapF"
   },
   "source": [
    "### Análisis de estadístico de la columna Delivery_Year"
   ]
  },
  {
   "cell_type": "code",
   "execution_count": 161,
   "metadata": {},
   "outputs": [
    {
     "name": "stderr",
     "output_type": "stream",
     "text": [
      "c:\\users\\patricio\\appdata\\local\\programs\\python\\python37-32\\lib\\site-packages\\ipykernel_launcher.py:3: MatplotlibDeprecationWarning: Case-insensitive properties were deprecated in 3.3 and support will be removed two minor releases later\n",
      "  This is separate from the ipykernel package so we can avoid doing imports until\n",
      "c:\\users\\patricio\\appdata\\local\\programs\\python\\python37-32\\lib\\site-packages\\ipykernel_launcher.py:4: MatplotlibDeprecationWarning: Case-insensitive properties were deprecated in 3.3 and support will be removed two minor releases later\n",
      "  after removing the cwd from sys.path.\n",
      "c:\\users\\patricio\\appdata\\local\\programs\\python\\python37-32\\lib\\site-packages\\ipykernel_launcher.py:5: MatplotlibDeprecationWarning: Case-insensitive properties were deprecated in 3.3 and support will be removed two minor releases later\n",
      "  \"\"\"\n"
     ]
    },
    {
     "data": {
      "text/plain": [
       "Text(0.5, 1.0, 'Cantidad de oportunidades según Delivery_Year')"
      ]
     },
     "execution_count": 161,
     "metadata": {},
     "output_type": "execute_result"
    },
    {
     "data": {
      "image/png": "[encoded data removed]",
      "text/plain": [
       "<Figure size 432x288 with 1 Axes>"
      ]
     },
     "metadata": {
      "needs_background": "light"
     },
     "output_type": "display_data"
    }
   ],
   "source": [
    "ax = sns.boxplot(data=df['Delivery_Year'], orient=\"v\", palette=\"Set2\")\n",
    "\n",
    "plt.xlabel(\"Cantidad de oportunidades\",fontSize=18)\n",
    "plt.ylabel(\"Año de entrega\",fontSize=18)\n",
    "plt.title(\"Cantidad de oportunidades según Delivery_Year\",fontSize=18)"
   ]
  },
  {
   "cell_type": "markdown",
   "metadata": {},
   "source": [
    "Del análisis del gráfico se puede observar que:\n",
    "* El 50% de las oportunidades corresponden al rango que va desde el año 2016 al año 2018\n",
    "* El año de entrega promedio tomando todas las oportunidades es 2017\n",
    "* No hay valores atípicos"
   ]
  },
  {
   "cell_type": "markdown",
   "metadata": {
    "id": "NUbaLCo2lapF"
   },
   "source": [
    "### Análisis de estadístico de la columna Delivery_Month"
   ]
  },
  {
   "cell_type": "code",
   "execution_count": 162,
   "metadata": {},
   "outputs": [
    {
     "name": "stderr",
     "output_type": "stream",
     "text": [
      "c:\\users\\patricio\\appdata\\local\\programs\\python\\python37-32\\lib\\site-packages\\ipykernel_launcher.py:3: MatplotlibDeprecationWarning: Case-insensitive properties were deprecated in 3.3 and support will be removed two minor releases later\n",
      "  This is separate from the ipykernel package so we can avoid doing imports until\n",
      "c:\\users\\patricio\\appdata\\local\\programs\\python\\python37-32\\lib\\site-packages\\ipykernel_launcher.py:4: MatplotlibDeprecationWarning: Case-insensitive properties were deprecated in 3.3 and support will be removed two minor releases later\n",
      "  after removing the cwd from sys.path.\n",
      "c:\\users\\patricio\\appdata\\local\\programs\\python\\python37-32\\lib\\site-packages\\ipykernel_launcher.py:5: MatplotlibDeprecationWarning: Case-insensitive properties were deprecated in 3.3 and support will be removed two minor releases later\n",
      "  \"\"\"\n"
     ]
    },
    {
     "data": {
      "text/plain": [
       "Text(0.5, 1.0, 'Cantidad de oportunidades según Month_Year')"
      ]
     },
     "execution_count": 162,
     "metadata": {},
     "output_type": "execute_result"
    },
    {
     "data": {
      "image/png": "[encoded data removed]",
      "text/plain": [
       "<Figure size 432x288 with 1 Axes>"
      ]
     },
     "metadata": {
      "needs_background": "light"
     },
     "output_type": "display_data"
    }
   ],
   "source": [
    "ax = sns.boxplot(data=df['Delivery_Month'], orient=\"v\", palette=\"Set2\")\n",
    "\n",
    "plt.xlabel(\"Cantidad de oportunidades\",fontSize=18)\n",
    "plt.ylabel(\"Mes de entrega\",fontSize=18)\n",
    "plt.title(\"Cantidad de oportunidades según Month_Year\",fontSize=18)\n"
   ]
  },
  {
   "cell_type": "markdown",
   "metadata": {},
   "source": [
    "Del análisis del gráfico se puede observar que:\n",
    "* El 50% de las oportunidades corresponden al rango que va desde el mes 3 al mes 9\n",
    "* El mes de entrega promedio tomando todas las oportunidades es 6\n",
    "* No hay valores atípicos"
   ]
  },
  {
   "cell_type": "markdown",
   "metadata": {},
   "source": [
    "### Análisis de toneladas de refrigeración versus  precio promedio de venta (en USD) por estado de la oportunidad "
   ]
  },
  {
   "cell_type": "code",
   "execution_count": 163,
   "metadata": {},
   "outputs": [
    {
     "name": "stderr",
     "output_type": "stream",
     "text": [
      "c:\\users\\patricio\\appdata\\local\\programs\\python\\python37-32\\lib\\site-packages\\ipykernel_launcher.py:6: MatplotlibDeprecationWarning: Case-insensitive properties were deprecated in 3.3 and support will be removed two minor releases later\n",
      "  \n"
     ]
    },
    {
     "data": {
      "text/plain": [
       "Text(0.5, 1.0, 'TRF vs ASP_(converted) por valor de Stage')"
      ]
     },
     "execution_count": 163,
     "metadata": {},
     "output_type": "execute_result"
    },
    {
     "data": {
      "image/png": "[encoded data removed]",
      "text/plain": [
       "<Figure size 1080x1080 with 1 Axes>"
      ]
     },
     "metadata": {
      "needs_background": "light"
     },
     "output_type": "display_data"
    }
   ],
   "source": [
    "plt.figure(figsize=(15, 15))\n",
    "condicion1=df['ASP_(converted)'] <1\n",
    "condicion2=df['TRF'] <200 \n",
    "df_filtrado=df[condicion1 & condicion2]\n",
    "sns.scatterplot(data=df_filtrado, x=\"TRF\", y=\"ASP_(converted)\", hue=\"Stage\")#, style=\"Region\")\n",
    "plt.title(\"TRF vs ASP_(converted) por valor de Stage\",fontSize=18)\n"
   ]
  },
  {
   "cell_type": "markdown",
   "metadata": {},
   "source": [
    "Del análisis del gráfico se puede observar que:\n",
    "* A medida que aumentan las Toneladas De Refrigeración (TRF) disminuyen las oportunidades\n",
    "* Se observan principalmente Stages con valor Closed Lost y Closed Won\n",
    "* En la mayoría de las oportunidades su Stage es Closed Lost\n",
    "* Las oportunidades cuyo Stage es Closed Win  generalmente corresponden a valores de TRF muy pequeños, llama la atención que la mayoría corressponden a 0 TRF\n",
    "* La mayoría de las oportunidades tienen un valor de ASP_(converted) que va de 0,3 a 0,7 USD\n",
    "* La mayoría de las oportunidades tienen un valor de TRF que va de 0 a 25"
   ]
  },
  {
   "cell_type": "markdown",
   "metadata": {
    "id": "EvYM386zlanj"
   },
   "source": [
    "### Análisis de precio promedio de venta anual (en USD) por región"
   ]
  },
  {
   "cell_type": "code",
   "execution_count": 164,
   "metadata": {
    "id": "CTIfEUhVlank",
    "outputId": "ddcf6065-2f2c-4dd9-9086-e7a131f0ee49"
   },
   "outputs": [
    {
     "data": {
      "text/html": [
       "<div>\n",
       "<style scoped>\n",
       "    .dataframe tbody tr th:only-of-type {\n",
       "        vertical-align: middle;\n",
       "    }\n",
       "\n",
       "    .dataframe tbody tr th {\n",
       "        vertical-align: top;\n",
       "    }\n",
       "\n",
       "    .dataframe thead th {\n",
       "        text-align: right;\n",
       "    }\n",
       "</style>\n",
       "<table border=\"1\" class=\"dataframe\">\n",
       "  <thead>\n",
       "    <tr style=\"text-align: right;\">\n",
       "      <th></th>\n",
       "      <th>Region</th>\n",
       "      <th>Delivery_Year</th>\n",
       "      <th>ASP_(converted)</th>\n",
       "      <th>ASP_(converted)_Currency</th>\n",
       "    </tr>\n",
       "  </thead>\n",
       "  <tbody>\n",
       "    <tr>\n",
       "      <th>0</th>\n",
       "      <td>EMEA</td>\n",
       "      <td>2016</td>\n",
       "      <td>0.58817</td>\n",
       "      <td>USD</td>\n",
       "    </tr>\n",
       "    <tr>\n",
       "      <th>1</th>\n",
       "      <td>EMEA</td>\n",
       "      <td>2016</td>\n",
       "      <td>0.59948</td>\n",
       "      <td>USD</td>\n",
       "    </tr>\n",
       "    <tr>\n",
       "      <th>2</th>\n",
       "      <td>Americas</td>\n",
       "      <td>2016</td>\n",
       "      <td>0.48000</td>\n",
       "      <td>USD</td>\n",
       "    </tr>\n",
       "    <tr>\n",
       "      <th>3</th>\n",
       "      <td>Americas</td>\n",
       "      <td>2018</td>\n",
       "      <td>0.53000</td>\n",
       "      <td>USD</td>\n",
       "    </tr>\n",
       "    <tr>\n",
       "      <th>4</th>\n",
       "      <td>Americas</td>\n",
       "      <td>2018</td>\n",
       "      <td>0.53000</td>\n",
       "      <td>USD</td>\n",
       "    </tr>\n",
       "  </tbody>\n",
       "</table>\n",
       "</div>"
      ],
      "text/plain": [
       "     Region  Delivery_Year  ASP_(converted) ASP_(converted)_Currency\n",
       "0      EMEA           2016          0.58817                      USD\n",
       "1      EMEA           2016          0.59948                      USD\n",
       "2  Americas           2016          0.48000                      USD\n",
       "3  Americas           2018          0.53000                      USD\n",
       "4  Americas           2018          0.53000                      USD"
      ]
     },
     "execution_count": 164,
     "metadata": {},
     "output_type": "execute_result"
    }
   ],
   "source": [
    "df[['Region','Delivery_Year','ASP_(converted)','ASP_(converted)_Currency']].head()"
   ]
  },
  {
   "cell_type": "markdown",
   "metadata": {},
   "source": [
    "Precio de venta promedio, en dolares, por region y año:"
   ]
  },
  {
   "cell_type": "code",
   "execution_count": 165,
   "metadata": {
    "id": "n5sFLrYKlans",
    "outputId": "5175069c-9037-4fbc-bde6-7654f23eb4ce"
   },
   "outputs": [
    {
     "data": {
      "text/html": [
       "<div>\n",
       "<style scoped>\n",
       "    .dataframe tbody tr th:only-of-type {\n",
       "        vertical-align: middle;\n",
       "    }\n",
       "\n",
       "    .dataframe tbody tr th {\n",
       "        vertical-align: top;\n",
       "    }\n",
       "\n",
       "    .dataframe thead th {\n",
       "        text-align: right;\n",
       "    }\n",
       "</style>\n",
       "<table border=\"1\" class=\"dataframe\">\n",
       "  <thead>\n",
       "    <tr style=\"text-align: right;\">\n",
       "      <th></th>\n",
       "      <th></th>\n",
       "      <th>ASP_(converted)</th>\n",
       "    </tr>\n",
       "    <tr>\n",
       "      <th>Region</th>\n",
       "      <th>Delivery_Year</th>\n",
       "      <th></th>\n",
       "    </tr>\n",
       "  </thead>\n",
       "  <tbody>\n",
       "    <tr>\n",
       "      <th>Japan</th>\n",
       "      <th>2016</th>\n",
       "      <td>0.615010</td>\n",
       "    </tr>\n",
       "    <tr>\n",
       "      <th>EMEA</th>\n",
       "      <th>2016</th>\n",
       "      <td>0.605675</td>\n",
       "    </tr>\n",
       "    <tr>\n",
       "      <th rowspan=\"2\" valign=\"top\">Americas</th>\n",
       "      <th>2016</th>\n",
       "      <td>0.576835</td>\n",
       "    </tr>\n",
       "    <tr>\n",
       "      <th>2018</th>\n",
       "      <td>0.457564</td>\n",
       "    </tr>\n",
       "    <tr>\n",
       "      <th>APAC</th>\n",
       "      <th>2016</th>\n",
       "      <td>0.451346</td>\n",
       "    </tr>\n",
       "    <tr>\n",
       "      <th>EMEA</th>\n",
       "      <th>2017</th>\n",
       "      <td>0.431987</td>\n",
       "    </tr>\n",
       "    <tr>\n",
       "      <th>Middle East</th>\n",
       "      <th>2016</th>\n",
       "      <td>0.423231</td>\n",
       "    </tr>\n",
       "    <tr>\n",
       "      <th>Japan</th>\n",
       "      <th>2017</th>\n",
       "      <td>0.418712</td>\n",
       "    </tr>\n",
       "    <tr>\n",
       "      <th>Americas</th>\n",
       "      <th>2017</th>\n",
       "      <td>0.397889</td>\n",
       "    </tr>\n",
       "    <tr>\n",
       "      <th>Japan</th>\n",
       "      <th>2018</th>\n",
       "      <td>0.393486</td>\n",
       "    </tr>\n",
       "    <tr>\n",
       "      <th>Americas</th>\n",
       "      <th>2019</th>\n",
       "      <td>0.393256</td>\n",
       "    </tr>\n",
       "    <tr>\n",
       "      <th>Japan</th>\n",
       "      <th>2019</th>\n",
       "      <td>0.378218</td>\n",
       "    </tr>\n",
       "    <tr>\n",
       "      <th>EMEA</th>\n",
       "      <th>2018</th>\n",
       "      <td>0.370901</td>\n",
       "    </tr>\n",
       "    <tr>\n",
       "      <th>Middle East</th>\n",
       "      <th>2017</th>\n",
       "      <td>0.358714</td>\n",
       "    </tr>\n",
       "    <tr>\n",
       "      <th rowspan=\"2\" valign=\"top\">APAC</th>\n",
       "      <th>2017</th>\n",
       "      <td>0.357214</td>\n",
       "    </tr>\n",
       "    <tr>\n",
       "      <th>2018</th>\n",
       "      <td>0.353794</td>\n",
       "    </tr>\n",
       "    <tr>\n",
       "      <th>Middle East</th>\n",
       "      <th>2018</th>\n",
       "      <td>0.343846</td>\n",
       "    </tr>\n",
       "    <tr>\n",
       "      <th>Japan</th>\n",
       "      <th>2020</th>\n",
       "      <td>0.336584</td>\n",
       "    </tr>\n",
       "    <tr>\n",
       "      <th rowspan=\"2\" valign=\"top\">APAC</th>\n",
       "      <th>2019</th>\n",
       "      <td>0.324960</td>\n",
       "    </tr>\n",
       "    <tr>\n",
       "      <th>2020</th>\n",
       "      <td>0.315000</td>\n",
       "    </tr>\n",
       "    <tr>\n",
       "      <th>EMEA</th>\n",
       "      <th>2019</th>\n",
       "      <td>0.313476</td>\n",
       "    </tr>\n",
       "    <tr>\n",
       "      <th>Middle East</th>\n",
       "      <th>2019</th>\n",
       "      <td>0.299375</td>\n",
       "    </tr>\n",
       "    <tr>\n",
       "      <th>Americas</th>\n",
       "      <th>2020</th>\n",
       "      <td>0.295000</td>\n",
       "    </tr>\n",
       "  </tbody>\n",
       "</table>\n",
       "</div>"
      ],
      "text/plain": [
       "                           ASP_(converted)\n",
       "Region      Delivery_Year                 \n",
       "Japan       2016                  0.615010\n",
       "EMEA        2016                  0.605675\n",
       "Americas    2016                  0.576835\n",
       "            2018                  0.457564\n",
       "APAC        2016                  0.451346\n",
       "EMEA        2017                  0.431987\n",
       "Middle East 2016                  0.423231\n",
       "Japan       2017                  0.418712\n",
       "Americas    2017                  0.397889\n",
       "Japan       2018                  0.393486\n",
       "Americas    2019                  0.393256\n",
       "Japan       2019                  0.378218\n",
       "EMEA        2018                  0.370901\n",
       "Middle East 2017                  0.358714\n",
       "APAC        2017                  0.357214\n",
       "            2018                  0.353794\n",
       "Middle East 2018                  0.343846\n",
       "Japan       2020                  0.336584\n",
       "APAC        2019                  0.324960\n",
       "            2020                  0.315000\n",
       "EMEA        2019                  0.313476\n",
       "Middle East 2019                  0.299375\n",
       "Americas    2020                  0.295000"
      ]
     },
     "execution_count": 165,
     "metadata": {},
     "output_type": "execute_result"
    }
   ],
   "source": [
    "precioVentaAnualPorRegion=df.groupby(['Region','Delivery_Year']).agg({'ASP_(converted)': 'mean'}).sort_values('ASP_(converted)', ascending=False)\n",
    "precioVentaAnualPorRegion"
   ]
  },
  {
   "cell_type": "markdown",
   "metadata": {},
   "source": [
    "Evolución del precio de venta promedio por región (2016-2020):"
   ]
  },
  {
   "cell_type": "code",
   "execution_count": 166,
   "metadata": {
    "id": "3YeDpj3elan0",
    "outputId": "b805b2b9-c712-4bc8-d497-9f4502d62933"
   },
   "outputs": [
    {
     "data": {
      "text/html": [
       "<div>\n",
       "<style scoped>\n",
       "    .dataframe tbody tr th:only-of-type {\n",
       "        vertical-align: middle;\n",
       "    }\n",
       "\n",
       "    .dataframe tbody tr th {\n",
       "        vertical-align: top;\n",
       "    }\n",
       "\n",
       "    .dataframe thead th {\n",
       "        text-align: right;\n",
       "    }\n",
       "</style>\n",
       "<table border=\"1\" class=\"dataframe\">\n",
       "  <thead>\n",
       "    <tr style=\"text-align: right;\">\n",
       "      <th>Delivery_Year</th>\n",
       "      <th>2016</th>\n",
       "      <th>2017</th>\n",
       "      <th>2018</th>\n",
       "      <th>2019</th>\n",
       "      <th>2020</th>\n",
       "    </tr>\n",
       "    <tr>\n",
       "      <th>Region</th>\n",
       "      <th></th>\n",
       "      <th></th>\n",
       "      <th></th>\n",
       "      <th></th>\n",
       "      <th></th>\n",
       "    </tr>\n",
       "  </thead>\n",
       "  <tbody>\n",
       "    <tr>\n",
       "      <th>APAC</th>\n",
       "      <td>0.451346</td>\n",
       "      <td>0.357214</td>\n",
       "      <td>0.353794</td>\n",
       "      <td>0.324960</td>\n",
       "      <td>0.315000</td>\n",
       "    </tr>\n",
       "    <tr>\n",
       "      <th>Americas</th>\n",
       "      <td>0.576835</td>\n",
       "      <td>0.397889</td>\n",
       "      <td>0.457564</td>\n",
       "      <td>0.393256</td>\n",
       "      <td>0.295000</td>\n",
       "    </tr>\n",
       "    <tr>\n",
       "      <th>EMEA</th>\n",
       "      <td>0.605675</td>\n",
       "      <td>0.431987</td>\n",
       "      <td>0.370901</td>\n",
       "      <td>0.313476</td>\n",
       "      <td>NaN</td>\n",
       "    </tr>\n",
       "    <tr>\n",
       "      <th>Japan</th>\n",
       "      <td>0.615010</td>\n",
       "      <td>0.418712</td>\n",
       "      <td>0.393486</td>\n",
       "      <td>0.378218</td>\n",
       "      <td>0.336584</td>\n",
       "    </tr>\n",
       "    <tr>\n",
       "      <th>Middle East</th>\n",
       "      <td>0.423231</td>\n",
       "      <td>0.358714</td>\n",
       "      <td>0.343846</td>\n",
       "      <td>0.299375</td>\n",
       "      <td>NaN</td>\n",
       "    </tr>\n",
       "  </tbody>\n",
       "</table>\n",
       "</div>"
      ],
      "text/plain": [
       "Delivery_Year      2016      2017      2018      2019      2020\n",
       "Region                                                         \n",
       "APAC           0.451346  0.357214  0.353794  0.324960  0.315000\n",
       "Americas       0.576835  0.397889  0.457564  0.393256  0.295000\n",
       "EMEA           0.605675  0.431987  0.370901  0.313476       NaN\n",
       "Japan          0.615010  0.418712  0.393486  0.378218  0.336584\n",
       "Middle East    0.423231  0.358714  0.343846  0.299375       NaN"
      ]
     },
     "execution_count": 166,
     "metadata": {},
     "output_type": "execute_result"
    }
   ],
   "source": [
    "dato1=precioVentaAnualPorRegion.pivot_table(index='Region',columns='Delivery_Year',values='ASP_(converted)')\n",
    "#dato1=dato.rename(index={'APAC': 'Asia Pacific (APAC)', 'EMEA': 'Europe Middle East Africa (EMEA)'})\n",
    "dato1"
   ]
  },
  {
   "cell_type": "code",
   "execution_count": 167,
   "metadata": {
    "id": "iVoq8kCJlan6",
    "outputId": "af922dc0-e4eb-4b5c-d1f9-c1fa3dbead75"
   },
   "outputs": [
    {
     "name": "stderr",
     "output_type": "stream",
     "text": [
      "c:\\users\\patricio\\appdata\\local\\programs\\python\\python37-32\\lib\\site-packages\\ipykernel_launcher.py:7: MatplotlibDeprecationWarning: Case-insensitive properties were deprecated in 3.3 and support will be removed two minor releases later\n",
      "  import sys\n",
      "c:\\users\\patricio\\appdata\\local\\programs\\python\\python37-32\\lib\\site-packages\\ipykernel_launcher.py:8: MatplotlibDeprecationWarning: Case-insensitive properties were deprecated in 3.3 and support will be removed two minor releases later\n",
      "  \n",
      "c:\\users\\patricio\\appdata\\local\\programs\\python\\python37-32\\lib\\site-packages\\ipykernel_launcher.py:9: MatplotlibDeprecationWarning: Case-insensitive properties were deprecated in 3.3 and support will be removed two minor releases later\n",
      "  if __name__ == '__main__':\n"
     ]
    },
    {
     "data": {
      "text/plain": [
       "Text(0, 0.5, 'Regiones')"
      ]
     },
     "execution_count": 167,
     "metadata": {},
     "output_type": "execute_result"
    },
    {
     "data": {
      "image/png": "[encoded data removed]",
      "text/plain": [
       "<Figure size 1080x720 with 1 Axes>"
      ]
     },
     "metadata": {
      "needs_background": "light"
     },
     "output_type": "display_data"
    }
   ],
   "source": [
    "datos=dato1\n",
    "titulo='Precio promedio de venta anual (en USD) por region'\n",
    "etiqueta_x='Precio promedio de venta (en USD)'\n",
    "etiqueta_y='Regiones'\n",
    "tamanio=(15,10)\n",
    "plot=datos.plot(kind='barh',figsize=tamanio,fontsize=18)\n",
    "plot.set_title(titulo,fontSize=18)\n",
    "plot.set_xlabel(etiqueta_x,fontSize=18)\n",
    "plot.set_ylabel(etiqueta_y,fontSize=18)"
   ]
  },
  {
   "cell_type": "markdown",
   "metadata": {
    "id": "r-5V6vLclaoA"
   },
   "source": [
    "#### Siglas:\n",
    "* __EMEA:Europe Middle East Africa__\n",
    "* __APAC:Asia Pacific__"
   ]
  },
  {
   "cell_type": "markdown",
   "metadata": {
    "id": "T90lUYqQlaoB"
   },
   "source": [
    "Del análisis del gráfico se puede observar que:\n",
    "* En las 5 regiones el precio promedio de venta disminuye año a año, con la salvedad de que en la región 'Americas', en el año 2018 hay un aumento para luego volver a caer en el año 2019\n",
    "* 'Japan' es la región con más valor de precio promedio de venta del 2016 a 2020, salvo en el año 2018 en el que es superado por la región 'Americas'\n",
    "* En las 5 regiones se da la situación de que el precio promedio de venta es mucho mayor en el año 2016 respecto de los años siguientes. Entre los años 2017 y 2020 las diferencias entre precios promedio de venta son mucho menores"
   ]
  },
  {
   "cell_type": "markdown",
   "metadata": {
    "id": "6HJFQ0Q1laoC"
   },
   "source": [
    "## Análisis de Toneladas De Refrigeración por región"
   ]
  },
  {
   "cell_type": "code",
   "execution_count": 168,
   "metadata": {
    "id": "QUsLFAy3laoD",
    "outputId": "6726e8bd-8a23-4631-a87d-e03155f50c06"
   },
   "outputs": [
    {
     "data": {
      "text/html": [
       "<div>\n",
       "<style scoped>\n",
       "    .dataframe tbody tr th:only-of-type {\n",
       "        vertical-align: middle;\n",
       "    }\n",
       "\n",
       "    .dataframe tbody tr th {\n",
       "        vertical-align: top;\n",
       "    }\n",
       "\n",
       "    .dataframe thead th {\n",
       "        text-align: right;\n",
       "    }\n",
       "</style>\n",
       "<table border=\"1\" class=\"dataframe\">\n",
       "  <thead>\n",
       "    <tr style=\"text-align: right;\">\n",
       "      <th></th>\n",
       "      <th>TRF</th>\n",
       "    </tr>\n",
       "    <tr>\n",
       "      <th>Region</th>\n",
       "      <th></th>\n",
       "    </tr>\n",
       "  </thead>\n",
       "  <tbody>\n",
       "    <tr>\n",
       "      <th>APAC</th>\n",
       "      <td>10732</td>\n",
       "    </tr>\n",
       "    <tr>\n",
       "      <th>Americas</th>\n",
       "      <td>16258</td>\n",
       "    </tr>\n",
       "    <tr>\n",
       "      <th>EMEA</th>\n",
       "      <td>10840</td>\n",
       "    </tr>\n",
       "    <tr>\n",
       "      <th>Japan</th>\n",
       "      <td>953</td>\n",
       "    </tr>\n",
       "    <tr>\n",
       "      <th>Middle East</th>\n",
       "      <td>842</td>\n",
       "    </tr>\n",
       "  </tbody>\n",
       "</table>\n",
       "</div>"
      ],
      "text/plain": [
       "               TRF\n",
       "Region            \n",
       "APAC         10732\n",
       "Americas     16258\n",
       "EMEA         10840\n",
       "Japan          953\n",
       "Middle East    842"
      ]
     },
     "execution_count": 168,
     "metadata": {},
     "output_type": "execute_result"
    }
   ],
   "source": [
    "df[['Region','TRF']].groupby(\"Region\").sum().head()"
   ]
  },
  {
   "cell_type": "code",
   "execution_count": 169,
   "metadata": {
    "id": "QQIEjgwDlaoI",
    "outputId": "45105af3-97fc-4439-a358-896874a9ad47"
   },
   "outputs": [
    {
     "data": {
      "text/html": [
       "<div>\n",
       "<style scoped>\n",
       "    .dataframe tbody tr th:only-of-type {\n",
       "        vertical-align: middle;\n",
       "    }\n",
       "\n",
       "    .dataframe tbody tr th {\n",
       "        vertical-align: top;\n",
       "    }\n",
       "\n",
       "    .dataframe thead th {\n",
       "        text-align: right;\n",
       "    }\n",
       "</style>\n",
       "<table border=\"1\" class=\"dataframe\">\n",
       "  <thead>\n",
       "    <tr style=\"text-align: right;\">\n",
       "      <th></th>\n",
       "      <th></th>\n",
       "      <th>TRF</th>\n",
       "    </tr>\n",
       "    <tr>\n",
       "      <th>Region</th>\n",
       "      <th>Delivery_Year</th>\n",
       "      <th></th>\n",
       "    </tr>\n",
       "  </thead>\n",
       "  <tbody>\n",
       "    <tr>\n",
       "      <th>APAC</th>\n",
       "      <th>2019</th>\n",
       "      <td>20.653465</td>\n",
       "    </tr>\n",
       "    <tr>\n",
       "      <th rowspan=\"2\" valign=\"top\">Americas</th>\n",
       "      <th>2019</th>\n",
       "      <td>14.931034</td>\n",
       "    </tr>\n",
       "    <tr>\n",
       "      <th>2016</th>\n",
       "      <td>7.851124</td>\n",
       "    </tr>\n",
       "    <tr>\n",
       "      <th>Japan</th>\n",
       "      <th>2020</th>\n",
       "      <td>7.090909</td>\n",
       "    </tr>\n",
       "    <tr>\n",
       "      <th>EMEA</th>\n",
       "      <th>2019</th>\n",
       "      <td>6.938776</td>\n",
       "    </tr>\n",
       "    <tr>\n",
       "      <th>Middle East</th>\n",
       "      <th>2017</th>\n",
       "      <td>6.610390</td>\n",
       "    </tr>\n",
       "    <tr>\n",
       "      <th>Americas</th>\n",
       "      <th>2020</th>\n",
       "      <td>4.000000</td>\n",
       "    </tr>\n",
       "    <tr>\n",
       "      <th>Middle East</th>\n",
       "      <th>2018</th>\n",
       "      <td>3.756410</td>\n",
       "    </tr>\n",
       "    <tr>\n",
       "      <th>APAC</th>\n",
       "      <th>2018</th>\n",
       "      <td>3.596557</td>\n",
       "    </tr>\n",
       "    <tr>\n",
       "      <th>Americas</th>\n",
       "      <th>2017</th>\n",
       "      <td>3.334986</td>\n",
       "    </tr>\n",
       "    <tr>\n",
       "      <th>EMEA</th>\n",
       "      <th>2017</th>\n",
       "      <td>2.832571</td>\n",
       "    </tr>\n",
       "    <tr>\n",
       "      <th>Americas</th>\n",
       "      <th>2018</th>\n",
       "      <td>2.478286</td>\n",
       "    </tr>\n",
       "    <tr>\n",
       "      <th>APAC</th>\n",
       "      <th>2017</th>\n",
       "      <td>2.461901</td>\n",
       "    </tr>\n",
       "    <tr>\n",
       "      <th>EMEA</th>\n",
       "      <th>2016</th>\n",
       "      <td>2.268672</td>\n",
       "    </tr>\n",
       "    <tr>\n",
       "      <th>Middle East</th>\n",
       "      <th>2016</th>\n",
       "      <td>1.769231</td>\n",
       "    </tr>\n",
       "    <tr>\n",
       "      <th>Japan</th>\n",
       "      <th>2019</th>\n",
       "      <td>1.698795</td>\n",
       "    </tr>\n",
       "    <tr>\n",
       "      <th>EMEA</th>\n",
       "      <th>2018</th>\n",
       "      <td>1.628510</td>\n",
       "    </tr>\n",
       "    <tr>\n",
       "      <th>APAC</th>\n",
       "      <th>2016</th>\n",
       "      <td>1.281818</td>\n",
       "    </tr>\n",
       "    <tr>\n",
       "      <th>Middle East</th>\n",
       "      <th>2019</th>\n",
       "      <td>1.062500</td>\n",
       "    </tr>\n",
       "    <tr>\n",
       "      <th>APAC</th>\n",
       "      <th>2020</th>\n",
       "      <td>1.000000</td>\n",
       "    </tr>\n",
       "    <tr>\n",
       "      <th rowspan=\"3\" valign=\"top\">Japan</th>\n",
       "      <th>2018</th>\n",
       "      <td>0.424419</td>\n",
       "    </tr>\n",
       "    <tr>\n",
       "      <th>2017</th>\n",
       "      <td>0.126800</td>\n",
       "    </tr>\n",
       "    <tr>\n",
       "      <th>2016</th>\n",
       "      <td>0.065666</td>\n",
       "    </tr>\n",
       "  </tbody>\n",
       "</table>\n",
       "</div>"
      ],
      "text/plain": [
       "                                 TRF\n",
       "Region      Delivery_Year           \n",
       "APAC        2019           20.653465\n",
       "Americas    2019           14.931034\n",
       "            2016            7.851124\n",
       "Japan       2020            7.090909\n",
       "EMEA        2019            6.938776\n",
       "Middle East 2017            6.610390\n",
       "Americas    2020            4.000000\n",
       "Middle East 2018            3.756410\n",
       "APAC        2018            3.596557\n",
       "Americas    2017            3.334986\n",
       "EMEA        2017            2.832571\n",
       "Americas    2018            2.478286\n",
       "APAC        2017            2.461901\n",
       "EMEA        2016            2.268672\n",
       "Middle East 2016            1.769231\n",
       "Japan       2019            1.698795\n",
       "EMEA        2018            1.628510\n",
       "APAC        2016            1.281818\n",
       "Middle East 2019            1.062500\n",
       "APAC        2020            1.000000\n",
       "Japan       2018            0.424419\n",
       "            2017            0.126800\n",
       "            2016            0.065666"
      ]
     },
     "execution_count": 169,
     "metadata": {},
     "output_type": "execute_result"
    }
   ],
   "source": [
    "TRFAnualPorRegion=df.groupby(['Region','Delivery_Year']).agg({'TRF': 'mean'}).sort_values('TRF', ascending=False)\n",
    "TRFAnualPorRegion"
   ]
  },
  {
   "cell_type": "code",
   "execution_count": 170,
   "metadata": {
    "id": "ovUxzRcTlaoQ",
    "outputId": "e87a3530-edfd-45b8-f822-a3560a95e778"
   },
   "outputs": [
    {
     "data": {
      "text/html": [
       "<div>\n",
       "<style scoped>\n",
       "    .dataframe tbody tr th:only-of-type {\n",
       "        vertical-align: middle;\n",
       "    }\n",
       "\n",
       "    .dataframe tbody tr th {\n",
       "        vertical-align: top;\n",
       "    }\n",
       "\n",
       "    .dataframe thead th {\n",
       "        text-align: right;\n",
       "    }\n",
       "</style>\n",
       "<table border=\"1\" class=\"dataframe\">\n",
       "  <thead>\n",
       "    <tr style=\"text-align: right;\">\n",
       "      <th>Delivery_Year</th>\n",
       "      <th>2016</th>\n",
       "      <th>2017</th>\n",
       "      <th>2018</th>\n",
       "      <th>2019</th>\n",
       "      <th>2020</th>\n",
       "    </tr>\n",
       "    <tr>\n",
       "      <th>Region</th>\n",
       "      <th></th>\n",
       "      <th></th>\n",
       "      <th></th>\n",
       "      <th></th>\n",
       "      <th></th>\n",
       "    </tr>\n",
       "  </thead>\n",
       "  <tbody>\n",
       "    <tr>\n",
       "      <th>APAC</th>\n",
       "      <td>1.281818</td>\n",
       "      <td>2.461901</td>\n",
       "      <td>3.596557</td>\n",
       "      <td>20.653465</td>\n",
       "      <td>1.000000</td>\n",
       "    </tr>\n",
       "    <tr>\n",
       "      <th>Americas</th>\n",
       "      <td>7.851124</td>\n",
       "      <td>3.334986</td>\n",
       "      <td>2.478286</td>\n",
       "      <td>14.931034</td>\n",
       "      <td>4.000000</td>\n",
       "    </tr>\n",
       "    <tr>\n",
       "      <th>EMEA</th>\n",
       "      <td>2.268672</td>\n",
       "      <td>2.832571</td>\n",
       "      <td>1.628510</td>\n",
       "      <td>6.938776</td>\n",
       "      <td>NaN</td>\n",
       "    </tr>\n",
       "    <tr>\n",
       "      <th>Japan</th>\n",
       "      <td>0.065666</td>\n",
       "      <td>0.126800</td>\n",
       "      <td>0.424419</td>\n",
       "      <td>1.698795</td>\n",
       "      <td>7.090909</td>\n",
       "    </tr>\n",
       "    <tr>\n",
       "      <th>Middle East</th>\n",
       "      <td>1.769231</td>\n",
       "      <td>6.610390</td>\n",
       "      <td>3.756410</td>\n",
       "      <td>1.062500</td>\n",
       "      <td>NaN</td>\n",
       "    </tr>\n",
       "  </tbody>\n",
       "</table>\n",
       "</div>"
      ],
      "text/plain": [
       "Delivery_Year      2016      2017      2018       2019      2020\n",
       "Region                                                          \n",
       "APAC           1.281818  2.461901  3.596557  20.653465  1.000000\n",
       "Americas       7.851124  3.334986  2.478286  14.931034  4.000000\n",
       "EMEA           2.268672  2.832571  1.628510   6.938776       NaN\n",
       "Japan          0.065666  0.126800  0.424419   1.698795  7.090909\n",
       "Middle East    1.769231  6.610390  3.756410   1.062500       NaN"
      ]
     },
     "execution_count": 170,
     "metadata": {},
     "output_type": "execute_result"
    }
   ],
   "source": [
    "dato2=TRFAnualPorRegion.pivot_table(index='Region',columns='Delivery_Year',values='TRF')\n",
    "dato2"
   ]
  },
  {
   "cell_type": "code",
   "execution_count": 171,
   "metadata": {
    "id": "u1D0SNsalaoW",
    "outputId": "98e94184-690d-48f8-9ba1-4cd055f4f668"
   },
   "outputs": [
    {
     "name": "stderr",
     "output_type": "stream",
     "text": [
      "c:\\users\\patricio\\appdata\\local\\programs\\python\\python37-32\\lib\\site-packages\\ipykernel_launcher.py:7: MatplotlibDeprecationWarning: Case-insensitive properties were deprecated in 3.3 and support will be removed two minor releases later\n",
      "  import sys\n",
      "c:\\users\\patricio\\appdata\\local\\programs\\python\\python37-32\\lib\\site-packages\\ipykernel_launcher.py:8: MatplotlibDeprecationWarning: Case-insensitive properties were deprecated in 3.3 and support will be removed two minor releases later\n",
      "  \n",
      "c:\\users\\patricio\\appdata\\local\\programs\\python\\python37-32\\lib\\site-packages\\ipykernel_launcher.py:9: MatplotlibDeprecationWarning: Case-insensitive properties were deprecated in 3.3 and support will be removed two minor releases later\n",
      "  if __name__ == '__main__':\n"
     ]
    },
    {
     "data": {
      "text/plain": [
       "Text(0, 0.5, 'Regiones')"
      ]
     },
     "execution_count": 171,
     "metadata": {},
     "output_type": "execute_result"
    },
    {
     "data": {
      "image/png": "[encoded data removed]",
      "text/plain": [
       "<Figure size 1080x720 with 1 Axes>"
      ]
     },
     "metadata": {
      "needs_background": "light"
     },
     "output_type": "display_data"
    }
   ],
   "source": [
    "datos=dato2\n",
    "titulo='Toneladas De Refrigeración anual por region'\n",
    "etiqueta_x='Toneladas De Refrigeración (TRF)'\n",
    "etiqueta_y='Regiones'\n",
    "tamanio=(15,10)\n",
    "plot=datos.plot(kind='barh',figsize=tamanio,fontsize=18)\n",
    "plot.set_title(titulo,fontSize=18)\n",
    "plot.set_xlabel(etiqueta_x,fontSize=18)\n",
    "plot.set_ylabel(etiqueta_y,fontSize=18)"
   ]
  },
  {
   "cell_type": "markdown",
   "metadata": {
    "id": "1xd4wWjdlaob"
   },
   "source": [
    "#### Siglas:\n",
    "* __EMEA:Europe Middle East Africa__\n",
    "* __APAC:Asia Pacific__"
   ]
  },
  {
   "cell_type": "markdown",
   "metadata": {
    "id": "X0bNeiAelaod"
   },
   "source": [
    "Del análisis del gráfico se puede observar que:\n",
    "* En la región 'APAC' año a año van aumentando las TRF, ocurriendo un aumento muy grande en 2019, pero luego ocurre una caída muy grande en el año 2020 (llegando a los niveles más bajos para esa región)\n",
    "* En la región 'Japan' año a año van aumentando las TRF, ocurriendo un aumento muy grande en 2020\n",
    "* En la región 'EMEA' hay un aumento de las TRF del año 2016 al 2017, luego disminuye a el nivel más bajo para esta región en el año 2018, para finalmente alcanzar un gran aumento en el año 2019 (que representa el nivel más alto para esa región)\n",
    "* En la región 'Americas' se observa una caida grande de las TRF del año 2016 al año 2017,continuando con una caída menor en el 2018 (que representa el nivel más bajo para esa región), luego se produce un gran aumento en el 2019 (siendo este el nivel más alto para la región) y finalmente en el año 2020 alcanza valores similares al año 2017\n",
    "* En la región 'Middle East' se observa como aumentan las TRF hasta llegar al máximo para esa región en el 2017, en el 2018 se observa una disminución que continúa en el 2019 (año en el cual se llega al mínimo para esa región)"
   ]
  },
  {
   "cell_type": "markdown",
   "metadata": {
    "id": "TOxtHB3plaof"
   },
   "source": [
    "## Análisis porcentaje de entregas planificadas trimestrales por región de por región"
   ]
  },
  {
   "cell_type": "code",
   "execution_count": 172,
   "metadata": {
    "id": "9BXafHH5laog",
    "outputId": "1c40fb97-a582-4d05-aeb3-8f7cd8fde635"
   },
   "outputs": [
    {
     "data": {
      "text/plain": [
       "Q2    4443\n",
       "Q1    4317\n",
       "Q4    4144\n",
       "Q3    4043\n",
       "Name: Delivery_Quarter, dtype: int64"
      ]
     },
     "execution_count": 172,
     "metadata": {},
     "output_type": "execute_result"
    }
   ],
   "source": [
    "df['Delivery_Quarter'].value_counts()"
   ]
  },
  {
   "cell_type": "code",
   "execution_count": 173,
   "metadata": {
    "id": "paAOdEoIlaop",
    "outputId": "3897f210-b44a-4cd7-885e-b25c932ec727"
   },
   "outputs": [
    {
     "data": {
      "text/html": [
       "<div>\n",
       "<style scoped>\n",
       "    .dataframe tbody tr th:only-of-type {\n",
       "        vertical-align: middle;\n",
       "    }\n",
       "\n",
       "    .dataframe tbody tr th {\n",
       "        vertical-align: top;\n",
       "    }\n",
       "\n",
       "    .dataframe thead th {\n",
       "        text-align: right;\n",
       "    }\n",
       "</style>\n",
       "<table border=\"1\" class=\"dataframe\">\n",
       "  <thead>\n",
       "    <tr style=\"text-align: right;\">\n",
       "      <th></th>\n",
       "      <th>Region</th>\n",
       "      <th>Delivery_Quarter</th>\n",
       "      <th>Cantidad</th>\n",
       "    </tr>\n",
       "  </thead>\n",
       "  <tbody>\n",
       "    <tr>\n",
       "      <th>0</th>\n",
       "      <td>EMEA</td>\n",
       "      <td>Q2</td>\n",
       "      <td>1</td>\n",
       "    </tr>\n",
       "    <tr>\n",
       "      <th>1</th>\n",
       "      <td>EMEA</td>\n",
       "      <td>Q1</td>\n",
       "      <td>1</td>\n",
       "    </tr>\n",
       "    <tr>\n",
       "      <th>2</th>\n",
       "      <td>Americas</td>\n",
       "      <td>Q1</td>\n",
       "      <td>1</td>\n",
       "    </tr>\n",
       "    <tr>\n",
       "      <th>3</th>\n",
       "      <td>Americas</td>\n",
       "      <td>Q1</td>\n",
       "      <td>1</td>\n",
       "    </tr>\n",
       "    <tr>\n",
       "      <th>4</th>\n",
       "      <td>Americas</td>\n",
       "      <td>Q1</td>\n",
       "      <td>1</td>\n",
       "    </tr>\n",
       "  </tbody>\n",
       "</table>\n",
       "</div>"
      ],
      "text/plain": [
       "     Region Delivery_Quarter  Cantidad\n",
       "0      EMEA               Q2         1\n",
       "1      EMEA               Q1         1\n",
       "2  Americas               Q1         1\n",
       "3  Americas               Q1         1\n",
       "4  Americas               Q1         1"
      ]
     },
     "execution_count": 173,
     "metadata": {},
     "output_type": "execute_result"
    }
   ],
   "source": [
    "df_para_agrupar=df\n",
    "df_para_agrupar['Cantidad']=1\n",
    "df_para_agrupar[['Region','Delivery_Quarter','Cantidad']].head()"
   ]
  },
  {
   "cell_type": "code",
   "execution_count": 174,
   "metadata": {
    "id": "QIhjcKsylaow",
    "outputId": "aa241e8e-dd7b-4d5f-9f95-e4fff6ff59f6"
   },
   "outputs": [
    {
     "data": {
      "text/html": [
       "<div>\n",
       "<style scoped>\n",
       "    .dataframe tbody tr th:only-of-type {\n",
       "        vertical-align: middle;\n",
       "    }\n",
       "\n",
       "    .dataframe tbody tr th {\n",
       "        vertical-align: top;\n",
       "    }\n",
       "\n",
       "    .dataframe thead th {\n",
       "        text-align: right;\n",
       "    }\n",
       "</style>\n",
       "<table border=\"1\" class=\"dataframe\">\n",
       "  <thead>\n",
       "    <tr style=\"text-align: right;\">\n",
       "      <th></th>\n",
       "      <th></th>\n",
       "      <th>Cantidad</th>\n",
       "    </tr>\n",
       "    <tr>\n",
       "      <th>Region</th>\n",
       "      <th>Delivery_Quarter</th>\n",
       "      <th></th>\n",
       "    </tr>\n",
       "  </thead>\n",
       "  <tbody>\n",
       "    <tr>\n",
       "      <th rowspan=\"4\" valign=\"top\">APAC</th>\n",
       "      <th>Q1</th>\n",
       "      <td>767</td>\n",
       "    </tr>\n",
       "    <tr>\n",
       "      <th>Q2</th>\n",
       "      <td>846</td>\n",
       "    </tr>\n",
       "    <tr>\n",
       "      <th>Q3</th>\n",
       "      <td>799</td>\n",
       "    </tr>\n",
       "    <tr>\n",
       "      <th>Q4</th>\n",
       "      <td>850</td>\n",
       "    </tr>\n",
       "    <tr>\n",
       "      <th rowspan=\"4\" valign=\"top\">Americas</th>\n",
       "      <th>Q1</th>\n",
       "      <td>859</td>\n",
       "    </tr>\n",
       "    <tr>\n",
       "      <th>Q2</th>\n",
       "      <td>971</td>\n",
       "    </tr>\n",
       "    <tr>\n",
       "      <th>Q3</th>\n",
       "      <td>1067</td>\n",
       "    </tr>\n",
       "    <tr>\n",
       "      <th>Q4</th>\n",
       "      <td>1048</td>\n",
       "    </tr>\n",
       "    <tr>\n",
       "      <th rowspan=\"4\" valign=\"top\">EMEA</th>\n",
       "      <th>Q1</th>\n",
       "      <td>1073</td>\n",
       "    </tr>\n",
       "    <tr>\n",
       "      <th>Q2</th>\n",
       "      <td>1311</td>\n",
       "    </tr>\n",
       "    <tr>\n",
       "      <th>Q3</th>\n",
       "      <td>1179</td>\n",
       "    </tr>\n",
       "    <tr>\n",
       "      <th>Q4</th>\n",
       "      <td>1101</td>\n",
       "    </tr>\n",
       "    <tr>\n",
       "      <th rowspan=\"4\" valign=\"top\">Japan</th>\n",
       "      <th>Q1</th>\n",
       "      <td>1573</td>\n",
       "    </tr>\n",
       "    <tr>\n",
       "      <th>Q2</th>\n",
       "      <td>1281</td>\n",
       "    </tr>\n",
       "    <tr>\n",
       "      <th>Q3</th>\n",
       "      <td>930</td>\n",
       "    </tr>\n",
       "    <tr>\n",
       "      <th>Q4</th>\n",
       "      <td>1108</td>\n",
       "    </tr>\n",
       "    <tr>\n",
       "      <th rowspan=\"4\" valign=\"top\">Middle East</th>\n",
       "      <th>Q1</th>\n",
       "      <td>45</td>\n",
       "    </tr>\n",
       "    <tr>\n",
       "      <th>Q2</th>\n",
       "      <td>34</td>\n",
       "    </tr>\n",
       "    <tr>\n",
       "      <th>Q3</th>\n",
       "      <td>68</td>\n",
       "    </tr>\n",
       "    <tr>\n",
       "      <th>Q4</th>\n",
       "      <td>37</td>\n",
       "    </tr>\n",
       "  </tbody>\n",
       "</table>\n",
       "</div>"
      ],
      "text/plain": [
       "                              Cantidad\n",
       "Region      Delivery_Quarter          \n",
       "APAC        Q1                     767\n",
       "            Q2                     846\n",
       "            Q3                     799\n",
       "            Q4                     850\n",
       "Americas    Q1                     859\n",
       "            Q2                     971\n",
       "            Q3                    1067\n",
       "            Q4                    1048\n",
       "EMEA        Q1                    1073\n",
       "            Q2                    1311\n",
       "            Q3                    1179\n",
       "            Q4                    1101\n",
       "Japan       Q1                    1573\n",
       "            Q2                    1281\n",
       "            Q3                     930\n",
       "            Q4                    1108\n",
       "Middle East Q1                      45\n",
       "            Q2                      34\n",
       "            Q3                      68\n",
       "            Q4                      37"
      ]
     },
     "execution_count": 174,
     "metadata": {},
     "output_type": "execute_result"
    }
   ],
   "source": [
    "grouped=df_para_agrupar.groupby(['Region','Delivery_Quarter']).agg({'Cantidad': 'sum'})#.sort_values('Cantidad', ascending=False)\n",
    "grouped"
   ]
  },
  {
   "cell_type": "code",
   "execution_count": 175,
   "metadata": {
    "id": "_52gDvlglao4",
    "outputId": "d4fff8ba-7c25-4a96-efd6-937220dd19c7"
   },
   "outputs": [
    {
     "data": {
      "text/html": [
       "<div>\n",
       "<style scoped>\n",
       "    .dataframe tbody tr th:only-of-type {\n",
       "        vertical-align: middle;\n",
       "    }\n",
       "\n",
       "    .dataframe tbody tr th {\n",
       "        vertical-align: top;\n",
       "    }\n",
       "\n",
       "    .dataframe thead th {\n",
       "        text-align: right;\n",
       "    }\n",
       "</style>\n",
       "<table border=\"1\" class=\"dataframe\">\n",
       "  <thead>\n",
       "    <tr style=\"text-align: right;\">\n",
       "      <th>Delivery_Quarter</th>\n",
       "      <th>Q1</th>\n",
       "      <th>Q2</th>\n",
       "      <th>Q3</th>\n",
       "      <th>Q4</th>\n",
       "    </tr>\n",
       "    <tr>\n",
       "      <th>Region</th>\n",
       "      <th></th>\n",
       "      <th></th>\n",
       "      <th></th>\n",
       "      <th></th>\n",
       "    </tr>\n",
       "  </thead>\n",
       "  <tbody>\n",
       "    <tr>\n",
       "      <th>APAC</th>\n",
       "      <td>767</td>\n",
       "      <td>846</td>\n",
       "      <td>799</td>\n",
       "      <td>850</td>\n",
       "    </tr>\n",
       "    <tr>\n",
       "      <th>Americas</th>\n",
       "      <td>859</td>\n",
       "      <td>971</td>\n",
       "      <td>1067</td>\n",
       "      <td>1048</td>\n",
       "    </tr>\n",
       "    <tr>\n",
       "      <th>EMEA</th>\n",
       "      <td>1073</td>\n",
       "      <td>1311</td>\n",
       "      <td>1179</td>\n",
       "      <td>1101</td>\n",
       "    </tr>\n",
       "    <tr>\n",
       "      <th>Japan</th>\n",
       "      <td>1573</td>\n",
       "      <td>1281</td>\n",
       "      <td>930</td>\n",
       "      <td>1108</td>\n",
       "    </tr>\n",
       "    <tr>\n",
       "      <th>Middle East</th>\n",
       "      <td>45</td>\n",
       "      <td>34</td>\n",
       "      <td>68</td>\n",
       "      <td>37</td>\n",
       "    </tr>\n",
       "  </tbody>\n",
       "</table>\n",
       "</div>"
      ],
      "text/plain": [
       "Delivery_Quarter    Q1    Q2    Q3    Q4\n",
       "Region                                  \n",
       "APAC               767   846   799   850\n",
       "Americas           859   971  1067  1048\n",
       "EMEA              1073  1311  1179  1101\n",
       "Japan             1573  1281   930  1108\n",
       "Middle East         45    34    68    37"
      ]
     },
     "execution_count": 175,
     "metadata": {},
     "output_type": "execute_result"
    }
   ],
   "source": [
    "pivoted=grouped.pivot_table(index='Region',columns='Delivery_Quarter',values='Cantidad')\n",
    "pivoted"
   ]
  },
  {
   "cell_type": "code",
   "execution_count": 176,
   "metadata": {
    "id": "RNRU4oL_lao9",
    "outputId": "70f66381-2ffc-4a48-8a2d-c04915bd3380",
    "scrolled": false
   },
   "outputs": [
    {
     "name": "stderr",
     "output_type": "stream",
     "text": [
      "c:\\users\\patricio\\appdata\\local\\programs\\python\\python37-32\\lib\\site-packages\\ipykernel_launcher.py:19: MatplotlibDeprecationWarning: Case-insensitive properties were deprecated in 3.3 and support will be removed two minor releases later\n",
      "c:\\users\\patricio\\appdata\\local\\programs\\python\\python37-32\\lib\\site-packages\\ipykernel_launcher.py:20: MatplotlibDeprecationWarning: Case-insensitive properties were deprecated in 3.3 and support will be removed two minor releases later\n",
      "c:\\users\\patricio\\appdata\\local\\programs\\python\\python37-32\\lib\\site-packages\\ipykernel_launcher.py:21: MatplotlibDeprecationWarning: Case-insensitive properties were deprecated in 3.3 and support will be removed two minor releases later\n"
     ]
    },
    {
     "data": {
      "image/png": "[encoded data removed]",
      "text/plain": [
       "<Figure size 720x720 with 1 Axes>"
      ]
     },
     "metadata": {
      "needs_background": "light"
     },
     "output_type": "display_data"
    }
   ],
   "source": [
    "data = pivoted.apply(lambda r: r/r.sum()*100, axis=1)\n",
    "ax=data.plot.bar(figsize=(10,10),stacked=True, rot=0,fontsize=18)\n",
    "#display(data)\n",
    "\n",
    "#plt.legend(loc='upper right', bbox_to_anchor=(0.1, 1.0), title=\"Del. Quarter\")\n",
    "ax.legend(ncol=len(df.Delivery_Quarter), bbox_to_anchor=(0, 1),\n",
    "              loc='upper left', fontsize=12,title=\"Delivery Quarter\")\n",
    "\n",
    "for rec in ax.patches:\n",
    "    alto = rec.get_height()\n",
    "    posx_centrada=rec.get_x() + rec.get_width() / 2\n",
    "    posy_centrada=rec.get_y() + alto / 2\n",
    "    ax.text(posx_centrada, \n",
    "              posy_centrada,\n",
    "              \"{:.0f}%\".format(alto),\n",
    "              ha='center', \n",
    "              va='bottom')\n",
    "\n",
    "plt.title('Porcentaje de entregas planificadas trimestrales por región',fontSize=15)\n",
    "plt.xlabel('Regiones',fontSize=15)\n",
    "plt.ylabel('% de de entregas planificadas por trimestre',fontSize=15)\n",
    "plt.show()"
   ]
  },
  {
   "cell_type": "markdown",
   "metadata": {
    "id": "BKbc7szGlapE"
   },
   "source": [
    "#### Siglas:\n",
    "* __EMEA:Europe Middle East Africa__\n",
    "* __APAC:Asia Pacific__"
   ]
  },
  {
   "cell_type": "markdown",
   "metadata": {
    "id": "syZZRtzYlapF"
   },
   "source": [
    "### Del análisis del gráfico se puede observar que:\n",
    "* Para la región de 'APAC' un 24% de las entregas planificadas corresponden el primer trimestre, un 26% al segundo,un 24% al tercero y un 26% al cuarto \n",
    "* Para la región de 'Americas' un 22% de las entregas planificadas corresponden el primer trimestre, un 25% al segundo,un 27% al tercero y un 27% al cuarto \n",
    "* Para la región de 'EMEA' un 23% de las entregas planificadas corresponden el primer trimestre, un 28% al segundo,un 25% al tercero y un 24% al cuarto \n",
    "* Para la región de 'Japan' un 32% de las entregas planificadas corresponden el primer trimestre, un 26% al segundo,un 19% al tercero y un 23% al cuarto \n",
    "* Para la región de 'Middle East' un 24% de las entregas planificadas corresponden el primer trimestre, un 18% al segundo,un 37% al tercero y un 20% al cuarto "
   ]
  },
  {
   "cell_type": "code",
   "execution_count": null,
   "metadata": {
    "id": "krd2MLAOlapQ"
   },
   "outputs": [],
   "source": []
  },
  {
   "cell_type": "markdown",
   "metadata": {
    "id": "nF7C84jNlapV"
   },
   "source": [
    "# ----------------------------------------------------------------------------------------------------------"
   ]
  },
  {
   "cell_type": "markdown",
   "metadata": {
    "id": "dhzYK7kxlapX"
   },
   "source": [
    "***Veo si existe relacion entre antiguedad de la cuenta antes del inicio del tramite y los casos positivos. "
   ]
  },
  {
   "cell_type": "code",
   "execution_count": 177,
   "metadata": {
    "id": "GQl1mWeUlapY"
   },
   "outputs": [
    {
     "data": {
      "text/plain": [
       "<pandas.core.groupby.generic.DataFrameGroupBy object at 0x1A0DB4D0>"
      ]
     },
     "execution_count": 177,
     "metadata": {},
     "output_type": "execute_result"
    }
   ],
   "source": [
    "df[[\"Account_Name\", \"Account_Created_Date\", ]].groupby(\"Account_Name\")"
   ]
  },
  {
   "cell_type": "markdown",
   "metadata": {},
   "source": [
    "# Anexo 1: Análisis exploratorio particular sin visualizaciones (tomando solo algunas columnas)"
   ]
  },
  {
   "cell_type": "markdown",
   "metadata": {
    "id": "agbpyLPdlapc"
   },
   "source": [
    "### Análisis de efectividad de las operaciones por año\n"
   ]
  },
  {
   "cell_type": "code",
   "execution_count": 178,
   "metadata": {
    "id": "ZLG1igc3lapd",
    "outputId": "850e4aba-df1d-4a18-e071-3682d2cad9cb"
   },
   "outputs": [
    {
     "data": {
      "text/plain": [
       "Closed Won       0.562518\n",
       "Closed Lost      0.433705\n",
       "Proposal         0.002065\n",
       "Negotiation      0.001062\n",
       "Qualification    0.000649\n",
       "Name: Stage, dtype: float64"
      ]
     },
     "execution_count": 178,
     "metadata": {},
     "output_type": "execute_result"
    }
   ],
   "source": [
    "df['Stage'].value_counts(normalize=True)\n"
   ]
  },
  {
   "cell_type": "markdown",
   "metadata": {
    "id": "5cLyqzLxlapj"
   },
   "source": [
    "En general en el total de los datos la cantidad de operaciones exitosas es levemente superior a la cantidad de operaciones fallidas."
   ]
  },
  {
   "cell_type": "markdown",
   "metadata": {
    "id": "EcGwxZz3lapr"
   },
   "source": [
    "Ahora agrupamos las operaciones por año."
   ]
  },
  {
   "cell_type": "code",
   "execution_count": 179,
   "metadata": {
    "id": "n-HXdgwMlap1",
    "outputId": "0e1c7a2f-540e-4420-faec-139d5af9c8ff"
   },
   "outputs": [
    {
     "data": {
      "text/plain": [
       "Delivery_Year  Stage        \n",
       "2016           Closed Lost      0.511096\n",
       "               Closed Won       0.488904\n",
       "2017           Closed Won       0.648148\n",
       "               Closed Lost      0.351694\n",
       "               Proposal         0.000158\n",
       "2018           Closed Won       0.548199\n",
       "               Closed Lost      0.451801\n",
       "2019           Closed Lost      0.628019\n",
       "               Closed Won       0.253623\n",
       "               Proposal         0.055556\n",
       "               Negotiation      0.043478\n",
       "               Qualification    0.019324\n",
       "2020           Proposal         0.785714\n",
       "               Qualification    0.214286\n",
       "Name: Stage, dtype: float64"
      ]
     },
     "execution_count": 179,
     "metadata": {},
     "output_type": "execute_result"
    }
   ],
   "source": [
    "df.groupby(['Delivery_Year'])['Stage'].value_counts(normalize=True)"
   ]
  },
  {
   "cell_type": "markdown",
   "metadata": {
    "id": "sZkB5Sw9laqA"
   },
   "source": [
    "Vemos que para el año 2017 la cantidad de operaciones exitosas (Closed Won) duplico la cantidad de operaciones fallidas(Closed Lost)"
   ]
  },
  {
   "cell_type": "markdown",
   "metadata": {
    "id": "z-XrtZOtlaqB"
   },
   "source": [
    "Tambien podemos ver que para el año 2019 la cantidad de operaciones fallidas fue casi tres veces mas que la cantidad de operaciones exitosas."
   ]
  },
  {
   "cell_type": "markdown",
   "metadata": {
    "id": "mcn9ywcwlaqD"
   },
   "source": [
    "### Análisis de efectividad de las operaciones por antiguedad de la cuenta del cliente"
   ]
  },
  {
   "cell_type": "code",
   "execution_count": 180,
   "metadata": {
    "id": "9VkyI-HnlaqE"
   },
   "outputs": [],
   "source": [
    "df['Anio_antiguead_cuenta']= pd.DatetimeIndex(df['Account_Created_Date']).year  \n"
   ]
  },
  {
   "cell_type": "code",
   "execution_count": 181,
   "metadata": {
    "id": "6JZdaP33laqO",
    "outputId": "f5145793-7398-4632-d66f-e44cecf203d2"
   },
   "outputs": [
    {
     "data": {
      "text/plain": [
       "Anio_antiguead_cuenta  Stage        \n",
       "2013                   Closed Won       0.702857\n",
       "                       Closed Lost      0.296703\n",
       "                       Negotiation      0.000220\n",
       "                       Proposal         0.000220\n",
       "2014                   Closed Lost      0.509051\n",
       "                       Closed Won       0.490949\n",
       "2015                   Closed Won       0.569312\n",
       "                       Closed Lost      0.429876\n",
       "                       Qualification    0.000609\n",
       "                       Proposal         0.000203\n",
       "2016                   Closed Won       0.515249\n",
       "                       Closed Lost      0.480578\n",
       "                       Proposal         0.002247\n",
       "                       Qualification    0.001284\n",
       "                       Negotiation      0.000642\n",
       "2017                   Closed Lost      0.560181\n",
       "                       Closed Won       0.433937\n",
       "                       Negotiation      0.003620\n",
       "                       Proposal         0.001357\n",
       "                       Qualification    0.000905\n",
       "2018                   Closed Lost      0.581152\n",
       "                       Closed Won       0.376963\n",
       "                       Proposal         0.030105\n",
       "                       Negotiation      0.009162\n",
       "                       Qualification    0.002618\n",
       "Name: Stage, dtype: float64"
      ]
     },
     "execution_count": 181,
     "metadata": {},
     "output_type": "execute_result"
    }
   ],
   "source": [
    "df.groupby(['Anio_antiguead_cuenta'])['Stage'].value_counts(normalize=True)"
   ]
  },
  {
   "cell_type": "markdown",
   "metadata": {
    "id": "lOyfQnwHlaqW"
   },
   "source": [
    "Vemos que en general la proporcion de operaciones exitosas y fallidas es del 50 porciento, salvo para el año 2013 (los clientes mas antiguos) donde el porcentaje de operaciones exitosas es mas del doble que las operaciones fallidas.\n",
    "Tambien podemos ver que para los clientes mas nuevos (2018) el porcentaje de operaciones fallidas (58%) es bastante superior a las operaciones exitosas (37%)"
   ]
  },
  {
   "cell_type": "markdown",
   "metadata": {},
   "source": [
    "# Anexo 2: Exploración de datos (sin visualización y sin análisis)"
   ]
  },
  {
   "cell_type": "markdown",
   "metadata": {},
   "source": [
    "### Moda máxima y mínima del estado de la negociacion por región"
   ]
  },
  {
   "cell_type": "code",
   "execution_count": 182,
   "metadata": {
    "colab": {
     "base_uri": "https://localhost:8080/"
    },
    "id": "iPeMWU18_2uX",
    "outputId": "5d161e70-a071-47ba-d43a-50f42a83308f",
    "scrolled": false
   },
   "outputs": [
    {
     "data": {
      "text/plain": [
       "Region\n",
       "APAC           Qualification\n",
       "Americas            Proposal\n",
       "EMEA                Proposal\n",
       "Japan          Qualification\n",
       "Middle East         Proposal\n",
       "Name: Stage, dtype: object"
      ]
     },
     "execution_count": 182,
     "metadata": {},
     "output_type": "execute_result"
    }
   ],
   "source": [
    "dfRegion=df.groupby('Region')\n",
    "dfRegion['Stage'].max()"
   ]
  },
  {
   "cell_type": "code",
   "execution_count": 183,
   "metadata": {},
   "outputs": [
    {
     "data": {
      "text/plain": [
       "Region\n",
       "APAC           Closed Lost\n",
       "Americas       Closed Lost\n",
       "EMEA           Closed Lost\n",
       "Japan          Closed Lost\n",
       "Middle East    Closed Lost\n",
       "Name: Stage, dtype: object"
      ]
     },
     "execution_count": 183,
     "metadata": {},
     "output_type": "execute_result"
    }
   ],
   "source": [
    "dfRegion['Stage'].min()"
   ]
  },
  {
   "cell_type": "markdown",
   "metadata": {},
   "source": [
    "### Moda máxima y mínima del estado de la negociacion por territorio"
   ]
  },
  {
   "cell_type": "code",
   "execution_count": 184,
   "metadata": {},
   "outputs": [
    {
     "data": {
      "text/plain": [
       "Territory\n",
       "Albania             Closed Lost\n",
       "Armenia             Closed Lost\n",
       "Australia         Qualification\n",
       "Austria              Closed Won\n",
       "Belarus             Closed Lost\n",
       "                      ...      \n",
       "UAE (Dubai)            Proposal\n",
       "UAE (Others)         Closed Won\n",
       "Ukraine             Closed Lost\n",
       "United Kingdom       Closed Won\n",
       "Vietnam              Closed Won\n",
       "Name: Stage, Length: 76, dtype: object"
      ]
     },
     "execution_count": 184,
     "metadata": {},
     "output_type": "execute_result"
    }
   ],
   "source": [
    "dfTerritory=df.groupby('Territory')\n",
    "dfTerritory['Stage'].max()"
   ]
  },
  {
   "cell_type": "code",
   "execution_count": 185,
   "metadata": {},
   "outputs": [
    {
     "data": {
      "text/plain": [
       "Territory\n",
       "Albania           Closed Lost\n",
       "Armenia           Closed Lost\n",
       "Australia         Closed Lost\n",
       "Austria           Closed Lost\n",
       "Belarus           Closed Lost\n",
       "                     ...     \n",
       "UAE (Dubai)       Closed Lost\n",
       "UAE (Others)       Closed Won\n",
       "Ukraine           Closed Lost\n",
       "United Kingdom    Closed Lost\n",
       "Vietnam           Closed Lost\n",
       "Name: Stage, Length: 76, dtype: object"
      ]
     },
     "execution_count": 185,
     "metadata": {},
     "output_type": "execute_result"
    }
   ],
   "source": [
    "dfTerritory['Stage'].min()"
   ]
  },
  {
   "cell_type": "markdown",
   "metadata": {},
   "source": [
    "## Análisis de ocurrencias de algunos itemes"
   ]
  },
  {
   "cell_type": "markdown",
   "metadata": {},
   "source": [
    "### Opportunity_Name\n"
   ]
  },
  {
   "cell_type": "code",
   "execution_count": 186,
   "metadata": {},
   "outputs": [],
   "source": [
    "opportunity_name_counts=df['Opportunity_Name'].value_counts()"
   ]
  },
  {
   "cell_type": "code",
   "execution_count": 187,
   "metadata": {},
   "outputs": [
    {
     "name": "stdout",
     "output_type": "stream",
     "text": [
      "Opportunity_Name_9795     36\n",
      "Opportunity_Name_5036     36\n",
      "Opportunity_Name_12179    26\n",
      "Opportunity_Name_11461    26\n",
      "Opportunity_Name_6835     24\n",
      "                          ..\n",
      "Opportunity_Name_7800      1\n",
      "Opportunity_Name_8653      1\n",
      "Opportunity_Name_2779      1\n",
      "Opportunity_Name_3186      1\n",
      "Opportunity_Name_4606      1\n",
      "Name: Opportunity_Name, Length: 9841, dtype: int64\n"
     ]
    }
   ],
   "source": [
    "print(opportunity_name_counts)"
   ]
  },
  {
   "cell_type": "code",
   "execution_count": 188,
   "metadata": {},
   "outputs": [],
   "source": [
    "opportunity_name_counts_top100=opportunity_name_counts.head(100)"
   ]
  },
  {
   "cell_type": "code",
   "execution_count": 189,
   "metadata": {},
   "outputs": [
    {
     "name": "stdout",
     "output_type": "stream",
     "text": [
      "Opportunity_Name_9795     36\n",
      "Opportunity_Name_5036     36\n",
      "Opportunity_Name_12179    26\n",
      "Opportunity_Name_11461    26\n",
      "Opportunity_Name_6835     24\n",
      "                          ..\n",
      "Opportunity_Name_261       8\n",
      "Opportunity_Name_9779      8\n",
      "Opportunity_Name_2755      8\n",
      "Opportunity_Name_2003      8\n",
      "Opportunity_Name_10927     8\n",
      "Name: Opportunity_Name, Length: 100, dtype: int64\n"
     ]
    }
   ],
   "source": [
    "print(opportunity_name_counts_top100)"
   ]
  },
  {
   "cell_type": "code",
   "execution_count": 190,
   "metadata": {},
   "outputs": [],
   "source": [
    "opportunity_name_counts_top=opportunity_name_counts[opportunity_name_counts>=8]"
   ]
  },
  {
   "cell_type": "code",
   "execution_count": 191,
   "metadata": {},
   "outputs": [
    {
     "name": "stdout",
     "output_type": "stream",
     "text": [
      "Opportunity_Name_9795     36\n",
      "Opportunity_Name_5036     36\n",
      "Opportunity_Name_12179    26\n",
      "Opportunity_Name_11461    26\n",
      "Opportunity_Name_6835     24\n",
      "                          ..\n",
      "Opportunity_Name_3371      8\n",
      "Opportunity_Name_2406      8\n",
      "Opportunity_Name_5459      8\n",
      "Opportunity_Name_2405      8\n",
      "Opportunity_Name_267       8\n",
      "Name: Opportunity_Name, Length: 127, dtype: int64\n"
     ]
    }
   ],
   "source": [
    "print(opportunity_name_counts_top)"
   ]
  },
  {
   "cell_type": "markdown",
   "metadata": {},
   "source": [
    "### Product_Name"
   ]
  },
  {
   "cell_type": "code",
   "execution_count": 192,
   "metadata": {},
   "outputs": [],
   "source": [
    "product_name_count=df['Product_Name'].value_counts()"
   ]
  },
  {
   "cell_type": "code",
   "execution_count": 193,
   "metadata": {},
   "outputs": [
    {
     "name": "stdout",
     "output_type": "stream",
     "text": [
      "Product_Name_100    976\n",
      "Product_Name_226    836\n",
      "Product_Name_231    579\n",
      "Product_Name_491    524\n",
      "Product_Name_4      474\n",
      "                   ... \n",
      "Product_Name_314      1\n",
      "Product_Name_156      1\n",
      "Product_Name_486      1\n",
      "Product_Name_39       1\n",
      "Product_Name_462      1\n",
      "Name: Product_Name, Length: 456, dtype: int64\n"
     ]
    }
   ],
   "source": [
    "print(product_name_count)"
   ]
  },
  {
   "cell_type": "code",
   "execution_count": 194,
   "metadata": {},
   "outputs": [],
   "source": [
    "product_name_count_top50=product_name_count.head(50)"
   ]
  },
  {
   "cell_type": "code",
   "execution_count": 195,
   "metadata": {},
   "outputs": [
    {
     "name": "stdout",
     "output_type": "stream",
     "text": [
      "Product_Name_100    976\n",
      "Product_Name_226    836\n",
      "Product_Name_231    579\n",
      "Product_Name_491    524\n",
      "Product_Name_4      474\n",
      "Product_Name_192    442\n",
      "Product_Name_111    388\n",
      "Product_Name_132    383\n",
      "Product_Name_495    350\n",
      "Product_Name_29     345\n",
      "Product_Name_148    340\n",
      "Product_Name_452    336\n",
      "Product_Name_167    333\n",
      "Product_Name_241    319\n",
      "Product_Name_220    317\n",
      "Product_Name_209    287\n",
      "Product_Name_20     266\n",
      "Product_Name_181    219\n",
      "Product_Name_439    212\n",
      "Product_Name_214    179\n",
      "Product_Name_246    178\n",
      "Product_Name_24     167\n",
      "Product_Name_0      165\n",
      "Product_Name_85     158\n",
      "Product_Name_23     157\n",
      "Product_Name_96     145\n",
      "Product_Name_448    131\n",
      "Product_Name_99     127\n",
      "Product_Name_128    122\n",
      "Product_Name_6      121\n",
      "Product_Name_435    120\n",
      "Product_Name_310    116\n",
      "Product_Name_10     116\n",
      "Product_Name_445    115\n",
      "Product_Name_433    114\n",
      "Product_Name_432    109\n",
      "Product_Name_308    104\n",
      "Product_Name_201    103\n",
      "Product_Name_327    101\n",
      "Product_Name_464    101\n",
      "Product_Name_227    100\n",
      "Product_Name_383     99\n",
      "Product_Name_144     96\n",
      "Product_Name_208     95\n",
      "Product_Name_153     95\n",
      "Product_Name_61      94\n",
      "Product_Name_110     94\n",
      "Product_Name_307     93\n",
      "Product_Name_408     85\n",
      "Product_Name_77      83\n",
      "Name: Product_Name, dtype: int64\n"
     ]
    }
   ],
   "source": [
    "print(product_name_count_top50)"
   ]
  },
  {
   "cell_type": "markdown",
   "metadata": {},
   "source": [
    "### Brand"
   ]
  },
  {
   "cell_type": "code",
   "execution_count": 196,
   "metadata": {},
   "outputs": [],
   "source": [
    "brand_counts=df['Brand'].value_counts()"
   ]
  },
  {
   "cell_type": "code",
   "execution_count": 197,
   "metadata": {},
   "outputs": [
    {
     "name": "stdout",
     "output_type": "stream",
     "text": [
      "None        15911\n",
      "Other         607\n",
      "Brand_9       140\n",
      "Brand_5        48\n",
      "Brand_24       38\n",
      "Brand_11       34\n",
      "Brand_25       24\n",
      "Brand_10       22\n",
      "Brand_22       20\n",
      "Brand_13       17\n",
      "Brand_21       17\n",
      "Brand_7        17\n",
      "Brand_20       10\n",
      "Brand_23       10\n",
      "Brand_27        5\n",
      "Brand_17        5\n",
      "Brand_2         4\n",
      "Brand_0         4\n",
      "Brand_4         4\n",
      "Brand_12        3\n",
      "Brand_16        2\n",
      "Brand_26        1\n",
      "Brand_1         1\n",
      "Brand_19        1\n",
      "Brand_3         1\n",
      "Brand_6         1\n",
      "Name: Brand, dtype: int64\n"
     ]
    }
   ],
   "source": [
    "print(brand_counts)"
   ]
  },
  {
   "cell_type": "code",
   "execution_count": 198,
   "metadata": {},
   "outputs": [],
   "source": [
    "brand_counts_top=brand_counts[brand_counts>=20]"
   ]
  },
  {
   "cell_type": "code",
   "execution_count": 199,
   "metadata": {},
   "outputs": [
    {
     "name": "stdout",
     "output_type": "stream",
     "text": [
      "None        15911\n",
      "Other         607\n",
      "Brand_9       140\n",
      "Brand_5        48\n",
      "Brand_24       38\n",
      "Brand_11       34\n",
      "Brand_25       24\n",
      "Brand_10       22\n",
      "Brand_22       20\n",
      "Name: Brand, dtype: int64\n"
     ]
    }
   ],
   "source": [
    "print(brand_counts_top)"
   ]
  },
  {
   "cell_type": "markdown",
   "metadata": {},
   "source": [
    "#### No tiene sentido considerar este dato, ya que de 16947 oportunidades 15911 (94%) no tienen marca"
   ]
  },
  {
   "cell_type": "markdown",
   "metadata": {},
   "source": [
    "### Product_Type"
   ]
  },
  {
   "cell_type": "code",
   "execution_count": 200,
   "metadata": {},
   "outputs": [],
   "source": [
    "product_type_counts=df['Product_Type'].value_counts()"
   ]
  },
  {
   "cell_type": "code",
   "execution_count": 201,
   "metadata": {},
   "outputs": [
    {
     "name": "stdout",
     "output_type": "stream",
     "text": [
      "None              15935\n",
      "Other               515\n",
      "Product_Type_3      179\n",
      "Product_Type_1      142\n",
      "Product_Type_0       94\n",
      "Product_Type_4       73\n",
      "Product_Type_2        9\n",
      "Name: Product_Type, dtype: int64\n"
     ]
    }
   ],
   "source": [
    "print(product_type_counts)"
   ]
  },
  {
   "cell_type": "markdown",
   "metadata": {},
   "source": [
    "#### No tiene sentido considerar este dato, ya que de 16947 oportunidades 15935 (94%) no tienen definido un tipo de producto"
   ]
  },
  {
   "cell_type": "markdown",
   "metadata": {},
   "source": [
    "### Size"
   ]
  },
  {
   "cell_type": "code",
   "execution_count": 202,
   "metadata": {},
   "outputs": [],
   "source": [
    "size_counts=df['Size'].value_counts()"
   ]
  },
  {
   "cell_type": "code",
   "execution_count": 203,
   "metadata": {},
   "outputs": [
    {
     "name": "stdout",
     "output_type": "stream",
     "text": [
      "None      15967\n",
      "Other       394\n",
      "Size_3      356\n",
      "Size_4      196\n",
      "Size_1       25\n",
      "Size_0        7\n",
      "Size_2        2\n",
      "Name: Size, dtype: int64\n"
     ]
    }
   ],
   "source": [
    "print(size_counts)"
   ]
  },
  {
   "cell_type": "markdown",
   "metadata": {},
   "source": [
    "#### No tiene sentido considerar este dato, ya que de 16947 oportunidades 15967 (94%) no tienen definido un tamaño\n"
   ]
  },
  {
   "cell_type": "markdown",
   "metadata": {},
   "source": [
    "### Eliminacion de las 3 columnas anteriormente tratadas, por los motivos especificados\n"
   ]
  },
  {
   "cell_type": "code",
   "execution_count": 208,
   "metadata": {},
   "outputs": [],
   "source": [
    "df2=df.drop(['Product_Type', 'Brand', 'Size'], axis=1)"
   ]
  },
  {
   "cell_type": "markdown",
   "metadata": {},
   "source": [
    "### TRF"
   ]
  },
  {
   "cell_type": "code",
   "execution_count": 209,
   "metadata": {},
   "outputs": [],
   "source": [
    "TRF_counts=df['TRF'].value_counts()"
   ]
  },
  {
   "cell_type": "code",
   "execution_count": 210,
   "metadata": {},
   "outputs": [
    {
     "name": "stdout",
     "output_type": "stream",
     "text": [
      "0      11971\n",
      "1       2192\n",
      "2        627\n",
      "3        354\n",
      "5        297\n",
      "       ...  \n",
      "51         1\n",
      "167        1\n",
      "163        1\n",
      "195        1\n",
      "165        1\n",
      "Name: TRF, Length: 101, dtype: int64\n"
     ]
    }
   ],
   "source": [
    "print(TRF_counts)"
   ]
  },
  {
   "cell_type": "markdown",
   "metadata": {},
   "source": [
    "#### Más del 89% de las oportunidades están asociadas a no mas de 3 TRF"
   ]
  },
  {
   "cell_type": "code",
   "execution_count": null,
   "metadata": {},
   "outputs": [],
   "source": []
  },
  {
   "cell_type": "code",
   "execution_count": null,
   "metadata": {},
   "outputs": [],
   "source": []
  },
  {
   "cell_type": "code",
   "execution_count": null,
   "metadata": {},
   "outputs": [],
   "source": []
  }
 ],
 "metadata": {
  "colab": {
   "collapsed_sections": [
    "KKOwvkDFlkRy",
    "r-5V6vLclaoA",
    "6HJFQ0Q1laoC",
    "1xd4wWjdlaob",
    "TOxtHB3plaof",
    "BKbc7szGlapE",
    "syZZRtzYlapF",
    "NUbaLCo2lapF",
    "agbpyLPdlapc",
    "mcn9ywcwlaqD"
   ],
   "name": "Análisis exploratorio general TP1 2 Cuat 2020.ipynb",
   "provenance": []
  },
  "kernelspec": {
   "display_name": "Python 3",
   "language": "python",
   "name": "python3"
  },
  "language_info": {
   "codemirror_mode": {
    "name": "ipython",
    "version": 3
   },
   "file_extension": ".py",
   "mimetype": "text/x-python",
   "name": "python",
   "nbconvert_exporter": "python",
   "pygments_lexer": "ipython3",
   "version": "3.7.2"
  }
 },
 "nbformat": 4,
 "nbformat_minor": 1
}
